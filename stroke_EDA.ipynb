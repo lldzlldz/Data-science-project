{
 "cells": [
  {
   "cell_type": "code",
   "execution_count": 3,
   "id": "833f110c",
   "metadata": {},
   "outputs": [],
   "source": [
    "# Basic Libraries\n",
    "import numpy as np\n",
    "import pandas as pd\n",
    "import seaborn as sb\n",
    "import matplotlib.pyplot as plt \n",
    "sb.set() "
   ]
  },
  {
   "cell_type": "code",
   "execution_count": 4,
   "id": "59b6119d",
   "metadata": {},
   "outputs": [
    {
     "data": {
      "text/html": [
       "<div>\n",
       "<style scoped>\n",
       "    .dataframe tbody tr th:only-of-type {\n",
       "        vertical-align: middle;\n",
       "    }\n",
       "\n",
       "    .dataframe tbody tr th {\n",
       "        vertical-align: top;\n",
       "    }\n",
       "\n",
       "    .dataframe thead th {\n",
       "        text-align: right;\n",
       "    }\n",
       "</style>\n",
       "<table border=\"1\" class=\"dataframe\">\n",
       "  <thead>\n",
       "    <tr style=\"text-align: right;\">\n",
       "      <th></th>\n",
       "      <th>id</th>\n",
       "      <th>gender</th>\n",
       "      <th>age</th>\n",
       "      <th>hypertension</th>\n",
       "      <th>heart_disease</th>\n",
       "      <th>ever_married</th>\n",
       "      <th>work_type</th>\n",
       "      <th>Residence_type</th>\n",
       "      <th>avg_glucose_level</th>\n",
       "      <th>bmi</th>\n",
       "      <th>smoking_status</th>\n",
       "      <th>stroke</th>\n",
       "    </tr>\n",
       "  </thead>\n",
       "  <tbody>\n",
       "    <tr>\n",
       "      <th>0</th>\n",
       "      <td>30669</td>\n",
       "      <td>Male</td>\n",
       "      <td>3.0</td>\n",
       "      <td>0</td>\n",
       "      <td>0</td>\n",
       "      <td>No</td>\n",
       "      <td>children</td>\n",
       "      <td>Rural</td>\n",
       "      <td>95.12</td>\n",
       "      <td>18.0</td>\n",
       "      <td>NaN</td>\n",
       "      <td>0</td>\n",
       "    </tr>\n",
       "    <tr>\n",
       "      <th>1</th>\n",
       "      <td>30468</td>\n",
       "      <td>Male</td>\n",
       "      <td>58.0</td>\n",
       "      <td>1</td>\n",
       "      <td>0</td>\n",
       "      <td>Yes</td>\n",
       "      <td>Private</td>\n",
       "      <td>Urban</td>\n",
       "      <td>87.96</td>\n",
       "      <td>39.2</td>\n",
       "      <td>never smoked</td>\n",
       "      <td>0</td>\n",
       "    </tr>\n",
       "    <tr>\n",
       "      <th>2</th>\n",
       "      <td>16523</td>\n",
       "      <td>Female</td>\n",
       "      <td>8.0</td>\n",
       "      <td>0</td>\n",
       "      <td>0</td>\n",
       "      <td>No</td>\n",
       "      <td>Private</td>\n",
       "      <td>Urban</td>\n",
       "      <td>110.89</td>\n",
       "      <td>17.6</td>\n",
       "      <td>NaN</td>\n",
       "      <td>0</td>\n",
       "    </tr>\n",
       "    <tr>\n",
       "      <th>3</th>\n",
       "      <td>56543</td>\n",
       "      <td>Female</td>\n",
       "      <td>70.0</td>\n",
       "      <td>0</td>\n",
       "      <td>0</td>\n",
       "      <td>Yes</td>\n",
       "      <td>Private</td>\n",
       "      <td>Rural</td>\n",
       "      <td>69.04</td>\n",
       "      <td>35.9</td>\n",
       "      <td>formerly smoked</td>\n",
       "      <td>0</td>\n",
       "    </tr>\n",
       "    <tr>\n",
       "      <th>4</th>\n",
       "      <td>46136</td>\n",
       "      <td>Male</td>\n",
       "      <td>14.0</td>\n",
       "      <td>0</td>\n",
       "      <td>0</td>\n",
       "      <td>No</td>\n",
       "      <td>Never_worked</td>\n",
       "      <td>Rural</td>\n",
       "      <td>161.28</td>\n",
       "      <td>19.1</td>\n",
       "      <td>NaN</td>\n",
       "      <td>0</td>\n",
       "    </tr>\n",
       "  </tbody>\n",
       "</table>\n",
       "</div>"
      ],
      "text/plain": [
       "      id  gender   age  hypertension  heart_disease ever_married  \\\n",
       "0  30669    Male   3.0             0              0           No   \n",
       "1  30468    Male  58.0             1              0          Yes   \n",
       "2  16523  Female   8.0             0              0           No   \n",
       "3  56543  Female  70.0             0              0          Yes   \n",
       "4  46136    Male  14.0             0              0           No   \n",
       "\n",
       "      work_type Residence_type  avg_glucose_level   bmi   smoking_status  \\\n",
       "0      children          Rural              95.12  18.0              NaN   \n",
       "1       Private          Urban              87.96  39.2     never smoked   \n",
       "2       Private          Urban             110.89  17.6              NaN   \n",
       "3       Private          Rural              69.04  35.9  formerly smoked   \n",
       "4  Never_worked          Rural             161.28  19.1              NaN   \n",
       "\n",
       "   stroke  \n",
       "0       0  \n",
       "1       0  \n",
       "2       0  \n",
       "3       0  \n",
       "4       0  "
      ]
     },
     "execution_count": 4,
     "metadata": {},
     "output_type": "execute_result"
    }
   ],
   "source": [
    "data = pd.read_csv(\"stroke.csv\")\n",
    "data.head()"
   ]
  },
  {
   "cell_type": "code",
   "execution_count": 5,
   "id": "d5e767c4",
   "metadata": {},
   "outputs": [
    {
     "name": "stdout",
     "output_type": "stream",
     "text": [
      "<class 'pandas.core.frame.DataFrame'>\n",
      "RangeIndex: 43400 entries, 0 to 43399\n",
      "Data columns (total 12 columns):\n",
      " #   Column             Non-Null Count  Dtype  \n",
      "---  ------             --------------  -----  \n",
      " 0   id                 43400 non-null  int64  \n",
      " 1   gender             43400 non-null  object \n",
      " 2   age                43400 non-null  float64\n",
      " 3   hypertension       43400 non-null  int64  \n",
      " 4   heart_disease      43400 non-null  int64  \n",
      " 5   ever_married       43400 non-null  object \n",
      " 6   work_type          43400 non-null  object \n",
      " 7   Residence_type     43400 non-null  object \n",
      " 8   avg_glucose_level  43400 non-null  float64\n",
      " 9   bmi                41938 non-null  float64\n",
      " 10  smoking_status     30108 non-null  object \n",
      " 11  stroke             43400 non-null  int64  \n",
      "dtypes: float64(3), int64(4), object(5)\n",
      "memory usage: 4.0+ MB\n"
     ]
    }
   ],
   "source": [
    "data.info()"
   ]
  },
  {
   "cell_type": "markdown",
   "id": "80c9c03e",
   "metadata": {},
   "source": [
    "# Cleaning of data\n",
    "\n",
    "From the data, we see that there are null values in the smoking_status column\n",
    "\n",
    "The description of the columns are as follows:\n",
    "\n",
    "Column | Description | Info\n",
    ":-|:-|:-\n",
    "id| Patient ID number    \n",
    "gender| Gender of the patient| (\"Male\", \"Female\" or \"Other\")\n",
    "age| Age of the patient | \n",
    "hypertension| Whether the patient has hypertension| (0: No hypertension, 1: Has hypertension)   \n",
    "heart_disease| Whether the patient has heart disease| (0: No heart disease, 1: Has heart disease)\n",
    "ever_married| Whether the patient is married| (\"No\" or \"Yes\")\n",
    "work_type| Working type of patient| (\"children\", \"Govt_job\", \"Never_worked\", \"Private\" or \"Self-employed\")\n",
    "Residence_type| Resident type of patient| (\"Rural\" or \"Urban\")\n",
    "avg_glucose_level| Average glucose level in blood of patient\n",
    "bmi| Body Mass Index of patient\n",
    "smoking_status| Whether patient smoke| (\"formerly smoked\", \"never smoked\", \"smokes\" or \"Unknown\")\n",
    "stroke| Whether the patient has a stroke| (0: No stroke, 1: Has stroke)"
   ]
  },
  {
   "cell_type": "code",
   "execution_count": 6,
   "id": "8ac37f84",
   "metadata": {},
   "outputs": [
    {
     "data": {
      "text/html": [
       "<div>\n",
       "<style scoped>\n",
       "    .dataframe tbody tr th:only-of-type {\n",
       "        vertical-align: middle;\n",
       "    }\n",
       "\n",
       "    .dataframe tbody tr th {\n",
       "        vertical-align: top;\n",
       "    }\n",
       "\n",
       "    .dataframe thead th {\n",
       "        text-align: right;\n",
       "    }\n",
       "</style>\n",
       "<table border=\"1\" class=\"dataframe\">\n",
       "  <thead>\n",
       "    <tr style=\"text-align: right;\">\n",
       "      <th></th>\n",
       "      <th>id</th>\n",
       "      <th>age</th>\n",
       "      <th>hypertension</th>\n",
       "      <th>heart_disease</th>\n",
       "      <th>avg_glucose_level</th>\n",
       "      <th>bmi</th>\n",
       "      <th>stroke</th>\n",
       "    </tr>\n",
       "  </thead>\n",
       "  <tbody>\n",
       "    <tr>\n",
       "      <th>count</th>\n",
       "      <td>43400.000000</td>\n",
       "      <td>43400.000000</td>\n",
       "      <td>43400.000000</td>\n",
       "      <td>43400.000000</td>\n",
       "      <td>43400.000000</td>\n",
       "      <td>41938.000000</td>\n",
       "      <td>43400.000000</td>\n",
       "    </tr>\n",
       "    <tr>\n",
       "      <th>mean</th>\n",
       "      <td>36326.142350</td>\n",
       "      <td>42.217894</td>\n",
       "      <td>0.093571</td>\n",
       "      <td>0.047512</td>\n",
       "      <td>104.482750</td>\n",
       "      <td>28.605038</td>\n",
       "      <td>0.018041</td>\n",
       "    </tr>\n",
       "    <tr>\n",
       "      <th>std</th>\n",
       "      <td>21072.134879</td>\n",
       "      <td>22.519649</td>\n",
       "      <td>0.291235</td>\n",
       "      <td>0.212733</td>\n",
       "      <td>43.111751</td>\n",
       "      <td>7.770020</td>\n",
       "      <td>0.133103</td>\n",
       "    </tr>\n",
       "    <tr>\n",
       "      <th>min</th>\n",
       "      <td>1.000000</td>\n",
       "      <td>0.080000</td>\n",
       "      <td>0.000000</td>\n",
       "      <td>0.000000</td>\n",
       "      <td>55.000000</td>\n",
       "      <td>10.100000</td>\n",
       "      <td>0.000000</td>\n",
       "    </tr>\n",
       "    <tr>\n",
       "      <th>25%</th>\n",
       "      <td>18038.500000</td>\n",
       "      <td>24.000000</td>\n",
       "      <td>0.000000</td>\n",
       "      <td>0.000000</td>\n",
       "      <td>77.540000</td>\n",
       "      <td>23.200000</td>\n",
       "      <td>0.000000</td>\n",
       "    </tr>\n",
       "    <tr>\n",
       "      <th>50%</th>\n",
       "      <td>36351.500000</td>\n",
       "      <td>44.000000</td>\n",
       "      <td>0.000000</td>\n",
       "      <td>0.000000</td>\n",
       "      <td>91.580000</td>\n",
       "      <td>27.700000</td>\n",
       "      <td>0.000000</td>\n",
       "    </tr>\n",
       "    <tr>\n",
       "      <th>75%</th>\n",
       "      <td>54514.250000</td>\n",
       "      <td>60.000000</td>\n",
       "      <td>0.000000</td>\n",
       "      <td>0.000000</td>\n",
       "      <td>112.070000</td>\n",
       "      <td>32.900000</td>\n",
       "      <td>0.000000</td>\n",
       "    </tr>\n",
       "    <tr>\n",
       "      <th>max</th>\n",
       "      <td>72943.000000</td>\n",
       "      <td>82.000000</td>\n",
       "      <td>1.000000</td>\n",
       "      <td>1.000000</td>\n",
       "      <td>291.050000</td>\n",
       "      <td>97.600000</td>\n",
       "      <td>1.000000</td>\n",
       "    </tr>\n",
       "  </tbody>\n",
       "</table>\n",
       "</div>"
      ],
      "text/plain": [
       "                 id           age  hypertension  heart_disease  \\\n",
       "count  43400.000000  43400.000000  43400.000000   43400.000000   \n",
       "mean   36326.142350     42.217894      0.093571       0.047512   \n",
       "std    21072.134879     22.519649      0.291235       0.212733   \n",
       "min        1.000000      0.080000      0.000000       0.000000   \n",
       "25%    18038.500000     24.000000      0.000000       0.000000   \n",
       "50%    36351.500000     44.000000      0.000000       0.000000   \n",
       "75%    54514.250000     60.000000      0.000000       0.000000   \n",
       "max    72943.000000     82.000000      1.000000       1.000000   \n",
       "\n",
       "       avg_glucose_level           bmi        stroke  \n",
       "count       43400.000000  41938.000000  43400.000000  \n",
       "mean          104.482750     28.605038      0.018041  \n",
       "std            43.111751      7.770020      0.133103  \n",
       "min            55.000000     10.100000      0.000000  \n",
       "25%            77.540000     23.200000      0.000000  \n",
       "50%            91.580000     27.700000      0.000000  \n",
       "75%           112.070000     32.900000      0.000000  \n",
       "max           291.050000     97.600000      1.000000  "
      ]
     },
     "execution_count": 6,
     "metadata": {},
     "output_type": "execute_result"
    }
   ],
   "source": [
    "data.describe()"
   ]
  },
  {
   "cell_type": "markdown",
   "id": "9fc1904a",
   "metadata": {},
   "source": [
    "### Observations\n",
    "With 43400 data points, the dataset has a sufficient number of data points. Generally the dataset looks fine.\n",
    "\n",
    "However, in order to resolve the following issues with the dataset, we still need to do the following:\n",
    "* Handling unbalanced data\n",
    "* Remove unnecessary columns\n",
    "* Encoding gender column\n",
    "* Remove outliers\n",
    "* Categorising the glucose_level column\n",
    "* Filling the NULL data in some of the columns"
   ]
  },
  {
   "cell_type": "markdown",
   "id": "11353e5f",
   "metadata": {},
   "source": [
    "---\n",
    "\n",
    "# Handling unbalanced data\n",
    "From the dataset, we see that a significant amount of patients do not have stroke. This causes an imbalance in the data. To resolve this issue, we perform random under-sampling on the patients without stroke"
   ]
  },
  {
   "cell_type": "code",
   "execution_count": 7,
   "id": "e9e22819",
   "metadata": {},
   "outputs": [
    {
     "name": "stdout",
     "output_type": "stream",
     "text": [
      "class 0: (42617, 12)\n",
      "class 1: (783, 12)\n"
     ]
    }
   ],
   "source": [
    "# class count\n",
    "class_count_0, class_count_1 = data['stroke'].value_counts()\n",
    "\n",
    "# Separate class\n",
    "class_0 = data[data['stroke'] == 0]\n",
    "class_1 = data[data['stroke'] == 1]# print the shape of the class\n",
    "print('class 0:', class_0.shape)\n",
    "print('class 1:', class_1.shape)"
   ]
  },
  {
   "cell_type": "code",
   "execution_count": 8,
   "id": "63660c55",
   "metadata": {},
   "outputs": [
    {
     "name": "stdout",
     "output_type": "stream",
     "text": [
      "total class of 1 and 0: 0    783\n",
      "1    783\n",
      "Name: stroke, dtype: int64\n"
     ]
    },
    {
     "data": {
      "text/plain": [
       "<AxesSubplot:title={'center':'count (stroke)'}>"
      ]
     },
     "execution_count": 8,
     "metadata": {},
     "output_type": "execute_result"
    },
    {
     "data": {
      "image/png": "[encoded data removed]",
      "text/plain": [
       "<Figure size 432x288 with 1 Axes>"
      ]
     },
     "metadata": {},
     "output_type": "display_data"
    }
   ],
   "source": [
    "class_0_under = class_0.sample(class_count_1)\n",
    "\n",
    "test_under = pd.concat([class_0_under, class_1], axis=0)\n",
    "\n",
    "print(\"total class of 1 and 0:\",test_under['stroke'].value_counts())# plot the count after under-sampeling\n",
    "test_under['stroke'].value_counts().plot(kind='bar', title='count (stroke)')"
   ]
  },
  {
   "cell_type": "code",
   "execution_count": 9,
   "id": "a1ac1267",
   "metadata": {},
   "outputs": [],
   "source": [
    "data = test_under.copy()"
   ]
  },
  {
   "cell_type": "markdown",
   "id": "1ed05439",
   "metadata": {},
   "source": [
    "# Cleaning of data\n",
    "\n",
    "### Removing unnecessary columns\n",
    "In order to match the variables in the cardiovascular dataset, we remove the unnecessary variables "
   ]
  },
  {
   "cell_type": "code",
   "execution_count": 10,
   "id": "9c622933",
   "metadata": {},
   "outputs": [
    {
     "data": {
      "text/html": [
       "<div>\n",
       "<style scoped>\n",
       "    .dataframe tbody tr th:only-of-type {\n",
       "        vertical-align: middle;\n",
       "    }\n",
       "\n",
       "    .dataframe tbody tr th {\n",
       "        vertical-align: top;\n",
       "    }\n",
       "\n",
       "    .dataframe thead th {\n",
       "        text-align: right;\n",
       "    }\n",
       "</style>\n",
       "<table border=\"1\" class=\"dataframe\">\n",
       "  <thead>\n",
       "    <tr style=\"text-align: right;\">\n",
       "      <th></th>\n",
       "      <th>gender</th>\n",
       "      <th>age</th>\n",
       "      <th>hypertension</th>\n",
       "      <th>avg_glucose_level</th>\n",
       "      <th>bmi</th>\n",
       "      <th>smoking_status</th>\n",
       "      <th>stroke</th>\n",
       "    </tr>\n",
       "  </thead>\n",
       "  <tbody>\n",
       "    <tr>\n",
       "      <th>8156</th>\n",
       "      <td>Female</td>\n",
       "      <td>33.0</td>\n",
       "      <td>0</td>\n",
       "      <td>65.04</td>\n",
       "      <td>22.9</td>\n",
       "      <td>never smoked</td>\n",
       "      <td>0</td>\n",
       "    </tr>\n",
       "    <tr>\n",
       "      <th>5434</th>\n",
       "      <td>Female</td>\n",
       "      <td>16.0</td>\n",
       "      <td>0</td>\n",
       "      <td>58.52</td>\n",
       "      <td>22.5</td>\n",
       "      <td>never smoked</td>\n",
       "      <td>0</td>\n",
       "    </tr>\n",
       "    <tr>\n",
       "      <th>14526</th>\n",
       "      <td>Male</td>\n",
       "      <td>48.0</td>\n",
       "      <td>0</td>\n",
       "      <td>72.84</td>\n",
       "      <td>21.7</td>\n",
       "      <td>never smoked</td>\n",
       "      <td>0</td>\n",
       "    </tr>\n",
       "    <tr>\n",
       "      <th>16335</th>\n",
       "      <td>Female</td>\n",
       "      <td>35.0</td>\n",
       "      <td>0</td>\n",
       "      <td>81.88</td>\n",
       "      <td>22.3</td>\n",
       "      <td>never smoked</td>\n",
       "      <td>0</td>\n",
       "    </tr>\n",
       "    <tr>\n",
       "      <th>25039</th>\n",
       "      <td>Female</td>\n",
       "      <td>79.0</td>\n",
       "      <td>1</td>\n",
       "      <td>93.57</td>\n",
       "      <td>28.8</td>\n",
       "      <td>never smoked</td>\n",
       "      <td>0</td>\n",
       "    </tr>\n",
       "  </tbody>\n",
       "</table>\n",
       "</div>"
      ],
      "text/plain": [
       "       gender   age  hypertension  avg_glucose_level   bmi smoking_status  \\\n",
       "8156   Female  33.0             0              65.04  22.9   never smoked   \n",
       "5434   Female  16.0             0              58.52  22.5   never smoked   \n",
       "14526    Male  48.0             0              72.84  21.7   never smoked   \n",
       "16335  Female  35.0             0              81.88  22.3   never smoked   \n",
       "25039  Female  79.0             1              93.57  28.8   never smoked   \n",
       "\n",
       "       stroke  \n",
       "8156        0  \n",
       "5434        0  \n",
       "14526       0  \n",
       "16335       0  \n",
       "25039       0  "
      ]
     },
     "execution_count": 10,
     "metadata": {},
     "output_type": "execute_result"
    }
   ],
   "source": [
    "for i in ['id', 'heart_disease', 'ever_married', 'work_type', 'Residence_type']:\n",
    "    data.drop([i], axis='columns', inplace=True)\n",
    "\n",
    "data.head()"
   ]
  },
  {
   "cell_type": "markdown",
   "id": "1a1cc77a",
   "metadata": {},
   "source": [
    "### Removing outliers\n",
    "We notice that in the age, avg_glucose_level and bmi columns, the min and max have unrealistic values.\n",
    "We assume that 5% of the dataset are outliers, and remove the entries that lie in the top 2.5% and bottom 2.5%, this will remove the unrealistic min and max values as well"
   ]
  },
  {
   "cell_type": "code",
   "execution_count": 11,
   "id": "c60dfd0f",
   "metadata": {},
   "outputs": [],
   "source": [
    "age_outliers = data[(data['age'] > data['age'].quantile(0.975)) | \n",
    "                  (data['age'] < data['age'].quantile(0.025))].index\n",
    "\n",
    "glucose_outliers = data[(data['avg_glucose_level'] > data['avg_glucose_level'].quantile(0.975)) | \n",
    "                  (data['avg_glucose_level'] < data['avg_glucose_level'].quantile(0.025))].index\n",
    "\n",
    "bmi_outliers   = data[(data['bmi'] > data['bmi'].quantile(0.975)) | \n",
    "                  (data['bmi'] < data['bmi'].quantile(0.025))].index"
   ]
  },
  {
   "cell_type": "code",
   "execution_count": 12,
   "id": "eba484e4",
   "metadata": {},
   "outputs": [
    {
     "data": {
      "text/html": [
       "<div>\n",
       "<style scoped>\n",
       "    .dataframe tbody tr th:only-of-type {\n",
       "        vertical-align: middle;\n",
       "    }\n",
       "\n",
       "    .dataframe tbody tr th {\n",
       "        vertical-align: top;\n",
       "    }\n",
       "\n",
       "    .dataframe thead th {\n",
       "        text-align: right;\n",
       "    }\n",
       "</style>\n",
       "<table border=\"1\" class=\"dataframe\">\n",
       "  <thead>\n",
       "    <tr style=\"text-align: right;\">\n",
       "      <th></th>\n",
       "      <th>age</th>\n",
       "      <th>hypertension</th>\n",
       "      <th>avg_glucose_level</th>\n",
       "      <th>bmi</th>\n",
       "      <th>stroke</th>\n",
       "    </tr>\n",
       "  </thead>\n",
       "  <tbody>\n",
       "    <tr>\n",
       "      <th>count</th>\n",
       "      <td>1399.000000</td>\n",
       "      <td>1399.000000</td>\n",
       "      <td>1399.000000</td>\n",
       "      <td>1239.000000</td>\n",
       "      <td>1399.000000</td>\n",
       "    </tr>\n",
       "    <tr>\n",
       "      <th>mean</th>\n",
       "      <td>56.864189</td>\n",
       "      <td>0.173695</td>\n",
       "      <td>116.388513</td>\n",
       "      <td>29.316061</td>\n",
       "      <td>0.518942</td>\n",
       "    </tr>\n",
       "    <tr>\n",
       "      <th>std</th>\n",
       "      <td>20.293980</td>\n",
       "      <td>0.378983</td>\n",
       "      <td>50.981282</td>\n",
       "      <td>6.064639</td>\n",
       "      <td>0.499820</td>\n",
       "    </tr>\n",
       "    <tr>\n",
       "      <th>min</th>\n",
       "      <td>4.000000</td>\n",
       "      <td>0.000000</td>\n",
       "      <td>59.320000</td>\n",
       "      <td>17.200000</td>\n",
       "      <td>0.000000</td>\n",
       "    </tr>\n",
       "    <tr>\n",
       "      <th>25%</th>\n",
       "      <td>43.000000</td>\n",
       "      <td>0.000000</td>\n",
       "      <td>79.070000</td>\n",
       "      <td>25.100000</td>\n",
       "      <td>0.000000</td>\n",
       "    </tr>\n",
       "    <tr>\n",
       "      <th>50%</th>\n",
       "      <td>61.000000</td>\n",
       "      <td>0.000000</td>\n",
       "      <td>96.590000</td>\n",
       "      <td>28.600000</td>\n",
       "      <td>1.000000</td>\n",
       "    </tr>\n",
       "    <tr>\n",
       "      <th>75%</th>\n",
       "      <td>75.000000</td>\n",
       "      <td>0.000000</td>\n",
       "      <td>137.305000</td>\n",
       "      <td>33.100000</td>\n",
       "      <td>1.000000</td>\n",
       "    </tr>\n",
       "    <tr>\n",
       "      <th>max</th>\n",
       "      <td>82.000000</td>\n",
       "      <td>1.000000</td>\n",
       "      <td>238.190000</td>\n",
       "      <td>47.600000</td>\n",
       "      <td>1.000000</td>\n",
       "    </tr>\n",
       "  </tbody>\n",
       "</table>\n",
       "</div>"
      ],
      "text/plain": [
       "               age  hypertension  avg_glucose_level          bmi       stroke\n",
       "count  1399.000000   1399.000000        1399.000000  1239.000000  1399.000000\n",
       "mean     56.864189      0.173695         116.388513    29.316061     0.518942\n",
       "std      20.293980      0.378983          50.981282     6.064639     0.499820\n",
       "min       4.000000      0.000000          59.320000    17.200000     0.000000\n",
       "25%      43.000000      0.000000          79.070000    25.100000     0.000000\n",
       "50%      61.000000      0.000000          96.590000    28.600000     1.000000\n",
       "75%      75.000000      0.000000         137.305000    33.100000     1.000000\n",
       "max      82.000000      1.000000         238.190000    47.600000     1.000000"
      ]
     },
     "execution_count": 12,
     "metadata": {},
     "output_type": "execute_result"
    }
   ],
   "source": [
    "toremove = set(list(age_outliers) + list(glucose_outliers) + list(bmi_outliers))\n",
    "\n",
    "data.drop(toremove, inplace=True)\n",
    "data.describe()"
   ]
  },
  {
   "cell_type": "markdown",
   "id": "6b9d7b5f",
   "metadata": {},
   "source": [
    "### Encoding gender column"
   ]
  },
  {
   "cell_type": "code",
   "execution_count": 13,
   "id": "df7b030d",
   "metadata": {},
   "outputs": [
    {
     "data": {
      "text/plain": [
       "count       1399\n",
       "unique         2\n",
       "top       Female\n",
       "freq         820\n",
       "Name: gender, dtype: object"
      ]
     },
     "execution_count": 13,
     "metadata": {},
     "output_type": "execute_result"
    }
   ],
   "source": [
    "data['gender'].describe()"
   ]
  },
  {
   "cell_type": "code",
   "execution_count": 14,
   "id": "b059f4d6",
   "metadata": {},
   "outputs": [
    {
     "data": {
      "text/plain": [
       "count       1399\n",
       "unique         2\n",
       "top       Female\n",
       "freq         820\n",
       "Name: gender, dtype: object"
      ]
     },
     "execution_count": 14,
     "metadata": {},
     "output_type": "execute_result"
    }
   ],
   "source": [
    "# For those whose gender is other, we will assume they are female. \n",
    "# This is because both datasets contain more females to males, we follow the majority gender.\n",
    "\n",
    "data.replace(to_replace=r'Other', value='Female', regex=True, inplace=True)\n",
    "\n",
    "#Check that there are only 2 unique values after replacing\n",
    "data['gender'].describe()"
   ]
  },
  {
   "cell_type": "code",
   "execution_count": 15,
   "id": "a67f45bb",
   "metadata": {},
   "outputs": [
    {
     "data": {
      "text/html": [
       "<div>\n",
       "<style scoped>\n",
       "    .dataframe tbody tr th:only-of-type {\n",
       "        vertical-align: middle;\n",
       "    }\n",
       "\n",
       "    .dataframe tbody tr th {\n",
       "        vertical-align: top;\n",
       "    }\n",
       "\n",
       "    .dataframe thead th {\n",
       "        text-align: right;\n",
       "    }\n",
       "</style>\n",
       "<table border=\"1\" class=\"dataframe\">\n",
       "  <thead>\n",
       "    <tr style=\"text-align: right;\">\n",
       "      <th></th>\n",
       "      <th>age</th>\n",
       "      <th>hypertension</th>\n",
       "      <th>avg_glucose_level</th>\n",
       "      <th>bmi</th>\n",
       "      <th>smoking_status</th>\n",
       "      <th>stroke</th>\n",
       "      <th>female</th>\n",
       "      <th>male</th>\n",
       "    </tr>\n",
       "  </thead>\n",
       "  <tbody>\n",
       "    <tr>\n",
       "      <th>8156</th>\n",
       "      <td>33.0</td>\n",
       "      <td>0</td>\n",
       "      <td>65.04</td>\n",
       "      <td>22.9</td>\n",
       "      <td>never smoked</td>\n",
       "      <td>0</td>\n",
       "      <td>1</td>\n",
       "      <td>0</td>\n",
       "    </tr>\n",
       "    <tr>\n",
       "      <th>14526</th>\n",
       "      <td>48.0</td>\n",
       "      <td>0</td>\n",
       "      <td>72.84</td>\n",
       "      <td>21.7</td>\n",
       "      <td>never smoked</td>\n",
       "      <td>0</td>\n",
       "      <td>0</td>\n",
       "      <td>1</td>\n",
       "    </tr>\n",
       "    <tr>\n",
       "      <th>16335</th>\n",
       "      <td>35.0</td>\n",
       "      <td>0</td>\n",
       "      <td>81.88</td>\n",
       "      <td>22.3</td>\n",
       "      <td>never smoked</td>\n",
       "      <td>0</td>\n",
       "      <td>1</td>\n",
       "      <td>0</td>\n",
       "    </tr>\n",
       "    <tr>\n",
       "      <th>25039</th>\n",
       "      <td>79.0</td>\n",
       "      <td>1</td>\n",
       "      <td>93.57</td>\n",
       "      <td>28.8</td>\n",
       "      <td>never smoked</td>\n",
       "      <td>0</td>\n",
       "      <td>1</td>\n",
       "      <td>0</td>\n",
       "    </tr>\n",
       "    <tr>\n",
       "      <th>9529</th>\n",
       "      <td>58.0</td>\n",
       "      <td>0</td>\n",
       "      <td>207.87</td>\n",
       "      <td>32.4</td>\n",
       "      <td>never smoked</td>\n",
       "      <td>0</td>\n",
       "      <td>0</td>\n",
       "      <td>1</td>\n",
       "    </tr>\n",
       "  </tbody>\n",
       "</table>\n",
       "</div>"
      ],
      "text/plain": [
       "        age  hypertension  avg_glucose_level   bmi smoking_status  stroke  \\\n",
       "8156   33.0             0              65.04  22.9   never smoked       0   \n",
       "14526  48.0             0              72.84  21.7   never smoked       0   \n",
       "16335  35.0             0              81.88  22.3   never smoked       0   \n",
       "25039  79.0             1              93.57  28.8   never smoked       0   \n",
       "9529   58.0             0             207.87  32.4   never smoked       0   \n",
       "\n",
       "       female  male  \n",
       "8156        1     0  \n",
       "14526       0     1  \n",
       "16335       1     0  \n",
       "25039       1     0  \n",
       "9529        0     1  "
      ]
     },
     "execution_count": 15,
     "metadata": {},
     "output_type": "execute_result"
    }
   ],
   "source": [
    "#Encoding the Gender variable\n",
    "genders = pd.get_dummies(data.gender)\n",
    "genders.rename(columns={\"Female\": \"female\", \"Male\": \"male\"}, inplace=True)\n",
    "\n",
    "#Concat to our original dataframe\n",
    "data = pd.concat([data, genders], axis=1)\n",
    "data = data.drop([\"gender\"], axis=1)\n",
    "data.head()"
   ]
  },
  {
   "cell_type": "markdown",
   "id": "81b48326",
   "metadata": {},
   "source": [
    "### Chaning age to int64 type"
   ]
  },
  {
   "cell_type": "code",
   "execution_count": 16,
   "id": "e3fe255d",
   "metadata": {},
   "outputs": [
    {
     "data": {
      "text/html": [
       "<div>\n",
       "<style scoped>\n",
       "    .dataframe tbody tr th:only-of-type {\n",
       "        vertical-align: middle;\n",
       "    }\n",
       "\n",
       "    .dataframe tbody tr th {\n",
       "        vertical-align: top;\n",
       "    }\n",
       "\n",
       "    .dataframe thead th {\n",
       "        text-align: right;\n",
       "    }\n",
       "</style>\n",
       "<table border=\"1\" class=\"dataframe\">\n",
       "  <thead>\n",
       "    <tr style=\"text-align: right;\">\n",
       "      <th></th>\n",
       "      <th>age</th>\n",
       "      <th>hypertension</th>\n",
       "      <th>avg_glucose_level</th>\n",
       "      <th>bmi</th>\n",
       "      <th>smoking_status</th>\n",
       "      <th>stroke</th>\n",
       "      <th>female</th>\n",
       "      <th>male</th>\n",
       "    </tr>\n",
       "  </thead>\n",
       "  <tbody>\n",
       "    <tr>\n",
       "      <th>8156</th>\n",
       "      <td>33</td>\n",
       "      <td>0</td>\n",
       "      <td>65.04</td>\n",
       "      <td>22.9</td>\n",
       "      <td>never smoked</td>\n",
       "      <td>0</td>\n",
       "      <td>1</td>\n",
       "      <td>0</td>\n",
       "    </tr>\n",
       "    <tr>\n",
       "      <th>14526</th>\n",
       "      <td>48</td>\n",
       "      <td>0</td>\n",
       "      <td>72.84</td>\n",
       "      <td>21.7</td>\n",
       "      <td>never smoked</td>\n",
       "      <td>0</td>\n",
       "      <td>0</td>\n",
       "      <td>1</td>\n",
       "    </tr>\n",
       "    <tr>\n",
       "      <th>16335</th>\n",
       "      <td>35</td>\n",
       "      <td>0</td>\n",
       "      <td>81.88</td>\n",
       "      <td>22.3</td>\n",
       "      <td>never smoked</td>\n",
       "      <td>0</td>\n",
       "      <td>1</td>\n",
       "      <td>0</td>\n",
       "    </tr>\n",
       "    <tr>\n",
       "      <th>25039</th>\n",
       "      <td>79</td>\n",
       "      <td>1</td>\n",
       "      <td>93.57</td>\n",
       "      <td>28.8</td>\n",
       "      <td>never smoked</td>\n",
       "      <td>0</td>\n",
       "      <td>1</td>\n",
       "      <td>0</td>\n",
       "    </tr>\n",
       "    <tr>\n",
       "      <th>9529</th>\n",
       "      <td>58</td>\n",
       "      <td>0</td>\n",
       "      <td>207.87</td>\n",
       "      <td>32.4</td>\n",
       "      <td>never smoked</td>\n",
       "      <td>0</td>\n",
       "      <td>0</td>\n",
       "      <td>1</td>\n",
       "    </tr>\n",
       "  </tbody>\n",
       "</table>\n",
       "</div>"
      ],
      "text/plain": [
       "       age  hypertension  avg_glucose_level   bmi smoking_status  stroke  \\\n",
       "8156    33             0              65.04  22.9   never smoked       0   \n",
       "14526   48             0              72.84  21.7   never smoked       0   \n",
       "16335   35             0              81.88  22.3   never smoked       0   \n",
       "25039   79             1              93.57  28.8   never smoked       0   \n",
       "9529    58             0             207.87  32.4   never smoked       0   \n",
       "\n",
       "       female  male  \n",
       "8156        1     0  \n",
       "14526       0     1  \n",
       "16335       1     0  \n",
       "25039       1     0  \n",
       "9529        0     1  "
      ]
     },
     "execution_count": 16,
     "metadata": {},
     "output_type": "execute_result"
    }
   ],
   "source": [
    "data['age'] = data['age'].astype(np.int64)\n",
    "\n",
    "data.head()"
   ]
  },
  {
   "cell_type": "markdown",
   "id": "a4ff2471",
   "metadata": {},
   "source": [
    "### Categorising the glucose_level column\n",
    "\n",
    "![title](img/glucose.png)\n",
    "\n",
    "From the above table, we use the fasting glucose_level column as we assume the patients took the\n",
    "measurements when fasting.\n",
    "We can categorise the glucose levels as follows:\n",
    "* Normal (<= 100): 1       \n",
    "* Pre-diabetic (101-125): 2 \n",
    "* Diabetic (>= 126): 3     "
   ]
  },
  {
   "cell_type": "code",
   "execution_count": 17,
   "id": "52ef95d5",
   "metadata": {},
   "outputs": [
    {
     "data": {
      "text/html": [
       "<div>\n",
       "<style scoped>\n",
       "    .dataframe tbody tr th:only-of-type {\n",
       "        vertical-align: middle;\n",
       "    }\n",
       "\n",
       "    .dataframe tbody tr th {\n",
       "        vertical-align: top;\n",
       "    }\n",
       "\n",
       "    .dataframe thead th {\n",
       "        text-align: right;\n",
       "    }\n",
       "</style>\n",
       "<table border=\"1\" class=\"dataframe\">\n",
       "  <thead>\n",
       "    <tr style=\"text-align: right;\">\n",
       "      <th></th>\n",
       "      <th>age</th>\n",
       "      <th>hypertension</th>\n",
       "      <th>gluc</th>\n",
       "      <th>bmi</th>\n",
       "      <th>smoking_status</th>\n",
       "      <th>stroke</th>\n",
       "      <th>female</th>\n",
       "      <th>male</th>\n",
       "    </tr>\n",
       "  </thead>\n",
       "  <tbody>\n",
       "    <tr>\n",
       "      <th>8156</th>\n",
       "      <td>33</td>\n",
       "      <td>0</td>\n",
       "      <td>1</td>\n",
       "      <td>22.9</td>\n",
       "      <td>never smoked</td>\n",
       "      <td>0</td>\n",
       "      <td>1</td>\n",
       "      <td>0</td>\n",
       "    </tr>\n",
       "    <tr>\n",
       "      <th>14526</th>\n",
       "      <td>48</td>\n",
       "      <td>0</td>\n",
       "      <td>1</td>\n",
       "      <td>21.7</td>\n",
       "      <td>never smoked</td>\n",
       "      <td>0</td>\n",
       "      <td>0</td>\n",
       "      <td>1</td>\n",
       "    </tr>\n",
       "    <tr>\n",
       "      <th>16335</th>\n",
       "      <td>35</td>\n",
       "      <td>0</td>\n",
       "      <td>1</td>\n",
       "      <td>22.3</td>\n",
       "      <td>never smoked</td>\n",
       "      <td>0</td>\n",
       "      <td>1</td>\n",
       "      <td>0</td>\n",
       "    </tr>\n",
       "    <tr>\n",
       "      <th>25039</th>\n",
       "      <td>79</td>\n",
       "      <td>1</td>\n",
       "      <td>1</td>\n",
       "      <td>28.8</td>\n",
       "      <td>never smoked</td>\n",
       "      <td>0</td>\n",
       "      <td>1</td>\n",
       "      <td>0</td>\n",
       "    </tr>\n",
       "    <tr>\n",
       "      <th>9529</th>\n",
       "      <td>58</td>\n",
       "      <td>0</td>\n",
       "      <td>3</td>\n",
       "      <td>32.4</td>\n",
       "      <td>never smoked</td>\n",
       "      <td>0</td>\n",
       "      <td>0</td>\n",
       "      <td>1</td>\n",
       "    </tr>\n",
       "  </tbody>\n",
       "</table>\n",
       "</div>"
      ],
      "text/plain": [
       "       age  hypertension  gluc   bmi smoking_status  stroke  female  male\n",
       "8156    33             0     1  22.9   never smoked       0       1     0\n",
       "14526   48             0     1  21.7   never smoked       0       0     1\n",
       "16335   35             0     1  22.3   never smoked       0       1     0\n",
       "25039   79             1     1  28.8   never smoked       0       1     0\n",
       "9529    58             0     3  32.4   never smoked       0       0     1"
      ]
     },
     "execution_count": 17,
     "metadata": {},
     "output_type": "execute_result"
    }
   ],
   "source": [
    "data['avg_glucose_level'] = data['avg_glucose_level'].apply(lambda x: 1 if x <= 100 else 2 if x <= 125 else 3)\n",
    "data.rename(columns={\"avg_glucose_level\": \"gluc\"}, inplace=True)\n",
    "\n",
    "data.head()"
   ]
  },
  {
   "cell_type": "markdown",
   "id": "94c3016a",
   "metadata": {},
   "source": [
    "### Filling the NULL data in some of the columns"
   ]
  },
  {
   "cell_type": "code",
   "execution_count": 18,
   "id": "0d213430",
   "metadata": {},
   "outputs": [
    {
     "name": "stdout",
     "output_type": "stream",
     "text": [
      "<class 'pandas.core.frame.DataFrame'>\n",
      "Int64Index: 1399 entries, 8156 to 43339\n",
      "Data columns (total 8 columns):\n",
      " #   Column          Non-Null Count  Dtype  \n",
      "---  ------          --------------  -----  \n",
      " 0   age             1399 non-null   int64  \n",
      " 1   hypertension    1399 non-null   int64  \n",
      " 2   gluc            1399 non-null   int64  \n",
      " 3   bmi             1239 non-null   float64\n",
      " 4   smoking_status  1079 non-null   object \n",
      " 5   stroke          1399 non-null   int64  \n",
      " 6   female          1399 non-null   uint8  \n",
      " 7   male            1399 non-null   uint8  \n",
      "dtypes: float64(1), int64(4), object(1), uint8(2)\n",
      "memory usage: 79.2+ KB\n"
     ]
    }
   ],
   "source": [
    "data.info()"
   ]
  },
  {
   "cell_type": "markdown",
   "id": "1734b641",
   "metadata": {},
   "source": [
    "We notice that there are NULL values in bmi and smoking status"
   ]
  },
  {
   "cell_type": "code",
   "execution_count": 19,
   "id": "e670cf15",
   "metadata": {},
   "outputs": [
    {
     "data": {
      "text/plain": [
       "age                 0\n",
       "hypertension        0\n",
       "gluc                0\n",
       "bmi               160\n",
       "smoking_status    320\n",
       "stroke              0\n",
       "female              0\n",
       "male                0\n",
       "dtype: int64"
      ]
     },
     "execution_count": 19,
     "metadata": {},
     "output_type": "execute_result"
    }
   ],
   "source": [
    "data.isnull().sum()"
   ]
  },
  {
   "cell_type": "code",
   "execution_count": 20,
   "id": "50bbc42b",
   "metadata": {},
   "outputs": [
    {
     "name": "stdout",
     "output_type": "stream",
     "text": [
      "<class 'pandas.core.frame.DataFrame'>\n",
      "Int64Index: 1399 entries, 8156 to 43339\n",
      "Data columns (total 8 columns):\n",
      " #   Column          Non-Null Count  Dtype  \n",
      "---  ------          --------------  -----  \n",
      " 0   age             1399 non-null   int64  \n",
      " 1   hypertension    1399 non-null   int64  \n",
      " 2   gluc            1399 non-null   int64  \n",
      " 3   bmi             1399 non-null   float64\n",
      " 4   smoking_status  1079 non-null   object \n",
      " 5   stroke          1399 non-null   int64  \n",
      " 6   female          1399 non-null   uint8  \n",
      " 7   male            1399 non-null   uint8  \n",
      "dtypes: float64(1), int64(4), object(1), uint8(2)\n",
      "memory usage: 79.2+ KB\n"
     ]
    }
   ],
   "source": [
    "# We fill the null values in bmi using the mean, since we have previously removed the outliers in the dataset\n",
    "data['bmi'] = data['bmi'].fillna(data['bmi'].mean())\n",
    "data.info()"
   ]
  },
  {
   "cell_type": "code",
   "execution_count": 21,
   "id": "d3778e6a",
   "metadata": {},
   "outputs": [
    {
     "data": {
      "text/plain": [
       "never smoked       523\n",
       "formerly smoked    338\n",
       "smokes             218\n",
       "Name: smoking_status, dtype: int64"
      ]
     },
     "execution_count": 21,
     "metadata": {},
     "output_type": "execute_result"
    }
   ],
   "source": [
    "# For smoking status, we take a look at the different values\n",
    "data['smoking_status'].value_counts()"
   ]
  },
  {
   "cell_type": "markdown",
   "id": "cfa5573a",
   "metadata": {},
   "source": [
    "never smoked will be replaced with 0 (non-smoker), while formerly smoked and formerly smoked will be replaced with 1 (smoker).\n",
    "We will treat null values as non-smokers"
   ]
  },
  {
   "cell_type": "code",
   "execution_count": 22,
   "id": "9fb47329",
   "metadata": {},
   "outputs": [
    {
     "name": "stdout",
     "output_type": "stream",
     "text": [
      "<class 'pandas.core.frame.DataFrame'>\n",
      "Int64Index: 1399 entries, 8156 to 43339\n",
      "Data columns (total 8 columns):\n",
      " #   Column        Non-Null Count  Dtype  \n",
      "---  ------        --------------  -----  \n",
      " 0   age           1399 non-null   int64  \n",
      " 1   hypertension  1399 non-null   int64  \n",
      " 2   gluc          1399 non-null   int64  \n",
      " 3   bmi           1399 non-null   float64\n",
      " 4   smoke         1399 non-null   int64  \n",
      " 5   stroke        1399 non-null   int64  \n",
      " 6   female        1399 non-null   uint8  \n",
      " 7   male          1399 non-null   uint8  \n",
      "dtypes: float64(1), int64(5), uint8(2)\n",
      "memory usage: 79.2 KB\n"
     ]
    }
   ],
   "source": [
    "mapping = {\"never smoked\": 0, \"formerly smoked\": 1, \"smokes\": 1}\n",
    "\n",
    "#mapping maps the value to the categorical value, NaN values will be defaulted to 0\n",
    "data['smoking_status'] = data['smoking_status'].apply(lambda x: mapping.get(x, 0))\n",
    "data.rename(columns={\"smoking_status\": \"smoke\"}, inplace=True)\n",
    "\n",
    "data.info()"
   ]
  },
  {
   "cell_type": "code",
   "execution_count": 23,
   "id": "3327d1c8",
   "metadata": {},
   "outputs": [],
   "source": [
    "for i in ['gluc', 'smoke', 'stroke', 'hypertension', 'female', 'male']:\n",
    "    data[i] = data[i].astype(\"category\")"
   ]
  },
  {
   "cell_type": "code",
   "execution_count": 24,
   "id": "6166447a",
   "metadata": {},
   "outputs": [
    {
     "data": {
      "text/html": [
       "<div>\n",
       "<style scoped>\n",
       "    .dataframe tbody tr th:only-of-type {\n",
       "        vertical-align: middle;\n",
       "    }\n",
       "\n",
       "    .dataframe tbody tr th {\n",
       "        vertical-align: top;\n",
       "    }\n",
       "\n",
       "    .dataframe thead th {\n",
       "        text-align: right;\n",
       "    }\n",
       "</style>\n",
       "<table border=\"1\" class=\"dataframe\">\n",
       "  <thead>\n",
       "    <tr style=\"text-align: right;\">\n",
       "      <th></th>\n",
       "      <th>age</th>\n",
       "      <th>gluc</th>\n",
       "      <th>smoke</th>\n",
       "      <th>bmi</th>\n",
       "      <th>hypertension</th>\n",
       "      <th>female</th>\n",
       "      <th>male</th>\n",
       "      <th>stroke</th>\n",
       "    </tr>\n",
       "  </thead>\n",
       "  <tbody>\n",
       "    <tr>\n",
       "      <th>8156</th>\n",
       "      <td>33</td>\n",
       "      <td>1</td>\n",
       "      <td>0</td>\n",
       "      <td>22.900000</td>\n",
       "      <td>0</td>\n",
       "      <td>1</td>\n",
       "      <td>0</td>\n",
       "      <td>0</td>\n",
       "    </tr>\n",
       "    <tr>\n",
       "      <th>14526</th>\n",
       "      <td>48</td>\n",
       "      <td>1</td>\n",
       "      <td>0</td>\n",
       "      <td>21.700000</td>\n",
       "      <td>0</td>\n",
       "      <td>0</td>\n",
       "      <td>1</td>\n",
       "      <td>0</td>\n",
       "    </tr>\n",
       "    <tr>\n",
       "      <th>16335</th>\n",
       "      <td>35</td>\n",
       "      <td>1</td>\n",
       "      <td>0</td>\n",
       "      <td>22.300000</td>\n",
       "      <td>0</td>\n",
       "      <td>1</td>\n",
       "      <td>0</td>\n",
       "      <td>0</td>\n",
       "    </tr>\n",
       "    <tr>\n",
       "      <th>25039</th>\n",
       "      <td>79</td>\n",
       "      <td>1</td>\n",
       "      <td>0</td>\n",
       "      <td>28.800000</td>\n",
       "      <td>1</td>\n",
       "      <td>1</td>\n",
       "      <td>0</td>\n",
       "      <td>0</td>\n",
       "    </tr>\n",
       "    <tr>\n",
       "      <th>9529</th>\n",
       "      <td>58</td>\n",
       "      <td>3</td>\n",
       "      <td>0</td>\n",
       "      <td>32.400000</td>\n",
       "      <td>0</td>\n",
       "      <td>0</td>\n",
       "      <td>1</td>\n",
       "      <td>0</td>\n",
       "    </tr>\n",
       "    <tr>\n",
       "      <th>...</th>\n",
       "      <td>...</td>\n",
       "      <td>...</td>\n",
       "      <td>...</td>\n",
       "      <td>...</td>\n",
       "      <td>...</td>\n",
       "      <td>...</td>\n",
       "      <td>...</td>\n",
       "      <td>...</td>\n",
       "    </tr>\n",
       "    <tr>\n",
       "      <th>43148</th>\n",
       "      <td>56</td>\n",
       "      <td>1</td>\n",
       "      <td>1</td>\n",
       "      <td>32.900000</td>\n",
       "      <td>0</td>\n",
       "      <td>1</td>\n",
       "      <td>0</td>\n",
       "      <td>1</td>\n",
       "    </tr>\n",
       "    <tr>\n",
       "      <th>43268</th>\n",
       "      <td>69</td>\n",
       "      <td>1</td>\n",
       "      <td>0</td>\n",
       "      <td>28.000000</td>\n",
       "      <td>0</td>\n",
       "      <td>0</td>\n",
       "      <td>1</td>\n",
       "      <td>1</td>\n",
       "    </tr>\n",
       "    <tr>\n",
       "      <th>43304</th>\n",
       "      <td>80</td>\n",
       "      <td>1</td>\n",
       "      <td>0</td>\n",
       "      <td>26.700000</td>\n",
       "      <td>0</td>\n",
       "      <td>1</td>\n",
       "      <td>0</td>\n",
       "      <td>1</td>\n",
       "    </tr>\n",
       "    <tr>\n",
       "      <th>43318</th>\n",
       "      <td>62</td>\n",
       "      <td>1</td>\n",
       "      <td>1</td>\n",
       "      <td>31.500000</td>\n",
       "      <td>1</td>\n",
       "      <td>0</td>\n",
       "      <td>1</td>\n",
       "      <td>1</td>\n",
       "    </tr>\n",
       "    <tr>\n",
       "      <th>43339</th>\n",
       "      <td>76</td>\n",
       "      <td>2</td>\n",
       "      <td>0</td>\n",
       "      <td>29.316061</td>\n",
       "      <td>0</td>\n",
       "      <td>1</td>\n",
       "      <td>0</td>\n",
       "      <td>1</td>\n",
       "    </tr>\n",
       "  </tbody>\n",
       "</table>\n",
       "<p>1399 rows × 8 columns</p>\n",
       "</div>"
      ],
      "text/plain": [
       "       age gluc smoke        bmi hypertension female male stroke\n",
       "8156    33    1     0  22.900000            0      1    0      0\n",
       "14526   48    1     0  21.700000            0      0    1      0\n",
       "16335   35    1     0  22.300000            0      1    0      0\n",
       "25039   79    1     0  28.800000            1      1    0      0\n",
       "9529    58    3     0  32.400000            0      0    1      0\n",
       "...    ...  ...   ...        ...          ...    ...  ...    ...\n",
       "43148   56    1     1  32.900000            0      1    0      1\n",
       "43268   69    1     0  28.000000            0      0    1      1\n",
       "43304   80    1     0  26.700000            0      1    0      1\n",
       "43318   62    1     1  31.500000            1      0    1      1\n",
       "43339   76    2     0  29.316061            0      1    0      1\n",
       "\n",
       "[1399 rows x 8 columns]"
      ]
     },
     "execution_count": 24,
     "metadata": {},
     "output_type": "execute_result"
    }
   ],
   "source": [
    "data = data[['age', 'gluc', 'smoke', 'bmi', 'hypertension', 'female', 'male', 'stroke']]\n",
    "data"
   ]
  },
  {
   "cell_type": "markdown",
   "id": "13f5e034",
   "metadata": {},
   "source": [
    "---\n",
    "\n",
    "# Predicting cardio variable\n",
    "We will use back our model after hypertuning the variables, and use our data in cardio.csv as the train data.   \n",
    "Subsequently, we will predict whether the patient has cardiovascular disease in our current stroke dataset"
   ]
  },
  {
   "cell_type": "code",
   "execution_count": 25,
   "id": "f7993d4b",
   "metadata": {},
   "outputs": [],
   "source": [
    "#Retrive cardio dataset from the other notebook\n",
    "\n",
    "%store -r cardio\n",
    "%store -r final_cl"
   ]
  },
  {
   "cell_type": "code",
   "execution_count": 26,
   "id": "185aa489",
   "metadata": {},
   "outputs": [
    {
     "data": {
      "text/html": [
       "<div>\n",
       "<style scoped>\n",
       "    .dataframe tbody tr th:only-of-type {\n",
       "        vertical-align: middle;\n",
       "    }\n",
       "\n",
       "    .dataframe tbody tr th {\n",
       "        vertical-align: top;\n",
       "    }\n",
       "\n",
       "    .dataframe thead th {\n",
       "        text-align: right;\n",
       "    }\n",
       "</style>\n",
       "<table border=\"1\" class=\"dataframe\">\n",
       "  <thead>\n",
       "    <tr style=\"text-align: right;\">\n",
       "      <th></th>\n",
       "      <th>age</th>\n",
       "      <th>gluc</th>\n",
       "      <th>smoke</th>\n",
       "      <th>cardio</th>\n",
       "      <th>bmi</th>\n",
       "      <th>hypertension</th>\n",
       "      <th>female</th>\n",
       "      <th>male</th>\n",
       "    </tr>\n",
       "  </thead>\n",
       "  <tbody>\n",
       "    <tr>\n",
       "      <th>0</th>\n",
       "      <td>50</td>\n",
       "      <td>1</td>\n",
       "      <td>0</td>\n",
       "      <td>0</td>\n",
       "      <td>21.967120</td>\n",
       "      <td>0</td>\n",
       "      <td>0</td>\n",
       "      <td>1</td>\n",
       "    </tr>\n",
       "    <tr>\n",
       "      <th>1</th>\n",
       "      <td>55</td>\n",
       "      <td>1</td>\n",
       "      <td>0</td>\n",
       "      <td>1</td>\n",
       "      <td>34.927679</td>\n",
       "      <td>1</td>\n",
       "      <td>1</td>\n",
       "      <td>0</td>\n",
       "    </tr>\n",
       "    <tr>\n",
       "      <th>2</th>\n",
       "      <td>51</td>\n",
       "      <td>1</td>\n",
       "      <td>0</td>\n",
       "      <td>1</td>\n",
       "      <td>23.507805</td>\n",
       "      <td>0</td>\n",
       "      <td>1</td>\n",
       "      <td>0</td>\n",
       "    </tr>\n",
       "    <tr>\n",
       "      <th>3</th>\n",
       "      <td>48</td>\n",
       "      <td>1</td>\n",
       "      <td>0</td>\n",
       "      <td>1</td>\n",
       "      <td>28.710479</td>\n",
       "      <td>1</td>\n",
       "      <td>0</td>\n",
       "      <td>1</td>\n",
       "    </tr>\n",
       "    <tr>\n",
       "      <th>4</th>\n",
       "      <td>47</td>\n",
       "      <td>1</td>\n",
       "      <td>0</td>\n",
       "      <td>0</td>\n",
       "      <td>23.011177</td>\n",
       "      <td>0</td>\n",
       "      <td>1</td>\n",
       "      <td>0</td>\n",
       "    </tr>\n",
       "  </tbody>\n",
       "</table>\n",
       "</div>"
      ],
      "text/plain": [
       "   age gluc smoke cardio        bmi hypertension female male\n",
       "0   50    1     0      0  21.967120            0      0    1\n",
       "1   55    1     0      1  34.927679            1      1    0\n",
       "2   51    1     0      1  23.507805            0      1    0\n",
       "3   48    1     0      1  28.710479            1      0    1\n",
       "4   47    1     0      0  23.011177            0      1    0"
      ]
     },
     "execution_count": 26,
     "metadata": {},
     "output_type": "execute_result"
    }
   ],
   "source": [
    "cardio.head()"
   ]
  },
  {
   "cell_type": "code",
   "execution_count": 27,
   "id": "d6347ad8",
   "metadata": {},
   "outputs": [
    {
     "data": {
      "text/plain": [
       "XGBClassifier(base_score=0.5, booster='gbtree', colsample_bylevel=1,\n",
       "              colsample_bynode=1, colsample_bytree=0.5,\n",
       "              disable_default_eval_metric=True, enable_categorical=True,\n",
       "              gamma=0, gpu_id=0, importance_type=None,\n",
       "              interaction_constraints='', learning_rate=0.05, max_delta_step=0,\n",
       "              max_depth=4, min_child_weight=4, missing=nan,\n",
       "              monotone_constraints='()', n_estimators=300, n_jobs=4,\n",
       "              num_parallel_tree=1, predictor='auto', random_state=0,\n",
       "              reg_alpha=0.1, reg_lambda=1.5, scale_pos_weight=1, subsample=0.6,\n",
       "              tree_method='gpu_hist', use_label_encoder=False,\n",
       "              validate_parameters=1, verbosity=None)"
      ]
     },
     "execution_count": 27,
     "metadata": {},
     "output_type": "execute_result"
    }
   ],
   "source": [
    "import xgboost as xgb\n",
    "\n",
    "X, y = cardio.copy().drop('cardio', axis=1), cardio.cardio\n",
    "\n",
    "final_cl.fit(X, y)"
   ]
  },
  {
   "cell_type": "code",
   "execution_count": 28,
   "id": "660204f5",
   "metadata": {
    "scrolled": true
   },
   "outputs": [
    {
     "data": {
      "text/html": [
       "<div>\n",
       "<style scoped>\n",
       "    .dataframe tbody tr th:only-of-type {\n",
       "        vertical-align: middle;\n",
       "    }\n",
       "\n",
       "    .dataframe tbody tr th {\n",
       "        vertical-align: top;\n",
       "    }\n",
       "\n",
       "    .dataframe thead th {\n",
       "        text-align: right;\n",
       "    }\n",
       "</style>\n",
       "<table border=\"1\" class=\"dataframe\">\n",
       "  <thead>\n",
       "    <tr style=\"text-align: right;\">\n",
       "      <th></th>\n",
       "      <th>age</th>\n",
       "      <th>gluc</th>\n",
       "      <th>smoke</th>\n",
       "      <th>bmi</th>\n",
       "      <th>hypertension</th>\n",
       "      <th>female</th>\n",
       "      <th>male</th>\n",
       "      <th>stroke</th>\n",
       "      <th>cardio</th>\n",
       "    </tr>\n",
       "  </thead>\n",
       "  <tbody>\n",
       "    <tr>\n",
       "      <th>0</th>\n",
       "      <td>33</td>\n",
       "      <td>1</td>\n",
       "      <td>0</td>\n",
       "      <td>22.900000</td>\n",
       "      <td>0</td>\n",
       "      <td>1</td>\n",
       "      <td>0</td>\n",
       "      <td>0</td>\n",
       "      <td>0</td>\n",
       "    </tr>\n",
       "    <tr>\n",
       "      <th>1</th>\n",
       "      <td>48</td>\n",
       "      <td>1</td>\n",
       "      <td>0</td>\n",
       "      <td>21.700000</td>\n",
       "      <td>0</td>\n",
       "      <td>0</td>\n",
       "      <td>1</td>\n",
       "      <td>0</td>\n",
       "      <td>0</td>\n",
       "    </tr>\n",
       "    <tr>\n",
       "      <th>2</th>\n",
       "      <td>35</td>\n",
       "      <td>1</td>\n",
       "      <td>0</td>\n",
       "      <td>22.300000</td>\n",
       "      <td>0</td>\n",
       "      <td>1</td>\n",
       "      <td>0</td>\n",
       "      <td>0</td>\n",
       "      <td>0</td>\n",
       "    </tr>\n",
       "    <tr>\n",
       "      <th>3</th>\n",
       "      <td>79</td>\n",
       "      <td>1</td>\n",
       "      <td>0</td>\n",
       "      <td>28.800000</td>\n",
       "      <td>1</td>\n",
       "      <td>1</td>\n",
       "      <td>0</td>\n",
       "      <td>0</td>\n",
       "      <td>1</td>\n",
       "    </tr>\n",
       "    <tr>\n",
       "      <th>4</th>\n",
       "      <td>58</td>\n",
       "      <td>3</td>\n",
       "      <td>0</td>\n",
       "      <td>32.400000</td>\n",
       "      <td>0</td>\n",
       "      <td>0</td>\n",
       "      <td>1</td>\n",
       "      <td>0</td>\n",
       "      <td>1</td>\n",
       "    </tr>\n",
       "    <tr>\n",
       "      <th>...</th>\n",
       "      <td>...</td>\n",
       "      <td>...</td>\n",
       "      <td>...</td>\n",
       "      <td>...</td>\n",
       "      <td>...</td>\n",
       "      <td>...</td>\n",
       "      <td>...</td>\n",
       "      <td>...</td>\n",
       "      <td>...</td>\n",
       "    </tr>\n",
       "    <tr>\n",
       "      <th>1394</th>\n",
       "      <td>56</td>\n",
       "      <td>1</td>\n",
       "      <td>1</td>\n",
       "      <td>32.900000</td>\n",
       "      <td>0</td>\n",
       "      <td>1</td>\n",
       "      <td>0</td>\n",
       "      <td>1</td>\n",
       "      <td>0</td>\n",
       "    </tr>\n",
       "    <tr>\n",
       "      <th>1395</th>\n",
       "      <td>69</td>\n",
       "      <td>1</td>\n",
       "      <td>0</td>\n",
       "      <td>28.000000</td>\n",
       "      <td>0</td>\n",
       "      <td>0</td>\n",
       "      <td>1</td>\n",
       "      <td>1</td>\n",
       "      <td>1</td>\n",
       "    </tr>\n",
       "    <tr>\n",
       "      <th>1396</th>\n",
       "      <td>80</td>\n",
       "      <td>1</td>\n",
       "      <td>0</td>\n",
       "      <td>26.700000</td>\n",
       "      <td>0</td>\n",
       "      <td>1</td>\n",
       "      <td>0</td>\n",
       "      <td>1</td>\n",
       "      <td>1</td>\n",
       "    </tr>\n",
       "    <tr>\n",
       "      <th>1397</th>\n",
       "      <td>62</td>\n",
       "      <td>1</td>\n",
       "      <td>1</td>\n",
       "      <td>31.500000</td>\n",
       "      <td>1</td>\n",
       "      <td>0</td>\n",
       "      <td>1</td>\n",
       "      <td>1</td>\n",
       "      <td>1</td>\n",
       "    </tr>\n",
       "    <tr>\n",
       "      <th>1398</th>\n",
       "      <td>76</td>\n",
       "      <td>2</td>\n",
       "      <td>0</td>\n",
       "      <td>29.316061</td>\n",
       "      <td>0</td>\n",
       "      <td>1</td>\n",
       "      <td>0</td>\n",
       "      <td>1</td>\n",
       "      <td>1</td>\n",
       "    </tr>\n",
       "  </tbody>\n",
       "</table>\n",
       "<p>1399 rows × 9 columns</p>\n",
       "</div>"
      ],
      "text/plain": [
       "      age gluc smoke        bmi hypertension female male stroke cardio\n",
       "0      33    1     0  22.900000            0      1    0      0      0\n",
       "1      48    1     0  21.700000            0      0    1      0      0\n",
       "2      35    1     0  22.300000            0      1    0      0      0\n",
       "3      79    1     0  28.800000            1      1    0      0      1\n",
       "4      58    3     0  32.400000            0      0    1      0      1\n",
       "...   ...  ...   ...        ...          ...    ...  ...    ...    ...\n",
       "1394   56    1     1  32.900000            0      1    0      1      0\n",
       "1395   69    1     0  28.000000            0      0    1      1      1\n",
       "1396   80    1     0  26.700000            0      1    0      1      1\n",
       "1397   62    1     1  31.500000            1      0    1      1      1\n",
       "1398   76    2     0  29.316061            0      1    0      1      1\n",
       "\n",
       "[1399 rows x 9 columns]"
      ]
     },
     "execution_count": 28,
     "metadata": {},
     "output_type": "execute_result"
    }
   ],
   "source": [
    "tempX = data.drop('stroke', axis=1)\n",
    "predicted = pd.DataFrame(final_cl.predict(tempX))\n",
    "predicted.describe()\n",
    "\n",
    "temp = data.copy().reset_index()\n",
    "\n",
    "new = pd.concat([temp, predicted], axis=1)\n",
    "new = new.rename(columns={0: 'cardio'}).drop(['index'], axis='columns')\n",
    "new['cardio'] = new['cardio'].astype(\"category\")\n",
    "new"
   ]
  },
  {
   "cell_type": "markdown",
   "id": "f2df3717",
   "metadata": {},
   "source": [
    "---\n",
    "### Visualising the new dataset"
   ]
  },
  {
   "cell_type": "code",
   "execution_count": 29,
   "id": "9f58671e",
   "metadata": {},
   "outputs": [
    {
     "data": {
      "text/html": [
       "<div>\n",
       "<style scoped>\n",
       "    .dataframe tbody tr th:only-of-type {\n",
       "        vertical-align: middle;\n",
       "    }\n",
       "\n",
       "    .dataframe tbody tr th {\n",
       "        vertical-align: top;\n",
       "    }\n",
       "\n",
       "    .dataframe thead th {\n",
       "        text-align: right;\n",
       "    }\n",
       "</style>\n",
       "<table border=\"1\" class=\"dataframe\">\n",
       "  <thead>\n",
       "    <tr style=\"text-align: right;\">\n",
       "      <th></th>\n",
       "      <th>age</th>\n",
       "      <th>bmi</th>\n",
       "    </tr>\n",
       "  </thead>\n",
       "  <tbody>\n",
       "    <tr>\n",
       "      <th>count</th>\n",
       "      <td>1399.000000</td>\n",
       "      <td>1399.000000</td>\n",
       "    </tr>\n",
       "    <tr>\n",
       "      <th>mean</th>\n",
       "      <td>56.864189</td>\n",
       "      <td>29.316061</td>\n",
       "    </tr>\n",
       "    <tr>\n",
       "      <th>std</th>\n",
       "      <td>20.293980</td>\n",
       "      <td>5.707050</td>\n",
       "    </tr>\n",
       "    <tr>\n",
       "      <th>min</th>\n",
       "      <td>4.000000</td>\n",
       "      <td>17.200000</td>\n",
       "    </tr>\n",
       "    <tr>\n",
       "      <th>25%</th>\n",
       "      <td>43.000000</td>\n",
       "      <td>25.700000</td>\n",
       "    </tr>\n",
       "    <tr>\n",
       "      <th>50%</th>\n",
       "      <td>61.000000</td>\n",
       "      <td>29.316061</td>\n",
       "    </tr>\n",
       "    <tr>\n",
       "      <th>75%</th>\n",
       "      <td>75.000000</td>\n",
       "      <td>32.400000</td>\n",
       "    </tr>\n",
       "    <tr>\n",
       "      <th>max</th>\n",
       "      <td>82.000000</td>\n",
       "      <td>47.600000</td>\n",
       "    </tr>\n",
       "  </tbody>\n",
       "</table>\n",
       "</div>"
      ],
      "text/plain": [
       "               age          bmi\n",
       "count  1399.000000  1399.000000\n",
       "mean     56.864189    29.316061\n",
       "std      20.293980     5.707050\n",
       "min       4.000000    17.200000\n",
       "25%      43.000000    25.700000\n",
       "50%      61.000000    29.316061\n",
       "75%      75.000000    32.400000\n",
       "max      82.000000    47.600000"
      ]
     },
     "execution_count": 29,
     "metadata": {},
     "output_type": "execute_result"
    }
   ],
   "source": [
    "new.describe()"
   ]
  },
  {
   "cell_type": "code",
   "execution_count": 30,
   "id": "eb898a3b",
   "metadata": {},
   "outputs": [
    {
     "data": {
      "image/png": "[encoded data removed]",
      "text/plain": [
       "<Figure size 2160x1080 with 4 Axes>"
      ]
     },
     "metadata": {},
     "output_type": "display_data"
    }
   ],
   "source": [
    "#Visualing the numeric variables\n",
    "f,axes = plt.subplots(2, 2, figsize=(30, 15))\n",
    "\n",
    "for i,val in enumerate([\"age\", \"bmi\"]):\n",
    "    sb.boxplot(data = new[val], orient = \"h\", ax = axes[i][0])\n",
    "    sb.histplot(data = new[val], ax = axes[i][1])"
   ]
  },
  {
   "cell_type": "markdown",
   "id": "a5caefac",
   "metadata": {},
   "source": [
    "### Observations:\n",
    "\n",
    "#### Age \n",
    "* There is a range of values between 3 to 83 years old. The median is 61, with lower quartile 45 and upper quartile 75\n",
    "* We see that majority of the patients are senior citizens due to the high age \n",
    "* We will likely see an increase in number of predicted cardiovascular disease as the elderly are more prone to diseases\n",
    "\n",
    "#### BMI:\n",
    "* The healthy bmi range is 18.5—24.9\n",
    "* The lower quartile is 25.6, the upper quartle is 32.2\n",
    "* The median is 29, which is above the healthy BMI range\n",
    "* This shows that about at least 75% of the patients are overweight for the stroke dataset"
   ]
  },
  {
   "cell_type": "code",
   "execution_count": 80,
   "id": "04080e9e",
   "metadata": {
    "scrolled": true
   },
   "outputs": [
    {
     "data": {
      "image/png": "[encoded data removed]",
      "text/plain": [
       "<Figure size 2160x2160 with 6 Axes>"
      ]
     },
     "metadata": {},
     "output_type": "display_data"
    }
   ],
   "source": [
    "#Visualising the categorical variables against cardio\n",
    "f ,axes = plt.subplots(6, 1, figsize=(30, 30))\n",
    "\n",
    "for i,val in enumerate([\"female\", \"male\", \"gluc\", \"smoke\", \"hypertension\", \"stroke\"]):\n",
    "    sb.countplot(x=val, hue=\"cardio\", data=new, ax=axes[i]);"
   ]
  },
  {
   "cell_type": "markdown",
   "id": "cb082f61",
   "metadata": {},
   "source": [
    "### Observations:\n",
    "\n",
    "#### Gender\n",
    "* There are more females than males in the stroke dataset. Additionally, the are more people that are predicted to have cardiovascular disease in both genders. This is supported from our previous observation of the majority of the patients being the elderly\n",
    "\n",
    "#### Gluclose\n",
    "* Patients who are within normal range(1) does not affect having cardiovascular disease, as there is an even distribution of patients with and without disease.\n",
    "* However, patients who have are diabetic(3) are much more likely to have cardiovascular disease\n",
    "\n",
    "#### Smoke\n",
    "* We can see that smoking does not seem to affect having cardiovascular disease, as there are more patients having cardiovascular disease regardless of whether they smoke\n",
    "\n",
    "#### Hypertension\n",
    "* Patients without hypertension does not affect having cardiovascular disease.\n",
    "* However, an interesting observation is that all the patients who have hypertension are predicted to have cardiovascular disease. This suggets that having hypertension may be an important factor that causes cardiovascular disease\n",
    "\n",
    "#### Stroke\n",
    "* We see that a large number of patients with stroke are predicted to have cardiovascular disease as well. This is also part of our aim of the project, where we will attempt to find a relationship between the two variables.\n",
    "\n",
    "---\n",
    "\n",
    "# Testing relationship between cardio and stroke\n",
    "\n",
    "To better understand whether stroke and cardio are related to each other, a chi-square test can be used as an effective statistical tool.    \n",
    "\n",
    "We will conduct a Chi-Square Test of Independence to test if two variables might be correlated or not.\n",
    "\n",
    "\n",
    "## Defining null hypothesis and alternate hypothesis\n",
    "> H₀ (Null Hypothesis)      — stroke and cardio are independent of each other   \n",
    "> H₁ (Alternate Hypothesis) — stroke and cardio are dependent of each other   \n",
    "\n",
    "Let significance level α = 0.05, we will draw our conclusions based on the following p-value conditions:\n",
    "> p < 0.05 — We reject the null hypothesis, this means stroke and cardio are correlated    \n",
    "> p > 0.05 — We accept the null hypothesis, this means stroke and cardio are not correlated    "
   ]
  },
  {
   "cell_type": "code",
   "execution_count": 81,
   "id": "ab82336a",
   "metadata": {},
   "outputs": [
    {
     "data": {
      "text/html": [
       "<div>\n",
       "<style scoped>\n",
       "    .dataframe tbody tr th:only-of-type {\n",
       "        vertical-align: middle;\n",
       "    }\n",
       "\n",
       "    .dataframe tbody tr th {\n",
       "        vertical-align: top;\n",
       "    }\n",
       "\n",
       "    .dataframe thead th {\n",
       "        text-align: right;\n",
       "    }\n",
       "</style>\n",
       "<table border=\"1\" class=\"dataframe\">\n",
       "  <thead>\n",
       "    <tr style=\"text-align: right;\">\n",
       "      <th></th>\n",
       "      <th>stroke</th>\n",
       "      <th>cardio</th>\n",
       "    </tr>\n",
       "  </thead>\n",
       "  <tbody>\n",
       "    <tr>\n",
       "      <th>0</th>\n",
       "      <td>0</td>\n",
       "      <td>1</td>\n",
       "    </tr>\n",
       "    <tr>\n",
       "      <th>1</th>\n",
       "      <td>0</td>\n",
       "      <td>0</td>\n",
       "    </tr>\n",
       "    <tr>\n",
       "      <th>2</th>\n",
       "      <td>0</td>\n",
       "      <td>1</td>\n",
       "    </tr>\n",
       "    <tr>\n",
       "      <th>3</th>\n",
       "      <td>0</td>\n",
       "      <td>0</td>\n",
       "    </tr>\n",
       "    <tr>\n",
       "      <th>4</th>\n",
       "      <td>0</td>\n",
       "      <td>0</td>\n",
       "    </tr>\n",
       "    <tr>\n",
       "      <th>...</th>\n",
       "      <td>...</td>\n",
       "      <td>...</td>\n",
       "    </tr>\n",
       "    <tr>\n",
       "      <th>1383</th>\n",
       "      <td>1</td>\n",
       "      <td>0</td>\n",
       "    </tr>\n",
       "    <tr>\n",
       "      <th>1384</th>\n",
       "      <td>1</td>\n",
       "      <td>1</td>\n",
       "    </tr>\n",
       "    <tr>\n",
       "      <th>1385</th>\n",
       "      <td>1</td>\n",
       "      <td>1</td>\n",
       "    </tr>\n",
       "    <tr>\n",
       "      <th>1386</th>\n",
       "      <td>1</td>\n",
       "      <td>1</td>\n",
       "    </tr>\n",
       "    <tr>\n",
       "      <th>1387</th>\n",
       "      <td>1</td>\n",
       "      <td>1</td>\n",
       "    </tr>\n",
       "  </tbody>\n",
       "</table>\n",
       "<p>1388 rows × 2 columns</p>\n",
       "</div>"
      ],
      "text/plain": [
       "     stroke cardio\n",
       "0         0      1\n",
       "1         0      0\n",
       "2         0      1\n",
       "3         0      0\n",
       "4         0      0\n",
       "...     ...    ...\n",
       "1383      1      0\n",
       "1384      1      1\n",
       "1385      1      1\n",
       "1386      1      1\n",
       "1387      1      1\n",
       "\n",
       "[1388 rows x 2 columns]"
      ]
     },
     "execution_count": 81,
     "metadata": {},
     "output_type": "execute_result"
    }
   ],
   "source": [
    "targets = new.copy()\n",
    "targets.drop([\"age\", \"gluc\", \"smoke\", \"bmi\", \"hypertension\", \"female\", \"male\"], axis=1, inplace=True)\n",
    "targets"
   ]
  },
  {
   "cell_type": "code",
   "execution_count": 82,
   "id": "e4be18ab",
   "metadata": {
    "scrolled": true
   },
   "outputs": [
    {
     "data": {
      "text/html": [
       "<div>\n",
       "<style scoped>\n",
       "    .dataframe tbody tr th:only-of-type {\n",
       "        vertical-align: middle;\n",
       "    }\n",
       "\n",
       "    .dataframe tbody tr th {\n",
       "        vertical-align: top;\n",
       "    }\n",
       "\n",
       "    .dataframe thead th {\n",
       "        text-align: right;\n",
       "    }\n",
       "</style>\n",
       "<table border=\"1\" class=\"dataframe\">\n",
       "  <thead>\n",
       "    <tr style=\"text-align: right;\">\n",
       "      <th>cardio</th>\n",
       "      <th>0</th>\n",
       "      <th>1</th>\n",
       "      <th>All</th>\n",
       "    </tr>\n",
       "    <tr>\n",
       "      <th>stroke</th>\n",
       "      <th></th>\n",
       "      <th></th>\n",
       "      <th></th>\n",
       "    </tr>\n",
       "  </thead>\n",
       "  <tbody>\n",
       "    <tr>\n",
       "      <th>0</th>\n",
       "      <td>437</td>\n",
       "      <td>233</td>\n",
       "      <td>670</td>\n",
       "    </tr>\n",
       "    <tr>\n",
       "      <th>1</th>\n",
       "      <td>114</td>\n",
       "      <td>604</td>\n",
       "      <td>718</td>\n",
       "    </tr>\n",
       "    <tr>\n",
       "      <th>All</th>\n",
       "      <td>551</td>\n",
       "      <td>837</td>\n",
       "      <td>1388</td>\n",
       "    </tr>\n",
       "  </tbody>\n",
       "</table>\n",
       "</div>"
      ],
      "text/plain": [
       "cardio    0    1   All\n",
       "stroke                \n",
       "0       437  233   670\n",
       "1       114  604   718\n",
       "All     551  837  1388"
      ]
     },
     "execution_count": 82,
     "metadata": {},
     "output_type": "execute_result"
    }
   ],
   "source": [
    "contingency = pd.crosstab(targets['stroke'], targets['cardio'], margins= True)\n",
    "contingency"
   ]
  },
  {
   "cell_type": "code",
   "execution_count": 83,
   "id": "37905311",
   "metadata": {},
   "outputs": [
    {
     "name": "stdout",
     "output_type": "stream",
     "text": [
      "(352.55214995022885, 2.7814633814983584e-77, 2)\n"
     ]
    }
   ],
   "source": [
    "from scipy.stats import chi2_contingency \n",
    "\n",
    "value = np.array([contingency.iloc[0][0:4].values,\n",
    "                  contingency.iloc[1][0:4].values])\n",
    "print(chi2_contingency(value)[0:3])"
   ]
  },
  {
   "cell_type": "markdown",
   "id": "9b0f5b21",
   "metadata": {},
   "source": [
    "From above, 2.78146e-77 is the p-value, 352.55 is the statistical value and 2 is the degree of freedom.     \n",
    "As the p-value is lesser than 0.05, we reject the NULL hypothesis. Therefore, we can conclude that stroke and cardio are related to each other."
   ]
  },
  {
   "cell_type": "markdown",
   "id": "15edd5d7",
   "metadata": {},
   "source": [
    "---\n",
    "\n",
    "## Finding out whether there is a causal relationship between stroke and cardio\n",
    "\n",
    "Now that we see that the two variables are related, we want to go one step deeper to determine whether they may some kind of causal relationship between stroke and cardio. \n",
    "\n",
    "We will attempt to detect a causal relationship using Bayesian structure learning, through the `bnlearn` module"
   ]
  },
  {
   "cell_type": "code",
   "execution_count": 84,
   "id": "570642b1",
   "metadata": {},
   "outputs": [],
   "source": [
    "import bnlearn as bn"
   ]
  },
  {
   "cell_type": "markdown",
   "id": "78b9e9d5",
   "metadata": {},
   "source": [
    "We form the directed acyclic graph (DAG) with the variables. We let E(p,t) imply that there is a dependency relationship between the predictor(p) and the target(t). Subsequently, we form 2 seperate models:\n",
    "> cardio_stroke imply that the variable cardio causes stroke   \n",
    "> stroke_cardio imply that the variable stroke causes cardio\n",
    "\n",
    "We then calculate the conditional probability of (A|B) to find out the probability of one variable causing the other"
   ]
  },
  {
   "cell_type": "code",
   "execution_count": 85,
   "id": "d486d692",
   "metadata": {},
   "outputs": [],
   "source": [
    "\n",
    "predictors = ['age', 'hypertension', 'gluc', 'bmi', 'smoke', 'female', 'male']\n",
    "targets = ['stroke', 'cardio']\n",
    "\n",
    "edges = []\n",
    "\n",
    "for i in predictors:\n",
    "    for j in targets:\n",
    "        edges.append((i, j))\n",
    "        \n",
    "cardio_stroke = edges.copy()\n",
    "cardio_stroke.append(('cardio', 'stroke'))\n",
    "\n",
    "stroke_cardio = edges.copy()\n",
    "stroke_cardio.append(('stroke', 'cardio'))"
   ]
  },
  {
   "cell_type": "code",
   "execution_count": 86,
   "id": "d04aa4e7",
   "metadata": {
    "scrolled": true
   },
   "outputs": [
    {
     "name": "stdout",
     "output_type": "stream",
     "text": [
      "[bnlearn] >bayes DAG created.\n"
     ]
    }
   ],
   "source": [
    "DAG = bn.make_DAG(stroke_cardio)\n",
    "\n",
    "model1 = bn.parameter_learning.fit(DAG, new, methodtype='bayes', verbose=0)"
   ]
  },
  {
   "cell_type": "code",
   "execution_count": 87,
   "id": "2bd5d2d9",
   "metadata": {},
   "outputs": [
    {
     "name": "stdout",
     "output_type": "stream",
     "text": [
      "[bnlearn] >Variable Elimination..\n"
     ]
    },
    {
     "data": {
      "application/vnd.jupyter.widget-view+json": {
       "model_id": "e97eeb201bbf46bd91273df055ac6c9c",
       "version_major": 2,
       "version_minor": 0
      },
      "text/plain": [
       "  0%|          | 0/7 [00:00<?, ?it/s]"
      ]
     },
     "metadata": {},
     "output_type": "display_data"
    },
    {
     "data": {
      "application/vnd.jupyter.widget-view+json": {
       "model_id": "992f02ec8ac14d0a87d1a628957a88cd",
       "version_major": 2,
       "version_minor": 0
      },
      "text/plain": [
       "  0%|          | 0/7 [00:00<?, ?it/s]"
      ]
     },
     "metadata": {},
     "output_type": "display_data"
    },
    {
     "name": "stdout",
     "output_type": "stream",
     "text": [
      "+----+----------+----------+\n",
      "|    |   cardio |        p |\n",
      "+====+==========+==========+\n",
      "|  0 |        0 | 0.496132 |\n",
      "+----+----------+----------+\n",
      "|  1 |        1 | 0.503868 |\n",
      "+----+----------+----------+\n",
      "   cardio         p\n",
      "0       0  0.496132\n",
      "1       1  0.503868\n"
     ]
    }
   ],
   "source": [
    "#q1 - what is the probablity of having stroke given cardio?\n",
    "\n",
    "q1 = bn.inference.fit(model1, variables=['cardio'], evidence={'stroke': 1})\n",
    "\n",
    "print(q1.df)"
   ]
  },
  {
   "cell_type": "code",
   "execution_count": 88,
   "id": "9064111e",
   "metadata": {},
   "outputs": [
    {
     "name": "stdout",
     "output_type": "stream",
     "text": [
      "[bnlearn] >bayes DAG created.\n",
      "[bnlearn] >Variable Elimination..\n"
     ]
    },
    {
     "data": {
      "application/vnd.jupyter.widget-view+json": {
       "model_id": "a39af196cc3447a797e40b1abad8cbe2",
       "version_major": 2,
       "version_minor": 0
      },
      "text/plain": [
       "  0%|          | 0/7 [00:00<?, ?it/s]"
      ]
     },
     "metadata": {},
     "output_type": "display_data"
    },
    {
     "data": {
      "application/vnd.jupyter.widget-view+json": {
       "model_id": "0e65c42bb4d54b8e8cdbc8f9ae604ea0",
       "version_major": 2,
       "version_minor": 0
      },
      "text/plain": [
       "  0%|          | 0/7 [00:00<?, ?it/s]"
      ]
     },
     "metadata": {},
     "output_type": "display_data"
    },
    {
     "name": "stdout",
     "output_type": "stream",
     "text": [
      "+----+----------+----------+\n",
      "|    |   stroke |        p |\n",
      "+====+==========+==========+\n",
      "|  0 |        0 | 0.495956 |\n",
      "+----+----------+----------+\n",
      "|  1 |        1 | 0.504044 |\n",
      "+----+----------+----------+\n",
      "   stroke         p\n",
      "0       0  0.495956\n",
      "1       1  0.504044\n"
     ]
    }
   ],
   "source": [
    "#q2 - what is the probablity of having cardio given stroke?\n",
    "\n",
    "DAG = bn.make_DAG(cardio_stroke)\n",
    "\n",
    "model2 = bn.parameter_learning.fit(DAG, new, methodtype='bayes', verbose=0)\n",
    "q2 = bn.inference.fit(model2, variables=['stroke'], evidence={'cardio': 1})\n",
    "\n",
    "print(q2.df)"
   ]
  },
  {
   "cell_type": "markdown",
   "id": "614be176",
   "metadata": {},
   "source": [
    "### Observations:\n",
    "\n",
    "From q1, we see that given someone has stroke, the probability that the person having cardio is 0.50.\n",
    "From q2, we see that given someone has cardio, the probability that the person having stroke is 0.50. \n",
    "\n",
    "When a patient has either disease, there is a 50% chance that it will cause the other disease as well.\n",
    "\n",
    "---\n",
    "\n",
    "# Factors to reduce having cardiovascular disease\n",
    "\n",
    "Now that we know the dangers of cardiovascular disease, our last step of the project is to find out what are the key factors that may lead to someone having cardiovascular disease. Therefore, we break down our model to find out the feature importance."
   ]
  },
  {
   "cell_type": "code",
   "execution_count": null,
   "id": "d19e3132",
   "metadata": {
    "scrolled": true
   },
   "outputs": [],
   "source": [
    "from xgboost import plot_importance\n",
    "from matplotlib import pyplot"
   ]
  },
  {
   "cell_type": "code",
   "execution_count": 90,
   "id": "f71ab2fd",
   "metadata": {},
   "outputs": [
    {
     "data": {
      "image/png": "[encoded data removed]",
      "text/plain": [
       "<Figure size 2160x2160 with 1 Axes>"
      ]
     },
     "metadata": {},
     "output_type": "display_data"
    }
   ],
   "source": [
    "fig, ax = plt.subplots(figsize=(30, 30))\n",
    "xgb.plot_tree(final_cl, ax=ax)\n",
    "plt.show()\n",
    "\n",
    "fig.set_size_inches(50, 25)\n",
    "fig.savefig('tree.png')"
   ]
  },
  {
   "cell_type": "markdown",
   "id": "245b61a3",
   "metadata": {},
   "source": [
    "### Observations:\n",
    "\n",
    "From the diagram, we see that BMI is by far the biggest factor in determining whether a patient has heart disease. In fact, most of the branching in the tree uses BMI to decide. Hypertension is the first node in the tree, suggesting that it has relatively high importance as well. \n",
    "\n",
    "\n",
    "Lastly, we see that being male also affects having heart disease. This information is also support by online evidence.\n",
    "According to Havard Medical school, \"Researchers found that throughout life, men were about twice as likely as women to have a heart attack\". \n",
    "\n",
    "---\n",
    "### Other Evidence\n",
    "\n",
    "BMI is the leading factor in causing heart disease. High BMI leads to factors such as obesity, which is a risk factor causing heart disease. According to John Hopkins Medicine, \"Over 12 years, those who were the most obese (BMI of 35 or higher) developed the most heart failure.\"\n",
    "\n",
    "Additionally, BMI is also a risk factor that causes stroke. According to Ochsner Lafayette General, Acadiana’s largest non-profit regional health system, \"each unit increase in body mass index (BMI) increases the risk of stroke by 5 percent\".    \n",
    "This is also the reason the Health Promotion Board (HPB) is actively trying to promote healthy lifestyle amongst Singaporeans, to reduce obesity and reduce BMI within the healthy range.\n",
    "\n",
    "Hypertension (High blood pressure) forces the heart to work harder to pump blood to the rest of the body, which increases the risk of heart attack. Therefore, it is logical that having hypertension leads to heart disease. Exercising regularly and having a healthy diet reduces the risk of having high blood pressure, which again stresses the importance of having a healthy lifestyle.\n",
    "\n",
    "---\n",
    "\n",
    "## Conclusion:\n",
    "\n",
    "According to the U.S. Department of Health and Human Services, only 23% of American Adults aged 18-64 exercise a sufficient amount. \n",
    "\n",
    "Hence, all of us should take the time to exercise the recommended amount of at least 3 times a week. Even though Singaporeans have the 5th highest life expectancy in the world, we do not actively exercise. Part of the reason why Singapore is so healthy is because we have one of the best healthcare services in the world, and not because we exercise. According to the Bloomberg Health-Efficiency Index which tracks medical costs and value, it was found that Singapore was the 2nd most efficient country for health care, and Singaporeans only spent 4.3% on healthcare relative to GDP. Hence health care is extremely affordable to Singaporeans.\n",
    "\n",
    "![title](img/bloomberg_healthcare_efficiency.jpeg)\n",
    "\n",
    "On the bright side, it seems that more Singaporeans are starting to exercise. According to Data.gov.sg, the sports and phsyical activity participation level is slowly rising, and has increase from 54% to 69%. But Singapore still has a long way to go. \n",
    "\n",
    "| Annual        | Didn't participate past year           | Inactive  | Irregular | Regular\n",
    "| :-------------: |:-------------:| :-----:| :-----:| :-----:|\n",
    "| 2020   | 14% | 11% | 7% |69%\n",
    "| 2019   | 21% |  7% | 6% | 66%\n",
    "| 2018   | 22% |  7% | 6% |66% \n",
    "| 2017  | 19% |  7% | 7% |68% \n",
    "| 2016   | 25% |  7% | 6% |61% \n",
    "| 2015   | 29% |  9% | 7% |54% \n",
    "\n",
    "\n",
    "According to the Lancet Global Health, which features journals, People in Singapore have a high prevalence of insufficent physical activity at 36.5%. Hence, we still have a long way to go to improve our life expectancy. \n",
    "\n",
    "\n",
    "\n",
    "![title](img/male.jpeg)\n",
    "\n",
    "\n"
   ]
  },
  {
   "cell_type": "markdown",
   "id": "a2a10035-857e-487c-927b-faf2e959c1a6",
   "metadata": {},
   "source": []
  },
  {
   "cell_type": "code",
   "execution_count": null,
   "id": "a0bd4d8a-da3b-4bc4-8076-b312aa781cba",
   "metadata": {},
   "outputs": [],
   "source": []
  }
 ],
 "metadata": {
  "kernelspec": {
   "display_name": "Python 3 (ipykernel)",
   "language": "python",
   "name": "python3"
  },
  "language_info": {
   "codemirror_mode": {
    "name": "ipython",
    "version": 3
   },
   "file_extension": ".py",
   "mimetype": "text/x-python",
   "name": "python",
   "nbconvert_exporter": "python",
   "pygments_lexer": "ipython3",
   "version": "3.9.7"
  }
 },
 "nbformat": 4,
 "nbformat_minor": 5
}
