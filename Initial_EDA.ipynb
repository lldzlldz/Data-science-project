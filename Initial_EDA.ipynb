{
 "cells": [
  {
   "cell_type": "markdown",
   "id": "4tTwebQU3ils",
   "metadata": {
    "id": "4tTwebQU3ils"
   },
   "source": [
    "# Practical motivation\n",
    "\n",
    "According to the World Health Organization, the world’s biggest killer is ischaemic heart disease, responsible for 16% of the world’s total deaths. Since 2000, the largest increase in deaths has been for this disease, rising by more than 2 million to 8.9 million deaths in 2019. Stroke and chronic obstructive pulmonary disease are the 2nd and 3rd leading causes of death, responsible for approximately 11% and 6% of total deaths respectively.\n",
    "\n"
   ]
  },
  {
   "cell_type": "markdown",
   "id": "aTeM7d4f4Ugv",
   "metadata": {
    "id": "aTeM7d4f4Ugv"
   },
   "source": [
    "![Leading causes of death globally](img/death_infographic.png)\n"
   ]
  },
  {
   "cell_type": "markdown",
   "id": "Y7MPSCE57yx4",
   "metadata": {
    "id": "Y7MPSCE57yx4"
   },
   "source": [
    "# Problem definition\n",
    "# TO DO\n",
    "To see if heart disease causes stroke(and vice versa)\n",
    "\n",
    "To see how to reduce the factors leading to heart disease and stroke \n",
    "\n",
    "to find how people can stay healthier by reducing the risks of getting deadly diseases\n",
    "\n",
    "\n",
    "# TO DO\n",
    "\n",
    "Hence our problem will be a classification problem."
   ]
  },
  {
   "cell_type": "markdown",
   "id": "NSZxnta22ZqM",
   "metadata": {
    "id": "NSZxnta22ZqM"
   },
   "source": [
    "### Importing python libraries/data"
   ]
  },
  {
   "cell_type": "code",
   "execution_count": 1,
   "id": "dc767789",
   "metadata": {
    "id": "dc767789"
   },
   "outputs": [],
   "source": [
    "# Basic Libraries\n",
    "import numpy as np\n",
    "import pandas as pd\n",
    "import seaborn as sb\n",
    "import matplotlib.pyplot as plt \n",
    "sb.set() "
   ]
  },
  {
   "cell_type": "code",
   "execution_count": 2,
   "id": "65f0709b",
   "metadata": {
    "colab": {
     "base_uri": "https://localhost:8080/",
     "height": 329
    },
    "id": "65f0709b",
    "outputId": "1c6c4713-aca2-40e7-92f4-ed75d407e26a"
   },
   "outputs": [
    {
     "data": {
      "text/html": [
       "<div>\n",
       "<style scoped>\n",
       "    .dataframe tbody tr th:only-of-type {\n",
       "        vertical-align: middle;\n",
       "    }\n",
       "\n",
       "    .dataframe tbody tr th {\n",
       "        vertical-align: top;\n",
       "    }\n",
       "\n",
       "    .dataframe thead th {\n",
       "        text-align: right;\n",
       "    }\n",
       "</style>\n",
       "<table border=\"1\" class=\"dataframe\">\n",
       "  <thead>\n",
       "    <tr style=\"text-align: right;\">\n",
       "      <th></th>\n",
       "      <th>id</th>\n",
       "      <th>age</th>\n",
       "      <th>gender</th>\n",
       "      <th>height</th>\n",
       "      <th>weight</th>\n",
       "      <th>ap_hi</th>\n",
       "      <th>ap_lo</th>\n",
       "      <th>cholesterol</th>\n",
       "      <th>gluc</th>\n",
       "      <th>smoke</th>\n",
       "      <th>alco</th>\n",
       "      <th>active</th>\n",
       "      <th>cardio</th>\n",
       "    </tr>\n",
       "  </thead>\n",
       "  <tbody>\n",
       "    <tr>\n",
       "      <th>0</th>\n",
       "      <td>0</td>\n",
       "      <td>18393</td>\n",
       "      <td>2</td>\n",
       "      <td>168</td>\n",
       "      <td>62.0</td>\n",
       "      <td>110</td>\n",
       "      <td>80</td>\n",
       "      <td>1</td>\n",
       "      <td>1</td>\n",
       "      <td>0</td>\n",
       "      <td>0</td>\n",
       "      <td>1</td>\n",
       "      <td>0</td>\n",
       "    </tr>\n",
       "    <tr>\n",
       "      <th>1</th>\n",
       "      <td>1</td>\n",
       "      <td>20228</td>\n",
       "      <td>1</td>\n",
       "      <td>156</td>\n",
       "      <td>85.0</td>\n",
       "      <td>140</td>\n",
       "      <td>90</td>\n",
       "      <td>3</td>\n",
       "      <td>1</td>\n",
       "      <td>0</td>\n",
       "      <td>0</td>\n",
       "      <td>1</td>\n",
       "      <td>1</td>\n",
       "    </tr>\n",
       "    <tr>\n",
       "      <th>2</th>\n",
       "      <td>2</td>\n",
       "      <td>18857</td>\n",
       "      <td>1</td>\n",
       "      <td>165</td>\n",
       "      <td>64.0</td>\n",
       "      <td>130</td>\n",
       "      <td>70</td>\n",
       "      <td>3</td>\n",
       "      <td>1</td>\n",
       "      <td>0</td>\n",
       "      <td>0</td>\n",
       "      <td>0</td>\n",
       "      <td>1</td>\n",
       "    </tr>\n",
       "    <tr>\n",
       "      <th>3</th>\n",
       "      <td>3</td>\n",
       "      <td>17623</td>\n",
       "      <td>2</td>\n",
       "      <td>169</td>\n",
       "      <td>82.0</td>\n",
       "      <td>150</td>\n",
       "      <td>100</td>\n",
       "      <td>1</td>\n",
       "      <td>1</td>\n",
       "      <td>0</td>\n",
       "      <td>0</td>\n",
       "      <td>1</td>\n",
       "      <td>1</td>\n",
       "    </tr>\n",
       "    <tr>\n",
       "      <th>4</th>\n",
       "      <td>4</td>\n",
       "      <td>17474</td>\n",
       "      <td>1</td>\n",
       "      <td>156</td>\n",
       "      <td>56.0</td>\n",
       "      <td>100</td>\n",
       "      <td>60</td>\n",
       "      <td>1</td>\n",
       "      <td>1</td>\n",
       "      <td>0</td>\n",
       "      <td>0</td>\n",
       "      <td>0</td>\n",
       "      <td>0</td>\n",
       "    </tr>\n",
       "  </tbody>\n",
       "</table>\n",
       "</div>"
      ],
      "text/plain": [
       "   id    age  gender  height  weight  ap_hi  ap_lo  cholesterol  gluc  smoke  \\\n",
       "0   0  18393       2     168    62.0    110     80            1     1      0   \n",
       "1   1  20228       1     156    85.0    140     90            3     1      0   \n",
       "2   2  18857       1     165    64.0    130     70            3     1      0   \n",
       "3   3  17623       2     169    82.0    150    100            1     1      0   \n",
       "4   4  17474       1     156    56.0    100     60            1     1      0   \n",
       "\n",
       "   alco  active  cardio  \n",
       "0     0       1       0  \n",
       "1     0       1       1  \n",
       "2     0       0       1  \n",
       "3     0       1       1  \n",
       "4     0       0       0  "
      ]
     },
     "execution_count": 2,
     "metadata": {},
     "output_type": "execute_result"
    }
   ],
   "source": [
    "data = pd.read_csv(\"cardio.csv\", sep=';')\n",
    "data.head()"
   ]
  },
  {
   "cell_type": "code",
   "execution_count": 3,
   "id": "4ffe7d36",
   "metadata": {
    "colab": {
     "base_uri": "https://localhost:8080/",
     "height": 166
    },
    "id": "4ffe7d36",
    "outputId": "a8f43611-f273-45c5-852a-dd9e99556f81"
   },
   "outputs": [
    {
     "name": "stdout",
     "output_type": "stream",
     "text": [
      "<class 'pandas.core.frame.DataFrame'>\n",
      "RangeIndex: 70000 entries, 0 to 69999\n",
      "Data columns (total 13 columns):\n",
      " #   Column       Non-Null Count  Dtype  \n",
      "---  ------       --------------  -----  \n",
      " 0   id           70000 non-null  int64  \n",
      " 1   age          70000 non-null  int64  \n",
      " 2   gender       70000 non-null  int64  \n",
      " 3   height       70000 non-null  int64  \n",
      " 4   weight       70000 non-null  float64\n",
      " 5   ap_hi        70000 non-null  int64  \n",
      " 6   ap_lo        70000 non-null  int64  \n",
      " 7   cholesterol  70000 non-null  int64  \n",
      " 8   gluc         70000 non-null  int64  \n",
      " 9   smoke        70000 non-null  int64  \n",
      " 10  alco         70000 non-null  int64  \n",
      " 11  active       70000 non-null  int64  \n",
      " 12  cardio       70000 non-null  int64  \n",
      "dtypes: float64(1), int64(12)\n",
      "memory usage: 6.9 MB\n"
     ]
    }
   ],
   "source": [
    "data.info()"
   ]
  },
  {
   "cell_type": "markdown",
   "id": "SCjx2JRz1DqV",
   "metadata": {
    "id": "SCjx2JRz1DqV"
   },
   "source": [
    "# Cleaning of data"
   ]
  },
  {
   "cell_type": "markdown",
   "id": "tHjfWXIAXstK",
   "metadata": {
    "id": "tHjfWXIAXstK"
   },
   "source": [
    "The dataset contains information about patients doing cardiovascular disease examination."
   ]
  },
  {
   "cell_type": "markdown",
   "id": "68734174",
   "metadata": {
    "id": "68734174"
   },
   "source": [
    "From the data, we see that there are no null values\n",
    "\n",
    "The description of the columns are as follows:\n",
    "\n",
    "Column | Description | Info\n",
    ":-|:-|:-\n",
    "id| Patient ID number    \n",
    "age| Age of the patient |(in days)   \n",
    "gender| Gender of the patient| (1 - women, 2 - men)     \n",
    "height| Height of the patient| (in cm)        \n",
    "ap_hi| Systolic blood pressure      \n",
    "ap_lo| Diastolic blood pressure     \n",
    "cholesterol| cholestrol category| (1: normal, 2: above normal, 3: well above normal)       \n",
    "gluc| glucose category| (1: normal, 2: above normal, 3: well above normal)      \n",
    "smoke| Whether patient smoke| (0: Non-smoker, 1: Smoker)   \n",
    "alco| Whether patient drinks alcohol| (0: Non-drinker, 1: Drinker)    \n",
    "active| Whether patient is active in exercising| (0: Non-active, 1: Active) \n",
    "cardio| Presence/Absence of cardiovascular disase| (0: Absence, 1: Presence)"
   ]
  },
  {
   "cell_type": "code",
   "execution_count": 4,
   "id": "f3756e44",
   "metadata": {
    "colab": {
     "base_uri": "https://localhost:8080/",
     "height": 364
    },
    "id": "f3756e44",
    "outputId": "b0355554-327a-4ee5-f867-d5816bf6379b",
    "scrolled": true
   },
   "outputs": [
    {
     "data": {
      "text/html": [
       "<div>\n",
       "<style scoped>\n",
       "    .dataframe tbody tr th:only-of-type {\n",
       "        vertical-align: middle;\n",
       "    }\n",
       "\n",
       "    .dataframe tbody tr th {\n",
       "        vertical-align: top;\n",
       "    }\n",
       "\n",
       "    .dataframe thead th {\n",
       "        text-align: right;\n",
       "    }\n",
       "</style>\n",
       "<table border=\"1\" class=\"dataframe\">\n",
       "  <thead>\n",
       "    <tr style=\"text-align: right;\">\n",
       "      <th></th>\n",
       "      <th>id</th>\n",
       "      <th>age</th>\n",
       "      <th>gender</th>\n",
       "      <th>height</th>\n",
       "      <th>weight</th>\n",
       "      <th>ap_hi</th>\n",
       "      <th>ap_lo</th>\n",
       "      <th>cholesterol</th>\n",
       "      <th>gluc</th>\n",
       "      <th>smoke</th>\n",
       "      <th>alco</th>\n",
       "      <th>active</th>\n",
       "      <th>cardio</th>\n",
       "    </tr>\n",
       "  </thead>\n",
       "  <tbody>\n",
       "    <tr>\n",
       "      <th>count</th>\n",
       "      <td>70000.000000</td>\n",
       "      <td>70000.000000</td>\n",
       "      <td>70000.000000</td>\n",
       "      <td>70000.000000</td>\n",
       "      <td>70000.000000</td>\n",
       "      <td>70000.000000</td>\n",
       "      <td>70000.000000</td>\n",
       "      <td>70000.000000</td>\n",
       "      <td>70000.000000</td>\n",
       "      <td>70000.000000</td>\n",
       "      <td>70000.000000</td>\n",
       "      <td>70000.000000</td>\n",
       "      <td>70000.000000</td>\n",
       "    </tr>\n",
       "    <tr>\n",
       "      <th>mean</th>\n",
       "      <td>49972.419900</td>\n",
       "      <td>19468.865814</td>\n",
       "      <td>1.349571</td>\n",
       "      <td>164.359229</td>\n",
       "      <td>74.205690</td>\n",
       "      <td>128.817286</td>\n",
       "      <td>96.630414</td>\n",
       "      <td>1.366871</td>\n",
       "      <td>1.226457</td>\n",
       "      <td>0.088129</td>\n",
       "      <td>0.053771</td>\n",
       "      <td>0.803729</td>\n",
       "      <td>0.499700</td>\n",
       "    </tr>\n",
       "    <tr>\n",
       "      <th>std</th>\n",
       "      <td>28851.302323</td>\n",
       "      <td>2467.251667</td>\n",
       "      <td>0.476838</td>\n",
       "      <td>8.210126</td>\n",
       "      <td>14.395757</td>\n",
       "      <td>154.011419</td>\n",
       "      <td>188.472530</td>\n",
       "      <td>0.680250</td>\n",
       "      <td>0.572270</td>\n",
       "      <td>0.283484</td>\n",
       "      <td>0.225568</td>\n",
       "      <td>0.397179</td>\n",
       "      <td>0.500003</td>\n",
       "    </tr>\n",
       "    <tr>\n",
       "      <th>min</th>\n",
       "      <td>0.000000</td>\n",
       "      <td>10798.000000</td>\n",
       "      <td>1.000000</td>\n",
       "      <td>55.000000</td>\n",
       "      <td>10.000000</td>\n",
       "      <td>-150.000000</td>\n",
       "      <td>-70.000000</td>\n",
       "      <td>1.000000</td>\n",
       "      <td>1.000000</td>\n",
       "      <td>0.000000</td>\n",
       "      <td>0.000000</td>\n",
       "      <td>0.000000</td>\n",
       "      <td>0.000000</td>\n",
       "    </tr>\n",
       "    <tr>\n",
       "      <th>25%</th>\n",
       "      <td>25006.750000</td>\n",
       "      <td>17664.000000</td>\n",
       "      <td>1.000000</td>\n",
       "      <td>159.000000</td>\n",
       "      <td>65.000000</td>\n",
       "      <td>120.000000</td>\n",
       "      <td>80.000000</td>\n",
       "      <td>1.000000</td>\n",
       "      <td>1.000000</td>\n",
       "      <td>0.000000</td>\n",
       "      <td>0.000000</td>\n",
       "      <td>1.000000</td>\n",
       "      <td>0.000000</td>\n",
       "    </tr>\n",
       "    <tr>\n",
       "      <th>50%</th>\n",
       "      <td>50001.500000</td>\n",
       "      <td>19703.000000</td>\n",
       "      <td>1.000000</td>\n",
       "      <td>165.000000</td>\n",
       "      <td>72.000000</td>\n",
       "      <td>120.000000</td>\n",
       "      <td>80.000000</td>\n",
       "      <td>1.000000</td>\n",
       "      <td>1.000000</td>\n",
       "      <td>0.000000</td>\n",
       "      <td>0.000000</td>\n",
       "      <td>1.000000</td>\n",
       "      <td>0.000000</td>\n",
       "    </tr>\n",
       "    <tr>\n",
       "      <th>75%</th>\n",
       "      <td>74889.250000</td>\n",
       "      <td>21327.000000</td>\n",
       "      <td>2.000000</td>\n",
       "      <td>170.000000</td>\n",
       "      <td>82.000000</td>\n",
       "      <td>140.000000</td>\n",
       "      <td>90.000000</td>\n",
       "      <td>2.000000</td>\n",
       "      <td>1.000000</td>\n",
       "      <td>0.000000</td>\n",
       "      <td>0.000000</td>\n",
       "      <td>1.000000</td>\n",
       "      <td>1.000000</td>\n",
       "    </tr>\n",
       "    <tr>\n",
       "      <th>max</th>\n",
       "      <td>99999.000000</td>\n",
       "      <td>23713.000000</td>\n",
       "      <td>2.000000</td>\n",
       "      <td>250.000000</td>\n",
       "      <td>200.000000</td>\n",
       "      <td>16020.000000</td>\n",
       "      <td>11000.000000</td>\n",
       "      <td>3.000000</td>\n",
       "      <td>3.000000</td>\n",
       "      <td>1.000000</td>\n",
       "      <td>1.000000</td>\n",
       "      <td>1.000000</td>\n",
       "      <td>1.000000</td>\n",
       "    </tr>\n",
       "  </tbody>\n",
       "</table>\n",
       "</div>"
      ],
      "text/plain": [
       "                 id           age        gender        height        weight  \\\n",
       "count  70000.000000  70000.000000  70000.000000  70000.000000  70000.000000   \n",
       "mean   49972.419900  19468.865814      1.349571    164.359229     74.205690   \n",
       "std    28851.302323   2467.251667      0.476838      8.210126     14.395757   \n",
       "min        0.000000  10798.000000      1.000000     55.000000     10.000000   \n",
       "25%    25006.750000  17664.000000      1.000000    159.000000     65.000000   \n",
       "50%    50001.500000  19703.000000      1.000000    165.000000     72.000000   \n",
       "75%    74889.250000  21327.000000      2.000000    170.000000     82.000000   \n",
       "max    99999.000000  23713.000000      2.000000    250.000000    200.000000   \n",
       "\n",
       "              ap_hi         ap_lo   cholesterol          gluc         smoke  \\\n",
       "count  70000.000000  70000.000000  70000.000000  70000.000000  70000.000000   \n",
       "mean     128.817286     96.630414      1.366871      1.226457      0.088129   \n",
       "std      154.011419    188.472530      0.680250      0.572270      0.283484   \n",
       "min     -150.000000    -70.000000      1.000000      1.000000      0.000000   \n",
       "25%      120.000000     80.000000      1.000000      1.000000      0.000000   \n",
       "50%      120.000000     80.000000      1.000000      1.000000      0.000000   \n",
       "75%      140.000000     90.000000      2.000000      1.000000      0.000000   \n",
       "max    16020.000000  11000.000000      3.000000      3.000000      1.000000   \n",
       "\n",
       "               alco        active        cardio  \n",
       "count  70000.000000  70000.000000  70000.000000  \n",
       "mean       0.053771      0.803729      0.499700  \n",
       "std        0.225568      0.397179      0.500003  \n",
       "min        0.000000      0.000000      0.000000  \n",
       "25%        0.000000      1.000000      0.000000  \n",
       "50%        0.000000      1.000000      0.000000  \n",
       "75%        0.000000      1.000000      1.000000  \n",
       "max        1.000000      1.000000      1.000000  "
      ]
     },
     "execution_count": 4,
     "metadata": {},
     "output_type": "execute_result"
    }
   ],
   "source": [
    "data.describe()"
   ]
  },
  {
   "cell_type": "markdown",
   "id": "082c25c6",
   "metadata": {
    "id": "082c25c6"
   },
   "source": [
    "### Observations\n",
    "With 70000 data points, the dataset has a sufficient number of data points. Generally the dataset looks fine.\n",
    "\n",
    "However, there still a few of issues with the dataset:\n",
    "\n",
    "* min and max height values may be unrealistic\n",
    "    * 55cm and 250cm\n",
    "* min and max weight values may be unrealistic\n",
    "    * 10kg and 200kg\n",
    "* Systolic blood pressure(ap_hi) and Diastolic blood pressure(ap_lo) have negative values (not possible) and unrealisticly high max values.\n",
    "    * Normal Systolic blood pressure(ap_hi) should be around 120 \n",
    "        *  However it is between 150mmHg and 16020mmHg\n",
    "    * Normal Diastolic blood pressure(ap_lo) should be around 80\n",
    "        *  However it is between 70mmHg and 11000mmHg\n",
    "\n"
   ]
  },
  {
   "cell_type": "markdown",
   "id": "8fca852e",
   "metadata": {},
   "source": [
    "### Other steps \n",
    "In order to match the variables in the cardio dataset with our stroke dataset subsequently, we must also do the following:\n",
    "\n",
    "* Convert age from days to years\n",
    "* Combine height and weight into a new BMI column\n",
    "* Combine ap_hi and ap_lo into a new hypertension column\n",
    "* Drop columns that will not be used\n",
    "\n",
    "\n"
   ]
  },
  {
   "cell_type": "markdown",
   "id": "df4ef630",
   "metadata": {
    "id": "df4ef630"
   },
   "source": [
    "---\n",
    "### Removing outliers from height, weight, ap_hi, ap_lo columns\n",
    "\n",
    "We assume that 5% of the dataset are outliers, and remove the entries that lie in the top 2.5% and bottom 2.5%, this will remove the unrealistic min and max values as well\n",
    "\n",
    "Note: We will not consider outliers for age, as min age = 10798 days = 29 years, while max age = 23713 days = 64 years, which are realistic values"
   ]
  },
  {
   "cell_type": "code",
   "execution_count": 5,
   "id": "fc15ec7b",
   "metadata": {
    "colab": {
     "base_uri": "https://localhost:8080/"
    },
    "id": "fc15ec7b",
    "outputId": "0e78605c-d4de-4d03-d6a8-27f4ca166467"
   },
   "outputs": [],
   "source": [
    "height_outliers = data[(data['height'] > data['height'].quantile(0.975)) | \n",
    "                  (data['height'] < data['height'].quantile(0.025))].index\n",
    "\n",
    "weight_outliers = data[(data['weight'] > data['weight'].quantile(0.975)) | \n",
    "                  (data['weight'] < data['weight'].quantile(0.025))].index\n",
    "\n",
    "aphi_outliers   = data[(data['ap_hi'] > data['ap_hi'].quantile(0.975)) | \n",
    "                  (data['ap_hi'] < data['ap_hi'].quantile(0.025))].index\n",
    "\n",
    "aplo_outliers   = data[(data['ap_lo'] > data['ap_lo'].quantile(0.975)) | \n",
    "                  (data['ap_lo'] < data['ap_lo'].quantile(0.025))].index"
   ]
  },
  {
   "cell_type": "code",
   "execution_count": 6,
   "id": "424eb657",
   "metadata": {},
   "outputs": [
    {
     "data": {
      "text/plain": [
       "8906"
      ]
     },
     "execution_count": 6,
     "metadata": {},
     "output_type": "execute_result"
    }
   ],
   "source": [
    "toremove = set(list(height_outliers) + list(weight_outliers) + list(aphi_outliers) + list(aplo_outliers))\n",
    "len(toremove)"
   ]
  },
  {
   "cell_type": "code",
   "execution_count": 7,
   "id": "a1cc7b03",
   "metadata": {},
   "outputs": [],
   "source": [
    "data.drop(toremove, inplace=True)"
   ]
  },
  {
   "cell_type": "code",
   "execution_count": 8,
   "id": "37087226",
   "metadata": {},
   "outputs": [
    {
     "data": {
      "text/html": [
       "<div>\n",
       "<style scoped>\n",
       "    .dataframe tbody tr th:only-of-type {\n",
       "        vertical-align: middle;\n",
       "    }\n",
       "\n",
       "    .dataframe tbody tr th {\n",
       "        vertical-align: top;\n",
       "    }\n",
       "\n",
       "    .dataframe thead th {\n",
       "        text-align: right;\n",
       "    }\n",
       "</style>\n",
       "<table border=\"1\" class=\"dataframe\">\n",
       "  <thead>\n",
       "    <tr style=\"text-align: right;\">\n",
       "      <th></th>\n",
       "      <th>id</th>\n",
       "      <th>age</th>\n",
       "      <th>gender</th>\n",
       "      <th>height</th>\n",
       "      <th>weight</th>\n",
       "      <th>ap_hi</th>\n",
       "      <th>ap_lo</th>\n",
       "      <th>cholesterol</th>\n",
       "      <th>gluc</th>\n",
       "      <th>smoke</th>\n",
       "      <th>alco</th>\n",
       "      <th>active</th>\n",
       "      <th>cardio</th>\n",
       "    </tr>\n",
       "  </thead>\n",
       "  <tbody>\n",
       "    <tr>\n",
       "      <th>count</th>\n",
       "      <td>61094.000000</td>\n",
       "      <td>61094.000000</td>\n",
       "      <td>61094.000000</td>\n",
       "      <td>61094.000000</td>\n",
       "      <td>61094.000000</td>\n",
       "      <td>61094.000000</td>\n",
       "      <td>61094.000000</td>\n",
       "      <td>61094.000000</td>\n",
       "      <td>61094.000000</td>\n",
       "      <td>61094.000000</td>\n",
       "      <td>61094.000000</td>\n",
       "      <td>61094.000000</td>\n",
       "      <td>61094.000000</td>\n",
       "    </tr>\n",
       "    <tr>\n",
       "      <th>mean</th>\n",
       "      <td>49885.960536</td>\n",
       "      <td>19476.633041</td>\n",
       "      <td>1.347334</td>\n",
       "      <td>164.538645</td>\n",
       "      <td>73.515243</td>\n",
       "      <td>126.149736</td>\n",
       "      <td>81.148558</td>\n",
       "      <td>1.354356</td>\n",
       "      <td>1.220807</td>\n",
       "      <td>0.085868</td>\n",
       "      <td>0.052231</td>\n",
       "      <td>0.803500</td>\n",
       "      <td>0.491685</td>\n",
       "    </tr>\n",
       "    <tr>\n",
       "      <th>std</th>\n",
       "      <td>28846.600883</td>\n",
       "      <td>2459.569651</td>\n",
       "      <td>0.476127</td>\n",
       "      <td>6.843466</td>\n",
       "      <td>11.847502</td>\n",
       "      <td>14.302501</td>\n",
       "      <td>8.325156</td>\n",
       "      <td>0.672474</td>\n",
       "      <td>0.567816</td>\n",
       "      <td>0.280171</td>\n",
       "      <td>0.222494</td>\n",
       "      <td>0.397355</td>\n",
       "      <td>0.499935</td>\n",
       "    </tr>\n",
       "    <tr>\n",
       "      <th>min</th>\n",
       "      <td>0.000000</td>\n",
       "      <td>10798.000000</td>\n",
       "      <td>1.000000</td>\n",
       "      <td>150.000000</td>\n",
       "      <td>51.000000</td>\n",
       "      <td>100.000000</td>\n",
       "      <td>60.000000</td>\n",
       "      <td>1.000000</td>\n",
       "      <td>1.000000</td>\n",
       "      <td>0.000000</td>\n",
       "      <td>0.000000</td>\n",
       "      <td>0.000000</td>\n",
       "      <td>0.000000</td>\n",
       "    </tr>\n",
       "    <tr>\n",
       "      <th>25%</th>\n",
       "      <td>24853.250000</td>\n",
       "      <td>17692.250000</td>\n",
       "      <td>1.000000</td>\n",
       "      <td>160.000000</td>\n",
       "      <td>65.000000</td>\n",
       "      <td>120.000000</td>\n",
       "      <td>80.000000</td>\n",
       "      <td>1.000000</td>\n",
       "      <td>1.000000</td>\n",
       "      <td>0.000000</td>\n",
       "      <td>0.000000</td>\n",
       "      <td>1.000000</td>\n",
       "      <td>0.000000</td>\n",
       "    </tr>\n",
       "    <tr>\n",
       "      <th>50%</th>\n",
       "      <td>49887.500000</td>\n",
       "      <td>19708.000000</td>\n",
       "      <td>1.000000</td>\n",
       "      <td>165.000000</td>\n",
       "      <td>72.000000</td>\n",
       "      <td>120.000000</td>\n",
       "      <td>80.000000</td>\n",
       "      <td>1.000000</td>\n",
       "      <td>1.000000</td>\n",
       "      <td>0.000000</td>\n",
       "      <td>0.000000</td>\n",
       "      <td>1.000000</td>\n",
       "      <td>0.000000</td>\n",
       "    </tr>\n",
       "    <tr>\n",
       "      <th>75%</th>\n",
       "      <td>74738.500000</td>\n",
       "      <td>21327.000000</td>\n",
       "      <td>2.000000</td>\n",
       "      <td>169.000000</td>\n",
       "      <td>81.000000</td>\n",
       "      <td>140.000000</td>\n",
       "      <td>90.000000</td>\n",
       "      <td>1.000000</td>\n",
       "      <td>1.000000</td>\n",
       "      <td>0.000000</td>\n",
       "      <td>0.000000</td>\n",
       "      <td>1.000000</td>\n",
       "      <td>1.000000</td>\n",
       "    </tr>\n",
       "    <tr>\n",
       "      <th>max</th>\n",
       "      <td>99999.000000</td>\n",
       "      <td>23713.000000</td>\n",
       "      <td>2.000000</td>\n",
       "      <td>180.000000</td>\n",
       "      <td>108.000000</td>\n",
       "      <td>170.000000</td>\n",
       "      <td>100.000000</td>\n",
       "      <td>3.000000</td>\n",
       "      <td>3.000000</td>\n",
       "      <td>1.000000</td>\n",
       "      <td>1.000000</td>\n",
       "      <td>1.000000</td>\n",
       "      <td>1.000000</td>\n",
       "    </tr>\n",
       "  </tbody>\n",
       "</table>\n",
       "</div>"
      ],
      "text/plain": [
       "                 id           age        gender        height        weight  \\\n",
       "count  61094.000000  61094.000000  61094.000000  61094.000000  61094.000000   \n",
       "mean   49885.960536  19476.633041      1.347334    164.538645     73.515243   \n",
       "std    28846.600883   2459.569651      0.476127      6.843466     11.847502   \n",
       "min        0.000000  10798.000000      1.000000    150.000000     51.000000   \n",
       "25%    24853.250000  17692.250000      1.000000    160.000000     65.000000   \n",
       "50%    49887.500000  19708.000000      1.000000    165.000000     72.000000   \n",
       "75%    74738.500000  21327.000000      2.000000    169.000000     81.000000   \n",
       "max    99999.000000  23713.000000      2.000000    180.000000    108.000000   \n",
       "\n",
       "              ap_hi         ap_lo   cholesterol          gluc         smoke  \\\n",
       "count  61094.000000  61094.000000  61094.000000  61094.000000  61094.000000   \n",
       "mean     126.149736     81.148558      1.354356      1.220807      0.085868   \n",
       "std       14.302501      8.325156      0.672474      0.567816      0.280171   \n",
       "min      100.000000     60.000000      1.000000      1.000000      0.000000   \n",
       "25%      120.000000     80.000000      1.000000      1.000000      0.000000   \n",
       "50%      120.000000     80.000000      1.000000      1.000000      0.000000   \n",
       "75%      140.000000     90.000000      1.000000      1.000000      0.000000   \n",
       "max      170.000000    100.000000      3.000000      3.000000      1.000000   \n",
       "\n",
       "               alco        active        cardio  \n",
       "count  61094.000000  61094.000000  61094.000000  \n",
       "mean       0.052231      0.803500      0.491685  \n",
       "std        0.222494      0.397355      0.499935  \n",
       "min        0.000000      0.000000      0.000000  \n",
       "25%        0.000000      1.000000      0.000000  \n",
       "50%        0.000000      1.000000      0.000000  \n",
       "75%        0.000000      1.000000      1.000000  \n",
       "max        1.000000      1.000000      1.000000  "
      ]
     },
     "execution_count": 8,
     "metadata": {},
     "output_type": "execute_result"
    }
   ],
   "source": [
    "# Check that the min and max values of the columns have changed\n",
    "# New total count should be 70000 - 8906 = 61094\n",
    "\n",
    "data.describe()"
   ]
  },
  {
   "cell_type": "markdown",
   "id": "8da2f66f",
   "metadata": {},
   "source": [
    "--- \n",
    "### Removing invalid ap_lo and ap_hi entries\n",
    "Even though we already removed the outliers, we still need to check for all the entries that the systolic blood pressure (ap_hi) cannot be lower than the diastolic blood pressure (ap_lo)"
   ]
  },
  {
   "cell_type": "code",
   "execution_count": 9,
   "id": "e93ce9df",
   "metadata": {},
   "outputs": [
    {
     "data": {
      "text/plain": [
       "Int64Index([], dtype='int64')"
      ]
     },
     "execution_count": 9,
     "metadata": {},
     "output_type": "execute_result"
    }
   ],
   "source": [
    "invalid = data[(data['ap_hi'] < data['ap_lo'])].index\n",
    "invalid"
   ]
  },
  {
   "cell_type": "markdown",
   "id": "e54d2cd5",
   "metadata": {
    "id": "e54d2cd5"
   },
   "source": [
    "We see that by removing the outliers, the invalid entries have also been removed as well. No need for additional work to be done\n",
    "\n",
    "---\n",
    "\n",
    "Next, we perform the additional steps in order to match our stroke dataset\n",
    "\n",
    "### To convert age columns from days to years"
   ]
  },
  {
   "cell_type": "code",
   "execution_count": 10,
   "id": "469d7508",
   "metadata": {
    "id": "469d7508"
   },
   "outputs": [],
   "source": [
    "data['age'] = data['age'].apply(lambda x: x//365)"
   ]
  },
  {
   "cell_type": "code",
   "execution_count": 11,
   "id": "e0fe09ea",
   "metadata": {
    "colab": {
     "base_uri": "https://localhost:8080/",
     "height": 364
    },
    "id": "e0fe09ea",
    "outputId": "de6ae9e7-fd71-4d53-9c88-945c05ae54e6",
    "scrolled": true
   },
   "outputs": [
    {
     "data": {
      "text/html": [
       "<div>\n",
       "<style scoped>\n",
       "    .dataframe tbody tr th:only-of-type {\n",
       "        vertical-align: middle;\n",
       "    }\n",
       "\n",
       "    .dataframe tbody tr th {\n",
       "        vertical-align: top;\n",
       "    }\n",
       "\n",
       "    .dataframe thead th {\n",
       "        text-align: right;\n",
       "    }\n",
       "</style>\n",
       "<table border=\"1\" class=\"dataframe\">\n",
       "  <thead>\n",
       "    <tr style=\"text-align: right;\">\n",
       "      <th></th>\n",
       "      <th>id</th>\n",
       "      <th>age</th>\n",
       "      <th>gender</th>\n",
       "      <th>height</th>\n",
       "      <th>weight</th>\n",
       "      <th>ap_hi</th>\n",
       "      <th>ap_lo</th>\n",
       "      <th>cholesterol</th>\n",
       "      <th>gluc</th>\n",
       "      <th>smoke</th>\n",
       "      <th>alco</th>\n",
       "      <th>active</th>\n",
       "      <th>cardio</th>\n",
       "    </tr>\n",
       "  </thead>\n",
       "  <tbody>\n",
       "    <tr>\n",
       "      <th>count</th>\n",
       "      <td>61094.000000</td>\n",
       "      <td>61094.000000</td>\n",
       "      <td>61094.000000</td>\n",
       "      <td>61094.000000</td>\n",
       "      <td>61094.000000</td>\n",
       "      <td>61094.000000</td>\n",
       "      <td>61094.000000</td>\n",
       "      <td>61094.000000</td>\n",
       "      <td>61094.000000</td>\n",
       "      <td>61094.000000</td>\n",
       "      <td>61094.000000</td>\n",
       "      <td>61094.000000</td>\n",
       "      <td>61094.000000</td>\n",
       "    </tr>\n",
       "    <tr>\n",
       "      <th>mean</th>\n",
       "      <td>49885.960536</td>\n",
       "      <td>52.861656</td>\n",
       "      <td>1.347334</td>\n",
       "      <td>164.538645</td>\n",
       "      <td>73.515243</td>\n",
       "      <td>126.149736</td>\n",
       "      <td>81.148558</td>\n",
       "      <td>1.354356</td>\n",
       "      <td>1.220807</td>\n",
       "      <td>0.085868</td>\n",
       "      <td>0.052231</td>\n",
       "      <td>0.803500</td>\n",
       "      <td>0.491685</td>\n",
       "    </tr>\n",
       "    <tr>\n",
       "      <th>std</th>\n",
       "      <td>28846.600883</td>\n",
       "      <td>6.745516</td>\n",
       "      <td>0.476127</td>\n",
       "      <td>6.843466</td>\n",
       "      <td>11.847502</td>\n",
       "      <td>14.302501</td>\n",
       "      <td>8.325156</td>\n",
       "      <td>0.672474</td>\n",
       "      <td>0.567816</td>\n",
       "      <td>0.280171</td>\n",
       "      <td>0.222494</td>\n",
       "      <td>0.397355</td>\n",
       "      <td>0.499935</td>\n",
       "    </tr>\n",
       "    <tr>\n",
       "      <th>min</th>\n",
       "      <td>0.000000</td>\n",
       "      <td>29.000000</td>\n",
       "      <td>1.000000</td>\n",
       "      <td>150.000000</td>\n",
       "      <td>51.000000</td>\n",
       "      <td>100.000000</td>\n",
       "      <td>60.000000</td>\n",
       "      <td>1.000000</td>\n",
       "      <td>1.000000</td>\n",
       "      <td>0.000000</td>\n",
       "      <td>0.000000</td>\n",
       "      <td>0.000000</td>\n",
       "      <td>0.000000</td>\n",
       "    </tr>\n",
       "    <tr>\n",
       "      <th>25%</th>\n",
       "      <td>24853.250000</td>\n",
       "      <td>48.000000</td>\n",
       "      <td>1.000000</td>\n",
       "      <td>160.000000</td>\n",
       "      <td>65.000000</td>\n",
       "      <td>120.000000</td>\n",
       "      <td>80.000000</td>\n",
       "      <td>1.000000</td>\n",
       "      <td>1.000000</td>\n",
       "      <td>0.000000</td>\n",
       "      <td>0.000000</td>\n",
       "      <td>1.000000</td>\n",
       "      <td>0.000000</td>\n",
       "    </tr>\n",
       "    <tr>\n",
       "      <th>50%</th>\n",
       "      <td>49887.500000</td>\n",
       "      <td>53.000000</td>\n",
       "      <td>1.000000</td>\n",
       "      <td>165.000000</td>\n",
       "      <td>72.000000</td>\n",
       "      <td>120.000000</td>\n",
       "      <td>80.000000</td>\n",
       "      <td>1.000000</td>\n",
       "      <td>1.000000</td>\n",
       "      <td>0.000000</td>\n",
       "      <td>0.000000</td>\n",
       "      <td>1.000000</td>\n",
       "      <td>0.000000</td>\n",
       "    </tr>\n",
       "    <tr>\n",
       "      <th>75%</th>\n",
       "      <td>74738.500000</td>\n",
       "      <td>58.000000</td>\n",
       "      <td>2.000000</td>\n",
       "      <td>169.000000</td>\n",
       "      <td>81.000000</td>\n",
       "      <td>140.000000</td>\n",
       "      <td>90.000000</td>\n",
       "      <td>1.000000</td>\n",
       "      <td>1.000000</td>\n",
       "      <td>0.000000</td>\n",
       "      <td>0.000000</td>\n",
       "      <td>1.000000</td>\n",
       "      <td>1.000000</td>\n",
       "    </tr>\n",
       "    <tr>\n",
       "      <th>max</th>\n",
       "      <td>99999.000000</td>\n",
       "      <td>64.000000</td>\n",
       "      <td>2.000000</td>\n",
       "      <td>180.000000</td>\n",
       "      <td>108.000000</td>\n",
       "      <td>170.000000</td>\n",
       "      <td>100.000000</td>\n",
       "      <td>3.000000</td>\n",
       "      <td>3.000000</td>\n",
       "      <td>1.000000</td>\n",
       "      <td>1.000000</td>\n",
       "      <td>1.000000</td>\n",
       "      <td>1.000000</td>\n",
       "    </tr>\n",
       "  </tbody>\n",
       "</table>\n",
       "</div>"
      ],
      "text/plain": [
       "                 id           age        gender        height        weight  \\\n",
       "count  61094.000000  61094.000000  61094.000000  61094.000000  61094.000000   \n",
       "mean   49885.960536     52.861656      1.347334    164.538645     73.515243   \n",
       "std    28846.600883      6.745516      0.476127      6.843466     11.847502   \n",
       "min        0.000000     29.000000      1.000000    150.000000     51.000000   \n",
       "25%    24853.250000     48.000000      1.000000    160.000000     65.000000   \n",
       "50%    49887.500000     53.000000      1.000000    165.000000     72.000000   \n",
       "75%    74738.500000     58.000000      2.000000    169.000000     81.000000   \n",
       "max    99999.000000     64.000000      2.000000    180.000000    108.000000   \n",
       "\n",
       "              ap_hi         ap_lo   cholesterol          gluc         smoke  \\\n",
       "count  61094.000000  61094.000000  61094.000000  61094.000000  61094.000000   \n",
       "mean     126.149736     81.148558      1.354356      1.220807      0.085868   \n",
       "std       14.302501      8.325156      0.672474      0.567816      0.280171   \n",
       "min      100.000000     60.000000      1.000000      1.000000      0.000000   \n",
       "25%      120.000000     80.000000      1.000000      1.000000      0.000000   \n",
       "50%      120.000000     80.000000      1.000000      1.000000      0.000000   \n",
       "75%      140.000000     90.000000      1.000000      1.000000      0.000000   \n",
       "max      170.000000    100.000000      3.000000      3.000000      1.000000   \n",
       "\n",
       "               alco        active        cardio  \n",
       "count  61094.000000  61094.000000  61094.000000  \n",
       "mean       0.052231      0.803500      0.491685  \n",
       "std        0.222494      0.397355      0.499935  \n",
       "min        0.000000      0.000000      0.000000  \n",
       "25%        0.000000      1.000000      0.000000  \n",
       "50%        0.000000      1.000000      0.000000  \n",
       "75%        0.000000      1.000000      1.000000  \n",
       "max        1.000000      1.000000      1.000000  "
      ]
     },
     "execution_count": 11,
     "metadata": {},
     "output_type": "execute_result"
    }
   ],
   "source": [
    "data.describe()"
   ]
  },
  {
   "cell_type": "markdown",
   "id": "897b4c17",
   "metadata": {
    "id": "897b4c17"
   },
   "source": [
    "---\n",
    "\n",
    "### Combining height and weight into a single BMI column\n",
    "In reality, BMI is another good indicator to determine how healthy an individual is. A normal healthy BMI should have a range of 18.5 to 25.\n",
    "\n",
    "Formula for BMI = mass in kg / (height in m) ** 2 "
   ]
  },
  {
   "cell_type": "code",
   "execution_count": 12,
   "id": "8ba609ed",
   "metadata": {
    "id": "8ba609ed",
    "scrolled": true
   },
   "outputs": [],
   "source": [
    "data[\"bmi\"] = data.apply(lambda x: x[\"weight\"] / ((x[\"height\"]/100)*(x[\"height\"]/100) ), axis=1)"
   ]
  },
  {
   "cell_type": "code",
   "execution_count": 13,
   "id": "9f06ea97",
   "metadata": {
    "scrolled": true
   },
   "outputs": [
    {
     "data": {
      "text/html": [
       "<div>\n",
       "<style scoped>\n",
       "    .dataframe tbody tr th:only-of-type {\n",
       "        vertical-align: middle;\n",
       "    }\n",
       "\n",
       "    .dataframe tbody tr th {\n",
       "        vertical-align: top;\n",
       "    }\n",
       "\n",
       "    .dataframe thead th {\n",
       "        text-align: right;\n",
       "    }\n",
       "</style>\n",
       "<table border=\"1\" class=\"dataframe\">\n",
       "  <thead>\n",
       "    <tr style=\"text-align: right;\">\n",
       "      <th></th>\n",
       "      <th>id</th>\n",
       "      <th>age</th>\n",
       "      <th>gender</th>\n",
       "      <th>height</th>\n",
       "      <th>weight</th>\n",
       "      <th>ap_hi</th>\n",
       "      <th>ap_lo</th>\n",
       "      <th>cholesterol</th>\n",
       "      <th>gluc</th>\n",
       "      <th>smoke</th>\n",
       "      <th>alco</th>\n",
       "      <th>active</th>\n",
       "      <th>cardio</th>\n",
       "      <th>bmi</th>\n",
       "    </tr>\n",
       "  </thead>\n",
       "  <tbody>\n",
       "    <tr>\n",
       "      <th>count</th>\n",
       "      <td>61094.000000</td>\n",
       "      <td>61094.000000</td>\n",
       "      <td>61094.000000</td>\n",
       "      <td>61094.000000</td>\n",
       "      <td>61094.000000</td>\n",
       "      <td>61094.000000</td>\n",
       "      <td>61094.000000</td>\n",
       "      <td>61094.000000</td>\n",
       "      <td>61094.000000</td>\n",
       "      <td>61094.000000</td>\n",
       "      <td>61094.000000</td>\n",
       "      <td>61094.000000</td>\n",
       "      <td>61094.000000</td>\n",
       "      <td>61094.000000</td>\n",
       "    </tr>\n",
       "    <tr>\n",
       "      <th>mean</th>\n",
       "      <td>49885.960536</td>\n",
       "      <td>52.861656</td>\n",
       "      <td>1.347334</td>\n",
       "      <td>164.538645</td>\n",
       "      <td>73.515243</td>\n",
       "      <td>126.149736</td>\n",
       "      <td>81.148558</td>\n",
       "      <td>1.354356</td>\n",
       "      <td>1.220807</td>\n",
       "      <td>0.085868</td>\n",
       "      <td>0.052231</td>\n",
       "      <td>0.803500</td>\n",
       "      <td>0.491685</td>\n",
       "      <td>27.206710</td>\n",
       "    </tr>\n",
       "    <tr>\n",
       "      <th>std</th>\n",
       "      <td>28846.600883</td>\n",
       "      <td>6.745516</td>\n",
       "      <td>0.476127</td>\n",
       "      <td>6.843466</td>\n",
       "      <td>11.847502</td>\n",
       "      <td>14.302501</td>\n",
       "      <td>8.325156</td>\n",
       "      <td>0.672474</td>\n",
       "      <td>0.567816</td>\n",
       "      <td>0.280171</td>\n",
       "      <td>0.222494</td>\n",
       "      <td>0.397355</td>\n",
       "      <td>0.499935</td>\n",
       "      <td>4.478431</td>\n",
       "    </tr>\n",
       "    <tr>\n",
       "      <th>min</th>\n",
       "      <td>0.000000</td>\n",
       "      <td>29.000000</td>\n",
       "      <td>1.000000</td>\n",
       "      <td>150.000000</td>\n",
       "      <td>51.000000</td>\n",
       "      <td>100.000000</td>\n",
       "      <td>60.000000</td>\n",
       "      <td>1.000000</td>\n",
       "      <td>1.000000</td>\n",
       "      <td>0.000000</td>\n",
       "      <td>0.000000</td>\n",
       "      <td>0.000000</td>\n",
       "      <td>0.000000</td>\n",
       "      <td>15.740741</td>\n",
       "    </tr>\n",
       "    <tr>\n",
       "      <th>25%</th>\n",
       "      <td>24853.250000</td>\n",
       "      <td>48.000000</td>\n",
       "      <td>1.000000</td>\n",
       "      <td>160.000000</td>\n",
       "      <td>65.000000</td>\n",
       "      <td>120.000000</td>\n",
       "      <td>80.000000</td>\n",
       "      <td>1.000000</td>\n",
       "      <td>1.000000</td>\n",
       "      <td>0.000000</td>\n",
       "      <td>0.000000</td>\n",
       "      <td>1.000000</td>\n",
       "      <td>0.000000</td>\n",
       "      <td>23.875115</td>\n",
       "    </tr>\n",
       "    <tr>\n",
       "      <th>50%</th>\n",
       "      <td>49887.500000</td>\n",
       "      <td>53.000000</td>\n",
       "      <td>1.000000</td>\n",
       "      <td>165.000000</td>\n",
       "      <td>72.000000</td>\n",
       "      <td>120.000000</td>\n",
       "      <td>80.000000</td>\n",
       "      <td>1.000000</td>\n",
       "      <td>1.000000</td>\n",
       "      <td>0.000000</td>\n",
       "      <td>0.000000</td>\n",
       "      <td>1.000000</td>\n",
       "      <td>0.000000</td>\n",
       "      <td>26.259585</td>\n",
       "    </tr>\n",
       "    <tr>\n",
       "      <th>75%</th>\n",
       "      <td>74738.500000</td>\n",
       "      <td>58.000000</td>\n",
       "      <td>2.000000</td>\n",
       "      <td>169.000000</td>\n",
       "      <td>81.000000</td>\n",
       "      <td>140.000000</td>\n",
       "      <td>90.000000</td>\n",
       "      <td>1.000000</td>\n",
       "      <td>1.000000</td>\n",
       "      <td>0.000000</td>\n",
       "      <td>0.000000</td>\n",
       "      <td>1.000000</td>\n",
       "      <td>1.000000</td>\n",
       "      <td>29.760863</td>\n",
       "    </tr>\n",
       "    <tr>\n",
       "      <th>max</th>\n",
       "      <td>99999.000000</td>\n",
       "      <td>64.000000</td>\n",
       "      <td>2.000000</td>\n",
       "      <td>180.000000</td>\n",
       "      <td>108.000000</td>\n",
       "      <td>170.000000</td>\n",
       "      <td>100.000000</td>\n",
       "      <td>3.000000</td>\n",
       "      <td>3.000000</td>\n",
       "      <td>1.000000</td>\n",
       "      <td>1.000000</td>\n",
       "      <td>1.000000</td>\n",
       "      <td>1.000000</td>\n",
       "      <td>48.000000</td>\n",
       "    </tr>\n",
       "  </tbody>\n",
       "</table>\n",
       "</div>"
      ],
      "text/plain": [
       "                 id           age        gender        height        weight  \\\n",
       "count  61094.000000  61094.000000  61094.000000  61094.000000  61094.000000   \n",
       "mean   49885.960536     52.861656      1.347334    164.538645     73.515243   \n",
       "std    28846.600883      6.745516      0.476127      6.843466     11.847502   \n",
       "min        0.000000     29.000000      1.000000    150.000000     51.000000   \n",
       "25%    24853.250000     48.000000      1.000000    160.000000     65.000000   \n",
       "50%    49887.500000     53.000000      1.000000    165.000000     72.000000   \n",
       "75%    74738.500000     58.000000      2.000000    169.000000     81.000000   \n",
       "max    99999.000000     64.000000      2.000000    180.000000    108.000000   \n",
       "\n",
       "              ap_hi         ap_lo   cholesterol          gluc         smoke  \\\n",
       "count  61094.000000  61094.000000  61094.000000  61094.000000  61094.000000   \n",
       "mean     126.149736     81.148558      1.354356      1.220807      0.085868   \n",
       "std       14.302501      8.325156      0.672474      0.567816      0.280171   \n",
       "min      100.000000     60.000000      1.000000      1.000000      0.000000   \n",
       "25%      120.000000     80.000000      1.000000      1.000000      0.000000   \n",
       "50%      120.000000     80.000000      1.000000      1.000000      0.000000   \n",
       "75%      140.000000     90.000000      1.000000      1.000000      0.000000   \n",
       "max      170.000000    100.000000      3.000000      3.000000      1.000000   \n",
       "\n",
       "               alco        active        cardio           bmi  \n",
       "count  61094.000000  61094.000000  61094.000000  61094.000000  \n",
       "mean       0.052231      0.803500      0.491685     27.206710  \n",
       "std        0.222494      0.397355      0.499935      4.478431  \n",
       "min        0.000000      0.000000      0.000000     15.740741  \n",
       "25%        0.000000      1.000000      0.000000     23.875115  \n",
       "50%        0.000000      1.000000      0.000000     26.259585  \n",
       "75%        0.000000      1.000000      1.000000     29.760863  \n",
       "max        1.000000      1.000000      1.000000     48.000000  "
      ]
     },
     "execution_count": 13,
     "metadata": {},
     "output_type": "execute_result"
    }
   ],
   "source": [
    "data.describe()"
   ]
  },
  {
   "cell_type": "markdown",
   "id": "11ce7034",
   "metadata": {},
   "source": [
    "--- \n",
    "### Combining ap_hi and ap_lo into a single hypertension column\n",
    "![title](img/hypertension.png)\n",
    "\n",
    "We will use the above image as reference to determine whether the patient has hypertension.       \n",
    "\n",
    "We notice that the values are being stored as integers, this could be due to the values being rounded when storing the values. Therefore, instead of comparing value >= threshold, we will instead compare value > threshold instead.\n",
    "\n",
    "* Patients with a systolic blood pressure (ap_hi) > 130 will be considered as hypertension.    \n",
    "\n",
    "* Patients with a diastolic blood pressure (ap_lo) > 80 will be considered as hypertension.      "
   ]
  },
  {
   "cell_type": "code",
   "execution_count": 14,
   "id": "2f416f69",
   "metadata": {},
   "outputs": [
    {
     "data": {
      "text/html": [
       "<div>\n",
       "<style scoped>\n",
       "    .dataframe tbody tr th:only-of-type {\n",
       "        vertical-align: middle;\n",
       "    }\n",
       "\n",
       "    .dataframe tbody tr th {\n",
       "        vertical-align: top;\n",
       "    }\n",
       "\n",
       "    .dataframe thead th {\n",
       "        text-align: right;\n",
       "    }\n",
       "</style>\n",
       "<table border=\"1\" class=\"dataframe\">\n",
       "  <thead>\n",
       "    <tr style=\"text-align: right;\">\n",
       "      <th></th>\n",
       "      <th>id</th>\n",
       "      <th>age</th>\n",
       "      <th>gender</th>\n",
       "      <th>height</th>\n",
       "      <th>weight</th>\n",
       "      <th>ap_hi</th>\n",
       "      <th>ap_lo</th>\n",
       "      <th>cholesterol</th>\n",
       "      <th>gluc</th>\n",
       "      <th>smoke</th>\n",
       "      <th>alco</th>\n",
       "      <th>active</th>\n",
       "      <th>cardio</th>\n",
       "      <th>bmi</th>\n",
       "      <th>hypertension</th>\n",
       "    </tr>\n",
       "  </thead>\n",
       "  <tbody>\n",
       "    <tr>\n",
       "      <th>count</th>\n",
       "      <td>61094.000000</td>\n",
       "      <td>61094.000000</td>\n",
       "      <td>61094.000000</td>\n",
       "      <td>61094.000000</td>\n",
       "      <td>61094.000000</td>\n",
       "      <td>61094.000000</td>\n",
       "      <td>61094.000000</td>\n",
       "      <td>61094.000000</td>\n",
       "      <td>61094.000000</td>\n",
       "      <td>61094.000000</td>\n",
       "      <td>61094.000000</td>\n",
       "      <td>61094.000000</td>\n",
       "      <td>61094.000000</td>\n",
       "      <td>61094.000000</td>\n",
       "      <td>61094.000000</td>\n",
       "    </tr>\n",
       "    <tr>\n",
       "      <th>mean</th>\n",
       "      <td>49885.960536</td>\n",
       "      <td>52.861656</td>\n",
       "      <td>1.347334</td>\n",
       "      <td>164.538645</td>\n",
       "      <td>73.515243</td>\n",
       "      <td>126.149736</td>\n",
       "      <td>81.148558</td>\n",
       "      <td>1.354356</td>\n",
       "      <td>1.220807</td>\n",
       "      <td>0.085868</td>\n",
       "      <td>0.052231</td>\n",
       "      <td>0.803500</td>\n",
       "      <td>0.491685</td>\n",
       "      <td>27.206710</td>\n",
       "      <td>0.338102</td>\n",
       "    </tr>\n",
       "    <tr>\n",
       "      <th>std</th>\n",
       "      <td>28846.600883</td>\n",
       "      <td>6.745516</td>\n",
       "      <td>0.476127</td>\n",
       "      <td>6.843466</td>\n",
       "      <td>11.847502</td>\n",
       "      <td>14.302501</td>\n",
       "      <td>8.325156</td>\n",
       "      <td>0.672474</td>\n",
       "      <td>0.567816</td>\n",
       "      <td>0.280171</td>\n",
       "      <td>0.222494</td>\n",
       "      <td>0.397355</td>\n",
       "      <td>0.499935</td>\n",
       "      <td>4.478431</td>\n",
       "      <td>0.473067</td>\n",
       "    </tr>\n",
       "    <tr>\n",
       "      <th>min</th>\n",
       "      <td>0.000000</td>\n",
       "      <td>29.000000</td>\n",
       "      <td>1.000000</td>\n",
       "      <td>150.000000</td>\n",
       "      <td>51.000000</td>\n",
       "      <td>100.000000</td>\n",
       "      <td>60.000000</td>\n",
       "      <td>1.000000</td>\n",
       "      <td>1.000000</td>\n",
       "      <td>0.000000</td>\n",
       "      <td>0.000000</td>\n",
       "      <td>0.000000</td>\n",
       "      <td>0.000000</td>\n",
       "      <td>15.740741</td>\n",
       "      <td>0.000000</td>\n",
       "    </tr>\n",
       "    <tr>\n",
       "      <th>25%</th>\n",
       "      <td>24853.250000</td>\n",
       "      <td>48.000000</td>\n",
       "      <td>1.000000</td>\n",
       "      <td>160.000000</td>\n",
       "      <td>65.000000</td>\n",
       "      <td>120.000000</td>\n",
       "      <td>80.000000</td>\n",
       "      <td>1.000000</td>\n",
       "      <td>1.000000</td>\n",
       "      <td>0.000000</td>\n",
       "      <td>0.000000</td>\n",
       "      <td>1.000000</td>\n",
       "      <td>0.000000</td>\n",
       "      <td>23.875115</td>\n",
       "      <td>0.000000</td>\n",
       "    </tr>\n",
       "    <tr>\n",
       "      <th>50%</th>\n",
       "      <td>49887.500000</td>\n",
       "      <td>53.000000</td>\n",
       "      <td>1.000000</td>\n",
       "      <td>165.000000</td>\n",
       "      <td>72.000000</td>\n",
       "      <td>120.000000</td>\n",
       "      <td>80.000000</td>\n",
       "      <td>1.000000</td>\n",
       "      <td>1.000000</td>\n",
       "      <td>0.000000</td>\n",
       "      <td>0.000000</td>\n",
       "      <td>1.000000</td>\n",
       "      <td>0.000000</td>\n",
       "      <td>26.259585</td>\n",
       "      <td>0.000000</td>\n",
       "    </tr>\n",
       "    <tr>\n",
       "      <th>75%</th>\n",
       "      <td>74738.500000</td>\n",
       "      <td>58.000000</td>\n",
       "      <td>2.000000</td>\n",
       "      <td>169.000000</td>\n",
       "      <td>81.000000</td>\n",
       "      <td>140.000000</td>\n",
       "      <td>90.000000</td>\n",
       "      <td>1.000000</td>\n",
       "      <td>1.000000</td>\n",
       "      <td>0.000000</td>\n",
       "      <td>0.000000</td>\n",
       "      <td>1.000000</td>\n",
       "      <td>1.000000</td>\n",
       "      <td>29.760863</td>\n",
       "      <td>1.000000</td>\n",
       "    </tr>\n",
       "    <tr>\n",
       "      <th>max</th>\n",
       "      <td>99999.000000</td>\n",
       "      <td>64.000000</td>\n",
       "      <td>2.000000</td>\n",
       "      <td>180.000000</td>\n",
       "      <td>108.000000</td>\n",
       "      <td>170.000000</td>\n",
       "      <td>100.000000</td>\n",
       "      <td>3.000000</td>\n",
       "      <td>3.000000</td>\n",
       "      <td>1.000000</td>\n",
       "      <td>1.000000</td>\n",
       "      <td>1.000000</td>\n",
       "      <td>1.000000</td>\n",
       "      <td>48.000000</td>\n",
       "      <td>1.000000</td>\n",
       "    </tr>\n",
       "  </tbody>\n",
       "</table>\n",
       "</div>"
      ],
      "text/plain": [
       "                 id           age        gender        height        weight  \\\n",
       "count  61094.000000  61094.000000  61094.000000  61094.000000  61094.000000   \n",
       "mean   49885.960536     52.861656      1.347334    164.538645     73.515243   \n",
       "std    28846.600883      6.745516      0.476127      6.843466     11.847502   \n",
       "min        0.000000     29.000000      1.000000    150.000000     51.000000   \n",
       "25%    24853.250000     48.000000      1.000000    160.000000     65.000000   \n",
       "50%    49887.500000     53.000000      1.000000    165.000000     72.000000   \n",
       "75%    74738.500000     58.000000      2.000000    169.000000     81.000000   \n",
       "max    99999.000000     64.000000      2.000000    180.000000    108.000000   \n",
       "\n",
       "              ap_hi         ap_lo   cholesterol          gluc         smoke  \\\n",
       "count  61094.000000  61094.000000  61094.000000  61094.000000  61094.000000   \n",
       "mean     126.149736     81.148558      1.354356      1.220807      0.085868   \n",
       "std       14.302501      8.325156      0.672474      0.567816      0.280171   \n",
       "min      100.000000     60.000000      1.000000      1.000000      0.000000   \n",
       "25%      120.000000     80.000000      1.000000      1.000000      0.000000   \n",
       "50%      120.000000     80.000000      1.000000      1.000000      0.000000   \n",
       "75%      140.000000     90.000000      1.000000      1.000000      0.000000   \n",
       "max      170.000000    100.000000      3.000000      3.000000      1.000000   \n",
       "\n",
       "               alco        active        cardio           bmi  hypertension  \n",
       "count  61094.000000  61094.000000  61094.000000  61094.000000  61094.000000  \n",
       "mean       0.052231      0.803500      0.491685     27.206710      0.338102  \n",
       "std        0.222494      0.397355      0.499935      4.478431      0.473067  \n",
       "min        0.000000      0.000000      0.000000     15.740741      0.000000  \n",
       "25%        0.000000      1.000000      0.000000     23.875115      0.000000  \n",
       "50%        0.000000      1.000000      0.000000     26.259585      0.000000  \n",
       "75%        0.000000      1.000000      1.000000     29.760863      1.000000  \n",
       "max        1.000000      1.000000      1.000000     48.000000      1.000000  "
      ]
     },
     "execution_count": 14,
     "metadata": {},
     "output_type": "execute_result"
    }
   ],
   "source": [
    "data[\"hypertension\"] = data.apply(lambda x: 1 if (x['ap_hi'] > 130 or x['ap_lo'] > 80) else 0, axis=1)\n",
    "\n",
    "data.describe()"
   ]
  },
  {
   "cell_type": "markdown",
   "id": "4cf82297",
   "metadata": {},
   "source": [
    "--- \n",
    "### Dropping unnecessary columns\n",
    "Finally, we drop the id column as it is not needed in our model, height and weight columns since we already have a BMI column, ap_hi and ap_lo columns since we already have a hypertension column. \n",
    "\n",
    "Additionally, our stroke dataset does not contain cholesterol, alcohol or active variables, hence we will be dropping them as well."
   ]
  },
  {
   "cell_type": "code",
   "execution_count": 15,
   "id": "56c30c88",
   "metadata": {},
   "outputs": [
    {
     "data": {
      "text/html": [
       "<div>\n",
       "<style scoped>\n",
       "    .dataframe tbody tr th:only-of-type {\n",
       "        vertical-align: middle;\n",
       "    }\n",
       "\n",
       "    .dataframe tbody tr th {\n",
       "        vertical-align: top;\n",
       "    }\n",
       "\n",
       "    .dataframe thead th {\n",
       "        text-align: right;\n",
       "    }\n",
       "</style>\n",
       "<table border=\"1\" class=\"dataframe\">\n",
       "  <thead>\n",
       "    <tr style=\"text-align: right;\">\n",
       "      <th></th>\n",
       "      <th>age</th>\n",
       "      <th>gender</th>\n",
       "      <th>gluc</th>\n",
       "      <th>smoke</th>\n",
       "      <th>cardio</th>\n",
       "      <th>bmi</th>\n",
       "      <th>hypertension</th>\n",
       "    </tr>\n",
       "  </thead>\n",
       "  <tbody>\n",
       "    <tr>\n",
       "      <th>count</th>\n",
       "      <td>61094.000000</td>\n",
       "      <td>61094.000000</td>\n",
       "      <td>61094.000000</td>\n",
       "      <td>61094.000000</td>\n",
       "      <td>61094.000000</td>\n",
       "      <td>61094.000000</td>\n",
       "      <td>61094.000000</td>\n",
       "    </tr>\n",
       "    <tr>\n",
       "      <th>mean</th>\n",
       "      <td>52.861656</td>\n",
       "      <td>1.347334</td>\n",
       "      <td>1.220807</td>\n",
       "      <td>0.085868</td>\n",
       "      <td>0.491685</td>\n",
       "      <td>27.206710</td>\n",
       "      <td>0.338102</td>\n",
       "    </tr>\n",
       "    <tr>\n",
       "      <th>std</th>\n",
       "      <td>6.745516</td>\n",
       "      <td>0.476127</td>\n",
       "      <td>0.567816</td>\n",
       "      <td>0.280171</td>\n",
       "      <td>0.499935</td>\n",
       "      <td>4.478431</td>\n",
       "      <td>0.473067</td>\n",
       "    </tr>\n",
       "    <tr>\n",
       "      <th>min</th>\n",
       "      <td>29.000000</td>\n",
       "      <td>1.000000</td>\n",
       "      <td>1.000000</td>\n",
       "      <td>0.000000</td>\n",
       "      <td>0.000000</td>\n",
       "      <td>15.740741</td>\n",
       "      <td>0.000000</td>\n",
       "    </tr>\n",
       "    <tr>\n",
       "      <th>25%</th>\n",
       "      <td>48.000000</td>\n",
       "      <td>1.000000</td>\n",
       "      <td>1.000000</td>\n",
       "      <td>0.000000</td>\n",
       "      <td>0.000000</td>\n",
       "      <td>23.875115</td>\n",
       "      <td>0.000000</td>\n",
       "    </tr>\n",
       "    <tr>\n",
       "      <th>50%</th>\n",
       "      <td>53.000000</td>\n",
       "      <td>1.000000</td>\n",
       "      <td>1.000000</td>\n",
       "      <td>0.000000</td>\n",
       "      <td>0.000000</td>\n",
       "      <td>26.259585</td>\n",
       "      <td>0.000000</td>\n",
       "    </tr>\n",
       "    <tr>\n",
       "      <th>75%</th>\n",
       "      <td>58.000000</td>\n",
       "      <td>2.000000</td>\n",
       "      <td>1.000000</td>\n",
       "      <td>0.000000</td>\n",
       "      <td>1.000000</td>\n",
       "      <td>29.760863</td>\n",
       "      <td>1.000000</td>\n",
       "    </tr>\n",
       "    <tr>\n",
       "      <th>max</th>\n",
       "      <td>64.000000</td>\n",
       "      <td>2.000000</td>\n",
       "      <td>3.000000</td>\n",
       "      <td>1.000000</td>\n",
       "      <td>1.000000</td>\n",
       "      <td>48.000000</td>\n",
       "      <td>1.000000</td>\n",
       "    </tr>\n",
       "  </tbody>\n",
       "</table>\n",
       "</div>"
      ],
      "text/plain": [
       "                age        gender          gluc         smoke        cardio  \\\n",
       "count  61094.000000  61094.000000  61094.000000  61094.000000  61094.000000   \n",
       "mean      52.861656      1.347334      1.220807      0.085868      0.491685   \n",
       "std        6.745516      0.476127      0.567816      0.280171      0.499935   \n",
       "min       29.000000      1.000000      1.000000      0.000000      0.000000   \n",
       "25%       48.000000      1.000000      1.000000      0.000000      0.000000   \n",
       "50%       53.000000      1.000000      1.000000      0.000000      0.000000   \n",
       "75%       58.000000      2.000000      1.000000      0.000000      1.000000   \n",
       "max       64.000000      2.000000      3.000000      1.000000      1.000000   \n",
       "\n",
       "                bmi  hypertension  \n",
       "count  61094.000000  61094.000000  \n",
       "mean      27.206710      0.338102  \n",
       "std        4.478431      0.473067  \n",
       "min       15.740741      0.000000  \n",
       "25%       23.875115      0.000000  \n",
       "50%       26.259585      0.000000  \n",
       "75%       29.760863      1.000000  \n",
       "max       48.000000      1.000000  "
      ]
     },
     "execution_count": 15,
     "metadata": {},
     "output_type": "execute_result"
    }
   ],
   "source": [
    "for i in ['id', 'height', 'weight', 'ap_hi', 'ap_lo', 'cholesterol', 'alco', 'active']:\n",
    "    data.drop([i], axis='columns', inplace=True)\n",
    "\n",
    "data.describe()"
   ]
  },
  {
   "cell_type": "markdown",
   "id": "b4c03d96",
   "metadata": {},
   "source": [
    "### Encoding categorical variables"
   ]
  },
  {
   "cell_type": "code",
   "execution_count": 16,
   "id": "d4b23377",
   "metadata": {},
   "outputs": [],
   "source": [
    "#Encoding the Gender variable\n",
    "\n",
    "genders = pd.get_dummies(data.gender)\n",
    "genders.rename(columns={1: \"female\", 2: \"male\"}, inplace=True)\n",
    "\n",
    "\n",
    "#Concat to our original dataframe\n",
    "data = pd.concat([data, genders], axis=1)\n",
    "data = data.drop([\"gender\"], axis=1)"
   ]
  },
  {
   "cell_type": "code",
   "execution_count": 17,
   "id": "fcbbe2d2",
   "metadata": {
    "scrolled": true
   },
   "outputs": [
    {
     "data": {
      "text/html": [
       "<div>\n",
       "<style scoped>\n",
       "    .dataframe tbody tr th:only-of-type {\n",
       "        vertical-align: middle;\n",
       "    }\n",
       "\n",
       "    .dataframe tbody tr th {\n",
       "        vertical-align: top;\n",
       "    }\n",
       "\n",
       "    .dataframe thead th {\n",
       "        text-align: right;\n",
       "    }\n",
       "</style>\n",
       "<table border=\"1\" class=\"dataframe\">\n",
       "  <thead>\n",
       "    <tr style=\"text-align: right;\">\n",
       "      <th></th>\n",
       "      <th>age</th>\n",
       "      <th>bmi</th>\n",
       "    </tr>\n",
       "  </thead>\n",
       "  <tbody>\n",
       "    <tr>\n",
       "      <th>count</th>\n",
       "      <td>61094.000000</td>\n",
       "      <td>61094.000000</td>\n",
       "    </tr>\n",
       "    <tr>\n",
       "      <th>mean</th>\n",
       "      <td>52.861656</td>\n",
       "      <td>27.206710</td>\n",
       "    </tr>\n",
       "    <tr>\n",
       "      <th>std</th>\n",
       "      <td>6.745516</td>\n",
       "      <td>4.478431</td>\n",
       "    </tr>\n",
       "    <tr>\n",
       "      <th>min</th>\n",
       "      <td>29.000000</td>\n",
       "      <td>15.740741</td>\n",
       "    </tr>\n",
       "    <tr>\n",
       "      <th>25%</th>\n",
       "      <td>48.000000</td>\n",
       "      <td>23.875115</td>\n",
       "    </tr>\n",
       "    <tr>\n",
       "      <th>50%</th>\n",
       "      <td>53.000000</td>\n",
       "      <td>26.259585</td>\n",
       "    </tr>\n",
       "    <tr>\n",
       "      <th>75%</th>\n",
       "      <td>58.000000</td>\n",
       "      <td>29.760863</td>\n",
       "    </tr>\n",
       "    <tr>\n",
       "      <th>max</th>\n",
       "      <td>64.000000</td>\n",
       "      <td>48.000000</td>\n",
       "    </tr>\n",
       "  </tbody>\n",
       "</table>\n",
       "</div>"
      ],
      "text/plain": [
       "                age           bmi\n",
       "count  61094.000000  61094.000000\n",
       "mean      52.861656     27.206710\n",
       "std        6.745516      4.478431\n",
       "min       29.000000     15.740741\n",
       "25%       48.000000     23.875115\n",
       "50%       53.000000     26.259585\n",
       "75%       58.000000     29.760863\n",
       "max       64.000000     48.000000"
      ]
     },
     "execution_count": 17,
     "metadata": {},
     "output_type": "execute_result"
    }
   ],
   "source": [
    "for i in ['gluc', 'smoke', 'cardio', 'hypertension', 'female', 'male']:\n",
    "    data[i] = data[i].astype(\"category\")\n",
    "\n",
    "data.describe()"
   ]
  },
  {
   "cell_type": "code",
   "execution_count": 18,
   "id": "b57b46a1",
   "metadata": {
    "scrolled": true
   },
   "outputs": [
    {
     "name": "stdout",
     "output_type": "stream",
     "text": [
      "Stored 'cardio' (DataFrame)\n"
     ]
    }
   ],
   "source": [
    "cardio = data.copy()\n",
    "\n",
    "%store cardio"
   ]
  },
  {
   "cell_type": "markdown",
   "id": "291ab462",
   "metadata": {
    "id": "291ab462"
   },
   "source": [
    "This will be the cleaned dataset used for our subsequent models\n",
    "\n",
    "---\n",
    "### Visualising the new dataset"
   ]
  },
  {
   "cell_type": "code",
   "execution_count": 19,
   "id": "7a06b75a",
   "metadata": {
    "colab": {
     "base_uri": "https://localhost:8080/",
     "height": 1000
    },
    "id": "7a06b75a",
    "outputId": "44d04612-5ff1-412c-dc26-3e806c96f3a8"
   },
   "outputs": [
    {
     "data": {
      "image/png": "[encoded data removed]",
      "text/plain": [
       "<Figure size 2160x1080 with 4 Axes>"
      ]
     },
     "metadata": {},
     "output_type": "display_data"
    }
   ],
   "source": [
    "#Visualing the numeric variables\n",
    "f,axes = plt.subplots(2, 2, figsize=(30, 15))\n",
    "\n",
    "for i,val in enumerate([\"age\", \"bmi\"]):\n",
    "    sb.boxplot(data = data[val], orient = \"h\", ax = axes[i][0])\n",
    "    sb.histplot(data = data[val], ax = axes[i][1])"
   ]
  },
  {
   "cell_type": "markdown",
   "id": "2f657d9b",
   "metadata": {},
   "source": [
    "### Observations:\n",
    "#### Age:\n",
    "* Most of the values lie between 39 to 64 years old with two outliers 29 and 30. \n",
    "* Lower quartile value = 48 \n",
    "* Median = 53 \n",
    "* Upper quartile value = 58 \n",
    "* Most of the data are aged 55 years old \n",
    "\n",
    "#### BMI:\n",
    "* Most of the values lie between 16 to 38. Despite cleaning the data there were still many outliers from 38 onwards. \n",
    "* Lower quartile value = 24 \n",
    "* Median = 26 \n",
    "* Upper quartile value = 28 \n",
    "* The healthy bmi range is 18.5—24.9\n",
    "* Most of the data have a bmi of about 24, which is within the healthy range\n",
    "* However, most of the patients have a BMI above 24, suggesting that a lot of these patients are overweight"
   ]
  },
  {
   "cell_type": "code",
   "execution_count": 20,
   "id": "20f0ec72",
   "metadata": {
    "colab": {
     "base_uri": "https://localhost:8080/",
     "height": 1000
    },
    "id": "20f0ec72",
    "outputId": "0864c7da-77f3-42ed-c4df-353e2da1a4b4"
   },
   "outputs": [
    {
     "data": {
      "image/png": "[encoded data removed]",
      "text/plain": [
       "<Figure size 2160x2160 with 5 Axes>"
      ]
     },
     "metadata": {},
     "output_type": "display_data"
    }
   ],
   "source": [
    "#Visualising the categorical variables with target variable\n",
    "f ,axes = plt.subplots(5, 1, figsize=(30, 30))\n",
    "\n",
    "for i,val in enumerate([\"female\", \"male\", \"gluc\", \"smoke\", \"hypertension\"]):\n",
    "    sb.countplot(x=val, hue=\"cardio\", data=data, ax=axes[i]);"
   ]
  },
  {
   "cell_type": "markdown",
   "id": "fec7f7bb",
   "metadata": {},
   "source": [
    "### Observations:\n",
    "#### Gender\n",
    "* Number of females in the data is higher than the number of males \n",
    "* The number of females that have heart disease to the ones that does not have is almost simmilar with both values of around 20000\n",
    "* The number of males that have heart disease to the ones that does not have are also similar where both varies around 10000\n",
    "\n",
    "#### Glucose\n",
    "* From the glucose chart, we can see that majority of the people have a normal glucose level which is labeled as 1. There are more people that do not have heart disease compared to people who have heart disease for normal glucose level but only by a small amount. \n",
    "* People that have a glucose level that are above normal and well above normal which are labeled as 2 and 3 respectively have a higher rate of having heart disease.\n",
    "\n",
    "#### Smoke\n",
    "* There are more non smokers as compared to smokers in the data\n",
    "* From the chart, it does not seem that smoking affects heart disease\n",
    "\n",
    "#### Hypertension\n",
    "* From the graph above, it is obvious that people without hypertension are more unlikely to have heart disease while people who has hypertension is most likely to get heart disease\n",
    "\n",
    "\n",
    "\n"
   ]
  },
  {
   "cell_type": "markdown",
   "id": "c1a5cf1b",
   "metadata": {
    "id": "c1a5cf1b"
   },
   "source": [
    "\n",
    "\n",
    "\n",
    "\n",
    "# Machine Learning\n",
    "\n",
    "We will use machine learning to learn from the data, and to get the best model for our data set. Since this is a classification problem, we will be using supervised machine learning models.\n",
    "\n",
    "We will try to choose models that generally performs better with classification problems, for a medium sized dataset, with a small number of dimensions. However, no single algorithm dominates when choosing a machine learning model. Some perform better with large data sets and some perform better with high dimensional data. Hence, we will have a training and test dataset for each of the models. Afterwards, we will pick the model with the best accuracy."
   ]
  },
  {
   "cell_type": "markdown",
   "id": "621fdfaf",
   "metadata": {},
   "source": [
    "---\n",
    "## Model 1: Decision Tree Classification\n",
    "\n",
    "A Decision Tree is a supervised Machine learning algorithm. It is used in both classification and regression algorithms. The decision tree is like a tree with nodes. The branches depend on a number of factors. It splits data into branches like these till it achieves a threshold value. A decision tree consists of the root nodes, children nodes, and leaf nodes.\n",
    "\n",
    "\n",
    "\n",
    "### Advantages\n",
    "\n",
    "- Simple to implement\n",
    "\n",
    "*We have done this during our lab sessions. Hence we are familiar with how desicion trees work. It is also easy for us to implement*\n",
    "\n",
    "---\n",
    "\n",
    "- Impressive in Versatility\n",
    "\n",
    "*It can be used for both regression and classification problems*\n",
    "\n",
    "---\n",
    "\n",
    "- Quick Prediction/Training Speed\n",
    "\n",
    "*This is a simple machine learning project. We do not want the machine learning task to take a long time to compute*\n",
    "\n",
    "### Disadvantages\n",
    "\n",
    "- Easily overfit \n",
    "\n",
    "*Decision tree learners can create over-complex trees that do not generalise the data well. However, this can still be solved by pruning, setting the minimum number of samples required at a leaf node or setting the maximum depth*\n",
    "\n",
    "\n",
    "---\n",
    "\n",
    "- Unstable\n",
    "\n",
    "*Decision trees can be unstable because small variations in the data might result in a completely different tree being generated. However, this problem is mitigated by using decision trees within an ensemble.*"
   ]
  },
  {
   "cell_type": "code",
   "execution_count": 21,
   "id": "68e972b5",
   "metadata": {
    "id": "68e972b5"
   },
   "outputs": [],
   "source": [
    "from sklearn.tree import DecisionTreeClassifier\n",
    "from sklearn.model_selection import train_test_split\n",
    "from sklearn.metrics import confusion_matrix\n",
    "from sklearn.tree import plot_tree"
   ]
  },
  {
   "cell_type": "code",
   "execution_count": 22,
   "id": "0e32b82c",
   "metadata": {
    "id": "0e32b82c"
   },
   "outputs": [],
   "source": [
    "X = data.drop(\"cardio\", axis=1)\n",
    "y = data.cardio\n",
    "\n",
    "X_train, X_test, y_train, y_test = train_test_split(X, y, test_size = 0.2, random_state=4294967295)"
   ]
  },
  {
   "cell_type": "code",
   "execution_count": 23,
   "id": "5904b1e0",
   "metadata": {
    "colab": {
     "base_uri": "https://localhost:8080/",
     "height": 1000
    },
    "id": "5904b1e0",
    "outputId": "0010f9ce-21a3-4896-9a80-e2d741f078d8"
   },
   "outputs": [
    {
     "data": {
      "text/plain": [
       "DecisionTreeClassifier(max_depth=4)"
      ]
     },
     "execution_count": 23,
     "metadata": {},
     "output_type": "execute_result"
    }
   ],
   "source": [
    "tree = DecisionTreeClassifier(max_depth = 4)  \n",
    "tree.fit(X_train, y_train)                    "
   ]
  },
  {
   "cell_type": "code",
   "execution_count": 35,
   "id": "78081a6a",
   "metadata": {},
   "outputs": [],
   "source": [
    "def visualize_performance(y_train, y_train_pred, y_test, y_test_pred):\n",
    "    \"\"\"\n",
    "    Creates a confusion matrix visualization for train and test set\n",
    "    using heatmap with added information such as:\n",
    "        - Accuracy\n",
    "        - Precision\n",
    "        - Recall\n",
    "        - F1 score\n",
    "        \n",
    "    Returns the accuracy, precision, recall, and F1 score from test set.\n",
    "    \"\"\"\n",
    "    \n",
    "    f, ax = plt.subplots(ncols=2, figsize=(14, 4))\n",
    "    f.suptitle('Training vs Test Performance', fontweight='bold', fontsize='x-large')\n",
    "    \n",
    "    # Training set\n",
    "    cf_train = confusion_matrix(y_train, y_train_pred)\n",
    "    sb.heatmap(cf_train, fmt='.0f', annot=True, ax=ax[0])\n",
    "    \n",
    "    # Calculate metrics\n",
    "    accuracy_train = np.trace(cf_train) / float(np.sum(cf_train))\n",
    "    precision_train = cf_train[1,1] / sum(cf_train[:,1])\n",
    "    recall_train = cf_train[1,1] / sum(cf_train[1,:])\n",
    "    f1_score_train = 2 * precision_train * recall_train / (precision_train + recall_train)\n",
    "    \n",
    "    stats_text_train = \"\\n\\nAccuracy={:0.5f}\\nPrecision={:0.5f}\\nRecall={:0.5f}\\nF1 Score={:0.5f}\".format(\n",
    "        accuracy_train, precision_train, recall_train, f1_score_train)\n",
    "    \n",
    "    ax[0].set(xlabel='Predicted' + stats_text_train, \n",
    "              ylabel='Actual', title='Training Performance')\n",
    "    \n",
    "    # Test set\n",
    "    cf_test = confusion_matrix(y_test, y_test_pred)\n",
    "    sb.heatmap(cf_test, fmt='.0f', annot=True, ax=ax[1])\n",
    "    \n",
    "    # Calculate metrics\n",
    "    accuracy_test = np.trace(cf_test) / float(np.sum(cf_test))\n",
    "    precision_test = cf_test[1,1] / sum(cf_test[:,1])\n",
    "    recall_test = cf_test[1,1] / sum(cf_test[1,:])\n",
    "    f1_score_test = 2 * precision_test * recall_test / (precision_test + recall_test)\n",
    "    \n",
    "    stats_text_test = \"\\n\\nAccuracy={:0.5f}\\nPrecision={:0.5f}\\nRecall={:0.5f}\\nF1 Score={:0.5f}\".format(\n",
    "        accuracy_test, precision_test, recall_test, f1_score_test)\n",
    "    \n",
    "    ax[1].set(xlabel='Predicted' + stats_text_test, \n",
    "              ylabel='Actual', title='Test Performance')\n",
    "    \n",
    "    plt.show()\n",
    "    \n",
    "    return accuracy_test, precision_test, recall_test, f1_score_test"
   ]
  },
  {
   "cell_type": "code",
   "execution_count": 36,
   "id": "cd067ed4",
   "metadata": {
    "colab": {
     "base_uri": "https://localhost:8080/",
     "height": 428
    },
    "id": "cd067ed4",
    "outputId": "2d91aee1-edcf-4820-b98b-bf72de40bc71",
    "scrolled": true
   },
   "outputs": [
    {
     "data": {
      "image/png": "[encoded data removed]",
      "text/plain": [
       "<Figure size 1008x288 with 4 Axes>"
      ]
     },
     "metadata": {},
     "output_type": "display_data"
    },
    {
     "data": {
      "text/plain": [
       "(0.707013667239545, 0.7248509687034277, 0.6491491491491491, 0.6849146277063898)"
      ]
     },
     "execution_count": 36,
     "metadata": {},
     "output_type": "execute_result"
    }
   ],
   "source": [
    "y_train_pred = tree.predict(X_train)\n",
    "y_test_pred = tree.predict(X_test)\n",
    "\n",
    "visualize_performance(y_train, y_train_pred, y_test, y_test_pred)"
   ]
  },
  {
   "cell_type": "markdown",
   "id": "6a6a0422",
   "metadata": {
    "id": "6a6a0422"
   },
   "source": [
    "---\n",
    "\n",
    "## Model 2: Random Forest\n",
    "\n",
    "Random forest can be used for both classification and regression problems. This is suitable to our problem as we are doing a classification problem.\n",
    "\n",
    "Random forests are bagged decision tree models that split on a subset of features on each split.\n",
    "\n",
    "Random Forest take a random set of measures and a random sample of the training set and builds a decision tree. Then it does the same many times using a different random set of measurements and a random sample of data each time. This results in a wide diversity that generally results in a better model.\n",
    "\n",
    "### Advantages\n",
    "\n",
    "- Impressive in Versatility\n",
    "\n",
    "*It can be used for both regression and classification problems*\n",
    "\n",
    "---\n",
    "\n",
    "- Reduced risk of overfitting\n",
    "\n",
    "*Decision trees run the risk of overfitting as they tend to tightly fit all the samples within training data. However, when there’s a robust number of decision trees in a random forest, the classifier won’t overfit the model since the averaging of uncorrelated trees lowers the overall variance and prediction error..*\n",
    "\n",
    "---\n",
    "\n",
    "- Easy to determine feature importance\n",
    "\n",
    "*Random forest makes it easy to evaluate variable importance, or contribution, to the model.*\n",
    "\n",
    "---\n",
    "\n",
    "- Low Bias, Moderate Variance\n",
    "\n",
    "*Each decision tree has a high variance, but low bias. But because we average all the trees in random forest, we are averaging the variance as well so that we have a low bias and moderate variance model.*\n",
    "\n",
    "### Disadvantages\n",
    "\n",
    "- High memory usage for very large data sets.\n",
    "\n",
    "*Our dataset only has 61094 data points with 5 dimensions, so it is only a medium sized dataset, and it will not have high memory usage*\n",
    "\n",
    "\n",
    "---\n",
    "- Time-consuming\n",
    "\n",
    "*Our dataset is not very large and our max depth of the tree is only 6. Hence machine learning will still be fast*"
   ]
  },
  {
   "cell_type": "code",
   "execution_count": 37,
   "id": "cd28e827",
   "metadata": {
    "colab": {
     "base_uri": "https://localhost:8080/"
    },
    "id": "cd28e827",
    "outputId": "d96f93ca-ffbd-45bd-9166-5be4ec6bd926"
   },
   "outputs": [
    {
     "data": {
      "text/plain": [
       "RandomForestClassifier(max_depth=6, n_estimators=200)"
      ]
     },
     "execution_count": 37,
     "metadata": {},
     "output_type": "execute_result"
    }
   ],
   "source": [
    "from sklearn.ensemble import RandomForestClassifier\n",
    "\n",
    "forest = RandomForestClassifier(n_estimators = 200,  # n_estimators denote number of trees\n",
    "                                 max_depth = 6)      # set the maximum depth of each tree\n",
    "\n",
    "forest.fit(X_train, y_train.ravel())"
   ]
  },
  {
   "cell_type": "code",
   "execution_count": 38,
   "id": "0b0264f9",
   "metadata": {},
   "outputs": [
    {
     "data": {
      "image/png": "[encoded data removed]",
      "text/plain": [
       "<Figure size 1008x288 with 4 Axes>"
      ]
     },
     "metadata": {},
     "output_type": "display_data"
    },
    {
     "data": {
      "text/plain": [
       "(0.7089778214256486,\n",
       " 0.7374366965329178,\n",
       " 0.6316316316316316,\n",
       " 0.6804457225017972)"
      ]
     },
     "execution_count": 38,
     "metadata": {},
     "output_type": "execute_result"
    }
   ],
   "source": [
    "y_train_pred = forest.predict(X_train)\n",
    "y_test_pred = forest.predict(X_test)\n",
    "\n",
    "visualize_performance(y_train, y_train_pred, y_test, y_test_pred)"
   ]
  },
  {
   "cell_type": "markdown",
   "id": "2100323d",
   "metadata": {
    "id": "2100323d"
   },
   "source": [
    "---\n",
    "\n",
    "## Model 3: Logistic Regression\n",
    "\n",
    "Logistic regression is a statistical method used to predict the outcome of a dependent variable based on previous observations. It takes a linear combination of features and applies a nonlinear function (sigmoid) to it, so it’s a tiny instance of the neural network. \n",
    "\n",
    "Logistic Regression is a type of regression analysis and is a commonly used algorithm for solving binary classification problems.\n",
    "\n",
    "### Advantages\n",
    "\n",
    "- Simple to understand, easy to implement, and efficient to train\n",
    "\n",
    "---\n",
    "\n",
    "\n",
    "- Less prone to overfitting in low dimensional datasets\n",
    "\n",
    "*Our dataset has only 5 dimensions*\n",
    "\n",
    "---\n",
    "\n",
    "\n",
    "- Useful to find relationships between features\n",
    "\n",
    "---\n",
    "\n",
    "- Provides well-calibrated probabilities\n",
    "\n",
    "\n",
    " ### Disadvantages\n",
    "\n",
    "- Can lead to overfitting if the number of features is more than the number of observations\n",
    "\n",
    "*The dataset has more features than observations*\n",
    "\n",
    "---\n",
    "\n",
    "- Can be used only to predict discrete functions\n",
    "\n",
    "*We are trying to solve a classfication problem, so we are not predicting continous functions*\n",
    "\n",
    "---\n",
    "\n",
    "- Sensitive to outliers\n",
    "\n",
    "*We have already removed the outliers when we cleaned the data* \n",
    "\n",
    "---\n",
    "\n",
    "- Can't solve non-linear problems"
   ]
  },
  {
   "cell_type": "code",
   "execution_count": 39,
   "id": "2bc7c19d",
   "metadata": {
    "colab": {
     "background_save": true,
     "base_uri": "https://localhost:8080/"
    },
    "id": "2bc7c19d",
    "outputId": "f36f0864-ddcf-42c3-ac41-f17ba64ed490"
   },
   "outputs": [
    {
     "data": {
      "text/plain": [
       "LogisticRegression(C=10, max_iter=1000)"
      ]
     },
     "execution_count": 39,
     "metadata": {},
     "output_type": "execute_result"
    }
   ],
   "source": [
    "from sklearn.linear_model import LogisticRegression\n",
    "\n",
    "logr = LogisticRegression(max_iter=1000, solver='lbfgs', penalty='l2', C=10)\n",
    "\n",
    "logr.fit(X_train, y_train.ravel())"
   ]
  },
  {
   "cell_type": "code",
   "execution_count": 40,
   "id": "db2ac95d",
   "metadata": {},
   "outputs": [
    {
     "data": {
      "image/png": "[encoded data removed]",
      "text/plain": [
       "<Figure size 1008x288 with 4 Axes>"
      ]
     },
     "metadata": {},
     "output_type": "display_data"
    },
    {
     "data": {
      "text/plain": [
       "(0.7055405515999673,\n",
       " 0.7553282182438192,\n",
       " 0.5912579245912579,\n",
       " 0.6632977727868239)"
      ]
     },
     "execution_count": 40,
     "metadata": {},
     "output_type": "execute_result"
    }
   ],
   "source": [
    "y_train_pred = logr.predict(X_train)\n",
    "y_test_pred = logr.predict(X_test)\n",
    "\n",
    "visualize_performance(y_train, y_train_pred, y_test, y_test_pred)"
   ]
  },
  {
   "cell_type": "markdown",
   "id": "32b5d0a8",
   "metadata": {},
   "source": [
    "---\n",
    "\n",
    "## Model 4: XGBoost\n",
    "\n",
    "XGBoost stands for Extreme Gradient Boosting. It’s a parallelized and carefully optimized version of the gradient boosting algorithm. Instead of training the best possible model on the data (like in traditional methods), we train thousands of models on various subsets of the training dataset and then vote for the best-performing model.\n",
    "\n",
    "### Advantages\n",
    "\n",
    "- Regularization\n",
    "\n",
    "*XGBoost includes different regularization penalties to avoid overfitting. Penalty regularizations produce successful training so the model can generalize adequately.*\n",
    "\n",
    "---\n",
    "- Fast execution speed\n",
    "\n",
    "*Really fast when compared to other implementations of gradient boosting.*\n",
    "\n",
    "---\n",
    "- Good model Performance\n",
    "\n",
    "*XGBoost dominates structured or tabular datasets on classification and regression predictive modeling problems. The evidence is that it is the go-to algorithm for competition winners on the Kaggle competitive data science platform.*\n",
    "\n",
    "### Disadvantage\n",
    "\n",
    "- Sensitive to outliers\n",
    "\n",
    "*However, this is not a big issue as we have removed the outliers.*\n",
    "\n",
    "---\n",
    "\n",
    "- Slow to implement \n",
    "\n",
    "*However, it is still very fast for datasets that are not too large such as the cardio.csv dataset that we are using*"
   ]
  },
  {
   "cell_type": "code",
   "execution_count": 41,
   "id": "6da9e5c8",
   "metadata": {
    "id": "6da9e5c8",
    "scrolled": true
   },
   "outputs": [
    {
     "data": {
      "text/plain": [
       "XGBClassifier(base_score=0.5, booster='gbtree', colsample_bylevel=1,\n",
       "              colsample_bynode=1, colsample_bytree=1,\n",
       "              disable_default_eval_metric=True, enable_categorical=True,\n",
       "              gamma=0, gpu_id=0, importance_type=None,\n",
       "              interaction_constraints='', learning_rate=0.300000012,\n",
       "              max_delta_step=0, max_depth=6, min_child_weight=1, missing=nan,\n",
       "              monotone_constraints='()', n_estimators=100, n_jobs=4,\n",
       "              num_parallel_tree=1, predictor='auto', random_state=0,\n",
       "              reg_alpha=0, reg_lambda=1, scale_pos_weight=1, subsample=1,\n",
       "              tree_method='gpu_hist', use_label_encoder=False,\n",
       "              validate_parameters=1, verbosity=None)"
      ]
     },
     "execution_count": 41,
     "metadata": {},
     "output_type": "execute_result"
    }
   ],
   "source": [
    "import xgboost as xgb\n",
    "from sklearn.metrics import accuracy_score\n",
    "\n",
    "xgb_cl = xgb.XGBClassifier(\n",
    "    tree_method = \"gpu_hist\", \n",
    "    enable_categorical = True, \n",
    "    use_label_encoder=False, \n",
    "    objective=\"binary:logistic\", \n",
    "    disable_default_eval_metric=True\n",
    ")\n",
    "\n",
    "xgb_cl.fit(X_train, y_train.ravel())"
   ]
  },
  {
   "cell_type": "code",
   "execution_count": 42,
   "id": "41372b8f",
   "metadata": {},
   "outputs": [
    {
     "data": {
      "image/png": "[encoded data removed]",
      "text/plain": [
       "<Figure size 1008x288 with 4 Axes>"
      ]
     },
     "metadata": {},
     "output_type": "display_data"
    },
    {
     "data": {
      "text/plain": [
       "(0.703167198625092, 0.7215047725996631, 0.6431431431431431, 0.6800740936755755)"
      ]
     },
     "execution_count": 42,
     "metadata": {},
     "output_type": "execute_result"
    }
   ],
   "source": [
    "y_train_pred = xgb_cl.predict(X_train)\n",
    "y_test_pred = xgb_cl.predict(X_test)\n",
    "\n",
    "visualize_performance(y_train, y_train_pred, y_test, y_test_pred)"
   ]
  },
  {
   "cell_type": "markdown",
   "id": "a91af1f0",
   "metadata": {},
   "source": [
    "Accuracy is the ratio of correctly predicted observation over the total observations where the percentage is the accuracy of the model.\n",
    "* Accuracy = TP+TN/TP+FP+FN+TN\n",
    "\n",
    "Precision is the ratio of true positives over the total predicted positive observations made\n",
    "* Precision = TP/TP+FP\n",
    "\n",
    "Recall is the ratio of true positive values over all the positive values \n",
    "* Recall = TP/TP+FN\n",
    "\n",
    "F1 score is the weighted average of precision and recall where it considers the false positive and false negatives. This method is more useful than accuracy when there is an uneven distribution.\n",
    "* F1 Score = 2*(Recall * Precision) / (Recall + Precision)\n",
    "\n",
    "Joshi, R. (2016, November 11). _Accuracy, precision, Recall & F1 score: Interpretation of performance measures._ Exsilio Blog. Retrieved April 19, 2022, from https://blog.exsilio.com/all/accuracy-precision-recall-f1-score-interpretation-of-performance-measures/ \n",
    "\n",
    "\n",
    "\n",
    "### Observations:\n",
    "\n",
    "\n",
    "Model 1: Binary Classification \n",
    "   \n",
    "          | Accurracy  |  Precision  |   Recall     |  F1Score |\n",
    "    ____________________________________________________________\n",
    "     Train| 70.717%    |   72.075%   |   66.080%    | 68.948%  |\n",
    "    ____________________________________________________________\n",
    "     Test | 70.701%    |   70.701%   |   72.485%    | 68.491%  |\n",
    "    ____________________________________________________________\n",
    "\n",
    "Model 2: Random Forest\n",
    "\n",
    "          | Accurracy  |  Precision  |   Recall     |  F1Score |\n",
    "    ____________________________________________________________\n",
    "     Train| 71.130%    |   73.272%   |   65.045%    | 68.914%  |\n",
    "    ____________________________________________________________\n",
    "     Test | 70.898%    |   73.744%   |   63.163%    | 68.045%  |\n",
    "    ____________________________________________________________\n",
    "\n",
    "Model 3: Logistic Regression\n",
    "\n",
    "          | Accurracy  |  Precision  |   Recall     |  F1Score |\n",
    "    ____________________________________________________________\n",
    "     Train| 70.474%    |   74.750%   |   60.378%    | 66.800%  |\n",
    "    ____________________________________________________________\n",
    "     Test | 70.554%    |   75.533%   |   59.126%    | 66.330%  |\n",
    "    ____________________________________________________________\n",
    "\n",
    "Model 4: XGBoost\n",
    "\n",
    "          | Accurracy  |  Precision  |   Recall     |  F1Score |\n",
    "    ____________________________________________________________\n",
    "     Train| 73.230%    |   74.890%   |   68.580%    | 71.596%  |\n",
    "    ____________________________________________________________\n",
    "     Test | 70.317%    |   72.150%   |   64.314%    | 68.007%  |\n",
    "    ____________________________________________________________\n",
    "\n",
    "#### Accurracy\n",
    "Comparing the results above, we see the test data of the 4 models performed similarly at about 70% accuracy.\n",
    "Comparing the train data, our 4th model XGBoost performed the best at 73.2%.\n",
    "Thus XGBoost performed the best for the accurracy.\n",
    "\n",
    "#### Precision\n",
    "For Precision, the train data for XGBoost perfromed the best as compared to other models with an Precision score of 74.890% although Logistic Regression is very close with a score of 74.750%\n",
    "For Precision test data, logistic regression perfromed the best with a score of 75.5%\n",
    "Thus logistic regression performed the best for the precision.\n",
    "\n",
    "#### Recall\n",
    "For train data for recall, XGBoost performed the best with a score of 68.6% higher than binary classification by 2% with a score of 66.1%\n",
    "For the test data, Binary classification has the highest recall score of 72.5% which is about 8% higher than the score for XGBoost which is the 2nd best for the test data. \n",
    "Thus Binary Classification perfromed the best for the Recall\n",
    "\n",
    "#### F1 Score\n",
    "For train data of F1 Score, XGBoost has the highest score of 71.6% compared to the other models with the scores ranging from about 67%~69%. \n",
    "For the test dataset, Binary Classification, Random Forest and XGBoost had the higher value of closely around 68%.\n",
    "Thus XGBoost performed the best for the F1 Score\n",
    "\n",
    "#### Best model to use\n",
    "Therefore from the results we can say that XGBoost is the best choice for prediction as it the best model for 2 out of 4 of the classifiers. Although XGBoost was not the best for recall and precision, it was still the second best out of the other four for both of the classifiers.  "
   ]
  },
  {
   "cell_type": "markdown",
   "id": "49368e3b",
   "metadata": {},
   "source": [
    "---\n",
    "\n",
    "## Hyperparameter Tuning of XGBoost with GridSearchCV\n",
    "\n",
    "Hyperparameter tuning is an essential part of controlling the behavior of a machine learning model. Doing so can ensure that our chosen model will produce the optimal results."
   ]
  },
  {
   "cell_type": "code",
   "execution_count": 89,
   "id": "19f90f2b",
   "metadata": {},
   "outputs": [],
   "source": [
    "#Import libraries:\n",
    "from sklearn.model_selection import GridSearchCV"
   ]
  },
  {
   "cell_type": "code",
   "execution_count": 91,
   "id": "ab54f91b",
   "metadata": {},
   "outputs": [
    {
     "name": "stdout",
     "output_type": "stream",
     "text": [
      "Fitting 4 folds for each of 6 candidates, totalling 24 fits\n",
      "best score:/n 0.7082557084771641\n",
      "bestparams:/n {'learning_rate': 0.01, 'n_estimators': 500}\n"
     ]
    }
   ],
   "source": [
    "param_grid = {\n",
    "    'learning_rate': [0.01],\n",
    "    'n_estimators': range(100, 601, 100)\n",
    "}\n",
    "\n",
    "gsearch1 = GridSearchCV(estimator=xgb_cl, param_grid=param_grid, n_jobs=4, scoring = 'accuracy', cv = 4, verbose=3)\n",
    "gsearch1.fit(X_train, y_train.ravel())\n",
    "\n",
    "print('best score:/n', gsearch1.best_score_)\n",
    "print('bestparams:/n' ,gsearch1.best_params_)"
   ]
  },
  {
   "cell_type": "markdown",
   "id": "d165d8b7",
   "metadata": {},
   "source": [
    "--- \n",
    "\n",
    "### Tune max_depth and min_child_weight\n",
    "We tune these first as they will have the highest impact on model outcome"
   ]
  },
  {
   "cell_type": "code",
   "execution_count": 93,
   "id": "73bd3b3b",
   "metadata": {},
   "outputs": [
    {
     "name": "stdout",
     "output_type": "stream",
     "text": [
      "Fitting 4 folds for each of 12 candidates, totalling 48 fits\n",
      "best score:/n 0.7091968640167652\n",
      "bestparams:/n {'learning_rate': 0.01, 'max_depth': 4, 'min_child_weight': 5, 'n_estimators': 500}\n"
     ]
    }
   ],
   "source": [
    "param_grid = {\n",
    "    'learning_rate': [0.01],\n",
    "    'n_estimators': [500],\n",
    "    'max_depth': [3,4,5,6],\n",
    "    'min_child_weight': [4,5,6]\n",
    "}\n",
    "\n",
    "gsearch2 = GridSearchCV(estimator=xgb_cl, param_grid=param_grid, n_jobs=4, scoring = 'accuracy', cv = 4, verbose=3)\n",
    "gsearch2.fit(X_train, y_train.ravel())\n",
    "\n",
    "print('best score:/n', gsearch2.best_score_)\n",
    "print('bestparams:/n' ,gsearch2.best_params_)"
   ]
  },
  {
   "cell_type": "markdown",
   "id": "f6d5844e",
   "metadata": {},
   "source": [
    "--- \n",
    "\n",
    "### Tune gamma\n",
    "\n",
    "We will tune gamma value using the parameters already tuned above."
   ]
  },
  {
   "cell_type": "code",
   "execution_count": 96,
   "id": "b288a8e6",
   "metadata": {},
   "outputs": [
    {
     "name": "stdout",
     "output_type": "stream",
     "text": [
      "Fitting 4 folds for each of 4 candidates, totalling 16 fits\n",
      "best score:/n 0.7094423816154547\n",
      "bestparams:/n {'gamma': 0.5, 'learning_rate': 0.1, 'max_depth': 4, 'min_child_weight': 5, 'n_estimators': 500}\n"
     ]
    }
   ],
   "source": [
    "param_grid = {\n",
    "    'learning_rate': [0.1],\n",
    "    'n_estimators': [500],\n",
    "    'max_depth': [4],\n",
    "    'min_child_weight': [5],\n",
    "    'gamma': [0.4, 0.45, 0.5, 0.55]\n",
    "}\n",
    "\n",
    "gsearch3 = GridSearchCV(estimator=xgb_cl, param_grid=param_grid, n_jobs=4, scoring = 'accuracy', cv = 4, verbose=3)\n",
    "gsearch3.fit(X_train, y_train.ravel())\n",
    "\n",
    "print('best score:/n', gsearch3.best_score_)\n",
    "print('bestparams:/n' ,gsearch3.best_params_)"
   ]
  },
  {
   "cell_type": "markdown",
   "id": "604fef76",
   "metadata": {},
   "source": [
    "--- \n",
    "\n",
    "### Tune subsample and colsample_bytree"
   ]
  },
  {
   "cell_type": "code",
   "execution_count": 97,
   "id": "c712987e",
   "metadata": {},
   "outputs": [
    {
     "name": "stdout",
     "output_type": "stream",
     "text": [
      "Fitting 4 folds for each of 16 candidates, totalling 64 fits\n",
      "best score:/n 0.7079487909652766\n",
      "bestparams:/n {'colsample_bytree': 0.8, 'gamma': 0.5, 'learning_rate': 0.1, 'max_depth': 4, 'min_child_weight': 5, 'n_estimators': 500, 'subsample': 0.95}\n"
     ]
    }
   ],
   "source": [
    "param_grid = {\n",
    "    'learning_rate': [0.1],\n",
    "    'n_estimators': [500],\n",
    "    'max_depth': [4],\n",
    "    'min_child_weight': [5],\n",
    "    'gamma': [0.5],\n",
    "    'subsample':[0.80, 0.85, 0.90, 0.95],\n",
    "    'colsample_bytree':[0.80, 0.85, 0.90, 0.95]\n",
    "}\n",
    "\n",
    "gsearch4 = GridSearchCV(estimator=xgb_cl, param_grid=param_grid, n_jobs=4, scoring = 'accuracy', cv = 4, verbose=3)\n",
    "gsearch4.fit(X_train, y_train.ravel())\n",
    "\n",
    "print('best score:/n', gsearch4.best_score_)\n",
    "print('bestparams:/n' ,gsearch4.best_params_)"
   ]
  },
  {
   "cell_type": "markdown",
   "id": "e2a81dab",
   "metadata": {},
   "source": [
    "---\n",
    "\n",
    "### Tuning Regularization Parameters"
   ]
  },
  {
   "cell_type": "code",
   "execution_count": 98,
   "id": "1e7d4497",
   "metadata": {
    "scrolled": false
   },
   "outputs": [
    {
     "name": "stdout",
     "output_type": "stream",
     "text": [
      "Fitting 4 folds for each of 12 candidates, totalling 48 fits\n",
      "best score:/n 0.70874674702369\n",
      "bestparams:/n {'colsample_bytree': 0.8, 'gamma': 0.5, 'learning_rate': 0.1, 'max_depth': 4, 'min_child_weight': 5, 'n_estimators': 500, 'reg_alpha': 0.09, 'reg_lambda': 0.95, 'subsample': 0.95}\n"
     ]
    }
   ],
   "source": [
    "param_grid = {\n",
    "    'learning_rate': [0.1],\n",
    "    'n_estimators': [500],\n",
    "    'max_depth': [4],\n",
    "    'min_child_weight': [5],\n",
    "    'gamma': [0.5],\n",
    "    'subsample':[0.95],\n",
    "    'colsample_bytree':[0.8],\n",
    "    'reg_lambda' : [0.9, 0.95, 1.0, 1.05],\n",
    "    'reg_alpha':[0.09, 0.10, 0.11]\n",
    "}\n",
    "\n",
    "gsearch5 = GridSearchCV(estimator=xgb_cl, param_grid=param_grid, n_jobs=4, scoring = 'accuracy', cv = 4, verbose=3)\n",
    "gsearch5.fit(X_train, y_train.ravel())\n",
    "\n",
    "print('best score:/n', gsearch5.best_score_)\n",
    "print('bestparams:/n' ,gsearch5.best_params_)\n"
   ]
  },
  {
   "cell_type": "code",
   "execution_count": 99,
   "id": "67a88abf",
   "metadata": {},
   "outputs": [
    {
     "data": {
      "text/plain": [
       "XGBClassifier(base_score=0.5, booster='gbtree', colsample_bylevel=1,\n",
       "              colsample_bynode=1, colsample_bytree=0.8,\n",
       "              disable_default_eval_metric=True, enable_categorical=True,\n",
       "              gamma=0.5, gpu_id=0, importance_type=None,\n",
       "              interaction_constraints='', learning_rate=0.1, max_delta_step=0,\n",
       "              max_depth=4, min_child_weight=5, missing=nan,\n",
       "              monotone_constraints='()', n_estimators=500, n_jobs=4,\n",
       "              num_parallel_tree=1, predictor='auto', random_state=0,\n",
       "              reg_alpha=0.09, reg_lambda=0.95, scale_pos_weight=1,\n",
       "              subsample=0.95, tree_method='gpu_hist', use_label_encoder=False,\n",
       "              validate_parameters=1, verbosity=None)"
      ]
     },
     "execution_count": 99,
     "metadata": {},
     "output_type": "execute_result"
    }
   ],
   "source": [
    "#Using the best paramters through grid search\n",
    "\n",
    "final_cl = xgb.XGBClassifier(\n",
    "    **gsearch5.best_params_,\n",
    "    tree_method = \"gpu_hist\", \n",
    "    enable_categorical = True, \n",
    "    use_label_encoder = False, \n",
    "    objective=\"binary:logistic\", \n",
    "    disable_default_eval_metric=True\n",
    ")\n",
    "\n",
    "final_cl.fit(X_train, y_train.ravel())"
   ]
  },
  {
   "cell_type": "code",
   "execution_count": 100,
   "id": "cb7622c0",
   "metadata": {
    "scrolled": true
   },
   "outputs": [
    {
     "data": {
      "image/png": "[encoded data removed]",
      "text/plain": [
       "<Figure size 1008x288 with 4 Axes>"
      ]
     },
     "metadata": {
      "needs_background": "light"
     },
     "output_type": "display_data"
    },
    {
     "data": {
      "text/plain": [
       "(0.7077502250593338,\n",
       " 0.7303669899220384,\n",
       " 0.6408074741408075,\n",
       " 0.6826624011374746)"
      ]
     },
     "execution_count": 100,
     "metadata": {},
     "output_type": "execute_result"
    }
   ],
   "source": [
    "y_train_pred = final_cl.predict(X_train)\n",
    "y_test_pred = final_cl.predict(X_test)\n",
    "\n",
    "visualize_performance(y_train, y_train_pred, y_test, y_test_pred)"
   ]
  },
  {
   "cell_type": "code",
   "execution_count": 101,
   "id": "69b5ff97",
   "metadata": {},
   "outputs": [
    {
     "name": "stdout",
     "output_type": "stream",
     "text": [
      "Stored 'final_cl' (XGBClassifier)\n"
     ]
    }
   ],
   "source": [
    "%store final_cl"
   ]
  },
  {
   "cell_type": "markdown",
   "id": "00ad11bf",
   "metadata": {},
   "source": [
    "### Observations\n",
    "\n",
    "#### XGBoost before hyperparameter tuning\n",
    "          | Accurracy  |  Precision  |   Recall     |  F1Score |\n",
    "    ____________________________________________________________\n",
    "     Train| 73.230%    |   74.890%   |   68.580%    | 71.596%  |\n",
    "    ____________________________________________________________\n",
    "     Test | 70.317%    |   72.150%   |   64.314%    | 68.007%  |\n",
    "    ____________________________________________________________\n",
    "\n",
    "#### Hyperparameter Tuning of XGBoost with GridSearchCV\n",
    "\n",
    "         | Accurracy  |  Precision  |   Recall     |  F1Score |\n",
    "    ____________________________________________________________\n",
    "    Train| 71.386%    |   73.088%   |   66.222%    | 69.486%  |\n",
    "    ____________________________________________________________\n",
    "    Test | 70.775%    |   73.037%   |   64.081%    | 68.266%  |\n",
    "    ____________________________________________________________\n",
    "\n",
    "\n",
    "As XGBoost was the best model, we performed hyperparameter tuning on it to improve its accurracy.\n",
    "\n",
    "We compare the results of XGBoost before and after the hyperparameter tuning. Although we used the XGBoost model and perform hyperparameter tuning the accuracy for the train model the accuracy for the test result improved by 0.4% while the train accuracy decreased to 71.386%.\n",
    "\n",
    "The precision value does not change much differing by about 1%. The recall value seems to have reduced by an significant amount for both the test and train data. \n",
    "\n",
    "The F1Score for both are similar where the train for XGBoost was 71.6% and the train for XGBoost after hyperparameter tuning dropped to 69.5%. \n",
    "For the test value for F1Score, the value after hyperparameter turning increase by only 0.196% which is not very significant.\n",
    "\n",
    "Although we used the XGBoost model and perform hyperparameter tuning, the accuracy for the train and test model did not change much. One learning point is that while tuning can help to achieve the optimal parameters, the difference may not very substantial.\n",
    "\n",
    "Additionally, a possible reason for the lack of substantial improvement could be the dataset itself. Since all the models displayed relatively similar results, we can infer that the accuracy of the dataset is limited to only about 70% accuracy."
   ]
  },
  {
   "cell_type": "code",
   "execution_count": null,
   "id": "cdf818ed",
   "metadata": {},
   "outputs": [],
   "source": []
  }
 ],
 "metadata": {
  "colab": {
   "collapsed_sections": [
    "17914207"
   ],
   "name": "Initial EDA.ipynb",
   "provenance": []
  },
  "kernelspec": {
   "display_name": "Python 3 (ipykernel)",
   "language": "python",
   "name": "python3"
  },
  "language_info": {
   "codemirror_mode": {
    "name": "ipython",
    "version": 3
   },
   "file_extension": ".py",
   "mimetype": "text/x-python",
   "name": "python",
   "nbconvert_exporter": "python",
   "pygments_lexer": "ipython3",
   "version": "3.9.7"
  }
 },
 "nbformat": 4,
 "nbformat_minor": 5
}
