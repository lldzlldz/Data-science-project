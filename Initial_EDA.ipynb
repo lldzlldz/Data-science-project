{
 "cells": [
  {
   "cell_type": "markdown",
   "id": "4tTwebQU3ils",
   "metadata": {
    "id": "4tTwebQU3ils"
   },
   "source": [
    "# Practical motivation\n",
    "\n",
    "According to the World Health Organization, the world’s biggest killer is ischaemic heart disease, responsible for 16% of the world’s total deaths. Since 2000, the largest increase in deaths has been for this disease, rising by more than 2 million to 8.9 million deaths in 2019. Stroke and chronic obstructive pulmonary disease are the 2nd and 3rd leading causes of death, responsible for approximately 11% and 6% of total deaths respectively.\n",
    "\n"
   ]
  },
  {
   "cell_type": "markdown",
   "id": "aTeM7d4f4Ugv",
   "metadata": {
    "id": "aTeM7d4f4Ugv"
   },
   "source": [
    "![Leading causes of death globally](img/death_infographic.png)\n"
   ]
  },
  {
   "cell_type": "markdown",
   "id": "Y7MPSCE57yx4",
   "metadata": {
    "id": "Y7MPSCE57yx4"
   },
   "source": [
    "# Problem definition\n",
    "# TO DO\n",
    "To see if heart disease causes stroke(and vice versa)\n",
    "\n",
    "To see how to reduce the factors leading to heart disease and stroke \n",
    "\n",
    "to find how people can stay healthier by reducing the risks of getting deadly diseases\n",
    "\n",
    "\n",
    "# TO DO\n",
    "\n",
    "Hence our problem will be a classification problem."
   ]
  },
  {
   "cell_type": "markdown",
   "id": "NSZxnta22ZqM",
   "metadata": {
    "id": "NSZxnta22ZqM"
   },
   "source": [
    "### Importing python libraries/data"
   ]
  },
  {
   "cell_type": "code",
   "execution_count": 23,
   "id": "dc767789",
   "metadata": {
    "id": "dc767789"
   },
   "outputs": [],
   "source": [
    "# Basic Libraries\n",
    "import numpy as np\n",
    "import pandas as pd\n",
    "import seaborn as sb\n",
    "import matplotlib.pyplot as plt \n",
    "sb.set() "
   ]
  },
  {
   "cell_type": "code",
   "execution_count": 24,
   "id": "65f0709b",
   "metadata": {
    "colab": {
     "base_uri": "https://localhost:8080/",
     "height": 329
    },
    "id": "65f0709b",
    "outputId": "1c6c4713-aca2-40e7-92f4-ed75d407e26a"
   },
   "outputs": [
    {
     "data": {
      "text/html": [
       "<div>\n",
       "<style scoped>\n",
       "    .dataframe tbody tr th:only-of-type {\n",
       "        vertical-align: middle;\n",
       "    }\n",
       "\n",
       "    .dataframe tbody tr th {\n",
       "        vertical-align: top;\n",
       "    }\n",
       "\n",
       "    .dataframe thead th {\n",
       "        text-align: right;\n",
       "    }\n",
       "</style>\n",
       "<table border=\"1\" class=\"dataframe\">\n",
       "  <thead>\n",
       "    <tr style=\"text-align: right;\">\n",
       "      <th></th>\n",
       "      <th>id</th>\n",
       "      <th>age</th>\n",
       "      <th>gender</th>\n",
       "      <th>height</th>\n",
       "      <th>weight</th>\n",
       "      <th>ap_hi</th>\n",
       "      <th>ap_lo</th>\n",
       "      <th>cholesterol</th>\n",
       "      <th>gluc</th>\n",
       "      <th>smoke</th>\n",
       "      <th>alco</th>\n",
       "      <th>active</th>\n",
       "      <th>cardio</th>\n",
       "    </tr>\n",
       "  </thead>\n",
       "  <tbody>\n",
       "    <tr>\n",
       "      <th>0</th>\n",
       "      <td>0</td>\n",
       "      <td>18393</td>\n",
       "      <td>2</td>\n",
       "      <td>168</td>\n",
       "      <td>62.0</td>\n",
       "      <td>110</td>\n",
       "      <td>80</td>\n",
       "      <td>1</td>\n",
       "      <td>1</td>\n",
       "      <td>0</td>\n",
       "      <td>0</td>\n",
       "      <td>1</td>\n",
       "      <td>0</td>\n",
       "    </tr>\n",
       "    <tr>\n",
       "      <th>1</th>\n",
       "      <td>1</td>\n",
       "      <td>20228</td>\n",
       "      <td>1</td>\n",
       "      <td>156</td>\n",
       "      <td>85.0</td>\n",
       "      <td>140</td>\n",
       "      <td>90</td>\n",
       "      <td>3</td>\n",
       "      <td>1</td>\n",
       "      <td>0</td>\n",
       "      <td>0</td>\n",
       "      <td>1</td>\n",
       "      <td>1</td>\n",
       "    </tr>\n",
       "    <tr>\n",
       "      <th>2</th>\n",
       "      <td>2</td>\n",
       "      <td>18857</td>\n",
       "      <td>1</td>\n",
       "      <td>165</td>\n",
       "      <td>64.0</td>\n",
       "      <td>130</td>\n",
       "      <td>70</td>\n",
       "      <td>3</td>\n",
       "      <td>1</td>\n",
       "      <td>0</td>\n",
       "      <td>0</td>\n",
       "      <td>0</td>\n",
       "      <td>1</td>\n",
       "    </tr>\n",
       "    <tr>\n",
       "      <th>3</th>\n",
       "      <td>3</td>\n",
       "      <td>17623</td>\n",
       "      <td>2</td>\n",
       "      <td>169</td>\n",
       "      <td>82.0</td>\n",
       "      <td>150</td>\n",
       "      <td>100</td>\n",
       "      <td>1</td>\n",
       "      <td>1</td>\n",
       "      <td>0</td>\n",
       "      <td>0</td>\n",
       "      <td>1</td>\n",
       "      <td>1</td>\n",
       "    </tr>\n",
       "    <tr>\n",
       "      <th>4</th>\n",
       "      <td>4</td>\n",
       "      <td>17474</td>\n",
       "      <td>1</td>\n",
       "      <td>156</td>\n",
       "      <td>56.0</td>\n",
       "      <td>100</td>\n",
       "      <td>60</td>\n",
       "      <td>1</td>\n",
       "      <td>1</td>\n",
       "      <td>0</td>\n",
       "      <td>0</td>\n",
       "      <td>0</td>\n",
       "      <td>0</td>\n",
       "    </tr>\n",
       "  </tbody>\n",
       "</table>\n",
       "</div>"
      ],
      "text/plain": [
       "   id    age  gender  height  weight  ap_hi  ap_lo  cholesterol  gluc  smoke  \\\n",
       "0   0  18393       2     168    62.0    110     80            1     1      0   \n",
       "1   1  20228       1     156    85.0    140     90            3     1      0   \n",
       "2   2  18857       1     165    64.0    130     70            3     1      0   \n",
       "3   3  17623       2     169    82.0    150    100            1     1      0   \n",
       "4   4  17474       1     156    56.0    100     60            1     1      0   \n",
       "\n",
       "   alco  active  cardio  \n",
       "0     0       1       0  \n",
       "1     0       1       1  \n",
       "2     0       0       1  \n",
       "3     0       1       1  \n",
       "4     0       0       0  "
      ]
     },
     "execution_count": 24,
     "metadata": {},
     "output_type": "execute_result"
    }
   ],
   "source": [
    "data = pd.read_csv(\"cardio.csv\", sep=';')\n",
    "data.head()"
   ]
  },
  {
   "cell_type": "code",
   "execution_count": 25,
   "id": "4ffe7d36",
   "metadata": {
    "colab": {
     "base_uri": "https://localhost:8080/",
     "height": 166
    },
    "id": "4ffe7d36",
    "outputId": "a8f43611-f273-45c5-852a-dd9e99556f81"
   },
   "outputs": [
    {
     "name": "stdout",
     "output_type": "stream",
     "text": [
      "<class 'pandas.core.frame.DataFrame'>\n",
      "RangeIndex: 70000 entries, 0 to 69999\n",
      "Data columns (total 13 columns):\n",
      " #   Column       Non-Null Count  Dtype  \n",
      "---  ------       --------------  -----  \n",
      " 0   id           70000 non-null  int64  \n",
      " 1   age          70000 non-null  int64  \n",
      " 2   gender       70000 non-null  int64  \n",
      " 3   height       70000 non-null  int64  \n",
      " 4   weight       70000 non-null  float64\n",
      " 5   ap_hi        70000 non-null  int64  \n",
      " 6   ap_lo        70000 non-null  int64  \n",
      " 7   cholesterol  70000 non-null  int64  \n",
      " 8   gluc         70000 non-null  int64  \n",
      " 9   smoke        70000 non-null  int64  \n",
      " 10  alco         70000 non-null  int64  \n",
      " 11  active       70000 non-null  int64  \n",
      " 12  cardio       70000 non-null  int64  \n",
      "dtypes: float64(1), int64(12)\n",
      "memory usage: 6.9 MB\n"
     ]
    }
   ],
   "source": [
    "data.info()"
   ]
  },
  {
   "cell_type": "markdown",
   "id": "SCjx2JRz1DqV",
   "metadata": {
    "id": "SCjx2JRz1DqV"
   },
   "source": [
    "# Cleaning of data"
   ]
  },
  {
   "cell_type": "markdown",
   "id": "tHjfWXIAXstK",
   "metadata": {
    "id": "tHjfWXIAXstK"
   },
   "source": [
    "The dataset contains information about patients doing cardiovascular disease examination."
   ]
  },
  {
   "cell_type": "markdown",
   "id": "68734174",
   "metadata": {
    "id": "68734174"
   },
   "source": [
    "From the data, we see that there are no null values\n",
    "\n",
    "The description of the columns are as follows:\n",
    "\n",
    "Column | Description | Info\n",
    ":-|:-|:-\n",
    "id| Patient ID number    \n",
    "age| Age of the patient |(in days)   \n",
    "gender| Gender of the patient| (1 - women, 2 - men)     \n",
    "height| Height of the patient| (in cm)        \n",
    "ap_hi| Systolic blood pressure      \n",
    "ap_lo| Diastolic blood pressure     \n",
    "cholesterol| cholestrol category| (1: normal, 2: above normal, 3: well above normal)       \n",
    "gluc| glucose category| (1: normal, 2: above normal, 3: well above normal)      \n",
    "smoke| Whether patient smoke| (0: Non-smoker, 1: Smoker)   \n",
    "alco| Whether patient drinks alcohol| (0: Non-drinker, 1: Drinker)    \n",
    "active| Whether patient is active in exercising| (0: Non-active, 1: Active) \n",
    "cardio| Presence/Absence of cardiovascular disase| (0: Absence, 1: Presence)"
   ]
  },
  {
   "cell_type": "code",
   "execution_count": 26,
   "id": "f3756e44",
   "metadata": {
    "colab": {
     "base_uri": "https://localhost:8080/",
     "height": 364
    },
    "id": "f3756e44",
    "outputId": "b0355554-327a-4ee5-f867-d5816bf6379b",
    "scrolled": true
   },
   "outputs": [
    {
     "data": {
      "text/html": [
       "<div>\n",
       "<style scoped>\n",
       "    .dataframe tbody tr th:only-of-type {\n",
       "        vertical-align: middle;\n",
       "    }\n",
       "\n",
       "    .dataframe tbody tr th {\n",
       "        vertical-align: top;\n",
       "    }\n",
       "\n",
       "    .dataframe thead th {\n",
       "        text-align: right;\n",
       "    }\n",
       "</style>\n",
       "<table border=\"1\" class=\"dataframe\">\n",
       "  <thead>\n",
       "    <tr style=\"text-align: right;\">\n",
       "      <th></th>\n",
       "      <th>id</th>\n",
       "      <th>age</th>\n",
       "      <th>gender</th>\n",
       "      <th>height</th>\n",
       "      <th>weight</th>\n",
       "      <th>ap_hi</th>\n",
       "      <th>ap_lo</th>\n",
       "      <th>cholesterol</th>\n",
       "      <th>gluc</th>\n",
       "      <th>smoke</th>\n",
       "      <th>alco</th>\n",
       "      <th>active</th>\n",
       "      <th>cardio</th>\n",
       "    </tr>\n",
       "  </thead>\n",
       "  <tbody>\n",
       "    <tr>\n",
       "      <th>count</th>\n",
       "      <td>70000.000000</td>\n",
       "      <td>70000.000000</td>\n",
       "      <td>70000.000000</td>\n",
       "      <td>70000.000000</td>\n",
       "      <td>70000.000000</td>\n",
       "      <td>70000.000000</td>\n",
       "      <td>70000.000000</td>\n",
       "      <td>70000.000000</td>\n",
       "      <td>70000.000000</td>\n",
       "      <td>70000.000000</td>\n",
       "      <td>70000.000000</td>\n",
       "      <td>70000.000000</td>\n",
       "      <td>70000.000000</td>\n",
       "    </tr>\n",
       "    <tr>\n",
       "      <th>mean</th>\n",
       "      <td>49972.419900</td>\n",
       "      <td>19468.865814</td>\n",
       "      <td>1.349571</td>\n",
       "      <td>164.359229</td>\n",
       "      <td>74.205690</td>\n",
       "      <td>128.817286</td>\n",
       "      <td>96.630414</td>\n",
       "      <td>1.366871</td>\n",
       "      <td>1.226457</td>\n",
       "      <td>0.088129</td>\n",
       "      <td>0.053771</td>\n",
       "      <td>0.803729</td>\n",
       "      <td>0.499700</td>\n",
       "    </tr>\n",
       "    <tr>\n",
       "      <th>std</th>\n",
       "      <td>28851.302323</td>\n",
       "      <td>2467.251667</td>\n",
       "      <td>0.476838</td>\n",
       "      <td>8.210126</td>\n",
       "      <td>14.395757</td>\n",
       "      <td>154.011419</td>\n",
       "      <td>188.472530</td>\n",
       "      <td>0.680250</td>\n",
       "      <td>0.572270</td>\n",
       "      <td>0.283484</td>\n",
       "      <td>0.225568</td>\n",
       "      <td>0.397179</td>\n",
       "      <td>0.500003</td>\n",
       "    </tr>\n",
       "    <tr>\n",
       "      <th>min</th>\n",
       "      <td>0.000000</td>\n",
       "      <td>10798.000000</td>\n",
       "      <td>1.000000</td>\n",
       "      <td>55.000000</td>\n",
       "      <td>10.000000</td>\n",
       "      <td>-150.000000</td>\n",
       "      <td>-70.000000</td>\n",
       "      <td>1.000000</td>\n",
       "      <td>1.000000</td>\n",
       "      <td>0.000000</td>\n",
       "      <td>0.000000</td>\n",
       "      <td>0.000000</td>\n",
       "      <td>0.000000</td>\n",
       "    </tr>\n",
       "    <tr>\n",
       "      <th>25%</th>\n",
       "      <td>25006.750000</td>\n",
       "      <td>17664.000000</td>\n",
       "      <td>1.000000</td>\n",
       "      <td>159.000000</td>\n",
       "      <td>65.000000</td>\n",
       "      <td>120.000000</td>\n",
       "      <td>80.000000</td>\n",
       "      <td>1.000000</td>\n",
       "      <td>1.000000</td>\n",
       "      <td>0.000000</td>\n",
       "      <td>0.000000</td>\n",
       "      <td>1.000000</td>\n",
       "      <td>0.000000</td>\n",
       "    </tr>\n",
       "    <tr>\n",
       "      <th>50%</th>\n",
       "      <td>50001.500000</td>\n",
       "      <td>19703.000000</td>\n",
       "      <td>1.000000</td>\n",
       "      <td>165.000000</td>\n",
       "      <td>72.000000</td>\n",
       "      <td>120.000000</td>\n",
       "      <td>80.000000</td>\n",
       "      <td>1.000000</td>\n",
       "      <td>1.000000</td>\n",
       "      <td>0.000000</td>\n",
       "      <td>0.000000</td>\n",
       "      <td>1.000000</td>\n",
       "      <td>0.000000</td>\n",
       "    </tr>\n",
       "    <tr>\n",
       "      <th>75%</th>\n",
       "      <td>74889.250000</td>\n",
       "      <td>21327.000000</td>\n",
       "      <td>2.000000</td>\n",
       "      <td>170.000000</td>\n",
       "      <td>82.000000</td>\n",
       "      <td>140.000000</td>\n",
       "      <td>90.000000</td>\n",
       "      <td>2.000000</td>\n",
       "      <td>1.000000</td>\n",
       "      <td>0.000000</td>\n",
       "      <td>0.000000</td>\n",
       "      <td>1.000000</td>\n",
       "      <td>1.000000</td>\n",
       "    </tr>\n",
       "    <tr>\n",
       "      <th>max</th>\n",
       "      <td>99999.000000</td>\n",
       "      <td>23713.000000</td>\n",
       "      <td>2.000000</td>\n",
       "      <td>250.000000</td>\n",
       "      <td>200.000000</td>\n",
       "      <td>16020.000000</td>\n",
       "      <td>11000.000000</td>\n",
       "      <td>3.000000</td>\n",
       "      <td>3.000000</td>\n",
       "      <td>1.000000</td>\n",
       "      <td>1.000000</td>\n",
       "      <td>1.000000</td>\n",
       "      <td>1.000000</td>\n",
       "    </tr>\n",
       "  </tbody>\n",
       "</table>\n",
       "</div>"
      ],
      "text/plain": [
       "                 id           age        gender        height        weight  \\\n",
       "count  70000.000000  70000.000000  70000.000000  70000.000000  70000.000000   \n",
       "mean   49972.419900  19468.865814      1.349571    164.359229     74.205690   \n",
       "std    28851.302323   2467.251667      0.476838      8.210126     14.395757   \n",
       "min        0.000000  10798.000000      1.000000     55.000000     10.000000   \n",
       "25%    25006.750000  17664.000000      1.000000    159.000000     65.000000   \n",
       "50%    50001.500000  19703.000000      1.000000    165.000000     72.000000   \n",
       "75%    74889.250000  21327.000000      2.000000    170.000000     82.000000   \n",
       "max    99999.000000  23713.000000      2.000000    250.000000    200.000000   \n",
       "\n",
       "              ap_hi         ap_lo   cholesterol          gluc         smoke  \\\n",
       "count  70000.000000  70000.000000  70000.000000  70000.000000  70000.000000   \n",
       "mean     128.817286     96.630414      1.366871      1.226457      0.088129   \n",
       "std      154.011419    188.472530      0.680250      0.572270      0.283484   \n",
       "min     -150.000000    -70.000000      1.000000      1.000000      0.000000   \n",
       "25%      120.000000     80.000000      1.000000      1.000000      0.000000   \n",
       "50%      120.000000     80.000000      1.000000      1.000000      0.000000   \n",
       "75%      140.000000     90.000000      2.000000      1.000000      0.000000   \n",
       "max    16020.000000  11000.000000      3.000000      3.000000      1.000000   \n",
       "\n",
       "               alco        active        cardio  \n",
       "count  70000.000000  70000.000000  70000.000000  \n",
       "mean       0.053771      0.803729      0.499700  \n",
       "std        0.225568      0.397179      0.500003  \n",
       "min        0.000000      0.000000      0.000000  \n",
       "25%        0.000000      1.000000      0.000000  \n",
       "50%        0.000000      1.000000      0.000000  \n",
       "75%        0.000000      1.000000      1.000000  \n",
       "max        1.000000      1.000000      1.000000  "
      ]
     },
     "execution_count": 26,
     "metadata": {},
     "output_type": "execute_result"
    }
   ],
   "source": [
    "data.describe()"
   ]
  },
  {
   "cell_type": "markdown",
   "id": "082c25c6",
   "metadata": {
    "id": "082c25c6"
   },
   "source": [
    "### Observations\n",
    "With 70000 data points, the dataset has a sufficient number of data points. Generally the dataset looks fine.\n",
    "\n",
    "However, there still a few of issues with the dataset:\n",
    "\n",
    "* min and max height values may be unrealistic\n",
    "    * 55cm and 250cm\n",
    "* min and max weight values may be unrealistic\n",
    "    * 10kg and 200kg\n",
    "* Systolic blood pressure(ap_hi) and Diastolic blood pressure(ap_lo) have negative values (not possible) and unrealisticly high max values.\n",
    "    * Normal Systolic blood pressure(ap_hi) should be around 120 \n",
    "        *  However it is between 150mmHg and 16020mmHg\n",
    "    * Normal Diastolic blood pressure(ap_lo) should be around 80\n",
    "        *  However it is between 70mmHg and 11000mmHg\n",
    "\n"
   ]
  },
  {
   "cell_type": "markdown",
   "id": "8fca852e",
   "metadata": {},
   "source": [
    "### Other steps \n",
    "In order to match the variables in the cardio dataset with our stroke dataset subsequently, we must also do the following:\n",
    "\n",
    "* Convert age from days to years\n",
    "* Combine height and weight into a new BMI column\n",
    "* Combine ap_hi and ap_lo into a new hypertension column\n",
    "* Drop columns that will not be used\n",
    "\n",
    "\n"
   ]
  },
  {
   "cell_type": "markdown",
   "id": "df4ef630",
   "metadata": {
    "id": "df4ef630"
   },
   "source": [
    "---\n",
    "### Removing outliers from height, weight, ap_hi, ap_lo columns\n",
    "\n",
    "We assume that 5% of the dataset are outliers, and remove the entries that lie in the top 2.5% and bottom 2.5%, this will remove the unrealistic min and max values as well\n",
    "\n",
    "Note: We will not consider outliers for age, as min age = 10798 days = 29 years, while max age = 23713 days = 64 years, which are realistic values"
   ]
  },
  {
   "cell_type": "code",
   "execution_count": 27,
   "id": "fc15ec7b",
   "metadata": {
    "colab": {
     "base_uri": "https://localhost:8080/"
    },
    "id": "fc15ec7b",
    "outputId": "0e78605c-d4de-4d03-d6a8-27f4ca166467"
   },
   "outputs": [],
   "source": [
    "height_outliers = data[(data['height'] > data['height'].quantile(0.975)) | \n",
    "                  (data['height'] < data['height'].quantile(0.025))].index\n",
    "\n",
    "weight_outliers = data[(data['weight'] > data['weight'].quantile(0.975)) | \n",
    "                  (data['weight'] < data['weight'].quantile(0.025))].index\n",
    "\n",
    "aphi_outliers   = data[(data['ap_hi'] > data['ap_hi'].quantile(0.975)) | \n",
    "                  (data['ap_hi'] < data['ap_hi'].quantile(0.025))].index\n",
    "\n",
    "aplo_outliers   = data[(data['ap_lo'] > data['ap_lo'].quantile(0.975)) | \n",
    "                  (data['ap_lo'] < data['ap_lo'].quantile(0.025))].index"
   ]
  },
  {
   "cell_type": "code",
   "execution_count": 28,
   "id": "424eb657",
   "metadata": {},
   "outputs": [
    {
     "data": {
      "text/plain": [
       "8906"
      ]
     },
     "execution_count": 28,
     "metadata": {},
     "output_type": "execute_result"
    }
   ],
   "source": [
    "toremove = set(list(height_outliers) + list(weight_outliers) + list(aphi_outliers) + list(aplo_outliers))\n",
    "len(toremove)"
   ]
  },
  {
   "cell_type": "code",
   "execution_count": 29,
   "id": "a1cc7b03",
   "metadata": {},
   "outputs": [],
   "source": [
    "data.drop(toremove, inplace=True)"
   ]
  },
  {
   "cell_type": "code",
   "execution_count": 30,
   "id": "37087226",
   "metadata": {},
   "outputs": [
    {
     "data": {
      "text/html": [
       "<div>\n",
       "<style scoped>\n",
       "    .dataframe tbody tr th:only-of-type {\n",
       "        vertical-align: middle;\n",
       "    }\n",
       "\n",
       "    .dataframe tbody tr th {\n",
       "        vertical-align: top;\n",
       "    }\n",
       "\n",
       "    .dataframe thead th {\n",
       "        text-align: right;\n",
       "    }\n",
       "</style>\n",
       "<table border=\"1\" class=\"dataframe\">\n",
       "  <thead>\n",
       "    <tr style=\"text-align: right;\">\n",
       "      <th></th>\n",
       "      <th>id</th>\n",
       "      <th>age</th>\n",
       "      <th>gender</th>\n",
       "      <th>height</th>\n",
       "      <th>weight</th>\n",
       "      <th>ap_hi</th>\n",
       "      <th>ap_lo</th>\n",
       "      <th>cholesterol</th>\n",
       "      <th>gluc</th>\n",
       "      <th>smoke</th>\n",
       "      <th>alco</th>\n",
       "      <th>active</th>\n",
       "      <th>cardio</th>\n",
       "    </tr>\n",
       "  </thead>\n",
       "  <tbody>\n",
       "    <tr>\n",
       "      <th>count</th>\n",
       "      <td>61094.000000</td>\n",
       "      <td>61094.000000</td>\n",
       "      <td>61094.000000</td>\n",
       "      <td>61094.000000</td>\n",
       "      <td>61094.000000</td>\n",
       "      <td>61094.000000</td>\n",
       "      <td>61094.000000</td>\n",
       "      <td>61094.000000</td>\n",
       "      <td>61094.000000</td>\n",
       "      <td>61094.000000</td>\n",
       "      <td>61094.000000</td>\n",
       "      <td>61094.000000</td>\n",
       "      <td>61094.000000</td>\n",
       "    </tr>\n",
       "    <tr>\n",
       "      <th>mean</th>\n",
       "      <td>49885.960536</td>\n",
       "      <td>19476.633041</td>\n",
       "      <td>1.347334</td>\n",
       "      <td>164.538645</td>\n",
       "      <td>73.515243</td>\n",
       "      <td>126.149736</td>\n",
       "      <td>81.148558</td>\n",
       "      <td>1.354356</td>\n",
       "      <td>1.220807</td>\n",
       "      <td>0.085868</td>\n",
       "      <td>0.052231</td>\n",
       "      <td>0.803500</td>\n",
       "      <td>0.491685</td>\n",
       "    </tr>\n",
       "    <tr>\n",
       "      <th>std</th>\n",
       "      <td>28846.600883</td>\n",
       "      <td>2459.569651</td>\n",
       "      <td>0.476127</td>\n",
       "      <td>6.843466</td>\n",
       "      <td>11.847502</td>\n",
       "      <td>14.302501</td>\n",
       "      <td>8.325156</td>\n",
       "      <td>0.672474</td>\n",
       "      <td>0.567816</td>\n",
       "      <td>0.280171</td>\n",
       "      <td>0.222494</td>\n",
       "      <td>0.397355</td>\n",
       "      <td>0.499935</td>\n",
       "    </tr>\n",
       "    <tr>\n",
       "      <th>min</th>\n",
       "      <td>0.000000</td>\n",
       "      <td>10798.000000</td>\n",
       "      <td>1.000000</td>\n",
       "      <td>150.000000</td>\n",
       "      <td>51.000000</td>\n",
       "      <td>100.000000</td>\n",
       "      <td>60.000000</td>\n",
       "      <td>1.000000</td>\n",
       "      <td>1.000000</td>\n",
       "      <td>0.000000</td>\n",
       "      <td>0.000000</td>\n",
       "      <td>0.000000</td>\n",
       "      <td>0.000000</td>\n",
       "    </tr>\n",
       "    <tr>\n",
       "      <th>25%</th>\n",
       "      <td>24853.250000</td>\n",
       "      <td>17692.250000</td>\n",
       "      <td>1.000000</td>\n",
       "      <td>160.000000</td>\n",
       "      <td>65.000000</td>\n",
       "      <td>120.000000</td>\n",
       "      <td>80.000000</td>\n",
       "      <td>1.000000</td>\n",
       "      <td>1.000000</td>\n",
       "      <td>0.000000</td>\n",
       "      <td>0.000000</td>\n",
       "      <td>1.000000</td>\n",
       "      <td>0.000000</td>\n",
       "    </tr>\n",
       "    <tr>\n",
       "      <th>50%</th>\n",
       "      <td>49887.500000</td>\n",
       "      <td>19708.000000</td>\n",
       "      <td>1.000000</td>\n",
       "      <td>165.000000</td>\n",
       "      <td>72.000000</td>\n",
       "      <td>120.000000</td>\n",
       "      <td>80.000000</td>\n",
       "      <td>1.000000</td>\n",
       "      <td>1.000000</td>\n",
       "      <td>0.000000</td>\n",
       "      <td>0.000000</td>\n",
       "      <td>1.000000</td>\n",
       "      <td>0.000000</td>\n",
       "    </tr>\n",
       "    <tr>\n",
       "      <th>75%</th>\n",
       "      <td>74738.500000</td>\n",
       "      <td>21327.000000</td>\n",
       "      <td>2.000000</td>\n",
       "      <td>169.000000</td>\n",
       "      <td>81.000000</td>\n",
       "      <td>140.000000</td>\n",
       "      <td>90.000000</td>\n",
       "      <td>1.000000</td>\n",
       "      <td>1.000000</td>\n",
       "      <td>0.000000</td>\n",
       "      <td>0.000000</td>\n",
       "      <td>1.000000</td>\n",
       "      <td>1.000000</td>\n",
       "    </tr>\n",
       "    <tr>\n",
       "      <th>max</th>\n",
       "      <td>99999.000000</td>\n",
       "      <td>23713.000000</td>\n",
       "      <td>2.000000</td>\n",
       "      <td>180.000000</td>\n",
       "      <td>108.000000</td>\n",
       "      <td>170.000000</td>\n",
       "      <td>100.000000</td>\n",
       "      <td>3.000000</td>\n",
       "      <td>3.000000</td>\n",
       "      <td>1.000000</td>\n",
       "      <td>1.000000</td>\n",
       "      <td>1.000000</td>\n",
       "      <td>1.000000</td>\n",
       "    </tr>\n",
       "  </tbody>\n",
       "</table>\n",
       "</div>"
      ],
      "text/plain": [
       "                 id           age        gender        height        weight  \\\n",
       "count  61094.000000  61094.000000  61094.000000  61094.000000  61094.000000   \n",
       "mean   49885.960536  19476.633041      1.347334    164.538645     73.515243   \n",
       "std    28846.600883   2459.569651      0.476127      6.843466     11.847502   \n",
       "min        0.000000  10798.000000      1.000000    150.000000     51.000000   \n",
       "25%    24853.250000  17692.250000      1.000000    160.000000     65.000000   \n",
       "50%    49887.500000  19708.000000      1.000000    165.000000     72.000000   \n",
       "75%    74738.500000  21327.000000      2.000000    169.000000     81.000000   \n",
       "max    99999.000000  23713.000000      2.000000    180.000000    108.000000   \n",
       "\n",
       "              ap_hi         ap_lo   cholesterol          gluc         smoke  \\\n",
       "count  61094.000000  61094.000000  61094.000000  61094.000000  61094.000000   \n",
       "mean     126.149736     81.148558      1.354356      1.220807      0.085868   \n",
       "std       14.302501      8.325156      0.672474      0.567816      0.280171   \n",
       "min      100.000000     60.000000      1.000000      1.000000      0.000000   \n",
       "25%      120.000000     80.000000      1.000000      1.000000      0.000000   \n",
       "50%      120.000000     80.000000      1.000000      1.000000      0.000000   \n",
       "75%      140.000000     90.000000      1.000000      1.000000      0.000000   \n",
       "max      170.000000    100.000000      3.000000      3.000000      1.000000   \n",
       "\n",
       "               alco        active        cardio  \n",
       "count  61094.000000  61094.000000  61094.000000  \n",
       "mean       0.052231      0.803500      0.491685  \n",
       "std        0.222494      0.397355      0.499935  \n",
       "min        0.000000      0.000000      0.000000  \n",
       "25%        0.000000      1.000000      0.000000  \n",
       "50%        0.000000      1.000000      0.000000  \n",
       "75%        0.000000      1.000000      1.000000  \n",
       "max        1.000000      1.000000      1.000000  "
      ]
     },
     "execution_count": 30,
     "metadata": {},
     "output_type": "execute_result"
    }
   ],
   "source": [
    "# Check that the min and max values of the columns have changed\n",
    "# New total count should be 70000 - 8906 = 61094\n",
    "\n",
    "data.describe()"
   ]
  },
  {
   "cell_type": "markdown",
   "id": "8da2f66f",
   "metadata": {},
   "source": [
    "--- \n",
    "### Removing invalid ap_lo and ap_hi entries\n",
    "Even though we already removed the outliers, we still need to check for all the entries that the systolic blood pressure (ap_hi) cannot be lower than the diastolic blood pressure (ap_lo)"
   ]
  },
  {
   "cell_type": "code",
   "execution_count": 31,
   "id": "e93ce9df",
   "metadata": {},
   "outputs": [
    {
     "data": {
      "text/plain": [
       "Int64Index([], dtype='int64')"
      ]
     },
     "execution_count": 31,
     "metadata": {},
     "output_type": "execute_result"
    }
   ],
   "source": [
    "invalid = data[(data['ap_hi'] < data['ap_lo'])].index\n",
    "invalid"
   ]
  },
  {
   "cell_type": "markdown",
   "id": "e54d2cd5",
   "metadata": {
    "id": "e54d2cd5"
   },
   "source": [
    "We see that by removing the outliers, the invalid entries have also been removed as well. No need for additional work to be done\n",
    "\n",
    "---\n",
    "\n",
    "Next, we perform the additional steps in order to match our stroke dataset\n",
    "\n",
    "### To convert age columns from days to years"
   ]
  },
  {
   "cell_type": "code",
   "execution_count": 32,
   "id": "469d7508",
   "metadata": {
    "id": "469d7508"
   },
   "outputs": [],
   "source": [
    "data['age'] = data['age'].apply(lambda x: x//365)"
   ]
  },
  {
   "cell_type": "code",
   "execution_count": 33,
   "id": "e0fe09ea",
   "metadata": {
    "colab": {
     "base_uri": "https://localhost:8080/",
     "height": 364
    },
    "id": "e0fe09ea",
    "outputId": "de6ae9e7-fd71-4d53-9c88-945c05ae54e6",
    "scrolled": true
   },
   "outputs": [
    {
     "data": {
      "text/html": [
       "<div>\n",
       "<style scoped>\n",
       "    .dataframe tbody tr th:only-of-type {\n",
       "        vertical-align: middle;\n",
       "    }\n",
       "\n",
       "    .dataframe tbody tr th {\n",
       "        vertical-align: top;\n",
       "    }\n",
       "\n",
       "    .dataframe thead th {\n",
       "        text-align: right;\n",
       "    }\n",
       "</style>\n",
       "<table border=\"1\" class=\"dataframe\">\n",
       "  <thead>\n",
       "    <tr style=\"text-align: right;\">\n",
       "      <th></th>\n",
       "      <th>id</th>\n",
       "      <th>age</th>\n",
       "      <th>gender</th>\n",
       "      <th>height</th>\n",
       "      <th>weight</th>\n",
       "      <th>ap_hi</th>\n",
       "      <th>ap_lo</th>\n",
       "      <th>cholesterol</th>\n",
       "      <th>gluc</th>\n",
       "      <th>smoke</th>\n",
       "      <th>alco</th>\n",
       "      <th>active</th>\n",
       "      <th>cardio</th>\n",
       "    </tr>\n",
       "  </thead>\n",
       "  <tbody>\n",
       "    <tr>\n",
       "      <th>count</th>\n",
       "      <td>61094.000000</td>\n",
       "      <td>61094.000000</td>\n",
       "      <td>61094.000000</td>\n",
       "      <td>61094.000000</td>\n",
       "      <td>61094.000000</td>\n",
       "      <td>61094.000000</td>\n",
       "      <td>61094.000000</td>\n",
       "      <td>61094.000000</td>\n",
       "      <td>61094.000000</td>\n",
       "      <td>61094.000000</td>\n",
       "      <td>61094.000000</td>\n",
       "      <td>61094.000000</td>\n",
       "      <td>61094.000000</td>\n",
       "    </tr>\n",
       "    <tr>\n",
       "      <th>mean</th>\n",
       "      <td>49885.960536</td>\n",
       "      <td>52.861656</td>\n",
       "      <td>1.347334</td>\n",
       "      <td>164.538645</td>\n",
       "      <td>73.515243</td>\n",
       "      <td>126.149736</td>\n",
       "      <td>81.148558</td>\n",
       "      <td>1.354356</td>\n",
       "      <td>1.220807</td>\n",
       "      <td>0.085868</td>\n",
       "      <td>0.052231</td>\n",
       "      <td>0.803500</td>\n",
       "      <td>0.491685</td>\n",
       "    </tr>\n",
       "    <tr>\n",
       "      <th>std</th>\n",
       "      <td>28846.600883</td>\n",
       "      <td>6.745516</td>\n",
       "      <td>0.476127</td>\n",
       "      <td>6.843466</td>\n",
       "      <td>11.847502</td>\n",
       "      <td>14.302501</td>\n",
       "      <td>8.325156</td>\n",
       "      <td>0.672474</td>\n",
       "      <td>0.567816</td>\n",
       "      <td>0.280171</td>\n",
       "      <td>0.222494</td>\n",
       "      <td>0.397355</td>\n",
       "      <td>0.499935</td>\n",
       "    </tr>\n",
       "    <tr>\n",
       "      <th>min</th>\n",
       "      <td>0.000000</td>\n",
       "      <td>29.000000</td>\n",
       "      <td>1.000000</td>\n",
       "      <td>150.000000</td>\n",
       "      <td>51.000000</td>\n",
       "      <td>100.000000</td>\n",
       "      <td>60.000000</td>\n",
       "      <td>1.000000</td>\n",
       "      <td>1.000000</td>\n",
       "      <td>0.000000</td>\n",
       "      <td>0.000000</td>\n",
       "      <td>0.000000</td>\n",
       "      <td>0.000000</td>\n",
       "    </tr>\n",
       "    <tr>\n",
       "      <th>25%</th>\n",
       "      <td>24853.250000</td>\n",
       "      <td>48.000000</td>\n",
       "      <td>1.000000</td>\n",
       "      <td>160.000000</td>\n",
       "      <td>65.000000</td>\n",
       "      <td>120.000000</td>\n",
       "      <td>80.000000</td>\n",
       "      <td>1.000000</td>\n",
       "      <td>1.000000</td>\n",
       "      <td>0.000000</td>\n",
       "      <td>0.000000</td>\n",
       "      <td>1.000000</td>\n",
       "      <td>0.000000</td>\n",
       "    </tr>\n",
       "    <tr>\n",
       "      <th>50%</th>\n",
       "      <td>49887.500000</td>\n",
       "      <td>53.000000</td>\n",
       "      <td>1.000000</td>\n",
       "      <td>165.000000</td>\n",
       "      <td>72.000000</td>\n",
       "      <td>120.000000</td>\n",
       "      <td>80.000000</td>\n",
       "      <td>1.000000</td>\n",
       "      <td>1.000000</td>\n",
       "      <td>0.000000</td>\n",
       "      <td>0.000000</td>\n",
       "      <td>1.000000</td>\n",
       "      <td>0.000000</td>\n",
       "    </tr>\n",
       "    <tr>\n",
       "      <th>75%</th>\n",
       "      <td>74738.500000</td>\n",
       "      <td>58.000000</td>\n",
       "      <td>2.000000</td>\n",
       "      <td>169.000000</td>\n",
       "      <td>81.000000</td>\n",
       "      <td>140.000000</td>\n",
       "      <td>90.000000</td>\n",
       "      <td>1.000000</td>\n",
       "      <td>1.000000</td>\n",
       "      <td>0.000000</td>\n",
       "      <td>0.000000</td>\n",
       "      <td>1.000000</td>\n",
       "      <td>1.000000</td>\n",
       "    </tr>\n",
       "    <tr>\n",
       "      <th>max</th>\n",
       "      <td>99999.000000</td>\n",
       "      <td>64.000000</td>\n",
       "      <td>2.000000</td>\n",
       "      <td>180.000000</td>\n",
       "      <td>108.000000</td>\n",
       "      <td>170.000000</td>\n",
       "      <td>100.000000</td>\n",
       "      <td>3.000000</td>\n",
       "      <td>3.000000</td>\n",
       "      <td>1.000000</td>\n",
       "      <td>1.000000</td>\n",
       "      <td>1.000000</td>\n",
       "      <td>1.000000</td>\n",
       "    </tr>\n",
       "  </tbody>\n",
       "</table>\n",
       "</div>"
      ],
      "text/plain": [
       "                 id           age        gender        height        weight  \\\n",
       "count  61094.000000  61094.000000  61094.000000  61094.000000  61094.000000   \n",
       "mean   49885.960536     52.861656      1.347334    164.538645     73.515243   \n",
       "std    28846.600883      6.745516      0.476127      6.843466     11.847502   \n",
       "min        0.000000     29.000000      1.000000    150.000000     51.000000   \n",
       "25%    24853.250000     48.000000      1.000000    160.000000     65.000000   \n",
       "50%    49887.500000     53.000000      1.000000    165.000000     72.000000   \n",
       "75%    74738.500000     58.000000      2.000000    169.000000     81.000000   \n",
       "max    99999.000000     64.000000      2.000000    180.000000    108.000000   \n",
       "\n",
       "              ap_hi         ap_lo   cholesterol          gluc         smoke  \\\n",
       "count  61094.000000  61094.000000  61094.000000  61094.000000  61094.000000   \n",
       "mean     126.149736     81.148558      1.354356      1.220807      0.085868   \n",
       "std       14.302501      8.325156      0.672474      0.567816      0.280171   \n",
       "min      100.000000     60.000000      1.000000      1.000000      0.000000   \n",
       "25%      120.000000     80.000000      1.000000      1.000000      0.000000   \n",
       "50%      120.000000     80.000000      1.000000      1.000000      0.000000   \n",
       "75%      140.000000     90.000000      1.000000      1.000000      0.000000   \n",
       "max      170.000000    100.000000      3.000000      3.000000      1.000000   \n",
       "\n",
       "               alco        active        cardio  \n",
       "count  61094.000000  61094.000000  61094.000000  \n",
       "mean       0.052231      0.803500      0.491685  \n",
       "std        0.222494      0.397355      0.499935  \n",
       "min        0.000000      0.000000      0.000000  \n",
       "25%        0.000000      1.000000      0.000000  \n",
       "50%        0.000000      1.000000      0.000000  \n",
       "75%        0.000000      1.000000      1.000000  \n",
       "max        1.000000      1.000000      1.000000  "
      ]
     },
     "execution_count": 33,
     "metadata": {},
     "output_type": "execute_result"
    }
   ],
   "source": [
    "data.describe()"
   ]
  },
  {
   "cell_type": "markdown",
   "id": "897b4c17",
   "metadata": {
    "id": "897b4c17"
   },
   "source": [
    "---\n",
    "\n",
    "### Combining height and weight into a single BMI column\n",
    "In reality, BMI is another good indicator to determine how healthy an individual is. A normal healthy BMI should have a range of 18.5 to 25.\n",
    "\n",
    "Formula for BMI = mass in kg / (height in m) ** 2 "
   ]
  },
  {
   "cell_type": "code",
   "execution_count": 34,
   "id": "8ba609ed",
   "metadata": {
    "id": "8ba609ed",
    "scrolled": true
   },
   "outputs": [],
   "source": [
    "data[\"bmi\"] = data.apply(lambda x: x[\"weight\"] / ((x[\"height\"]/100)*(x[\"height\"]/100) ), axis=1)"
   ]
  },
  {
   "cell_type": "code",
   "execution_count": 35,
   "id": "9f06ea97",
   "metadata": {
    "scrolled": true
   },
   "outputs": [
    {
     "data": {
      "text/html": [
       "<div>\n",
       "<style scoped>\n",
       "    .dataframe tbody tr th:only-of-type {\n",
       "        vertical-align: middle;\n",
       "    }\n",
       "\n",
       "    .dataframe tbody tr th {\n",
       "        vertical-align: top;\n",
       "    }\n",
       "\n",
       "    .dataframe thead th {\n",
       "        text-align: right;\n",
       "    }\n",
       "</style>\n",
       "<table border=\"1\" class=\"dataframe\">\n",
       "  <thead>\n",
       "    <tr style=\"text-align: right;\">\n",
       "      <th></th>\n",
       "      <th>id</th>\n",
       "      <th>age</th>\n",
       "      <th>gender</th>\n",
       "      <th>height</th>\n",
       "      <th>weight</th>\n",
       "      <th>ap_hi</th>\n",
       "      <th>ap_lo</th>\n",
       "      <th>cholesterol</th>\n",
       "      <th>gluc</th>\n",
       "      <th>smoke</th>\n",
       "      <th>alco</th>\n",
       "      <th>active</th>\n",
       "      <th>cardio</th>\n",
       "      <th>bmi</th>\n",
       "    </tr>\n",
       "  </thead>\n",
       "  <tbody>\n",
       "    <tr>\n",
       "      <th>count</th>\n",
       "      <td>61094.000000</td>\n",
       "      <td>61094.000000</td>\n",
       "      <td>61094.000000</td>\n",
       "      <td>61094.000000</td>\n",
       "      <td>61094.000000</td>\n",
       "      <td>61094.000000</td>\n",
       "      <td>61094.000000</td>\n",
       "      <td>61094.000000</td>\n",
       "      <td>61094.000000</td>\n",
       "      <td>61094.000000</td>\n",
       "      <td>61094.000000</td>\n",
       "      <td>61094.000000</td>\n",
       "      <td>61094.000000</td>\n",
       "      <td>61094.000000</td>\n",
       "    </tr>\n",
       "    <tr>\n",
       "      <th>mean</th>\n",
       "      <td>49885.960536</td>\n",
       "      <td>52.861656</td>\n",
       "      <td>1.347334</td>\n",
       "      <td>164.538645</td>\n",
       "      <td>73.515243</td>\n",
       "      <td>126.149736</td>\n",
       "      <td>81.148558</td>\n",
       "      <td>1.354356</td>\n",
       "      <td>1.220807</td>\n",
       "      <td>0.085868</td>\n",
       "      <td>0.052231</td>\n",
       "      <td>0.803500</td>\n",
       "      <td>0.491685</td>\n",
       "      <td>27.206710</td>\n",
       "    </tr>\n",
       "    <tr>\n",
       "      <th>std</th>\n",
       "      <td>28846.600883</td>\n",
       "      <td>6.745516</td>\n",
       "      <td>0.476127</td>\n",
       "      <td>6.843466</td>\n",
       "      <td>11.847502</td>\n",
       "      <td>14.302501</td>\n",
       "      <td>8.325156</td>\n",
       "      <td>0.672474</td>\n",
       "      <td>0.567816</td>\n",
       "      <td>0.280171</td>\n",
       "      <td>0.222494</td>\n",
       "      <td>0.397355</td>\n",
       "      <td>0.499935</td>\n",
       "      <td>4.478431</td>\n",
       "    </tr>\n",
       "    <tr>\n",
       "      <th>min</th>\n",
       "      <td>0.000000</td>\n",
       "      <td>29.000000</td>\n",
       "      <td>1.000000</td>\n",
       "      <td>150.000000</td>\n",
       "      <td>51.000000</td>\n",
       "      <td>100.000000</td>\n",
       "      <td>60.000000</td>\n",
       "      <td>1.000000</td>\n",
       "      <td>1.000000</td>\n",
       "      <td>0.000000</td>\n",
       "      <td>0.000000</td>\n",
       "      <td>0.000000</td>\n",
       "      <td>0.000000</td>\n",
       "      <td>15.740741</td>\n",
       "    </tr>\n",
       "    <tr>\n",
       "      <th>25%</th>\n",
       "      <td>24853.250000</td>\n",
       "      <td>48.000000</td>\n",
       "      <td>1.000000</td>\n",
       "      <td>160.000000</td>\n",
       "      <td>65.000000</td>\n",
       "      <td>120.000000</td>\n",
       "      <td>80.000000</td>\n",
       "      <td>1.000000</td>\n",
       "      <td>1.000000</td>\n",
       "      <td>0.000000</td>\n",
       "      <td>0.000000</td>\n",
       "      <td>1.000000</td>\n",
       "      <td>0.000000</td>\n",
       "      <td>23.875115</td>\n",
       "    </tr>\n",
       "    <tr>\n",
       "      <th>50%</th>\n",
       "      <td>49887.500000</td>\n",
       "      <td>53.000000</td>\n",
       "      <td>1.000000</td>\n",
       "      <td>165.000000</td>\n",
       "      <td>72.000000</td>\n",
       "      <td>120.000000</td>\n",
       "      <td>80.000000</td>\n",
       "      <td>1.000000</td>\n",
       "      <td>1.000000</td>\n",
       "      <td>0.000000</td>\n",
       "      <td>0.000000</td>\n",
       "      <td>1.000000</td>\n",
       "      <td>0.000000</td>\n",
       "      <td>26.259585</td>\n",
       "    </tr>\n",
       "    <tr>\n",
       "      <th>75%</th>\n",
       "      <td>74738.500000</td>\n",
       "      <td>58.000000</td>\n",
       "      <td>2.000000</td>\n",
       "      <td>169.000000</td>\n",
       "      <td>81.000000</td>\n",
       "      <td>140.000000</td>\n",
       "      <td>90.000000</td>\n",
       "      <td>1.000000</td>\n",
       "      <td>1.000000</td>\n",
       "      <td>0.000000</td>\n",
       "      <td>0.000000</td>\n",
       "      <td>1.000000</td>\n",
       "      <td>1.000000</td>\n",
       "      <td>29.760863</td>\n",
       "    </tr>\n",
       "    <tr>\n",
       "      <th>max</th>\n",
       "      <td>99999.000000</td>\n",
       "      <td>64.000000</td>\n",
       "      <td>2.000000</td>\n",
       "      <td>180.000000</td>\n",
       "      <td>108.000000</td>\n",
       "      <td>170.000000</td>\n",
       "      <td>100.000000</td>\n",
       "      <td>3.000000</td>\n",
       "      <td>3.000000</td>\n",
       "      <td>1.000000</td>\n",
       "      <td>1.000000</td>\n",
       "      <td>1.000000</td>\n",
       "      <td>1.000000</td>\n",
       "      <td>48.000000</td>\n",
       "    </tr>\n",
       "  </tbody>\n",
       "</table>\n",
       "</div>"
      ],
      "text/plain": [
       "                 id           age        gender        height        weight  \\\n",
       "count  61094.000000  61094.000000  61094.000000  61094.000000  61094.000000   \n",
       "mean   49885.960536     52.861656      1.347334    164.538645     73.515243   \n",
       "std    28846.600883      6.745516      0.476127      6.843466     11.847502   \n",
       "min        0.000000     29.000000      1.000000    150.000000     51.000000   \n",
       "25%    24853.250000     48.000000      1.000000    160.000000     65.000000   \n",
       "50%    49887.500000     53.000000      1.000000    165.000000     72.000000   \n",
       "75%    74738.500000     58.000000      2.000000    169.000000     81.000000   \n",
       "max    99999.000000     64.000000      2.000000    180.000000    108.000000   \n",
       "\n",
       "              ap_hi         ap_lo   cholesterol          gluc         smoke  \\\n",
       "count  61094.000000  61094.000000  61094.000000  61094.000000  61094.000000   \n",
       "mean     126.149736     81.148558      1.354356      1.220807      0.085868   \n",
       "std       14.302501      8.325156      0.672474      0.567816      0.280171   \n",
       "min      100.000000     60.000000      1.000000      1.000000      0.000000   \n",
       "25%      120.000000     80.000000      1.000000      1.000000      0.000000   \n",
       "50%      120.000000     80.000000      1.000000      1.000000      0.000000   \n",
       "75%      140.000000     90.000000      1.000000      1.000000      0.000000   \n",
       "max      170.000000    100.000000      3.000000      3.000000      1.000000   \n",
       "\n",
       "               alco        active        cardio           bmi  \n",
       "count  61094.000000  61094.000000  61094.000000  61094.000000  \n",
       "mean       0.052231      0.803500      0.491685     27.206710  \n",
       "std        0.222494      0.397355      0.499935      4.478431  \n",
       "min        0.000000      0.000000      0.000000     15.740741  \n",
       "25%        0.000000      1.000000      0.000000     23.875115  \n",
       "50%        0.000000      1.000000      0.000000     26.259585  \n",
       "75%        0.000000      1.000000      1.000000     29.760863  \n",
       "max        1.000000      1.000000      1.000000     48.000000  "
      ]
     },
     "execution_count": 35,
     "metadata": {},
     "output_type": "execute_result"
    }
   ],
   "source": [
    "data.describe()"
   ]
  },
  {
   "cell_type": "markdown",
   "id": "11ce7034",
   "metadata": {},
   "source": [
    "--- \n",
    "### Combining ap_hi and ap_lo into a single hypertension column\n",
    "![title](img/hypertension.png)\n",
    "\n",
    "We will use the above image as reference to determine whether the patient has hypertension.       \n",
    "\n",
    "We notice that the values are being stored as integers, this could be due to the values being rounded when storing the values. Therefore, instead of comparing value >= threshold, we will instead compare value > threshold instead.\n",
    "\n",
    "* Patients with a systolic blood pressure (ap_hi) > 130 will be considered as hypertension.    \n",
    "\n",
    "* Patients with a diastolic blood pressure (ap_lo) > 80 will be considered as hypertension.      "
   ]
  },
  {
   "cell_type": "code",
   "execution_count": 36,
   "id": "2f416f69",
   "metadata": {},
   "outputs": [
    {
     "data": {
      "text/html": [
       "<div>\n",
       "<style scoped>\n",
       "    .dataframe tbody tr th:only-of-type {\n",
       "        vertical-align: middle;\n",
       "    }\n",
       "\n",
       "    .dataframe tbody tr th {\n",
       "        vertical-align: top;\n",
       "    }\n",
       "\n",
       "    .dataframe thead th {\n",
       "        text-align: right;\n",
       "    }\n",
       "</style>\n",
       "<table border=\"1\" class=\"dataframe\">\n",
       "  <thead>\n",
       "    <tr style=\"text-align: right;\">\n",
       "      <th></th>\n",
       "      <th>id</th>\n",
       "      <th>age</th>\n",
       "      <th>gender</th>\n",
       "      <th>height</th>\n",
       "      <th>weight</th>\n",
       "      <th>ap_hi</th>\n",
       "      <th>ap_lo</th>\n",
       "      <th>cholesterol</th>\n",
       "      <th>gluc</th>\n",
       "      <th>smoke</th>\n",
       "      <th>alco</th>\n",
       "      <th>active</th>\n",
       "      <th>cardio</th>\n",
       "      <th>bmi</th>\n",
       "      <th>hypertension</th>\n",
       "    </tr>\n",
       "  </thead>\n",
       "  <tbody>\n",
       "    <tr>\n",
       "      <th>count</th>\n",
       "      <td>61094.000000</td>\n",
       "      <td>61094.000000</td>\n",
       "      <td>61094.000000</td>\n",
       "      <td>61094.000000</td>\n",
       "      <td>61094.000000</td>\n",
       "      <td>61094.000000</td>\n",
       "      <td>61094.000000</td>\n",
       "      <td>61094.000000</td>\n",
       "      <td>61094.000000</td>\n",
       "      <td>61094.000000</td>\n",
       "      <td>61094.000000</td>\n",
       "      <td>61094.000000</td>\n",
       "      <td>61094.000000</td>\n",
       "      <td>61094.000000</td>\n",
       "      <td>61094.000000</td>\n",
       "    </tr>\n",
       "    <tr>\n",
       "      <th>mean</th>\n",
       "      <td>49885.960536</td>\n",
       "      <td>52.861656</td>\n",
       "      <td>1.347334</td>\n",
       "      <td>164.538645</td>\n",
       "      <td>73.515243</td>\n",
       "      <td>126.149736</td>\n",
       "      <td>81.148558</td>\n",
       "      <td>1.354356</td>\n",
       "      <td>1.220807</td>\n",
       "      <td>0.085868</td>\n",
       "      <td>0.052231</td>\n",
       "      <td>0.803500</td>\n",
       "      <td>0.491685</td>\n",
       "      <td>27.206710</td>\n",
       "      <td>0.338102</td>\n",
       "    </tr>\n",
       "    <tr>\n",
       "      <th>std</th>\n",
       "      <td>28846.600883</td>\n",
       "      <td>6.745516</td>\n",
       "      <td>0.476127</td>\n",
       "      <td>6.843466</td>\n",
       "      <td>11.847502</td>\n",
       "      <td>14.302501</td>\n",
       "      <td>8.325156</td>\n",
       "      <td>0.672474</td>\n",
       "      <td>0.567816</td>\n",
       "      <td>0.280171</td>\n",
       "      <td>0.222494</td>\n",
       "      <td>0.397355</td>\n",
       "      <td>0.499935</td>\n",
       "      <td>4.478431</td>\n",
       "      <td>0.473067</td>\n",
       "    </tr>\n",
       "    <tr>\n",
       "      <th>min</th>\n",
       "      <td>0.000000</td>\n",
       "      <td>29.000000</td>\n",
       "      <td>1.000000</td>\n",
       "      <td>150.000000</td>\n",
       "      <td>51.000000</td>\n",
       "      <td>100.000000</td>\n",
       "      <td>60.000000</td>\n",
       "      <td>1.000000</td>\n",
       "      <td>1.000000</td>\n",
       "      <td>0.000000</td>\n",
       "      <td>0.000000</td>\n",
       "      <td>0.000000</td>\n",
       "      <td>0.000000</td>\n",
       "      <td>15.740741</td>\n",
       "      <td>0.000000</td>\n",
       "    </tr>\n",
       "    <tr>\n",
       "      <th>25%</th>\n",
       "      <td>24853.250000</td>\n",
       "      <td>48.000000</td>\n",
       "      <td>1.000000</td>\n",
       "      <td>160.000000</td>\n",
       "      <td>65.000000</td>\n",
       "      <td>120.000000</td>\n",
       "      <td>80.000000</td>\n",
       "      <td>1.000000</td>\n",
       "      <td>1.000000</td>\n",
       "      <td>0.000000</td>\n",
       "      <td>0.000000</td>\n",
       "      <td>1.000000</td>\n",
       "      <td>0.000000</td>\n",
       "      <td>23.875115</td>\n",
       "      <td>0.000000</td>\n",
       "    </tr>\n",
       "    <tr>\n",
       "      <th>50%</th>\n",
       "      <td>49887.500000</td>\n",
       "      <td>53.000000</td>\n",
       "      <td>1.000000</td>\n",
       "      <td>165.000000</td>\n",
       "      <td>72.000000</td>\n",
       "      <td>120.000000</td>\n",
       "      <td>80.000000</td>\n",
       "      <td>1.000000</td>\n",
       "      <td>1.000000</td>\n",
       "      <td>0.000000</td>\n",
       "      <td>0.000000</td>\n",
       "      <td>1.000000</td>\n",
       "      <td>0.000000</td>\n",
       "      <td>26.259585</td>\n",
       "      <td>0.000000</td>\n",
       "    </tr>\n",
       "    <tr>\n",
       "      <th>75%</th>\n",
       "      <td>74738.500000</td>\n",
       "      <td>58.000000</td>\n",
       "      <td>2.000000</td>\n",
       "      <td>169.000000</td>\n",
       "      <td>81.000000</td>\n",
       "      <td>140.000000</td>\n",
       "      <td>90.000000</td>\n",
       "      <td>1.000000</td>\n",
       "      <td>1.000000</td>\n",
       "      <td>0.000000</td>\n",
       "      <td>0.000000</td>\n",
       "      <td>1.000000</td>\n",
       "      <td>1.000000</td>\n",
       "      <td>29.760863</td>\n",
       "      <td>1.000000</td>\n",
       "    </tr>\n",
       "    <tr>\n",
       "      <th>max</th>\n",
       "      <td>99999.000000</td>\n",
       "      <td>64.000000</td>\n",
       "      <td>2.000000</td>\n",
       "      <td>180.000000</td>\n",
       "      <td>108.000000</td>\n",
       "      <td>170.000000</td>\n",
       "      <td>100.000000</td>\n",
       "      <td>3.000000</td>\n",
       "      <td>3.000000</td>\n",
       "      <td>1.000000</td>\n",
       "      <td>1.000000</td>\n",
       "      <td>1.000000</td>\n",
       "      <td>1.000000</td>\n",
       "      <td>48.000000</td>\n",
       "      <td>1.000000</td>\n",
       "    </tr>\n",
       "  </tbody>\n",
       "</table>\n",
       "</div>"
      ],
      "text/plain": [
       "                 id           age        gender        height        weight  \\\n",
       "count  61094.000000  61094.000000  61094.000000  61094.000000  61094.000000   \n",
       "mean   49885.960536     52.861656      1.347334    164.538645     73.515243   \n",
       "std    28846.600883      6.745516      0.476127      6.843466     11.847502   \n",
       "min        0.000000     29.000000      1.000000    150.000000     51.000000   \n",
       "25%    24853.250000     48.000000      1.000000    160.000000     65.000000   \n",
       "50%    49887.500000     53.000000      1.000000    165.000000     72.000000   \n",
       "75%    74738.500000     58.000000      2.000000    169.000000     81.000000   \n",
       "max    99999.000000     64.000000      2.000000    180.000000    108.000000   \n",
       "\n",
       "              ap_hi         ap_lo   cholesterol          gluc         smoke  \\\n",
       "count  61094.000000  61094.000000  61094.000000  61094.000000  61094.000000   \n",
       "mean     126.149736     81.148558      1.354356      1.220807      0.085868   \n",
       "std       14.302501      8.325156      0.672474      0.567816      0.280171   \n",
       "min      100.000000     60.000000      1.000000      1.000000      0.000000   \n",
       "25%      120.000000     80.000000      1.000000      1.000000      0.000000   \n",
       "50%      120.000000     80.000000      1.000000      1.000000      0.000000   \n",
       "75%      140.000000     90.000000      1.000000      1.000000      0.000000   \n",
       "max      170.000000    100.000000      3.000000      3.000000      1.000000   \n",
       "\n",
       "               alco        active        cardio           bmi  hypertension  \n",
       "count  61094.000000  61094.000000  61094.000000  61094.000000  61094.000000  \n",
       "mean       0.052231      0.803500      0.491685     27.206710      0.338102  \n",
       "std        0.222494      0.397355      0.499935      4.478431      0.473067  \n",
       "min        0.000000      0.000000      0.000000     15.740741      0.000000  \n",
       "25%        0.000000      1.000000      0.000000     23.875115      0.000000  \n",
       "50%        0.000000      1.000000      0.000000     26.259585      0.000000  \n",
       "75%        0.000000      1.000000      1.000000     29.760863      1.000000  \n",
       "max        1.000000      1.000000      1.000000     48.000000      1.000000  "
      ]
     },
     "execution_count": 36,
     "metadata": {},
     "output_type": "execute_result"
    }
   ],
   "source": [
    "data[\"hypertension\"] = data.apply(lambda x: 1 if (x['ap_hi'] > 130 or x['ap_lo'] > 80) else 0, axis=1)\n",
    "\n",
    "data.describe()"
   ]
  },
  {
   "cell_type": "markdown",
   "id": "4cf82297",
   "metadata": {},
   "source": [
    "--- \n",
    "### Dropping unnecessary columns\n",
    "Finally, we drop the id column as it is not needed in our model, height and weight columns since we already have a BMI column, ap_hi and ap_lo columns since we already have a hypertension column. \n",
    "\n",
    "Additionally, our stroke dataset does not contain cholesterol, alcohol or active variables, hence we will be dropping them as well."
   ]
  },
  {
   "cell_type": "code",
   "execution_count": 37,
   "id": "56c30c88",
   "metadata": {},
   "outputs": [
    {
     "data": {
      "text/html": [
       "<div>\n",
       "<style scoped>\n",
       "    .dataframe tbody tr th:only-of-type {\n",
       "        vertical-align: middle;\n",
       "    }\n",
       "\n",
       "    .dataframe tbody tr th {\n",
       "        vertical-align: top;\n",
       "    }\n",
       "\n",
       "    .dataframe thead th {\n",
       "        text-align: right;\n",
       "    }\n",
       "</style>\n",
       "<table border=\"1\" class=\"dataframe\">\n",
       "  <thead>\n",
       "    <tr style=\"text-align: right;\">\n",
       "      <th></th>\n",
       "      <th>age</th>\n",
       "      <th>gender</th>\n",
       "      <th>gluc</th>\n",
       "      <th>smoke</th>\n",
       "      <th>cardio</th>\n",
       "      <th>bmi</th>\n",
       "      <th>hypertension</th>\n",
       "    </tr>\n",
       "  </thead>\n",
       "  <tbody>\n",
       "    <tr>\n",
       "      <th>count</th>\n",
       "      <td>61094.000000</td>\n",
       "      <td>61094.000000</td>\n",
       "      <td>61094.000000</td>\n",
       "      <td>61094.000000</td>\n",
       "      <td>61094.000000</td>\n",
       "      <td>61094.000000</td>\n",
       "      <td>61094.000000</td>\n",
       "    </tr>\n",
       "    <tr>\n",
       "      <th>mean</th>\n",
       "      <td>52.861656</td>\n",
       "      <td>1.347334</td>\n",
       "      <td>1.220807</td>\n",
       "      <td>0.085868</td>\n",
       "      <td>0.491685</td>\n",
       "      <td>27.206710</td>\n",
       "      <td>0.338102</td>\n",
       "    </tr>\n",
       "    <tr>\n",
       "      <th>std</th>\n",
       "      <td>6.745516</td>\n",
       "      <td>0.476127</td>\n",
       "      <td>0.567816</td>\n",
       "      <td>0.280171</td>\n",
       "      <td>0.499935</td>\n",
       "      <td>4.478431</td>\n",
       "      <td>0.473067</td>\n",
       "    </tr>\n",
       "    <tr>\n",
       "      <th>min</th>\n",
       "      <td>29.000000</td>\n",
       "      <td>1.000000</td>\n",
       "      <td>1.000000</td>\n",
       "      <td>0.000000</td>\n",
       "      <td>0.000000</td>\n",
       "      <td>15.740741</td>\n",
       "      <td>0.000000</td>\n",
       "    </tr>\n",
       "    <tr>\n",
       "      <th>25%</th>\n",
       "      <td>48.000000</td>\n",
       "      <td>1.000000</td>\n",
       "      <td>1.000000</td>\n",
       "      <td>0.000000</td>\n",
       "      <td>0.000000</td>\n",
       "      <td>23.875115</td>\n",
       "      <td>0.000000</td>\n",
       "    </tr>\n",
       "    <tr>\n",
       "      <th>50%</th>\n",
       "      <td>53.000000</td>\n",
       "      <td>1.000000</td>\n",
       "      <td>1.000000</td>\n",
       "      <td>0.000000</td>\n",
       "      <td>0.000000</td>\n",
       "      <td>26.259585</td>\n",
       "      <td>0.000000</td>\n",
       "    </tr>\n",
       "    <tr>\n",
       "      <th>75%</th>\n",
       "      <td>58.000000</td>\n",
       "      <td>2.000000</td>\n",
       "      <td>1.000000</td>\n",
       "      <td>0.000000</td>\n",
       "      <td>1.000000</td>\n",
       "      <td>29.760863</td>\n",
       "      <td>1.000000</td>\n",
       "    </tr>\n",
       "    <tr>\n",
       "      <th>max</th>\n",
       "      <td>64.000000</td>\n",
       "      <td>2.000000</td>\n",
       "      <td>3.000000</td>\n",
       "      <td>1.000000</td>\n",
       "      <td>1.000000</td>\n",
       "      <td>48.000000</td>\n",
       "      <td>1.000000</td>\n",
       "    </tr>\n",
       "  </tbody>\n",
       "</table>\n",
       "</div>"
      ],
      "text/plain": [
       "                age        gender          gluc         smoke        cardio  \\\n",
       "count  61094.000000  61094.000000  61094.000000  61094.000000  61094.000000   \n",
       "mean      52.861656      1.347334      1.220807      0.085868      0.491685   \n",
       "std        6.745516      0.476127      0.567816      0.280171      0.499935   \n",
       "min       29.000000      1.000000      1.000000      0.000000      0.000000   \n",
       "25%       48.000000      1.000000      1.000000      0.000000      0.000000   \n",
       "50%       53.000000      1.000000      1.000000      0.000000      0.000000   \n",
       "75%       58.000000      2.000000      1.000000      0.000000      1.000000   \n",
       "max       64.000000      2.000000      3.000000      1.000000      1.000000   \n",
       "\n",
       "                bmi  hypertension  \n",
       "count  61094.000000  61094.000000  \n",
       "mean      27.206710      0.338102  \n",
       "std        4.478431      0.473067  \n",
       "min       15.740741      0.000000  \n",
       "25%       23.875115      0.000000  \n",
       "50%       26.259585      0.000000  \n",
       "75%       29.760863      1.000000  \n",
       "max       48.000000      1.000000  "
      ]
     },
     "execution_count": 37,
     "metadata": {},
     "output_type": "execute_result"
    }
   ],
   "source": [
    "for i in ['id', 'height', 'weight', 'ap_hi', 'ap_lo', 'cholesterol', 'alco', 'active']:\n",
    "    data.drop([i], axis='columns', inplace=True)\n",
    "\n",
    "data.describe()"
   ]
  },
  {
   "cell_type": "markdown",
   "id": "b4c03d96",
   "metadata": {},
   "source": [
    "### Encoding categorical variables"
   ]
  },
  {
   "cell_type": "code",
   "execution_count": 38,
   "id": "d4b23377",
   "metadata": {},
   "outputs": [],
   "source": [
    "#Encoding the Gender variable\n",
    "\n",
    "genders = pd.get_dummies(data.gender)\n",
    "genders.rename(columns={1: \"female\", 2: \"male\"}, inplace=True)\n",
    "\n",
    "\n",
    "#Concat to our original dataframe\n",
    "data = pd.concat([data, genders], axis=1)\n",
    "data = data.drop([\"gender\"], axis=1)"
   ]
  },
  {
   "cell_type": "code",
   "execution_count": 39,
   "id": "fcbbe2d2",
   "metadata": {
    "scrolled": true
   },
   "outputs": [
    {
     "data": {
      "text/html": [
       "<div>\n",
       "<style scoped>\n",
       "    .dataframe tbody tr th:only-of-type {\n",
       "        vertical-align: middle;\n",
       "    }\n",
       "\n",
       "    .dataframe tbody tr th {\n",
       "        vertical-align: top;\n",
       "    }\n",
       "\n",
       "    .dataframe thead th {\n",
       "        text-align: right;\n",
       "    }\n",
       "</style>\n",
       "<table border=\"1\" class=\"dataframe\">\n",
       "  <thead>\n",
       "    <tr style=\"text-align: right;\">\n",
       "      <th></th>\n",
       "      <th>age</th>\n",
       "      <th>bmi</th>\n",
       "    </tr>\n",
       "  </thead>\n",
       "  <tbody>\n",
       "    <tr>\n",
       "      <th>count</th>\n",
       "      <td>61094.000000</td>\n",
       "      <td>61094.000000</td>\n",
       "    </tr>\n",
       "    <tr>\n",
       "      <th>mean</th>\n",
       "      <td>52.861656</td>\n",
       "      <td>27.206710</td>\n",
       "    </tr>\n",
       "    <tr>\n",
       "      <th>std</th>\n",
       "      <td>6.745516</td>\n",
       "      <td>4.478431</td>\n",
       "    </tr>\n",
       "    <tr>\n",
       "      <th>min</th>\n",
       "      <td>29.000000</td>\n",
       "      <td>15.740741</td>\n",
       "    </tr>\n",
       "    <tr>\n",
       "      <th>25%</th>\n",
       "      <td>48.000000</td>\n",
       "      <td>23.875115</td>\n",
       "    </tr>\n",
       "    <tr>\n",
       "      <th>50%</th>\n",
       "      <td>53.000000</td>\n",
       "      <td>26.259585</td>\n",
       "    </tr>\n",
       "    <tr>\n",
       "      <th>75%</th>\n",
       "      <td>58.000000</td>\n",
       "      <td>29.760863</td>\n",
       "    </tr>\n",
       "    <tr>\n",
       "      <th>max</th>\n",
       "      <td>64.000000</td>\n",
       "      <td>48.000000</td>\n",
       "    </tr>\n",
       "  </tbody>\n",
       "</table>\n",
       "</div>"
      ],
      "text/plain": [
       "                age           bmi\n",
       "count  61094.000000  61094.000000\n",
       "mean      52.861656     27.206710\n",
       "std        6.745516      4.478431\n",
       "min       29.000000     15.740741\n",
       "25%       48.000000     23.875115\n",
       "50%       53.000000     26.259585\n",
       "75%       58.000000     29.760863\n",
       "max       64.000000     48.000000"
      ]
     },
     "execution_count": 39,
     "metadata": {},
     "output_type": "execute_result"
    }
   ],
   "source": [
    "for i in ['gluc', 'smoke', 'cardio', 'hypertension', 'female', 'male']:\n",
    "    data[i] = data[i].astype(\"category\")\n",
    "\n",
    "data.describe()"
   ]
  },
  {
   "cell_type": "code",
   "execution_count": 40,
   "id": "b57b46a1",
   "metadata": {
    "scrolled": true
   },
   "outputs": [
    {
     "name": "stdout",
     "output_type": "stream",
     "text": [
      "Stored 'cardio' (DataFrame)\n"
     ]
    }
   ],
   "source": [
    "cardio = data.copy()\n",
    "\n",
    "%store cardio"
   ]
  },
  {
   "cell_type": "markdown",
   "id": "291ab462",
   "metadata": {
    "id": "291ab462"
   },
   "source": [
    "This will be the cleaned dataset used for our subsequent models\n",
    "\n",
    "---\n",
    "### Visualising the new dataset"
   ]
  },
  {
   "cell_type": "code",
   "execution_count": 41,
   "id": "7a06b75a",
   "metadata": {
    "colab": {
     "base_uri": "https://localhost:8080/",
     "height": 1000
    },
    "id": "7a06b75a",
    "outputId": "44d04612-5ff1-412c-dc26-3e806c96f3a8"
   },
   "outputs": [
    {
     "data": {
      "image/png": "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\n",
      "text/plain": [
       "<Figure size 2160x1080 with 4 Axes>"
      ]
     },
     "metadata": {},
     "output_type": "display_data"
    }
   ],
   "source": [
    "#Visualing the numeric variables\n",
    "f,axes = plt.subplots(2, 2, figsize=(30, 15))\n",
    "\n",
    "for i,val in enumerate([\"age\", \"bmi\"]):\n",
    "    sb.boxplot(data = data[val], orient = \"h\", ax = axes[i][0])\n",
    "    sb.histplot(data = data[val], ax = axes[i][1])"
   ]
  },
  {
   "cell_type": "markdown",
   "id": "2f657d9b",
   "metadata": {},
   "source": [
    "### Observations:\n",
    "#### Age:\n",
    "* Most of the values lie between 39 to 64 years old with two outliers 29 and 30. \n",
    "* Lower quartile value = 48 \n",
    "* Median = 53 \n",
    "* Upper quartile value = 58 \n",
    "* Most of the data are aged 55 years old \n",
    "\n",
    "#### BMI:\n",
    "* Most of the values lie between 16 to 38. Despite cleaning the data there were still many outliers from 38 onwards. \n",
    "* Lower quartile value = 24 \n",
    "* Median = 26 \n",
    "* Upper quartile value = 28 \n",
    "* The healthy bmi range is 18.5—24.9\n",
    "* Most of the data have a bmi of about 24, which is within the healthy range\n",
    "* However, most of the patients have a BMI above 24, suggesting that a lot of these patients are overweight"
   ]
  },
  {
   "cell_type": "code",
   "execution_count": 42,
   "id": "20f0ec72",
   "metadata": {
    "colab": {
     "base_uri": "https://localhost:8080/",
     "height": 1000
    },
    "id": "20f0ec72",
    "outputId": "0864c7da-77f3-42ed-c4df-353e2da1a4b4"
   },
   "outputs": [
    {
     "data": {
      "image/png": "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\n",
      "text/plain": [
       "<Figure size 2160x2160 with 5 Axes>"
      ]
     },
     "metadata": {},
     "output_type": "display_data"
    }
   ],
   "source": [
    "#Visualising the categorical variables with target variable\n",
    "f ,axes = plt.subplots(5, 1, figsize=(30, 30))\n",
    "\n",
    "for i,val in enumerate([\"female\", \"male\", \"gluc\", \"smoke\", \"hypertension\"]):\n",
    "    sb.countplot(x=val, hue=\"cardio\", data=data, ax=axes[i]);"
   ]
  },
  {
   "cell_type": "markdown",
   "id": "fec7f7bb",
   "metadata": {},
   "source": [
    "### Observations:\n",
    "#### Gender\n",
    "* Number of females in the data is higher than the number of males \n",
    "* The number of females that have heart disease to the ones that does not have is almost simmilar with both values of around 20000\n",
    "* The number of males that have heart disease to the ones that does not have are also similar where both varies around 10000\n",
    "\n",
    "#### Glucose\n",
    "* From the glucose chart, we can see that majority of the people have a normal glucose level which is labeled as 1. There are more people that do not have heart disease compared to people who have heart disease for normal glucose level but only by a small amount. \n",
    "* People that have a glucose level that are above normal and well above normal which are labeled as 2 and 3 respectively have a higher rate of having heart disease.\n",
    "\n",
    "#### Smoke\n",
    "* There are more non smokers as compared to smokers in the data\n",
    "* From the chart, it does not seem that smoking affects heart disease\n",
    "\n",
    "#### Hypertension\n",
    "* From the graph above, it is obvious that people without hypertension are more unlikely to have heart disease while people who has hypertension is most likely to get heart disease\n",
    "\n",
    "\n",
    "\n"
   ]
  },
  {
   "cell_type": "markdown",
   "id": "c1a5cf1b",
   "metadata": {
    "id": "c1a5cf1b"
   },
   "source": [
    "\n",
    "\n",
    "\n",
    "\n",
    "# Machine Learning\n",
    "\n",
    "We will use machine learning to learn from the data, and to get the best model for our data set. Since this is a classification problem, we will be using supervised machine learning models.\n",
    "\n",
    "We will try to choose models that generally performs better with classification problems, for a medium sized dataset, with a small number of dimensions. However, no single algorithm dominates when choosing a machine learning model. Some perform better with large data sets and some perform better with high dimensional data. Hence, we will have a training and test dataset for each of the models. Afterwards, we will pick the model with the best accuracy."
   ]
  },
  {
   "cell_type": "markdown",
   "id": "621fdfaf",
   "metadata": {},
   "source": [
    "---\n",
    "## Model 1: Decision Tree Classification\n",
    "\n",
    "A Decision Tree is a supervised Machine learning algorithm. It is used in both classification and regression algorithms. The decision tree is like a tree with nodes. The branches depend on a number of factors. It splits data into branches like these till it achieves a threshold value. A decision tree consists of the root nodes, children nodes, and leaf nodes.\n",
    "\n",
    "\n",
    "\n",
    "### Advantages\n",
    "\n",
    "- Simple to implement\n",
    "*We have done this during our lab sessions. Hence we are familiar with how desicion trees work. It is also easy for us to implement*\n",
    "\n",
    "---\n",
    "- Impressive in Versatility\n",
    "*It can be used for both regression and classification problems*\n",
    "\n",
    "---\n",
    "- Quick Prediction/Training Speed\n",
    "\n",
    "*This is a simple machine learning project. We do not want the machine learning task to take a long time to compute*\n",
    "\n",
    "### Disadvantages\n",
    "\n",
    "- Easily overfit \n",
    "*Decision-tree learners can create over-complex trees that do not generalise the data well. However, this can still be solved by pruning, setting the minimum number of samples required at a leaf node or setting the maximum depth*\n",
    "\n",
    "\n",
    "---\n",
    "- Unstable\n",
    "\n",
    "*Decision trees can be unstable because small variations in the data might result in a completely different tree being generated. However, this problem is mitigated by using decision trees within an ensemble.*"
   ]
  },
  {
   "cell_type": "code",
   "execution_count": 84,
   "id": "68e972b5",
   "metadata": {
    "id": "68e972b5",
    "tags": []
   },
   "outputs": [],
   "source": [
    "from sklearn.tree import DecisionTreeClassifier\n",
    "from sklearn.model_selection import train_test_split\n",
    "from sklearn.metrics import confusion_matrix\n",
    "from sklearn.tree import plot_tree"
   ]
  },
  {
   "cell_type": "code",
   "execution_count": 85,
   "id": "f75492f9-8325-4d38-ae76-7e25cbad3acc",
   "metadata": {},
   "outputs": [],
   "source": [
    "def test_performance(y_test, y_test_pred):\n",
    "    \"\"\" \n",
    "    Returns the accuracy, precision, recall, and F1 score from test set.\n",
    "    \"\"\"\n",
    "\n",
    "    # Test set\n",
    "    cf_test = confusion_matrix(y_test, y_test_pred)\n",
    "    \n",
    "    # Calculate metrics\n",
    "    accuracy_test = np.trace(cf_test) / float(np.sum(cf_test))\n",
    "    precision_test = cf_test[1,1] / sum(cf_test[:,1])\n",
    "    recall_test = cf_test[1,1] / sum(cf_test[1,:])\n",
    "    f1_score_test = 2 * precision_test * recall_test / (precision_test + recall_test)\n",
    "    \n",
    "    return accuracy_test, precision_test, recall_test, f1_score_test"
   ]
  },
  {
   "cell_type": "code",
   "execution_count": 86,
   "id": "0e32b82c",
   "metadata": {
    "id": "0e32b82c"
   },
   "outputs": [],
   "source": [
    "X = data.drop(\"cardio\", axis=1)\n",
    "y = data.cardio\n",
    "\n",
    "X_train, X_test, y_train, y_test = train_test_split(X, y, test_size = 0.2, random_state=4294967295)"
   ]
  },
  {
   "cell_type": "code",
   "execution_count": 87,
   "id": "5904b1e0",
   "metadata": {
    "colab": {
     "base_uri": "https://localhost:8080/",
     "height": 1000
    },
    "id": "5904b1e0",
    "outputId": "0010f9ce-21a3-4896-9a80-e2d741f078d8"
   },
   "outputs": [
    {
     "data": {
      "text/plain": [
       "DecisionTreeClassifier(max_depth=4)"
      ]
     },
     "execution_count": 87,
     "metadata": {},
     "output_type": "execute_result"
    }
   ],
   "source": [
    "tree = DecisionTreeClassifier(max_depth = 4)  \n",
    "tree.fit(X_train, y_train)                    "
   ]
  },
  {
   "cell_type": "code",
   "execution_count": 88,
   "id": "cd067ed4",
   "metadata": {
    "colab": {
     "base_uri": "https://localhost:8080/",
     "height": 428
    },
    "id": "cd067ed4",
    "outputId": "2d91aee1-edcf-4820-b98b-bf72de40bc71"
   },
   "outputs": [
    {
     "name": "stdout",
     "output_type": "stream",
     "text": [
      "-------------------------Confusion Matrix on Train Set-------------------------\n",
      "Accuracy\t: 0.70717\n",
      "\n",
      "accuracy\t: 0.70717\n",
      "precision\t: 0.72075\n",
      "recall   \t: 0.66080\n",
      "f1_score\t: 0.68948\n",
      "\n",
      "TPR Train\t: 0.66080\n",
      "TNR Train\t: 0.75207\n",
      "\n",
      "FPR Train\t: 0.24793\n",
      "FNR Train\t: 0.33920\n"
     ]
    },
    {
     "data": {
      "text/plain": [
       "<AxesSubplot:>"
      ]
     },
     "execution_count": 88,
     "metadata": {},
     "output_type": "execute_result"
    },
    {
     "data": {
      "image/png": "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\n",
      "text/plain": [
       "<Figure size 432x288 with 2 Axes>"
      ]
     },
     "metadata": {},
     "output_type": "display_data"
    }
   ],
   "source": [
    "y_train_pred = tree.predict(X_train)\n",
    "\n",
    "xlabels = [\"N (pred)\",\"Y (pred)\"]\n",
    "ylabels = [\"N (actual)\",\"Y (actual)\"]\n",
    "\n",
    "print('-'*25 + \"Confusion Matrix on Train Set\" + '-'*25)\n",
    "print(f\"Accuracy\\t: {tree.score(X_train, y_train):.5f}\")\n",
    "print()\n",
    "\n",
    "accuracy, precision, recall, f1_score = test_performance(y_train, y_train_pred)\n",
    "cmTrain = confusion_matrix(y_train, y_train_pred)\n",
    "\n",
    "print(f\"accuracy\\t: {accuracy:.5f}\")\n",
    "print(f\"precision\\t: {precision:.5f}\")\n",
    "print(f\"recall   \\t: {recall:.5f}\")\n",
    "print(f\"f1_score\\t: {f1_score:.5f}\")\n",
    "print()\n",
    "\n",
    "tpTrain = cmTrain[1][1] \n",
    "fpTrain = cmTrain[0][1] \n",
    "tnTrain = cmTrain[0][0] \n",
    "fnTrain = cmTrain[1][0]\n",
    "\n",
    "print(f\"TPR Train\\t: {tpTrain/(tpTrain + fnTrain):.5f}\")\n",
    "print(f\"TNR Train\\t: {tnTrain/(tnTrain + fpTrain):.5f}\")\n",
    "print()\n",
    "\n",
    "print(f\"FPR Train\\t: {fpTrain/(tnTrain + fpTrain):.5f}\")\n",
    "print(f\"FNR Train\\t: {fnTrain/(tpTrain + fnTrain):.5f}\")\n",
    "\n",
    "sb.heatmap(confusion_matrix(y_train, y_train_pred), \n",
    "           annot = True, fmt=\".0f\", annot_kws={\"size\": 18}, \n",
    "           xticklabels=xlabels, yticklabels=ylabels)"
   ]
  },
  {
   "cell_type": "code",
   "execution_count": null,
   "id": "74aa3d08-fd22-45c0-8dcb-aa0a45357255",
   "metadata": {},
   "outputs": [],
   "source": []
  },
  {
   "cell_type": "code",
   "execution_count": 89,
   "id": "30fc8f86",
   "metadata": {
    "colab": {
     "base_uri": "https://localhost:8080/",
     "height": 428
    },
    "id": "30fc8f86",
    "outputId": "b20a45eb-ea5f-47e6-e004-cac92f49a869"
   },
   "outputs": [
    {
     "name": "stdout",
     "output_type": "stream",
     "text": [
      "-------------------------Confusion Matrix on Test Set-------------------------\n",
      "Accuracy\t: 0.70701\n",
      "\n",
      "accuracy\t: 0.70701\n",
      "precision\t: 0.72485\n",
      "recall   \t: 0.64915\n",
      "f1_score\t: 0.68491\n",
      "\n",
      "TPR Test\t: 0.64915\n",
      "TNR Test\t: 0.76273\n",
      "\n",
      "FPR Test\t: 0.23727\n",
      "FNR Test\t: 0.35085\n"
     ]
    },
    {
     "data": {
      "text/plain": [
       "<AxesSubplot:>"
      ]
     },
     "execution_count": 89,
     "metadata": {},
     "output_type": "execute_result"
    },
    {
     "data": {
      "image/png": "iVBORw0KGgoAAAANSUhEUgAAAWsAAAD7CAYAAACsV7WPAAAAOXRFWHRTb2Z0d2FyZQBNYXRwbG90bGliIHZlcnNpb24zLjQuMywgaHR0cHM6Ly9tYXRwbG90bGliLm9yZy/MnkTPAAAACXBIWXMAAAsTAAALEwEAmpwYAAA1Q0lEQVR4nO3deVxV1fr48c+BcxgUUTEQQzIj5yFvkqkZDiRiSirZTcHhVpZZapliqCiROWYOON3b5MUhrzN4/RGWZt6vs9FgllqWmAwiGvN4hv37gzxJBzwHGeQcnnev/YKz9tp7rW34uHj22murFEVREEIIUafZ3e0OCCGEME+CtRBCWAEJ1kIIYQUkWAshhBWQYC2EEFZAgrUQQlgBdW02pr3+a202J6yE872P3+0uiDpIV5JSpeMrE2809zxQpbZqQ60GayGEqDUG/d3uQbWSYC2EsE163d3uQbWSYC2EsEmKYrjbXahWEqyFELbJIMFaCCHqPhlZCyGEFZAbjEIIYQVkZC2EEHWfIrNBhBDCCsgNRiGEsAKSBhFCCCsgNxiFEMIKyMhaCCGsQA3fYFyyZAmZmZksXryYWbNmkZiYiLOzMwCTJ09m4MCBnDt3jjlz5pCfn4+vry9RUVGo1WpSU1MJCwvjxo0btG7dmmXLltGwYcPbtidLpAohbJPBYPlWScePH2fPnj3Gz2fPnmXz5s3ExcURFxfHwIEDAQgLC2PevHns378fRVHYvn07AFFRUYSEhJCQkEDnzp1Zt26d2TYlWAshbJKi6C3ecnJySE5ONtlycnJMzpuVlcWKFSt4+eWXASgsLCQ1NZXZs2cTFBREdHQ0BoOBlJQUioqK6NatGwDBwcEkJCSg1Wo5ffo0gwYNKlNujqRBhBC2qRI565iYGNasWWNSPnnyZKZMmVKmbN68eUybNo20tDQArl+/Ts+ePYmMjKRRo0ZMnDiRnTt30qZNG9zd3Y3Hubu7k56eTmZmJi4uLqjV6jLl5kiwFkLYpkqkN8aPH8+IESNMyl1dXct83rFjBy1atKBXr17s3r0bAG9vb9auXWusM3bsWGJjY/Hx8UGlUhnLFUVBpVIZv97qr5/LI8FaCGGbKjGydnV1NQnM5YmPjycjI4Nhw4aRnZ1NQUEBr776Kk899ZQxraEoCmq1Gk9PTzIyMozHXr9+HQ8PD9zc3MjNzUWv12Nvb09GRgYeHh5m25ZgLYSwTXpttZ9yw4YNxu93797NqVOn+Mc//sHEiRPp2bMnDRo0YNu2bYwYMQIvLy8cHR1JTEyke/fuxMXF4efnh0ajwdfXl/j4eIKCgoiNjcXPz89s2xKshRC2qZYeN2/fvj0vvfQSo0ePRqfTERAQwNChQwFYtmwZERER5OXl0alTJ8aNGwdAZGQk4eHhrF+/nhYtWrB8+XKz7agURVFq9EpuIS/MFeWRF+aK8lT1hblFx7daXNep1+gqtVUbZGQthLBNspCTEEJYAQnWQghR9yk1cIPxbpJgLYSwTbKQkxBCWAFJgwghhBWQkbUQQlgBGVkLIYQVkJG1EEJYAV09fLv5hQsXuHz5MnZ2dtx33320bdu2pvslhBBVU19G1oqisHXrVmJiYmjYsCH33nsv9vb2pKSkkJeXx7hx4xg1ahR2dvL+AiFEHVRfctZTp06ld+/e7Nixw2TpwNzcXPbs2cOrr77K+vXra7yTQghRaTY2sq5wIaeCggIaNGhw24MtqXMrWchJlEcWchLlqepCToV7Fltc13lEeJXaqg0Vjqw/++yz2x44fPjwSgVqIYSoVTY2sq4wWJ88efK2Bw4fPry6+yKEENWnvswGWbRoUYUHFRUV1UhnhBCi2tTeUv21wuzUvS+++IKVK1dSUFCAoigYDAaKioo4fvx4bfRPCCHuTH2ZDXLTokWLmD9/Phs2bODll1/mwIEDFBYW1kbfhBDiztlYsDY7SbpRo0b07NmThx56iNzcXMLCwjhx4kRt9E0IIe6cYrB8swJmg7WTkxOXLl3Cx8eHU6dOUVJSglZrW4t6CyFskF5v+WYFzAbr119/nZUrV9K/f3+OHz/OY489hr+/f230TQgh7pzBYPlmBczmrHv06EGPHj0A2LVrF9nZ2TRu3LjGOyaEEFViJUHYUmaD9dixY1GpVCblGzdurJEOCSFEtbCSXLSlzAbrKVOmGL/X6XQcPHjQZK0QIYSoaxSDbc2zNpuzvpkG6dGjB71792bu3LkcOXKkNvpW5124eIlufYNY+9FmAFLS0un82ODbbqe+PmPRuW71w/mfmfDabB7xH86jA4N5dWYkly4n1+i1iar55/qlHPx8x23rdOnSgYK8S8yb+4axrFWrluhKUm679fXrZXG9eq2Gc9ZLliwhPLx0TZFjx44RFBREQEAAK1asMNY5d+4cwcHBDBo0iDlz5qD746nK1NRUQkNDCQwMZNKkSeTn55ttz+zIOjU11fi9oihcvHiRrKysyl6XzdHp9EQseM/4hw/QtEljFs0LM6lbXFzMwhXrcWvahHYPtrboXDddupzMc5PfxMnJkZefCwEgZutuxr0ynV3/XoeHe7NqvCpRHZ77xygmvBDK4cPHKqxjb2/PRx+uwMHBoUx5RsYNxv1jikl9ZycnVq2cz7VrN/juzI+UlJRYVK9eq8FZHsePH2fPnj3069ePoqIiZs+ezaZNm2jRogUTJ07k8OHD9O3bl7CwMN555x26devG7Nmz2b59OyEhIURFRRESEsKQIUNYu3Yt69atIyzMNHbcymywHjNmDCqVCkVRUKlUuLm5ERERUW0Xba0+3LSNi5culylr4OxE0KABJnUXr/wnOp2eJfNm0ti1kUXnumnT9j0UFBYSs24pHdo+CECP7g8xesLrbNy2hxmTJ1TD1YjqYGdnx+xZU5k3d7rZuuFvTqFTR9OXeBQUFPLJJ7tNyt9bFoVGo2Hc+MlkZWUDWFyv3qqhG4xZWVmsWLGCl19+mfPnz3PmzBlatWqFt7c3AEFBQSQkJPDggw9SVFREt27dAAgODiY6OppnnnmG06dPs3btWmP5mDFjqh6sd+/eTZMmTcqUpaRUbelCa/fTL5f4V8xWXv5HCKs/uP2N1p9+ucQnu/7LsCefoHu3zpU+V3LqVZo2cTUGaoAuHdrRpLErP/+aVOVrEdXD0dGRY0f38VDXjmzctIMB/ftUWLdz5/bMnjWVBQtX8XbUTLPn7ty5PZNffY6Yjds5cvRUlevVG5UI1jk5OeTk5JiUu7q6mtyjmzdvHtOmTSMtLQ2Aa9eu4e7ubtzv4eFBenq6Sbm7uzvp6elkZmbi4uKCWq0uU25OhTnrtLQ0UlNTGTNmjPH71NRUrly5wgsvvGD2xLaqNGWxgp6+f2NoOaPov4r+VwyOjg5MfXH8HZ2rVUsvsnPy+D0zy1iWnZNLbl4e7s3c7vg6RPVycnLEtZELo0Je5vkXXi83pQWl6Y8PP1jOwYNH2PLJLovOPf/tNyksLGJe5NJqqVdvKIrFW0xMDP7+/iZbTExMmVPu2LGDFi1a0KvXn/cDDAZDmRlzN7MQFZXf/Hqr8mbc/VWFI+vo6GhOnjzJtWvXCA0N/fMAtZp+/fqZPbGt+mjLdn5LTiF68Vz0+tv/y33h4iW+PHqS8aODcb/HNLBacq7nQ0fy5dGTzHxrCWFTXkKlgmVrPkSj1hD6zFPVck2i6nJycmnfsQ96M3nSmWGv0ubB1jw98gXUanuz5+3SpQNBQwNYvvyfXL16rcr16pVKjKzHPz+eESNGmJT/dVQdHx9PRkYGw4YNIzs7m4KCAlJSUrC3//P/ZUZGBh4eHnh6epKRkWEsv379Oh4eHri5uZGbm4ter8fe3t5Y3xyzS6S+//77vPTSSwDl/otQn1z89TL/3PAJc954BU8Pd1LSbv+ry7Y9+7C3tyN0pGlQtfRcLTw9eHHcsyxcvo6nx78CgL29HcvfmVMmNSLuLkVRzAbqjh3bEjHndaa+FkFKShqtWrU0e96JL41Dp9OxZt3H1VKvXqnE1L3y0h3l2bBhg/H73bt3c+rUKaKioggICODy5cu0bNmSffv28fTTT+Pl5YWjoyOJiYl0796duLg4/Pz80Gg0+Pr6Eh8fT1BQELGxsfj5+Zlt2+zUva5duzJq1CgALl26hL+/P19//bXZE9savV5PxMLlPNy1EyOfGmy2flFxMfv2H6LfYz2517P5HZ9r9fsbefvd1XTr2pElkTNZOHcGnTu0Y/rcRXx5RBbUshZ2dnZ89MFyjh49zUcff2LRMU5OToSGBPPffZ/x228V3yeytF69U0trgzg6OrJ48WKmTJnCk08+yQMPPEBgYCAAy5YtY9GiRQQGBlJQUMC4ceMAiIyMZPv27Tz55JN89dVXvP7662bbMXuDccmSJSxZsgSABx54gPfff5+ZM2eya5dl+TZbseGTXVy4+Csb1y8j84+77Dm5uQAUFRWTmZVNY9dGxre9n0r8joLCQgYNMH2/oKXnyssvYMPWnXRq34aPVi0y/qo1+Im+jHrhNSKXRPN5j4dNpn+JumfG9El07dqRvv1G0KxZUwCaNi1dtqFBA2eaNWvK779ncesrUfv3602jRi7s3LXvtue2tF59o9Tw4+bBwcEEBwcD0KtXL/bu3WtSp3379uzcudOk3MvLi02bNlWqPbPBuri4mLZt/5xi5OPjU+HNE1t25ORXaLU6Rk943WTfhk92suGTnezf+W+8WpSOov/v+FdoNGr8ej9yx+f6PSuLkhItTw7sVyYnplGrGRLQn+XrPuLXy8m0b/NAtV2nqBmDAvrh6OjIiePxJvtmTH+FGdNfwafNo1y+5WGnwMABFBcXEx9/8LbntrRevWNjTzCaDdYPPPAA7777LsOGDUOlUrFv3z7uv//+Wuha3RI2+UVycvPKlN34PZPwt98lKNCfpwL9ucetqXHfN9//QOcObXFp2PCOz5WXXwBQ7s1Hwx+jBsXG1j+wVWEz36Zp0yZlyjya38OmmDVs2ryTzZt3cvVqRpn9vXs/wldffUfuX35W/srSevWOjf3dMBusFyxYwMqVK5k+fTpqtRpfX1/eeeed2uhbndKpfRuTsps3BVve60mvR/5mLNfqdPyS9BvPVJCPtvRcD7a+D497mhEX/zmhI5/C0bE03VFcXMLehAM0beLKgw/cX6XrErXj62++Nym7eYPx0qXLHPzi/8rsU6vVdOzQhg8+3HLb81par16qbyPrxo0bExkZafysKArJyck0amT6JJ4olXb1GlqtDs/m5qfj3I69vT2z35jEGxELGfXiawQPHYTBYGDPvs+4dDmZRXNnoFGb/V8orNB995XOJLhy5fY3DC2tVy/prOOlApYy+zf9P//5D0uXLi3z3kUvLy8OHDhQox2zZtk5pTcLXRo2qPK5nuj7GB+sXMD6DZ8Q/a9/A9Ch7YOsX/Y2fXr6Vvn8om5q9kdKLSfn9qkNS+vVSzaWBlEpyu3f1z5gwABiYmJYuXIl06ZN4/Dhw3z99de89957lW5Me/3XO+6osF3O95rOmBFCV1K13xby5zxjcd2GC26/QmJdYHaedbNmzfD29qZdu3b89NNPhIaGcuHChdromxBC3DHFYLB4swZmg7WzszMnTpygXbt2HDp0iIyMDIqKimqjb0IIcecMiuWbFTAbrOfOncuhQ4d4/PHHycrKYvDgwYwZM6Y2+iaEEHfOxoJ1hTnr4uJiHB0db3uwJXVuJTlrUR7JWYvyVDVnnfeG5QuduSw3ffqwrqlwZD1jxgy2b99OXp7pXea8vDy2bNnCG2+8Uc6RQghx9ykGxeLNGlQ4dW/VqlVs3bqVkSNH4urqiqenJ2q1muTkZLKyshg3bhyrVq2qzb4KIYTlrCQIW6rCYG1nZ0doaCihoaGcP3+epKQkVCoVrVq1on379rXZRyGEqDwrmeVhKYsef2vfvr0EaCGEdakvI2shhLBqEqyFEKLuU8y8ds/aVBisU1NTb3vgvffeW+2dEUKIalNfRtZjxowxvon3JpVKRUZGBlqtlnPnztVKB4UQ4k5Yy5Q8S1UYrL/44osyn/Pz81myZAlHjhxh/vz5Nd4xIYSoEhsL1mYfNwc4fvw4Tz1V+jTQ3r17eeyxx2q0U0IIUWWGSmxW4LY3GAsKCli8eLFxNC1BWghhLRSdlURhC1U4sj5+/DhBQUEA/Pe//5VALYSwLvVlZP3cc8+hVqs5cuQIR48eNZYrioJKpeLgQXmTshCi7qo3NxglGAshrJqVjJgtVWGw9vLyqs1+CCFEtaqpkfWqVavYv38/KpWKkSNH8txzzzFr1iwSExNxdnYGYPLkyQwcOJBz584xZ84c8vPz8fX1JSoqCrVaTWpqKmFhYdy4cYPWrVuzbNkyGjZseNt2LZoNIoQQVqcGctanTp3ixIkT7N27l127drFp0yZ+/fVXzp49y+bNm4mLiyMuLo6BAwcCEBYWxrx589i/fz+KorB9+3YAoqKiCAkJISEhgc6dO7Nu3TqzbUuwFkLYJEVn+WapHj16sHHjRtRqNTdu3ECv1+Pk5ERqaiqzZ88mKCiI6OhoDAYDKSkpFBUV0a1bNwCCg4NJSEhAq9Vy+vRpBg0aVKbcHFkbRAhhk5RKjJhzcnLIyckxKXd1dcXV1bVMmUajITo6mo8//pjAwEB0Oh09e/YkMjKSRo0aMXHiRHbu3EmbNm1wd3c3Hufu7k56ejqZmZm4uLigVqvLlJsjI2shhG2qRBokJiYGf39/ky0mJqbcU0+dOpXjx4+TlpbG8ePHWbt2LR4eHjg7OzN27FgOHz6MwWBApVIZj7k5k+7m11v99XN5ZGQthLBJlRlZjx8/nhEjRpiU/3VU/csvv1BSUkKHDh1wdnYmICCA+Ph4mjRpYkxrKIqCWq3G09OTjIwM47HXr1/Hw8MDNzc3cnNz0ev12Nvbk5GRgYeHh9k+yshaCGGTFIPlm6urKy1btjTZ/hqsk5OTiYiIoKSkhJKSEg4ePMgjjzzCwoULyc7ORqvVsm3bNgYOHIiXlxeOjo4kJiYCEBcXh5+fHxqNBl9fX+Lj4wGIjY3Fz8/P7PXIyFoIYZMUvfnUQmX17duXM2fOMHz4cOzt7QkICGDy5Mk0bdqU0aNHo9PpCAgIYOjQoQAsW7aMiIgI8vLy6NSpE+PGjQMgMjKS8PBw1q9fT4sWLVi+fLnZtlXKrWug1jDt9V9rqylhRZzvffxud0HUQbqSlCodf9Wvn8V1Pf/3ZZXaqg0yshZC2CTFUP0j67tJgrUQwiZV5gajNZBgLYSwSYoiI2shhKjzZGQthBBWwFADs0HuJgnWQgibJDcYhRDCCkiwFkIIK1B7T5DUDgnWQgibJCNrIYSwAjJ1TwghrIBeZoMIIUTdJyNrIYSwApKzFkIIKyCzQYQQwgrIyFoIIayA3mBbL8KSYC2EsEmSBhFCCCtgkNkgQghR98nUPSGEsAKSBhFCCCsgaZAqeOpvr9Zmc8JKZEf0u9tdEDZIZoMIIYQVsLEsiARrIYRtsrU0iG39niCEEH9QFJXFW2WsWrWKJ598kiFDhrBhwwYAjh07RlBQEAEBAaxYscJY99y5cwQHBzNo0CDmzJmDTqcDIDU1ldDQUAIDA5k0aRL5+flm25VgLYSwSYZKbJY6deoUJ06cYO/evezatYtNmzZx/vx5Zs+ezbp164iPj+fs2bMcPnwYgLCwMObNm8f+/ftRFIXt27cDEBUVRUhICAkJCXTu3Jl169aZbVuCtRDCJimoLN4s1aNHDzZu3IharebGjRvo9XpycnJo1aoV3t7eqNVqgoKCSEhIICUlhaKiIrp16wZAcHAwCQkJaLVaTp8+zaBBg8qUmyM5ayGETdJVIr2Rk5NDTk6OSbmrqyuurq5lyjQaDdHR0Xz88ccEBgZy7do13N3djfs9PDxIT083KXd3dyc9PZ3MzExcXFxQq9Vlys2RkbUQwiZVZmQdExODv7+/yRYTE1PuuadOncrx48dJS0sjKSkJlerPfxgURUGlUmEwGMotv/n1Vn/9XB4ZWQshbFJlctHjx49nxIgRJuV/HVX/8ssvlJSU0KFDB5ydnQkICCAhIQF7e3tjnYyMDDw8PPD09CQjI8NYfv36dTw8PHBzcyM3Nxe9Xo+9vb2xvjkyshZC2KTKjKxdXV1p2bKlyfbXYJ2cnExERAQlJSWUlJRw8OBBRo0axaVLl7h8+TJ6vZ59+/bh5+eHl5cXjo6OJCYmAhAXF4efnx8ajQZfX1/i4+MBiI2Nxc/Pz+z1yMhaCGGTKjOytlTfvn05c+YMw4cPx97enoCAAIYMGYKbmxtTpkyhuLiYvn37EhgYCMCyZcuIiIggLy+PTp06MW7cOAAiIyMJDw9n/fr1tGjRguXLl5ttW6UotbfcyWDvwbXVlLAiO190u9tdEHVQw3lbqnT8/2s+2uK6Q9K3Vqmt2iAjayGETbKxt3pJsBZC2CZDJeZPWwMJ1kIImyQLOQkhhBWoiRuMd5MEayGETTJY8KCJNZFgLYSwSfq73YFqJsFaCGGTZDaIEEJYAZkNIoQQVkBmgwghhBWQNIgQQlgBmbonhBBWQC8jayGEqPtkZC2EEFZAgrUQQliBSryC0SpIsBZC2CQZWQshhBWQx82FEMIKyDxrIYSwApIGEUIIK1DvgnV+fj4nT57k8uXLqFQqWrVqRe/evXF0dKyN/gkhxB2pN2uDFBYWsmbNGj7//HPatWvHvffei729Pd988w2LFi1i4MCBvPLKKzRs2LA2+yuEEBapNznrsLAw/v73vzN9+nTs7OzK7DMYDBw6dIgZM2awfv36Gu+kEEJUVr2ZDbJ69WpUFbwWx87ODn9/fwYMGFBjHRNCiKow2FgipMJgvXbt2tseOHny5AqDuRBC3G317gajEEJYo5oaV69Zs4ZPP/0UgL59+zJz5kxmzZpFYmIizs7OQOlgduDAgZw7d445c+aQn5+Pr68vUVFRqNVqUlNTCQsL48aNG7Ru3Zply5aZvf9XYbCePHlyueWKopCcnHyn1ymEELWiJkbWx44d48iRI+zZsweVSsWECRP4/PPPOXv2LJs3b8bDw6NM/bCwMN555x26devG7Nmz2b59OyEhIURFRRESEsKQIUNYu3Yt69atIyws7LZt2912L7Bt2zYefvhhOnToQIcOHejYsSPPP/981a5YCCFqmEFl+ZaTk0NycrLJlpOTU+ac7u7uhIeH4+DggEajwcfHh9TUVFJTU5k9ezZBQUFER0djMBhISUmhqKiIbt26ARAcHExCQgJarZbTp08zaNCgMuXmmE2D/Otf/yIuLo6VK1cybdo0Dh8+zNdff30Hf3RCCFF79JVIhMTExLBmzRqT8smTJzNlyhTj5zZt2hi/T0pK4tNPP2XLli2cOnWKyMhIGjVqxMSJE9m5cydt2rTB3d3dWN/d3Z309HQyMzNxcXFBrVaXKTfHbLBu1qwZ3t7etGvXjp9++onQ0FC2bt1q9sRCCHE3VSYNMn78eEaMGGFS7urqWm79n3/+mYkTJzJz5kweeOCBMhMyxo4dS2xsLD4+PmUmYSiKgkqlMn69lSWTNcwGa2dnZ06cOEG7du04cOAAXbp0oaioyOyJhRDibqrM1D1XV9cKA/NfJSYmMnXqVGbPns2QIUO4cOECSUlJxrSGoiio1Wo8PT3JyMgwHnf9+nU8PDxwc3MjNzcXvV6Pvb09GRkZJrnu8pjNWUdERPDFF1/w+OOPk5WVRWBgIGPGjLHoooQQ4m5RKrFZKi0tjVdffZVly5YxZMiQ0nYUhYULF5KdnY1Wq2Xbtm0MHDgQLy8vHB0dSUxMBCAuLg4/Pz80Gg2+vr7Ex8cDEBsbi5+fn9m2VYqi1NrM8cHeg2urKWFFdr7odre7IOqghvO2VOn4GfePtrjusiTLUrvvvPMOu3bt4r777jOWjRo1CoPBwJYtW9DpdAQEBDBjxgwAzp8/T0REBHl5eXTq1IlFixbh4OBASkoK4eHh3LhxgxYtWrB8+XIaN25827bNBusBAwaUm085ePCgRRd3K1sI1g/3fZjRU0fzYJcHUQwK578+z8Z3N3L+m/Pl1p+6ZCperb148+9vmuxr7t2cF+e+SNdeXQE4eeAkH87/kOzfs8vUe6j3Q4ydPpbWHVtTkFfAkX1HiHk3hqIC20hH2UKwtru/Iw79RmLX/D6U4kL0P56k5NAO0Bb/WafF/Tj4j8KuZRtQFPSXz1Hy+ScoN9LKnsu7LQ4DnsXu3tYohfnoLyRS8uVOKMyrsH2HoROwc2tO0cYFNXaNta2qwXra/aMsrrsi6T9Vaqs2mM1Zb9q0yfi9Tqfj888/p6SkpEY7VVd16dmF+Rvnc/mny8QsjcHe3p6h44aydMdSZoycwU/f/lSmfsCzAQwOGcyZ42dMztWoSSOWbFuC2kHNjnU7sFfb8/TEp2ndoTWvB72OTqsDoGuvriz4ZAEXv7/IhsUbcG/hzrAXhtGmaxvCRoZRi78YiQrY3d8RpzGzMKRdouTgNlSN3dD0CMTu3gco+vd8QEHVrAVO4yJAW4L2f3sA0PR6Eud/zKPwX7NQ8rJKz9WqA06hb0JRAdoje8FgQPNoIPb3d6Rww1tQVGDSvrpbXzQP90ef9GPtXbQVqHdPMHp5eZX5PGHCBIKDg3nllVdqrFN11cTIiWSkZjAtaBrFRaUjpoO7DvL+ofcZHzaeOaFzgNK1U0ZNGUXoG6EVniv4pWDuaXEPkwZO4srFKwCc/+Y8i7Yu4omRT5CwtXTe5YSICWSkZDDzmZmUFJX+I3kt9RqTF0yme9/ufPXlVzV5ycICDk+EoGRfpyhmPui0ACjZN3B88jnsH+yK/uJ3aB4NROXoTGHMfAxXLwOgT/oR5wnzUfccjPZA6a/hjoHjQTFQuOEtlMxrAOjOn8b55cU4PD6cks8/+bNhlQrN48PR9A2u3Qu2Ekp9WRvkptOnTxu/VxSFn3/+meLi4tscYZtcGrvQumNrdr+/2xioAbKuZ/H9ie952O9hADSOGlbuXckDHR/gwI4DdOvTrdzz9X2qL2eOnzEGaoBvj3zLlYtX6PtUXxK2JqBx1JD9ezZHPz1qDNQA35/4HoDWHVpLsL7b7DUoBTnoz58yBmoA/eVzANh5eKO/+B2qph4o+TnGQA1gSP0VpSAXOw9vAFSN78GuuTfaxIPGQA2g3EhD/9PXqLs+/mewttfg9EIU9p6t0H73P+xbd66Fi7Uu9W5kHR0dbfxepVLRtGlTFi9eXKOdqosKcgt4se+LFBWa5old3VzR60oXZHRwdKCBSwMWTlrI/+37P/597N8m9V0au9CiVQuO/L8jJvsunr1IjwE9ANAWa5k7dq5JHZ+OPkDpCFvcZXotxZ8sNSm2a94KAEP2DQCUG1ehdWdo0AgKcksrOTUEpwbGFIjKtTR3b7h2xeR8ht/TUXfogcrVDSXnd1BrUDk6U7QzGv2PJ3GeurL6r83K1ZtV926aO3cubdu2LVP27bff1lR/6iyDwUBqUqpJ+f3t76ejb0cSD5dOzynILeAFvxcw6Cv+d72ZZzMArl+9brLv92u/09C1IQ0aNaAgt2x+0sPLg669u/Li3Be5dP4SxxKOVeWSRA1QNb4H+/s74jAwBEP6FfTnS3/z0R7bh33bh3EKnkzxZ5sBcBgYAnodulP7Sw8uKf2NTeXgbHpeZ5fSry5NSoN1cSGFa6aDYmvjx+pjW6H6NsE6MTERg8FAREQECxYsMN7I0ul0vPXWW+zfv7/WOllXOTVwYsbK0ik6O9btAEpTRYr+9j8mzg1L/zIWF5qmk26mO5waOJUJ1i5NXIg5EQNAUUER6+euR1usNTle3EVODWnw2ioAlJIiihNiQP9HDjvnBtojcTgMHk+Dl0t/M1UMeop3rDKmRgwZyShFBdh3eATt0b1/ntdeg71P6Ywh1Jo/ChWQm8u3pbOxcF1hsD527BinTp3i2rVrrFq16s8D1GqeffbZWulcXebo5Ejkx5H4dPLhP2v+Y8wjW+Lmm3duN5NDMfxlnwKLXlmEWqNm2PPDWLR1EYtfXcyReNNUirhbFIp2rkZlr0bdIwCnsbMo3rUG/blTaPqNxMFvBPqkH9F+fQiVyg61rz+OI6dSvGMl+p++AYMe7YlPcej3NI4jXqXk6F5UKjs0/Z9B5fDHO08Ntvb+k5pTb24w3ly8JDY2lqFDh6JWq9FqtWi1Who0aFBrHayLGro2JGpDFJ16dGL/f/YTsySmUscX5JWOmB2dTF867ODkUKbOTXnZefzvv/8D4Ej8Ef554J+8OO9FCdZ1SVEB+h9PAKA7dxLnl5fgEBBK4a9n0fQegj7lF4o2LTSOiHU/HMdpwnwchk6gcNVroNeh/d8eVE4NUPcYRIMuvUvrXUhEe/S/ODwxGqUw/65dnrWxtQSR2cfNHRwcjAucpKWlMXjwYA4cOFDjHaurGjdrzJJtS+jUoxPxm+NZGbay0ufISC1dL8CtuenDIM2aNyM3K7fcFMlNJUUlnDxwEg8vD1ybWraegahlOi36n7/BrvE92DXzRKV2QPfD8bKpC4Me/fdHsXNpgt099/5RqFDy2WYKVrxK4YYoCla9RvG25eDojGLQo2SZ3ucQ5VMq8Z81MBus169fz4YNGwC477772L17N6tXr67xjtVFzg2dWbB5AT6dfdj9wW5Wz7qzP4f8nHzSLqfh09nHZJ9PJx9+PvMzAC19WvLvY/9myLghJvUauDTAYDCgLZG89d2katYC56krUfs+YbrTwQlFMYC+9AEnlaqcv243X0b9x1PC9p16YdeqA+TnYLjyE0p2aXC2b9UeQ9olYw5cmGeoxGYNzAZrrVbLPffcY/zcrFmzevvU3CvvvIJPZx9iP4zlg7c/qNK5jn56lL/1+RstfVoay7r16Yb3g94c3nsYgNSkVBo0asCQMUNQa/7MWHl4efDY4Mf4/sT3FOYXVqkfomqU39NROTZA090f7OyN5arG96Du0APD5fMYrl3BkPM76of8wF7z58H2GtRdHy+df32t9O1Lmp6DcRw8Hm4J7PZtumF/X3t0pz+vteuyBXpFsXizBman7nXv3p033niDoKAgVCoV8fHxxjcf1CfeD3rzxMgnyMvO45cff6H/iP4mdQ7tOWTx+Xau34n/0/4s+s8idr+/GwdHB0a+PJKfzvxkPI9Bb2D9vPXMjJ7J0h1L+WLPF7g2cSXoH0EoisL6eeur7frEHVIMFCfE4DTiFZz+MRfdmaOoGrigeWQgoFD8aQwoCiWfxuD4zGs4T3gb7Tdfgp0dmm59Ud3TguI96403DrVH/4vT31/HcfQM9OdPo2rijqbnYHQXv0P3/dG7eqnWpt7Ns46MjGTTpk1s27YNtVqNr68vISEhtdG3OqVLzy5A6QMt05dPL7dOZYJ19u/ZhI0MY2LkRMZOH0txYTHHPzvOR+98VCa1cWjPIXRaHc9MeoaX5r5EUWER3x75lpilMaRcSqnaRYlqof/+KEV6HZreQTgEhIK2GP2lHyj5YjvK71dL61z4iqLNi3DwG4HDgL8DYLiaRMkn76L/5c+1Y/TnT1O0azWax57CIWAMSn4O2mP/r3SdECsZAdYV1pKLtpRFS6RmZWVRWFiIoijo9XqSk5Pp1atXpRuzhVX3RPWzhVX3RPWr6qp7z7YabnHdbZdjq9RWbbDocfOYmBh0Oh1NmzYlPT2dzp07s2PHjtronxBC3BFbS4OYvcEYGxvL4cOHefLJJ9m4cSPr16+nadOmtdE3IYS4Y/Vu6p6HhwcuLi60adOG8+fP069fP9LS0swdJoQQd1W9mw3i4uJCbGwsnTp1YvPmzXh4eMgLc4UQdV69S4MsWLCA33//nUcffRQvLy/mzZvH66+/XgtdE0KIO2drD8VUOLLOyMjA3d2d5s2b8/zzzwMQHh5ebh0hhKhrrCUXbakKg/WyZcvw9PRk+PDhtG7dusy+X375hZ07d5KRkcGyZctqvJNCCFFZtpYGqTBYL1myhC+//JK5c+eSlJSEh4cHGo2GtLQ07rvvPl544QX69zd9ik8IIeoCW1sW47Y3GPv160e/fv3Izs7mt99+Q6VS4e3tTePGjWurf0IIcUf09WVkfavGjRvTpUuXmu6LEEJUG1tLg5idDSKEENZIURSLt8pYs2YNQ4YMYciQISxdWvqy5GPHjhEUFERAQAArVqww1j137hzBwcEMGjSIOXPmoNOVLpebmppKaGgogYGBTJo0ifx88y+VqDBYFxQUVLRLCCHqPAOKxZuljh07xpEjR9izZw+xsbH88MMP7Nu3j9mzZ7Nu3Tri4+M5e/Yshw+XLnMcFhbGvHnz2L9/P4qisH37dgCioqIICQkhISGBzp07s27dOrNtVxishw0bxldffWXxRQghRF1SE4+bu7u7Ex4ejoODAxqNBh8fH5KSkmjVqhXe3t6o1WqCgoJISEggJSWFoqIi45LSwcHBJCQkoNVqOX36NIMGDSpTbk6FOevIyEhmzZrFE088wbRp03BwcLD4goQQ4m6rzGPkOTk55OTkmJS7urri6vrnq/PatGlj/D4pKYlPP/2UMWPGlHnexMPDg/T0dK5du1am3N3dnfT0dDIzM3FxcUGtVpcpN6fCkXWfPn3Yu3cviqIwcuRIvvrqK1JTU42bEELUZZVJg8TExODv72+yxcSU/zLsn3/+meeff56ZM2fi7e2N6o/XskFprlylUmEwGMotv/n1Vn/9XJ7bzgZxdnbmtdde4+rVq0yaNAlXV1djQwcPHjR7ciGEuFsqk4seP3688cXgt7p1VH1TYmIiU6dOZfbs2QwZMoRTp06RkZFh3J+RkYGHhweenp5lyq9fv46Hhwdubm7k5uai1+uxt7c31jfntsH60KFDzJ8/nz59+nDo0CFcXFzMnlAIIeqCyszy+Gu6oyJpaWm8+uqrrFixwvgCloceeohLly5x+fJlWrZsyb59+3j66afx8vLC0dGRxMREunfvTlxcHH5+fmg0Gnx9fYmPjycoKIjY2Fj8/PzMtl1hsJ46dSo//vgjCxYsuKO3wgghxN1UE/OsP/roI4qLi1m8eLGxbNSoUSxevJgpU6ZQXFxM3759CQwMBEqX7YiIiCAvL49OnToxbtw4oPSeYHh4OOvXr6dFixYsX77cbNsVvtZr/vz5TJ8+nQYNGlTHNQLyWi9RPnmtlyhPVV/r9ci95kerN51O/V+V2qoNFY6s586dW5v9EEKIaqVXrGXxU8tY9Li5EEJYm3q1kJMQQlgrW1sbRIK1EMIm1ZuXDwghhDUzSBpECCHqPhlZCyGEFZDZIEIIYQUkDSKEEFZA0iBCCGEFZGQthBBWQEbWQghhBfSK/m53oVpJsBZC2CR53FwIIayAPG4uhBBWQEbWQghhBWQ2iBBCWAGZDSKEEFZAHjcXQggrIDlrIYSwApKzFkIIKyAjayGEsAIyz1oIIayAjKyFEMIK2NpsELu73QEhhKgJBkWxeKusvLw8hg4dSnJyMgCzZs0iICCAYcOGMWzYMD7//HMAzp07R3BwMIMGDWLOnDnodDoAUlNTCQ0NJTAwkEmTJpGfn2+2TQnWQgibpCiKxVtlfPfdd4wePZqkpCRj2dmzZ9m8eTNxcXHExcUxcOBAAMLCwpg3bx779+9HURS2b98OQFRUFCEhISQkJNC5c2fWrVtntl0J1kIIm6RU4r/K2L59O5GRkXh4eABQWFhIamoqs2fPJigoiOjoaAwGAykpKRQVFdGtWzcAgoODSUhIQKvVcvr0aQYNGlSm3BzJWQshbFJlRsw5OTnk5OSYlLu6uuLq6lqmbMGCBWU+X79+nZ49exIZGUmjRo2YOHEiO3fupE2bNri7uxvrubu7k56eTmZmJi4uLqjV6jLl5kiwFkLYpMrkomNiYlizZo1J+eTJk5kyZcptj/X29mbt2rXGz2PHjiU2NhYfHx9UKpWxXFEUVCqV8eut/vq5PLUarD+98mltNieEqMd0JSkW183JyWHEiBEm5X8dVZfnwoULJCUlGdMaiqKgVqvx9PQkIyPDWO/69et4eHjg5uZGbm4uer0ee3t7MjIyjCmV25GctRCi3nN1daVly5YmmyXBWlEUFi5cSHZ2Nlqtlm3btjFw4EC8vLxwdHQkMTERgLi4OPz8/NBoNPj6+hIfHw9AbGwsfn5+ZttRKbY2c1wIIWrBgAED2LhxIy1btmTLli1s2bIFnU5HQEAAM2bMAOD8+fNERESQl5dHp06dWLRoEQ4ODqSkpBAeHs6NGzdo0aIFy5cvp3HjxrdtT4K1EEJYAUmDCCGEFZBgLYQQVkCCtRBCWAEJ1kIIYQUkWAshhBWQYC2EEFZAgrWFkpOTadeuHUePHi1TPmDAAOMyibfS6/VMnjyZwsLCau9Lu3btAPjss8/YvHlztZ9fWO7tt99m6tSpZcqOHDmCv78/eXl5JvVnzpxp0ToQlXXz5/D7779n6dKl1X5+cfdJsK4EjUbD3Llzy/1L+Fdbt26lT58+ODs711h/AgIC+Oyzz7hx40aNtSFub/r06Zw9e5aDBw8CUFBQwFtvvcXChQtxcXEpU/fQoUM0b96c5s2b11h/unTpwtWrV7lw4UKNtSHuDlnIqRI8PDzo3bs3S5YsYf78+RXWUxSFTZs2sXPnTgDCw8NxdHTk+++/Jz8/n0mTJjF8+HBWr17Nt99+S1paGmPGjOGxxx7jrbfeIisrCycnJ+bOnUvHjh1JTk4mLCyMgoICHnrooTJtBQQEsGXLFpPRnagdDRs25J133mH27Nn06tWL6OhoBgwYwKOPPmpS98MPP+Ttt98GYPXq1aSmpvLLL7+QmZnJs88+y4QJE9i9ezd79uwhKyuL/v37M27cOObNm8fVq1dRqVRMnz6d3r17k5WVRVhYGFevXsXHx4fi4mJjO0FBQXz88ccsWbKk1v4cRC1QhEWuXLmi9O/fX8nNzVX69eunHDlyRFEURenfv79y5cqVMnV//PFH5emnnzZ+fvPNN5XnnntOKSkpUdLS0pRevXop165dU6Kjo5UxY8YY6z377LPKDz/8oCiKovz8889KQECAoiiK8tJLLynbt29XFEVR9uzZo7Rt29Z4zLlz55Rhw4bVyDULy82ZM0eZOnWqMnToUKWwsNBkf2ZmptK7d2/j5+joaGXo0KFKXl6ekpOTozzxxBPK2bNnlV27dikDBw5UtFqtoiiK8vrrrysHDhxQFEVR0tPTFX9/fyU3N1eJiopSli9friiKopw6dUpp27at8ecwNzdXeeSRRxSDwVDTly1qkYysK8nFxYX58+czd+5c9u7dW26dpKQkPD09y5QFBwej0Wjw9PTk4YcfNi7u0rVrVwDy8/M5e/Yss2bNMh5TUFBAZmYmp06d4r333gPgqaeeIiIiwljHy8uLy5cvV+s1isoLDw+nX79+rF27FicnJ5P9v/32m8nKakOHDqVhw4ZAac75xIkTNG3alI4dOxrXOj527Bi//vor0dHRAOh0Oq5cuVLmZ+KRRx7B29vbeF4XFxcURSEzMxM3N7cauV5R+yRY34E+ffoY0yHlUalUxr9sN9nb2xu/NxgMxv03/2IbDAYcHByIi4sz1rt69SpNmjQB/lxIXaVSYWf3560GtVpt0Vq4oma5uLjg6uqKl5dXufst+Zm4+fnWYG8wGIiJiTH+HFy7do1mzZoZ10Uu71w3P9/6cyKsn/zfvEPh4eEcOXKEa9eumexr1aoVKSll19L99NNPURSFlJQUzpw5Q/fu3cvsb9SoEffff78xWB89epTQ0FAAevfubRzFf/bZZ2Xyk8nJybRq1apar01UP29vb9LS0sqUHThwgJKSErKzszl06BB9+vQxOa5nz5588sknAFy8eJGgoCAKCwvp1auX8WflzJkz/Pbbb8Zjbt4AvxnghW2QYH2HbqZDtFqtyb727duTmZlJbm6usayoqIinn36aiRMn8vbbb9O0aVOT495991127txJUFAQ7733HitWrEClUhlfuPnUU09x+PBh46/OACdPnsTf379mLlJUmyZNmnDfffdx8eJFY5mjoyMhISE8++yzTJw4kQcffNDkuIiICL777juCgoKYNm0aS5cuxcXFhalTp3LlyhWGDBnCBx98UCYNcvr0afr3718r1yVqjyyRWkM2btyInZ0dY8aMITw8nB49ehAcHFzt7YwePZo1a9bQrFmzaj+3qF4HDx7kq6++4s0332T16tUAZl8ZdSduvorq5nx8YRtkZF1DRo8ezdGjR2vkoZibEhISGDRokARqK+Hv78+1a9dq5KGYm86cOYOXl5cEahskI2shhLACMrIWQggrIMFaCCGsgARrIYSwAhKshRDCCkiwFkIIKyDBWgghrMD/B0BrE0MGp6sjAAAAAElFTkSuQmCC\n",
      "text/plain": [
       "<Figure size 432x288 with 2 Axes>"
      ]
     },
     "metadata": {},
     "output_type": "display_data"
    }
   ],
   "source": [
    "y_test_pred = tree.predict(X_test)\n",
    "\n",
    "print('-'*25 + \"Confusion Matrix on Test Set\" + '-'*25)\n",
    "print(f\"Accuracy\\t: {tree.score(X_test, y_test):.5f}\")\n",
    "print()\n",
    "\n",
    "accuracy, precision, recall, f1_score = test_performance(y_test, y_test_pred)\n",
    "cmTest = confusion_matrix(y_test, y_test_pred)\n",
    "\n",
    "print(f\"accuracy\\t: {accuracy:.5f}\")\n",
    "print(f\"precision\\t: {precision:.5f}\")\n",
    "print(f\"recall   \\t: {recall:.5f}\")\n",
    "print(f\"f1_score\\t: {f1_score:.5f}\")\n",
    "print()\n",
    "\n",
    "tpTest = cmTest[1][1] \n",
    "fpTest = cmTest[0][1] \n",
    "tnTest = cmTest[0][0] \n",
    "fnTest = cmTest[1][0]\n",
    "\n",
    "print(f\"TPR Test\\t: {tpTest/(tpTest + fnTest):.5f}\")\n",
    "print(f\"TNR Test\\t: {tnTest/(tnTest + fpTest):.5f}\")\n",
    "print()\n",
    "\n",
    "print(f\"FPR Test\\t: {fpTest/(tnTest + fpTest):.5f}\")\n",
    "print(f\"FNR Test\\t: {fnTest/(tpTest + fnTest):.5f}\")\n",
    "\n",
    "sb.heatmap(confusion_matrix(y_test, y_test_pred), \n",
    "           annot = True, fmt=\".0f\", annot_kws={\"size\": 18}, \n",
    "           xticklabels=xlabels, yticklabels=ylabels)"
   ]
  },
  {
   "cell_type": "markdown",
   "id": "6a6a0422",
   "metadata": {
    "id": "6a6a0422"
   },
   "source": [
    "---\n",
    "\n",
    "## Model 2: Random Forest\n",
    "\n",
    "Random forest can be used for both classification and regression problems. This is suitable to our problem as we are doing a classification problem.\n",
    "\n",
    "Random forests are bagged decision tree models that split on a subset of features on each split.\n",
    "\n",
    "Random Forest take a random set of measures and a random sample of the training set and builds a decision tree. Then it does the same many times using a different random set of measurements and a random sample of data each time. This results in a wide diversity that generally results in a better model.\n",
    "\n",
    "### Advantages\n",
    "\n",
    "- Impressive in Versatility\n",
    "*It can be used for both regression and classification problems*\n",
    "\n",
    "---\n",
    "\n",
    "- Reduced risk of overfitting\n",
    "*Decision trees run the risk of overfitting as they tend to tightly fit all the samples within training data. However, when there’s a robust number of decision trees in a random forest, the classifier won’t overfit the model since the averaging of uncorrelated trees lowers the overall variance and prediction error..*\n",
    "\n",
    "---\n",
    "\n",
    "- Easy to determine feature importance\n",
    "\n",
    "*Random forest makes it easy to evaluate variable importance, or contribution, to the model.*\n",
    "\n",
    "---\n",
    "\n",
    "- Low Bias, Moderate Variance\n",
    "*Each decision tree has a high variance, but low bias. But because we average all the trees in random forest, we are averaging the variance as well so that we have a low bias and moderate variance model.*\n",
    "\n",
    "### Disadvantages\n",
    "\n",
    "- High memory usage for very large data sets.\n",
    "*Our dataset only has 61094 data points with 5 dimensions, so it is only a medium sized dataset, and it will not have high memory usage*\n",
    "\n",
    "\n",
    "---\n",
    "- Time-consuming\n",
    "\n",
    "*Our dataset is not very large and our max depth of the tree is only 6. Hence machine learning will still be fast*"
   ]
  },
  {
   "cell_type": "code",
   "execution_count": 95,
   "id": "cd28e827",
   "metadata": {
    "colab": {
     "base_uri": "https://localhost:8080/"
    },
    "id": "cd28e827",
    "outputId": "d96f93ca-ffbd-45bd-9166-5be4ec6bd926"
   },
   "outputs": [
    {
     "data": {
      "text/plain": [
       "RandomForestClassifier(max_depth=6, n_estimators=200)"
      ]
     },
     "execution_count": 95,
     "metadata": {},
     "output_type": "execute_result"
    }
   ],
   "source": [
    "from sklearn.ensemble import RandomForestClassifier\n",
    "\n",
    "forest = RandomForestClassifier(n_estimators = 200,  # n_estimators denote number of trees\n",
    "                                 max_depth = 6)      # set the maximum depth of each tree\n",
    "\n",
    "forest.fit(X_train, y_train.ravel())"
   ]
  },
  {
   "cell_type": "code",
   "execution_count": 96,
   "id": "012c0010",
   "metadata": {
    "colab": {
     "base_uri": "https://localhost:8080/",
     "height": 428
    },
    "id": "012c0010",
    "outputId": "a8bb25a0-dce0-436f-eab1-0d1e63b1556f"
   },
   "outputs": [
    {
     "name": "stdout",
     "output_type": "stream",
     "text": [
      "-------------------------Confusion Matrix on Train Set-------------------------\n",
      "Accuracy\t: 0.71145\n",
      "\n",
      "accuracy\t: 0.71145\n",
      "precision\t: 0.73255\n",
      "recall   \t: 0.65124\n",
      "f1_score\t: 0.68950\n",
      "\n",
      "TPR Train\t: 0.65124\n",
      "TNR Train\t: 0.76975\n",
      "\n",
      "FPR Train\t: 0.23025\n",
      "FNR Train\t: 0.34876\n"
     ]
    },
    {
     "data": {
      "text/plain": [
       "<AxesSubplot:>"
      ]
     },
     "execution_count": 96,
     "metadata": {},
     "output_type": "execute_result"
    },
    {
     "data": {
      "image/png": "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\n",
      "text/plain": [
       "<Figure size 432x288 with 2 Axes>"
      ]
     },
     "metadata": {},
     "output_type": "display_data"
    }
   ],
   "source": [
    "y_train_pred = forest.predict(X_train)\n",
    "\n",
    "print('-'*25 + \"Confusion Matrix on Train Set\" + '-'*25)\n",
    "print(f\"Accuracy\\t: {forest.score(X_train, y_train):.5f}\")\n",
    "print()\n",
    "\n",
    "\n",
    "accuracy, precision, recall, f1_score = test_performance(y_train, y_train_pred)\n",
    "cmTrain = confusion_matrix(y_train, y_train_pred)\n",
    "\n",
    "print(f\"accuracy\\t: {accuracy:.5f}\")\n",
    "print(f\"precision\\t: {precision:.5f}\")\n",
    "print(f\"recall   \\t: {recall:.5f}\")\n",
    "print(f\"f1_score\\t: {f1_score:.5f}\")\n",
    "print()\n",
    "\n",
    "tpTrain = cmTrain[1][1] \n",
    "fpTrain = cmTrain[0][1] \n",
    "tnTrain = cmTrain[0][0] \n",
    "fnTrain = cmTrain[1][0]\n",
    "\n",
    "print(f\"TPR Train\\t: {tpTrain/(tpTrain + fnTrain):.5f}\")\n",
    "print(f\"TNR Train\\t: {tnTrain/(tnTrain + fpTrain):.5f}\")\n",
    "print()\n",
    "\n",
    "print(f\"FPR Train\\t: {fpTrain/(tnTrain + fpTrain):.5f}\")\n",
    "print(f\"FNR Train\\t: {fnTrain/(tpTrain + fnTrain):.5f}\")\n",
    "\n",
    "sb.heatmap(confusion_matrix(y_train, y_train_pred), \n",
    "           annot = True, fmt=\".0f\", annot_kws={\"size\": 18}, \n",
    "           xticklabels=xlabels, yticklabels=ylabels)"
   ]
  },
  {
   "cell_type": "code",
   "execution_count": 97,
   "id": "15de5648",
   "metadata": {
    "colab": {
     "base_uri": "https://localhost:8080/",
     "height": 428
    },
    "id": "15de5648",
    "outputId": "d586ed90-9261-4934-dba0-82f336cc5bc9"
   },
   "outputs": [
    {
     "name": "stdout",
     "output_type": "stream",
     "text": [
      "-------------------------Confusion Matrix on Test Set-------------------------\n",
      "Accuracy\t: 0.70849\n",
      "\n",
      "accuracy\t: 0.70849\n",
      "precision\t: 0.73676\n",
      "recall   \t: 0.63130\n",
      "f1_score\t: 0.67996\n",
      "\n",
      "TPR Test\t: 0.63130\n",
      "TNR Test\t: 0.78281\n",
      "\n",
      "FPR Test\t: 0.21719\n",
      "FNR Test\t: 0.36870\n"
     ]
    },
    {
     "data": {
      "text/plain": [
       "<AxesSubplot:>"
      ]
     },
     "execution_count": 97,
     "metadata": {},
     "output_type": "execute_result"
    },
    {
     "data": {
      "image/png": "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\n",
      "text/plain": [
       "<Figure size 432x288 with 2 Axes>"
      ]
     },
     "metadata": {},
     "output_type": "display_data"
    }
   ],
   "source": [
    "y_test_pred = forest.predict(X_test)\n",
    "\n",
    "print('-'*25 + \"Confusion Matrix on Test Set\" + '-'*25)\n",
    "print(f\"Accuracy\\t: {forest.score(X_test, y_test):.5f}\")\n",
    "print()\n",
    "\n",
    "accuracy, precision, recall, f1_score = test_performance(y_test, y_test_pred)\n",
    "print(f\"accuracy\\t: {accuracy:.5f}\")\n",
    "print(f\"precision\\t: {precision:.5f}\")\n",
    "print(f\"recall   \\t: {recall:.5f}\")\n",
    "print(f\"f1_score\\t: {f1_score:.5f}\")\n",
    "print()\n",
    "\n",
    "cmTest = confusion_matrix(y_test, y_test_pred)\n",
    "tpTest = cmTest[1][1] \n",
    "fpTest = cmTest[0][1] \n",
    "tnTest = cmTest[0][0] \n",
    "fnTest = cmTest[1][0]\n",
    "\n",
    "print(f\"TPR Test\\t: {tpTest/(tpTest + fnTest):.5f}\")\n",
    "print(f\"TNR Test\\t: {tnTest/(tnTest + fpTest):.5f}\")\n",
    "print()\n",
    "\n",
    "print(f\"FPR Test\\t: {fpTest/(tnTest + fpTest):.5f}\")\n",
    "print(f\"FNR Test\\t: {fnTest/(tpTest + fnTest):.5f}\")\n",
    "\n",
    "sb.heatmap(confusion_matrix(y_test, y_test_pred), \n",
    "           annot = True, fmt=\".0f\", annot_kws={\"size\": 18}, \n",
    "           xticklabels=xlabels, yticklabels=ylabels)"
   ]
  },
  {
   "cell_type": "markdown",
   "id": "2100323d",
   "metadata": {
    "id": "2100323d"
   },
   "source": [
    "---\n",
    "\n",
    "## Model 3: Logistic Regression\n",
    "\n",
    "Logistic regression is a statistical method used to predict the outcome of a dependent variable based on previous observations. It takes a linear combination of features and applies a nonlinear function (sigmoid) to it, so it’s a tiny instance of the neural network. \n",
    "\n",
    "Logistic Regression is a type of regression analysis and is a commonly used algorithm for solving binary classification problems.\n",
    "\n",
    "### Advantages\n",
    "\n",
    "- Simple to understand, easy to implement, and efficient to train\n",
    "\n",
    "\n",
    "- Less prone to overfitting in low dimensional datasets\n",
    "\n",
    "*Our dataset has only 5 dimensions*\n",
    "\n",
    "---\n",
    "\n",
    "\n",
    "- Useful to find relationships between features\n",
    "\n",
    "\n",
    "- Provides well-calibrated probabilities\n",
    "\n",
    "\n",
    " ### Disadvantages\n",
    "\n",
    "- Can lead to overfitting if the number of features is more than the number of observations\n",
    "*The dataset has more features than observations*\n",
    "\n",
    "---\n",
    "- Can be used only to predict discrete functions\n",
    "*We are trying to solve a classfication problem, so we are not predicting continous functions*\n",
    "\n",
    "---\n",
    "- Sensitive to outliers\n",
    "*We have already removed the outliers when we cleaned the data* \n",
    "\n",
    "---\n",
    "- Can't solve non-linear problems"
   ]
  },
  {
   "cell_type": "code",
   "execution_count": 101,
   "id": "2bc7c19d",
   "metadata": {
    "colab": {
     "background_save": true,
     "base_uri": "https://localhost:8080/"
    },
    "id": "2bc7c19d",
    "outputId": "f36f0864-ddcf-42c3-ac41-f17ba64ed490"
   },
   "outputs": [
    {
     "data": {
      "text/plain": [
       "LogisticRegression(C=10, max_iter=1000)"
      ]
     },
     "execution_count": 101,
     "metadata": {},
     "output_type": "execute_result"
    }
   ],
   "source": [
    "from sklearn.linear_model import LogisticRegression\n",
    "\n",
    "logr = LogisticRegression(max_iter=1000, solver='lbfgs', penalty='l2', C=10)\n",
    "\n",
    "logr.fit(X_train, y_train.ravel())"
   ]
  },
  {
   "cell_type": "code",
   "execution_count": 102,
   "id": "2eb959b5",
   "metadata": {
    "colab": {
     "background_save": true,
     "base_uri": "https://localhost:8080/",
     "height": 424
    },
    "id": "2eb959b5",
    "outputId": "e2ac1bd5-f5bc-4acc-8318-14e47ee654d9"
   },
   "outputs": [
    {
     "name": "stdout",
     "output_type": "stream",
     "text": [
      "-------------------------Confusion Matrix on Train Set-------------------------\n",
      "Accuracy\t: 0.70472\n",
      "\n",
      "accuracy\t: 0.70472\n",
      "precision\t: 0.74746\n",
      "recall   \t: 0.60378\n",
      "f1_score\t: 0.66799\n",
      "\n",
      "TPR Train\t: 0.60378\n",
      "TNR Train\t: 0.80246\n",
      "\n",
      "FPR Train\t: 0.19754\n",
      "FNR Train\t: 0.39622\n"
     ]
    },
    {
     "data": {
      "text/plain": [
       "<AxesSubplot:>"
      ]
     },
     "execution_count": 102,
     "metadata": {},
     "output_type": "execute_result"
    },
    {
     "data": {
      "image/png": "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\n",
      "text/plain": [
       "<Figure size 432x288 with 2 Axes>"
      ]
     },
     "metadata": {},
     "output_type": "display_data"
    }
   ],
   "source": [
    "y_train_pred = logr.predict(X_train)\n",
    "\n",
    "print('-'*25 + \"Confusion Matrix on Train Set\" + '-'*25)\n",
    "print(f\"Accuracy\\t: {logr.score(X_train, y_train):.5f}\")\n",
    "print()\n",
    "\n",
    "accuracy, precision, recall, f1_score = test_performance(y_train, y_train_pred)\n",
    "\n",
    "print(f\"accuracy\\t: {accuracy:.5f}\")\n",
    "print(f\"precision\\t: {precision:.5f}\")\n",
    "print(f\"recall   \\t: {recall:.5f}\")\n",
    "print(f\"f1_score\\t: {f1_score:.5f}\")\n",
    "print()\n",
    "\n",
    "\n",
    "cmTrain = confusion_matrix(y_train, y_train_pred)\n",
    "tpTrain = cmTrain[1][1] \n",
    "fpTrain = cmTrain[0][1] \n",
    "tnTrain = cmTrain[0][0] \n",
    "fnTrain = cmTrain[1][0]\n",
    "\n",
    "print(f\"TPR Train\\t: {tpTrain/(tpTrain + fnTrain):.5f}\")\n",
    "print(f\"TNR Train\\t: {tnTrain/(tnTrain + fpTrain):.5f}\")\n",
    "print()\n",
    "\n",
    "print(f\"FPR Train\\t: {fpTrain/(tnTrain + fpTrain):.5f}\")\n",
    "print(f\"FNR Train\\t: {fnTrain/(tpTrain + fnTrain):.5f}\")\n",
    "\n",
    "sb.heatmap(confusion_matrix(y_train, y_train_pred), \n",
    "           annot = True, fmt=\".0f\", annot_kws={\"size\": 18}, \n",
    "           xticklabels=xlabels, yticklabels=ylabels)"
   ]
  },
  {
   "cell_type": "code",
   "execution_count": 103,
   "id": "30df56d8",
   "metadata": {
    "colab": {
     "background_save": true
    },
    "id": "30df56d8",
    "scrolled": true
   },
   "outputs": [
    {
     "name": "stdout",
     "output_type": "stream",
     "text": [
      "-------------------------Confusion Matrix on Test Set-------------------------\n",
      "Accuracy\t: 0.70554\n",
      "\n",
      "accuracy\t: 0.70554\n",
      "precision\t: 0.75533\n",
      "recall   \t: 0.59126\n",
      "f1_score\t: 0.66330\n",
      "\n",
      "TPR Test\t: 0.59126\n",
      "TNR Test\t: 0.81558\n",
      "\n",
      "FPR Test\t: 0.18442\n",
      "FNR Test\t: 0.40874\n"
     ]
    },
    {
     "data": {
      "text/plain": [
       "<AxesSubplot:>"
      ]
     },
     "execution_count": 103,
     "metadata": {},
     "output_type": "execute_result"
    },
    {
     "data": {
      "image/png": "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\n",
      "text/plain": [
       "<Figure size 432x288 with 2 Axes>"
      ]
     },
     "metadata": {},
     "output_type": "display_data"
    }
   ],
   "source": [
    "y_test_pred = logr.predict(X_test)\n",
    "\n",
    "print('-'*25 + \"Confusion Matrix on Test Set\" + '-'*25)\n",
    "print(f\"Accuracy\\t: {logr.score(X_test, y_test):.5f}\")\n",
    "print()\n",
    "\n",
    "accuracy, precision, recall, f1_score = test_performance(y_test, y_test_pred)\n",
    "print(f\"accuracy\\t: {accuracy:.5f}\")\n",
    "print(f\"precision\\t: {precision:.5f}\")\n",
    "print(f\"recall   \\t: {recall:.5f}\")\n",
    "print(f\"f1_score\\t: {f1_score:.5f}\")\n",
    "print()\n",
    "\n",
    "cmTest = confusion_matrix(y_test, y_test_pred)\n",
    "tpTest = cmTest[1][1] \n",
    "fpTest = cmTest[0][1] \n",
    "tnTest = cmTest[0][0] \n",
    "fnTest = cmTest[1][0]\n",
    "\n",
    "print(f\"TPR Test\\t: {tpTest/(tpTest + fnTest):.5f}\")\n",
    "print(f\"TNR Test\\t: {tnTest/(tnTest + fpTest):.5f}\")\n",
    "print()\n",
    "\n",
    "print(f\"FPR Test\\t: {fpTest/(tnTest + fpTest):.5f}\")\n",
    "print(f\"FNR Test\\t: {fnTest/(tpTest + fnTest):.5f}\")\n",
    "\n",
    "sb.heatmap(confusion_matrix(y_test, y_test_pred), \n",
    "           annot = True, fmt=\".0f\", annot_kws={\"size\": 18}, \n",
    "           xticklabels=xlabels, yticklabels=ylabels)"
   ]
  },
  {
   "cell_type": "markdown",
   "id": "32b5d0a8",
   "metadata": {
    "tags": []
   },
   "source": [
    "---\n",
    "\n",
    "## Model 4: XGBoost\n",
    "\n",
    "XGBoost stands for Extreme Gradient Boosting. It’s a parallelized and carefully optimized version of the gradient boosting algorithm. Instead of training the best possible model on the data (like in traditional methods), we train thousands of models on various subsets of the training dataset and then vote for the best-performing model.\n",
    "\n",
    "### Advantages\n",
    "\n",
    "- Regularization\n",
    "\n",
    "*XGBoost includes different regularization penalties to avoid overfitting. Penalty regularizations produce successful training so the model can generalize adequately.*\n",
    "\n",
    "---\n",
    "- Fast execution speed\n",
    "\n",
    "*Really fast when compared to other implementations of gradient boosting.*\n",
    "\n",
    "---\n",
    "- Good model Performance\n",
    "\n",
    "*XGBoost dominates structured or tabular datasets on classification and regression predictive modeling problems. The evidence is that it is the go-to algorithm for competition winners on the Kaggle competitive data science platform.*\n",
    "\n",
    "### Disadvantage\n",
    "\n",
    "- Sensitive to outliers\n",
    "\n",
    "*However, this is not a big issue as we have removed the outliers.*\n",
    "\n",
    "---\n",
    "\n",
    "- Slow to implement \n",
    "\n",
    "*However, it is still very fast for datasets that are not too large such as the cardio.csv dataset that we are using*"
   ]
  },
  {
   "cell_type": "code",
   "execution_count": 112,
   "id": "6da9e5c8",
   "metadata": {
    "id": "6da9e5c8",
    "scrolled": true
   },
   "outputs": [
    {
     "ename": "XGBoostError",
     "evalue": "[00:23:22] /Users/runner/miniforge3/conda-bld/xgboost-split_1645117948562/work/src/gbm/../common/common.h:157: XGBoost version not compiled with GPU support.\nStack trace:\n  [bt] (0) 1   libxgboost.dylib                    0x000000013203d364 dmlc::LogMessageFatal::~LogMessageFatal() + 116\n  [bt] (1) 2   libxgboost.dylib                    0x00000001320cd8ee xgboost::gbm::GBTree::ConfigureUpdaters() + 478\n  [bt] (2) 3   libxgboost.dylib                    0x00000001320cd417 xgboost::gbm::GBTree::Configure(std::__1::vector<std::__1::pair<std::__1::basic_string<char, std::__1::char_traits<char>, std::__1::allocator<char> >, std::__1::basic_string<char, std::__1::char_traits<char>, std::__1::allocator<char> > >, std::__1::allocator<std::__1::pair<std::__1::basic_string<char, std::__1::char_traits<char>, std::__1::allocator<char> >, std::__1::basic_string<char, std::__1::char_traits<char>, std::__1::allocator<char> > > > > const&) + 1207\n  [bt] (3) 4   libxgboost.dylib                    0x00000001320eb0ca xgboost::LearnerConfiguration::Configure() + 1546\n  [bt] (4) 5   libxgboost.dylib                    0x00000001320eb407 xgboost::LearnerImpl::UpdateOneIter(int, std::__1::shared_ptr<xgboost::DMatrix>) + 119\n  [bt] (5) 6   libxgboost.dylib                    0x00000001320418f7 XGBoosterUpdateOneIter + 151\n  [bt] (6) 7   libffi.7.dylib                      0x0000000109cfdead ffi_call_unix64 + 85\n  [bt] (7) 8   ???                                 0x0000000302d1c8f0 0x0 + 12932204784\n\n",
     "output_type": "error",
     "traceback": [
      "\u001b[0;31m---------------------------------------------------------------------------\u001b[0m",
      "\u001b[0;31mXGBoostError\u001b[0m                              Traceback (most recent call last)",
      "\u001b[0;32m/var/folders/tv/nldp6r3x3fs399r9htps4vrw0000gn/T/ipykernel_48419/3216296182.py\u001b[0m in \u001b[0;36m<module>\u001b[0;34m\u001b[0m\n\u001b[1;32m     10\u001b[0m )\n\u001b[1;32m     11\u001b[0m \u001b[0;34m\u001b[0m\u001b[0m\n\u001b[0;32m---> 12\u001b[0;31m \u001b[0mxgb_cl\u001b[0m\u001b[0;34m.\u001b[0m\u001b[0mfit\u001b[0m\u001b[0;34m(\u001b[0m\u001b[0mX_train\u001b[0m\u001b[0;34m,\u001b[0m \u001b[0my_train\u001b[0m\u001b[0;34m.\u001b[0m\u001b[0mravel\u001b[0m\u001b[0;34m(\u001b[0m\u001b[0;34m)\u001b[0m\u001b[0;34m)\u001b[0m\u001b[0;34m\u001b[0m\u001b[0;34m\u001b[0m\u001b[0m\n\u001b[0m",
      "\u001b[0;32m~/opt/anaconda3/lib/python3.9/site-packages/xgboost/core.py\u001b[0m in \u001b[0;36minner_f\u001b[0;34m(*args, **kwargs)\u001b[0m\n\u001b[1;32m    504\u001b[0m         \u001b[0;32mfor\u001b[0m \u001b[0mk\u001b[0m\u001b[0;34m,\u001b[0m \u001b[0marg\u001b[0m \u001b[0;32min\u001b[0m \u001b[0mzip\u001b[0m\u001b[0;34m(\u001b[0m\u001b[0msig\u001b[0m\u001b[0;34m.\u001b[0m\u001b[0mparameters\u001b[0m\u001b[0;34m,\u001b[0m \u001b[0margs\u001b[0m\u001b[0;34m)\u001b[0m\u001b[0;34m:\u001b[0m\u001b[0;34m\u001b[0m\u001b[0;34m\u001b[0m\u001b[0m\n\u001b[1;32m    505\u001b[0m             \u001b[0mkwargs\u001b[0m\u001b[0;34m[\u001b[0m\u001b[0mk\u001b[0m\u001b[0;34m]\u001b[0m \u001b[0;34m=\u001b[0m \u001b[0marg\u001b[0m\u001b[0;34m\u001b[0m\u001b[0;34m\u001b[0m\u001b[0m\n\u001b[0;32m--> 506\u001b[0;31m         \u001b[0;32mreturn\u001b[0m \u001b[0mf\u001b[0m\u001b[0;34m(\u001b[0m\u001b[0;34m**\u001b[0m\u001b[0mkwargs\u001b[0m\u001b[0;34m)\u001b[0m\u001b[0;34m\u001b[0m\u001b[0;34m\u001b[0m\u001b[0m\n\u001b[0m\u001b[1;32m    507\u001b[0m \u001b[0;34m\u001b[0m\u001b[0m\n\u001b[1;32m    508\u001b[0m     \u001b[0;32mreturn\u001b[0m \u001b[0minner_f\u001b[0m\u001b[0;34m\u001b[0m\u001b[0;34m\u001b[0m\u001b[0m\n",
      "\u001b[0;32m~/opt/anaconda3/lib/python3.9/site-packages/xgboost/sklearn.py\u001b[0m in \u001b[0;36mfit\u001b[0;34m(self, X, y, sample_weight, base_margin, eval_set, eval_metric, early_stopping_rounds, verbose, xgb_model, sample_weight_eval_set, base_margin_eval_set, feature_weights, callbacks)\u001b[0m\n\u001b[1;32m   1248\u001b[0m         )\n\u001b[1;32m   1249\u001b[0m \u001b[0;34m\u001b[0m\u001b[0m\n\u001b[0;32m-> 1250\u001b[0;31m         self._Booster = train(\n\u001b[0m\u001b[1;32m   1251\u001b[0m             \u001b[0mparams\u001b[0m\u001b[0;34m,\u001b[0m\u001b[0;34m\u001b[0m\u001b[0;34m\u001b[0m\u001b[0m\n\u001b[1;32m   1252\u001b[0m             \u001b[0mtrain_dmatrix\u001b[0m\u001b[0;34m,\u001b[0m\u001b[0;34m\u001b[0m\u001b[0;34m\u001b[0m\u001b[0m\n",
      "\u001b[0;32m~/opt/anaconda3/lib/python3.9/site-packages/xgboost/training.py\u001b[0m in \u001b[0;36mtrain\u001b[0;34m(params, dtrain, num_boost_round, evals, obj, feval, maximize, early_stopping_rounds, evals_result, verbose_eval, xgb_model, callbacks)\u001b[0m\n\u001b[1;32m    186\u001b[0m     \u001b[0mBooster\u001b[0m \u001b[0;34m:\u001b[0m \u001b[0ma\u001b[0m \u001b[0mtrained\u001b[0m \u001b[0mbooster\u001b[0m \u001b[0mmodel\u001b[0m\u001b[0;34m\u001b[0m\u001b[0;34m\u001b[0m\u001b[0m\n\u001b[1;32m    187\u001b[0m     \"\"\"\n\u001b[0;32m--> 188\u001b[0;31m     bst = _train_internal(params, dtrain,\n\u001b[0m\u001b[1;32m    189\u001b[0m                           \u001b[0mnum_boost_round\u001b[0m\u001b[0;34m=\u001b[0m\u001b[0mnum_boost_round\u001b[0m\u001b[0;34m,\u001b[0m\u001b[0;34m\u001b[0m\u001b[0;34m\u001b[0m\u001b[0m\n\u001b[1;32m    190\u001b[0m                           \u001b[0mevals\u001b[0m\u001b[0;34m=\u001b[0m\u001b[0mevals\u001b[0m\u001b[0;34m,\u001b[0m\u001b[0;34m\u001b[0m\u001b[0;34m\u001b[0m\u001b[0m\n",
      "\u001b[0;32m~/opt/anaconda3/lib/python3.9/site-packages/xgboost/training.py\u001b[0m in \u001b[0;36m_train_internal\u001b[0;34m(params, dtrain, num_boost_round, evals, obj, feval, xgb_model, callbacks, evals_result, maximize, verbose_eval, early_stopping_rounds)\u001b[0m\n\u001b[1;32m     79\u001b[0m         \u001b[0;32mif\u001b[0m \u001b[0mcallbacks\u001b[0m\u001b[0;34m.\u001b[0m\u001b[0mbefore_iteration\u001b[0m\u001b[0;34m(\u001b[0m\u001b[0mbst\u001b[0m\u001b[0;34m,\u001b[0m \u001b[0mi\u001b[0m\u001b[0;34m,\u001b[0m \u001b[0mdtrain\u001b[0m\u001b[0;34m,\u001b[0m \u001b[0mevals\u001b[0m\u001b[0;34m)\u001b[0m\u001b[0;34m:\u001b[0m\u001b[0;34m\u001b[0m\u001b[0;34m\u001b[0m\u001b[0m\n\u001b[1;32m     80\u001b[0m             \u001b[0;32mbreak\u001b[0m\u001b[0;34m\u001b[0m\u001b[0;34m\u001b[0m\u001b[0m\n\u001b[0;32m---> 81\u001b[0;31m         \u001b[0mbst\u001b[0m\u001b[0;34m.\u001b[0m\u001b[0mupdate\u001b[0m\u001b[0;34m(\u001b[0m\u001b[0mdtrain\u001b[0m\u001b[0;34m,\u001b[0m \u001b[0mi\u001b[0m\u001b[0;34m,\u001b[0m \u001b[0mobj\u001b[0m\u001b[0;34m)\u001b[0m\u001b[0;34m\u001b[0m\u001b[0;34m\u001b[0m\u001b[0m\n\u001b[0m\u001b[1;32m     82\u001b[0m         \u001b[0;32mif\u001b[0m \u001b[0mcallbacks\u001b[0m\u001b[0;34m.\u001b[0m\u001b[0mafter_iteration\u001b[0m\u001b[0;34m(\u001b[0m\u001b[0mbst\u001b[0m\u001b[0;34m,\u001b[0m \u001b[0mi\u001b[0m\u001b[0;34m,\u001b[0m \u001b[0mdtrain\u001b[0m\u001b[0;34m,\u001b[0m \u001b[0mevals\u001b[0m\u001b[0;34m)\u001b[0m\u001b[0;34m:\u001b[0m\u001b[0;34m\u001b[0m\u001b[0;34m\u001b[0m\u001b[0m\n\u001b[1;32m     83\u001b[0m             \u001b[0;32mbreak\u001b[0m\u001b[0;34m\u001b[0m\u001b[0;34m\u001b[0m\u001b[0m\n",
      "\u001b[0;32m~/opt/anaconda3/lib/python3.9/site-packages/xgboost/core.py\u001b[0m in \u001b[0;36mupdate\u001b[0;34m(self, dtrain, iteration, fobj)\u001b[0m\n\u001b[1;32m   1678\u001b[0m \u001b[0;34m\u001b[0m\u001b[0m\n\u001b[1;32m   1679\u001b[0m         \u001b[0;32mif\u001b[0m \u001b[0mfobj\u001b[0m \u001b[0;32mis\u001b[0m \u001b[0;32mNone\u001b[0m\u001b[0;34m:\u001b[0m\u001b[0;34m\u001b[0m\u001b[0;34m\u001b[0m\u001b[0m\n\u001b[0;32m-> 1680\u001b[0;31m             _check_call(_LIB.XGBoosterUpdateOneIter(self.handle,\n\u001b[0m\u001b[1;32m   1681\u001b[0m                                                     \u001b[0mctypes\u001b[0m\u001b[0;34m.\u001b[0m\u001b[0mc_int\u001b[0m\u001b[0;34m(\u001b[0m\u001b[0miteration\u001b[0m\u001b[0;34m)\u001b[0m\u001b[0;34m,\u001b[0m\u001b[0;34m\u001b[0m\u001b[0;34m\u001b[0m\u001b[0m\n\u001b[1;32m   1682\u001b[0m                                                     dtrain.handle))\n",
      "\u001b[0;32m~/opt/anaconda3/lib/python3.9/site-packages/xgboost/core.py\u001b[0m in \u001b[0;36m_check_call\u001b[0;34m(ret)\u001b[0m\n\u001b[1;32m    216\u001b[0m     \"\"\"\n\u001b[1;32m    217\u001b[0m     \u001b[0;32mif\u001b[0m \u001b[0mret\u001b[0m \u001b[0;34m!=\u001b[0m \u001b[0;36m0\u001b[0m\u001b[0;34m:\u001b[0m\u001b[0;34m\u001b[0m\u001b[0;34m\u001b[0m\u001b[0m\n\u001b[0;32m--> 218\u001b[0;31m         \u001b[0;32mraise\u001b[0m \u001b[0mXGBoostError\u001b[0m\u001b[0;34m(\u001b[0m\u001b[0mpy_str\u001b[0m\u001b[0;34m(\u001b[0m\u001b[0m_LIB\u001b[0m\u001b[0;34m.\u001b[0m\u001b[0mXGBGetLastError\u001b[0m\u001b[0;34m(\u001b[0m\u001b[0;34m)\u001b[0m\u001b[0;34m)\u001b[0m\u001b[0;34m)\u001b[0m\u001b[0;34m\u001b[0m\u001b[0;34m\u001b[0m\u001b[0m\n\u001b[0m\u001b[1;32m    219\u001b[0m \u001b[0;34m\u001b[0m\u001b[0m\n\u001b[1;32m    220\u001b[0m \u001b[0;34m\u001b[0m\u001b[0m\n",
      "\u001b[0;31mXGBoostError\u001b[0m: [00:23:22] /Users/runner/miniforge3/conda-bld/xgboost-split_1645117948562/work/src/gbm/../common/common.h:157: XGBoost version not compiled with GPU support.\nStack trace:\n  [bt] (0) 1   libxgboost.dylib                    0x000000013203d364 dmlc::LogMessageFatal::~LogMessageFatal() + 116\n  [bt] (1) 2   libxgboost.dylib                    0x00000001320cd8ee xgboost::gbm::GBTree::ConfigureUpdaters() + 478\n  [bt] (2) 3   libxgboost.dylib                    0x00000001320cd417 xgboost::gbm::GBTree::Configure(std::__1::vector<std::__1::pair<std::__1::basic_string<char, std::__1::char_traits<char>, std::__1::allocator<char> >, std::__1::basic_string<char, std::__1::char_traits<char>, std::__1::allocator<char> > >, std::__1::allocator<std::__1::pair<std::__1::basic_string<char, std::__1::char_traits<char>, std::__1::allocator<char> >, std::__1::basic_string<char, std::__1::char_traits<char>, std::__1::allocator<char> > > > > const&) + 1207\n  [bt] (3) 4   libxgboost.dylib                    0x00000001320eb0ca xgboost::LearnerConfiguration::Configure() + 1546\n  [bt] (4) 5   libxgboost.dylib                    0x00000001320eb407 xgboost::LearnerImpl::UpdateOneIter(int, std::__1::shared_ptr<xgboost::DMatrix>) + 119\n  [bt] (5) 6   libxgboost.dylib                    0x00000001320418f7 XGBoosterUpdateOneIter + 151\n  [bt] (6) 7   libffi.7.dylib                      0x0000000109cfdead ffi_call_unix64 + 85\n  [bt] (7) 8   ???                                 0x0000000302d1c8f0 0x0 + 12932204784\n\n"
     ]
    }
   ],
   "source": [
    "import xgboost as xgb\n",
    "from sklearn.metrics import accuracy_score\n",
    "\n",
    "xgb_cl = xgb.XGBClassifier(\n",
    "    tree_method = \"gpu_hist\", \n",
    "    enable_categorical = True, \n",
    "    use_label_encoder=False, \n",
    "    objective=\"binary:logistic\", \n",
    "    disable_default_eval_metric=True\n",
    ")\n",
    "\n",
    "xgb_cl.fit(X_train, y_train.ravel())"
   ]
  },
  {
   "cell_type": "code",
   "execution_count": 33,
   "id": "Ykr66P1zcWdP",
   "metadata": {
    "id": "Ykr66P1zcWdP"
   },
   "outputs": [
    {
     "name": "stdout",
     "output_type": "stream",
     "text": [
      "-------------------------Confusion Matrix on Train Set-------------------------\n",
      "Accuracy\t: 0.73230\n",
      "\n",
      "TPR Train\t: 0.68580\n",
      "TNR Train\t: 0.77733\n",
      "\n",
      "FPR Train\t: 0.22267\n",
      "FNR Train\t: 0.31420\n"
     ]
    },
    {
     "data": {
      "text/plain": [
       "<AxesSubplot:>"
      ]
     },
     "execution_count": 33,
     "metadata": {},
     "output_type": "execute_result"
    },
    {
     "data": {
      "image/png": "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",
      "text/plain": [
       "<Figure size 432x288 with 2 Axes>"
      ]
     },
     "metadata": {},
     "output_type": "display_data"
    }
   ],
   "source": [
    "y_train_pred = xgb_cl.predict(X_train)\n",
    "\n",
    "print('-'*25 + \"Confusion Matrix on Train Set\" + '-'*25)\n",
    "print(f\"Accuracy\\t: {xgb_cl.score(X_train, y_train):.5f}\")\n",
    "print()\n",
    "\n",
    "accuracy, precision, recall, f1_score = test_performance(y_train, y_train_pred)\n",
    "\n",
    "print(f\"accuracy\\t: {accuracy:.5f}\")\n",
    "print(f\"precision\\t: {precision:.5f}\")\n",
    "print(f\"recall   \\t: {recall:.5f}\")\n",
    "print(f\"f1_score\\t: {f1_score:.5f}\")\n",
    "print()\n",
    "\n",
    "\n",
    "cmTrain = confusion_matrix(y_train, y_train_pred)\n",
    "tpTrain = cmTrain[1][1] \n",
    "fpTrain = cmTrain[0][1] \n",
    "tnTrain = cmTrain[0][0] \n",
    "fnTrain = cmTrain[1][0]\n",
    "\n",
    "print(f\"TPR Train\\t: {tpTrain/(tpTrain + fnTrain):.5f}\")\n",
    "print(f\"TNR Train\\t: {tnTrain/(tnTrain + fpTrain):.5f}\")\n",
    "print()\n",
    "\n",
    "print(f\"FPR Train\\t: {fpTrain/(tnTrain + fpTrain):.5f}\")\n",
    "print(f\"FNR Train\\t: {fnTrain/(tpTrain + fnTrain):.5f}\")\n",
    "\n",
    "sb.heatmap(confusion_matrix(y_train, y_train_pred), \n",
    "           annot = True, fmt=\".0f\", annot_kws={\"size\": 18}, \n",
    "           xticklabels=xlabels, yticklabels=ylabels)"
   ]
  },
  {
   "cell_type": "code",
   "execution_count": 34,
   "id": "8tiGwZUPcezJ",
   "metadata": {
    "id": "8tiGwZUPcezJ"
   },
   "outputs": [
    {
     "name": "stdout",
     "output_type": "stream",
     "text": [
      "-------------------------Confusion Matrix on Test Set-------------------------\n",
      "Accuracy\t: 0.70317\n",
      "\n",
      "TPR Test\t: 0.64314\n",
      "TNR Test\t: 0.76096\n",
      "\n",
      "FPR Test\t: 0.23904\n",
      "FNR Test\t: 0.35686\n"
     ]
    },
    {
     "data": {
      "text/plain": [
       "<AxesSubplot:>"
      ]
     },
     "execution_count": 34,
     "metadata": {},
     "output_type": "execute_result"
    },
    {
     "data": {
      "image/png": "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",
      "text/plain": [
       "<Figure size 432x288 with 2 Axes>"
      ]
     },
     "metadata": {},
     "output_type": "display_data"
    }
   ],
   "source": [
    "y_test_pred = xgb_cl.predict(X_test)\n",
    "\n",
    "print('-'*25 + \"Confusion Matrix on Test Set\" + '-'*25)\n",
    "print(f\"Accuracy\\t: {xgb_cl.score(X_test, y_test):.5f}\")\n",
    "print()\n",
    "\n",
    "accuracy, precision, recall, f1_score = test_performance(y_test, y_test_pred)\n",
    "print(f\"accuracy\\t: {accuracy:.5f}\")\n",
    "print(f\"precision\\t: {precision:.5f}\")\n",
    "print(f\"recall   \\t: {recall:.5f}\")\n",
    "print(f\"f1_score\\t: {f1_score:.5f}\")\n",
    "print()\n",
    "\n",
    "cmTest = confusion_matrix(y_test, y_test_pred)\n",
    "tpTest = cmTest[1][1] \n",
    "fpTest = cmTest[0][1] \n",
    "tnTest = cmTest[0][0] \n",
    "fnTest = cmTest[1][0]\n",
    "\n",
    "print(f\"TPR Test\\t: {tpTest/(tpTest + fnTest):.5f}\")\n",
    "print(f\"TNR Test\\t: {tnTest/(tnTest + fpTest):.5f}\")\n",
    "print()\n",
    "\n",
    "print(f\"FPR Test\\t: {fpTest/(tnTest + fpTest):.5f}\")\n",
    "print(f\"FNR Test\\t: {fnTest/(tpTest + fnTest):.5f}\")\n",
    "\n",
    "sb.heatmap(confusion_matrix(y_test, y_test_pred), \n",
    "           annot = True, fmt=\".0f\", annot_kws={\"size\": 18}, \n",
    "           xticklabels=xlabels, yticklabels=ylabels)"
   ]
  },
  {
   "cell_type": "markdown",
   "id": "49368e3b",
   "metadata": {},
   "source": [
<<<<<<< HEAD
    "### Observations:\n",
    "\n",
    "\n",
    "Model 1: Binary Classification \n",
    "* Train: 70.717%\n",
    "* Test : 70.701%\n",
    "* TPR: \n",
    "\n",
    "Model 2: Random Forest\n",
    "* Train: 71.204%\n",
    "* Test : 70.971%\n",
    "\n",
    "Model 3: Logistic Regression\n",
    "* Train: 70.474%\n",
    "* Test : 70.554%\n",
    "\n",
    "Model 4: XGBoost\n",
    "* Train: 73.043%\n",
    "* Test : 70.382%\n",
    "\n",
    "Comparing the results above, we see the test data of the 4 models performed similarly at about 70% classification accuracy.\n",
    "Comparing the train data, our 4th model performed the best at 73%.\n",
    "Therefore, we will use the XGBoost model and perform hyperparameter tuning\n",
    "\n",
    "---\n",
    "\n",
    "\n",
=======
>>>>>>> 1374c64a91ecaec9d674721b1ed31575901722b0
    "### Hyperparameter Tuning of XGBoost with GridSearchCV"
   ]
  },
  {
   "cell_type": "code",
   "execution_count": 61,
   "id": "65580228-c72e-4a8c-a113-7e251cbf96fc",
   "metadata": {},
   "outputs": [],
   "source": [
    "# param_grid = {\n",
    "#     \"max_depth\": [3, 4, 5],\n",
    "#     \"learning_rate\": [0.1, 0.01, 0.05],\n",
    "#     \"gamma\": [0, 0.25, 1],\n",
    "#     'reg_lambda' : np.arange(0.5, 1.5, 0.1),\n",
    "#     'reg_alpha' : np.arange(0,0.6,0.1),\n",
    "#     \"scale_pos_weight\": [1, 3, 5],\n",
    "#     \"subsample\": [0.8],\n",
    "#     \"colsample_bytree\": np.arange(0.5,1,0.1),\n",
    "# }\n",
    "\n",
    "# XGBClassifier(base_score=0.5, booster='gbtree', colsample_bylevel=1,\n",
    "#               colsample_bynode=1, colsample_bytree=1,\n",
    "#               disable_default_eval_metric=True, enable_categorical=True,\n",
    "#               gamma=0, gpu_id=0, importance_type=None,\n",
    "#               interaction_constraints='', learning_rate=0.300000012,\n",
    "#               max_delta_step=0, max_depth=6, min_child_weight=1, missing=nan,\n",
    "#               monotone_constraints='()', n_estimators=100, n_jobs=4,\n",
    "#               num_parallel_tree=1, predictor='auto', random_state=0,\n",
    "#               reg_alpha=0, reg_lambda=1, scale_pos_weight=1, subsample=1,\n",
    "#               tree_method='gpu_hist', use_label_encoder=False,\n",
    "#               validate_parameters=1, verbosity=None)\n",
    "\n",
    "# params = {\n",
    "#         'min_child_weight': [1, 5, 10],\n",
    "#         'gamma': [0.5, 1, 1.5, 2, 5],\n",
    "#         'subsample': [0.6, 0.8, 1.0],\n",
    "#         'colsample_bytree': [0.6, 0.8, 1.0],\n",
    "#         'max_depth': [3, 4, 5]\n",
    "#         }\n",
    "\n",
    "param_grid = {\n",
    "    \"max_depth\": [4],\n",
    "    \"min_child_weight\": [4],\n",
    "    \"learning_rate\": [0.05],\n",
    "    \"n_estimators\": [300],\n",
    "    \"colsample_bytree\": [0.5],\n",
    "    \"gamma\": [0],\n",
    "    \"reg_lambda\": [1.5],\n",
    "    \"reg_alpha\": [0.1],\n",
    "    'subsample': [0.6, 0.8, 1.0],\n",
    "    \"scale_pos_weight\": [1, 3, 5]\n",
    "}"
   ]
  },
  {
   "cell_type": "code",
   "execution_count": 62,
   "id": "bd83be5e",
   "metadata": {},
   "outputs": [
    {
     "name": "stdout",
     "output_type": "stream",
     "text": [
      "Fitting 4 folds for each of 9 candidates, totalling 36 fits\n",
      "best score:/n 0.7094833282875084\n",
      "bestparams:/n {'colsample_bytree': 0.5, 'gamma': 0, 'learning_rate': 0.05, 'max_depth': 4, 'min_child_weight': 4, 'n_estimators': 300, 'reg_alpha': 0.1, 'reg_lambda': 1.5, 'scale_pos_weight': 1, 'subsample': 0.6}\n"
     ]
    }
   ],
   "source": [
    "from sklearn.model_selection import GridSearchCV\n",
    "\n",
    "search = GridSearchCV(estimator=xgb_cl, param_grid=param_grid, n_jobs=-1, scoring = 'accuracy', cv = 4, verbose=3)\n",
    "search.fit(X_train, y_train.ravel())\n",
    "\n",
    "print('best score:/n', search.best_score_)\n",
    "print('bestparams:/n' ,search.best_params_)"
   ]
  },
  {
   "cell_type": "code",
   "execution_count": 63,
   "id": "67a88abf",
   "metadata": {},
   "outputs": [
    {
     "data": {
      "text/plain": [
       "XGBClassifier(base_score=0.5, booster='gbtree', colsample_bylevel=1,\n",
       "              colsample_bynode=1, colsample_bytree=0.5,\n",
       "              disable_default_eval_metric=True, enable_categorical=True,\n",
       "              gamma=0, gpu_id=0, importance_type=None,\n",
       "              interaction_constraints='', learning_rate=0.05, max_delta_step=0,\n",
       "              max_depth=4, min_child_weight=4, missing=nan,\n",
       "              monotone_constraints='()', n_estimators=300, n_jobs=4,\n",
       "              num_parallel_tree=1, predictor='auto', random_state=0,\n",
       "              reg_alpha=0.1, reg_lambda=1.5, scale_pos_weight=1, subsample=0.6,\n",
       "              tree_method='gpu_hist', use_label_encoder=False,\n",
       "              validate_parameters=1, verbosity=None)"
      ]
     },
     "execution_count": 63,
     "metadata": {},
     "output_type": "execute_result"
    }
   ],
   "source": [
    "#Using the best paramters through grid search\n",
    "\n",
    "# bestparams = {'colsample_bytree': 0.5, 'gamma': 0, 'learning_rate': 0.05, \n",
    "#               'max_depth': 4, 'min_child_weight': 4, 'n_estimators': 300, \n",
    "#               'reg_alpha': 0.1, 'reg_lambda': 1.5, 'scale_pos_weight': 1, 'subsample': 0.6}\n",
    "\n",
    "final_cl = xgb.XGBClassifier(\n",
    "    **search.best_params_,\n",
    "    tree_method = \"gpu_hist\", \n",
    "    enable_categorical = True, \n",
    "    use_label_encoder=False, \n",
    "    objective=\"binary:logistic\", \n",
    "    disable_default_eval_metric=True\n",
    ")\n",
    "\n",
    "final_cl.fit(X_train, y_train.ravel())"
   ]
  },
  {
   "cell_type": "code",
   "execution_count": 64,
   "id": "eef30a04",
   "metadata": {},
   "outputs": [
    {
     "name": "stdout",
     "output_type": "stream",
     "text": [
      "-------------------------Confusion Matrix on Train Set-------------------------\n",
      "Accuracy\t: 0.71239\n",
      "\n",
      "TPR Train\t: 0.65739\n",
      "TNR Train\t: 0.76565\n",
      "\n",
      "FPR Train\t: 0.23435\n",
      "FNR Train\t: 0.34261\n"
     ]
    },
    {
     "data": {
      "text/plain": [
       "<AxesSubplot:>"
      ]
     },
     "execution_count": 64,
     "metadata": {},
     "output_type": "execute_result"
    },
    {
     "data": {
      "image/png": "iVBORw0KGgoAAAANSUhEUgAAAXEAAAD7CAYAAACc26SuAAAAOXRFWHRTb2Z0d2FyZQBNYXRwbG90bGliIHZlcnNpb24zLjQuMywgaHR0cHM6Ly9tYXRwbG90bGliLm9yZy/MnkTPAAAACXBIWXMAAAsTAAALEwEAmpwYAAA5u0lEQVR4nO3deVxV1drA8d+BcwD1gIpyREEtMzXF9C2y6xBOFZigiZkpqA1ey65jhqGi5BRpZGaGXevewjkyBa8hmmM5D6VmDpWpCSiDgsxwhv3+QZ6kAzIo4IHn22d/4Ky99l5rJzwun7322ipFURSEEEJYJZvq7oAQQoiKkyAuhBBWTIK4EEJYMQniQghhxSSICyGEFZMgLoQQVkxdlY3pU3+vyuaElajT7Inq7oK4BxkKEu7o+PLEG03jVnfUVnWq0iAuhBBVxmSs7h5UCQniQoiayWio7h5UCQniQogaSVFM1d2FKiFBXAhRM5kkiAshhPWSkbgQQlgxubEphBBWTEbiQghhvRSZnSKEEFZMbmwKIYQVk3SKEEJYMbmxKYQQVqyWjMRlFUMhRM1kNJR9K6esrCx8fX2Jj48HYO/evQwYMABfX1+mTp1KQUEBAGfOnMHf3x9vb29mzJiBwVDYVmJiIgEBAfj4+DB27Fiys7MByMjIYMyYMfTr14+AgABSUlJK7YsEcSFEzWQylX0rhxMnTjBs2DAuXrxoLpsxYwYffPABmzdvJi8vj5iYGACCgoKYNWsWW7duRVEUoqKiAJg9ezbDhw8nLi4ODw8PIiIiAFi8eDGenp5s2bKFIUOGMH/+/FL7I0FcCFEjKYqxzFt5REVFERoaik6nM5cZjUaysrIwGo3k5+djb29PQkICeXl5dO7cGQB/f3/i4uLQ6/UcOXIEb2/vIuUAu3fvxs/PDwBfX1++++479Hr9bfsjOXEhRM1Ujpx4RkYGGRkZFuVOTk44OTkVKStudPz2228zYsQItFot7u7u+Pj48PPPP+Pi4mKu4+LiQlJSEmlpaWi1WtRqdZFygOTkZPMxarUarVbL9evXadKkSYl9lyAuhKiZypEmiYyMZOnSpRbl48aNY/z48bc9NiUlhfDwcDZv3oy7uzthYWGEhYXh6+uLSqUy11MUBZVKZf56q79/vvUYG5vbJ0wkiAshaqZyjMRHjRrFoEGDLMr/PgovztGjR2nTpg0tWrQA4Pnnn2fSpEmMHj26yI3J1NRUdDodzs7OZGZmYjQasbW1JSUlxZya0el0pKam4urqisFgIDs7mwYNGty2fcmJCyFqJqO+zJuTkxPu7u4WW1mCeJs2bTh58iSpqakA7Nixg44dO+Lm5oa9vT3Hjh0DICYmBi8vLzQaDZ6ensTGxgIQHR2Nl5cXAD179iQ6OhqA2NhYPD090Wg0t21fpSiKUtH/R+Ul79gUxZF3bIri3Ok7NvMOflnmug7/GFru8/fp04cVK1bg7u7Oxo0b+fTTT7G1taVly5bMmTMHZ2dnzp49S0hICFlZWXTo0IGwsDDs7OxISEggODiYa9eu0bRpUxYtWkT9+vVJT08nODiYy5cv4+joSHh4OO7u7rfthwRxUe0kiIvi3HEQP7C2zHUdug67o7aqk+TEhRA1kyyAJYQQVkyCuBBCWC/FePuHZGoKCeJCiJqpliyAJUFcCFEzSTpFCCGsmIzEhRDCislIXAghrJiMxIUQwooZ5G33ZufOnePSpUvY2NjQokUL2rRpU9n9EkKIO1PbR+KKorB27VoiIyOpV68ezZo1w9bWloSEBLKyshg5ciQvvPBCqcskCiFEtajtOfEJEybQrVs3vvrqK4uVvDIzM9m4cSP/+te/WLZsWaV3Ugghyq2WjMRLXAArJyeHunXr3vbgstS5lSyAJYojC2CJ4tzpAli5G98tc906g4LvqK3qVOJIfNu2bbc98Nlnny1XABdCiCpVS0biJQbxQ4cO3fbAZ5999m73RQgh7p7aPjslLCysxIPy8vIqpTNCCHHXVN2rEqpVqVMMd+7cyeLFi8nJyUFRFEwmE3l5eRw4cKAq+ieEEBVT22en3BQWFsbcuXP5/PPPee2119i+fTu5ublV0TchhKi4WhLES53k7ejoyD/+8Q86depEZmYmQUFBHDx4sCr6JoQQFaeYyr5ZsVKDuIODAxcuXOCBBx7g8OHDFBQUoNfXjsXWhRBWzGgs+2bFSg3ikyZNYvHixfTu3ZsDBw7QvXt3+vbtWxV9E0KIijOZyr5ZsVJz4l26dKFLly4AfP3119y4cYP69etXeseEEOKOWHlwLqtSg/iIESNQqVQW5StWrKiUDgkhxF1h5bnusio1iI8fP978vcFgYMeOHRZrqQghxL1GMdWOeeKl5sRvplO6dOlCt27dmDlzJnv37q2Kvt1zQt/9kBfHTbUo/+HEKUa9HoRnn2fpMzCQee9/TFr6DYt68YlXmThtLt18htDNZwjT5oZzPS29Qm3edCMjEy/fYUR/8225r0fcPQf2bcZQkGCxfbluubnOI//XkbjYtdxI+5XrqWeJ3vgFbdo8cNvzfrJsITu+/arYfd27PcauHV+Tkf4bly4cZcmH82nUqOFdvS6rVok58aysLHx9fYmPjwfgxx9/5Pnnn6d///688cYbFBQUAHDmzBn8/f3x9vZmxowZGP58ijQxMZGAgAB8fHwYO3Ys2dnZAGRkZDBmzBj69etHQEAAKSkppfal1CCemJho3hISEtizZw/p6enlvmhr9/X/tvL1/+Isyg//cJJXJk7jwh/x/HPkUIYN9mPbrr2MfD2IGxmZ5nrpNzJ4efxbnPz5LK8EDmHUMH927z3IPyfNKHG2T0lt3qTX65kyM6zUvwhE5WvX7kGiY7Yw8sXxRbaPPvoMgDZtHmDH9vV07PgQ8+Z/QNi7S+jy2P+xZ9dGmjZtUuw5X3rxBUa/ElDsvp5eXdm29UvatHmAdxd8RMSyLxjs35/duzbSoIHcswIqbXbKiRMnGDZsGBcvXgQKA/r48eOZM2cO33zzDQDr168HICgoiFmzZrF161YURSEqKgqA2bNnM3z4cOLi4vDw8CAiIgKAxYsX4+npyZYtWxgyZAjz588vtT+lplMCAwNRqVQoioJKpcLZ2ZmQkJByXbQ1MxqNLI9cR8R/Vxe7P+yDZdja2LLqk/dp4d4MgL49u+E/8nWWr1hH0Lh/AhC5bgNJKalsWLGMB+5rAcDD7dvxz0nTidmynecG9CtzmwBJKalMmRnG8Z9O361LFRV0333NcXTUsmnTNtas2VBsnQnjR+PoqKV3X3+OH/8ZgF279nHwQCyTJvyTt6bNM9e1sbFh+rQJzJo5pcQ2Fy+ei9Fo4omeA/n990sARMds4cdj25kePIGpwXPv4hVaqXKMsDMyMsjIyLAod3JyskgfR0VFERoaytSphf9C3rdvH507d6Zdu3YAhISEYDQaSUhIIC8vj86dOwPg7+/PkiVLGDJkCEeOHOHjjz82lwcGBhIUFMTu3btZvbrw997X15c5c+ag1+vRaDQl9r3UIL5hwwYaNGhQpCwh4c6WiLQW+fkFDBsziV9+u8AAn74cOna8yP6EK0n8+vtFhgzsZw7gAK1aNqdX98fZtGW7OYhv2b6Hx/7vYXMAB+j62P9xfwt3tmzfYw7ipbUJsO/QMSbPmI+CQsCQgaz+KubuX7wosw7t2wJw9uyvJdZpdX8LUlKumQM4wNFjJ0hNvY6HRztzmb29Pfv3babTw+1ZsfIr+vTuYXGuli3d6ejxEMs/XWUO4ADnzp1n8zffMmLEEAniUK4gHhkZydKlSy3Kx40bV+S+IGAxOr506RJ169Zl8uTJ/P777zzyyCMEBwdz+vRpXFxczPVcXFxISkoiLS0NrVaLWq0uUg6QnJxsPkatVqPVarl+/TpNmhT/rzW4TTrlypUrJCYmEhgYaP4+MTGRy5cv88orr5T2/6RGyC8oIDs7h/A503hn5pvY2toW2Z+UkgrAg63uszi2hXtT0tIzuJKUwo2MTOITr9K+bWuLeg+1bc3Pt/zyl9YmwO+XLvPYIx35+ouP6evV7Q6vUtyp9u0LX1d45s8/x7p161jU+fW3Czg7N6BxY2dzWcOGDWjQwIkrV5PNZQ4O9jg5anlh+Gu8/Mokcw71Vm7NXAE4deqMxb7z5y/i4tII91sGFbWWopR5GzVqFDt27LDYRo0aVWozRqORvXv38sYbb7BhwwZyc3NZvnw5JpOpyMy+m9mMm19vVdwMwJvHlPb2tBJH4kuWLOHQoUMkJycTEPBXXk6tVtOrV69SL6wm0Naryzfr/oNabRlIAeo6OACQnWO5lkz6jcJ8eOr16zjY2wOgc2lsUc+lkTNZ2TlkZmXjqK1XapsALwzqz4jnnwXganJqua5J3H0dOrQjIyOT8PdCeX7IABwdtZw/f5GZoQuIitoEQPj7Efj2f4rVKyN4c+psFEVh4bszKSjQs/Tj/5jPlZGRSbv2PTDeJk978+fN0VFrsc/ZufDGpmsTF+LjE+/mZVqfcozEi0ublFXjxo3p1KkTzZs3B6Bfv36sWrUKf3//IjcmU1NT0el0ODs7k5mZidFoxNbWlpSUFHQ6HQA6nY7U1FRcXV0xGAxkZ2dbZEL+rsQQHxYWxs6dO5kwYQI7d+5k586d7Nixg23btjF9+vQKXay1sbGxuW0wfeD+Fmjr1eXb3fu49QVJ+fkF7Dt8DICCfL35l+5mML+Vvb0dALm5eWVqE7htfkxUvfbt2+Dk5EiDBvV58eWJvDJ6MplZ2axZtYyAgMEAXL6cyLsLPsLL6x/8eGw7x3/YQZ8+PQgc+a8iKRZFUW4bwAFOn/6FGzcyGDTomSLl9vb2PP1UL6BwRF/rmZSyb3egR48e/Pzzz1y5cgWAXbt20aFDB9zc3LC3t+fYscJYEBMTg5eXFxqNBk9PT2JjYwGIjo7Gy8sLgJ49exIdHQ1AbGwsnp6epf6+lzo75eGHH+aFF14A4MKFC/Tt25cffvihYldbw2g0Gka+4M/pc7/y1uyF/HL+Amd/Oc/kkPnmoGyrtsX054igpH8yAdjYlLxP3Ns++2w14ydMZ+gLY4iJiSNyRRQ9nhjA+fMXWRAWgo2NDbPfDmJZxAL27z9C4Mh/MeqlCRw5cpx1az7Bt/9T5WpPr9ez+MPleD7aiZUrluLh0Y5OnToQtW459eoVpnIMButeD+SuqKK1U5o2bcqcOXN47bXX8PHx4caNG7z66qsAhIeHExYWho+PDzk5OYwcORKA0NBQoqKieOaZZzh69CiTJk0CYOLEiRw/fpz+/fuzZs0aZs2aVWr7pd7YXLBgAQsWLACgVatWLF++nKlTp/L1119X9JprlNdeHEZmZhar128i9tvdAPTq/jivBA7hg2WfU9/RkYI/pxDm5+dbHJ+fXzifVF51Z72Wf7rSoiwvL4/Va75m1swpdOvqyZQ3XuPI0eM85T3U/Jf6l1/GcPBALJ8sW0ir1o+b5xaXxbz5i2lQvz7jxr3MsBcGAfC/zdt4LzyCsHdmyLRTQKnkx+537txp/r5Xr17FppnbtWtnnm54Kzc3N1autPy5adCgAZ988km5+lHqSDw/P582bdqYPz/wwAPF3myprWxsbHhr4qvsjFnFioj32Pb1Fyxd+DZZ2TnY2trQzFVH0yaFd5tTrl23OD459RpOjlrq1nGo6q6LSpacfM38vYODA19+GWMO4FD4BPTatRtwddXRrp3lTe/bURSFKUFv07zlI/Ts9SytWndhkP9LODk5YjAYuHQp/q5dh9WqonRKdSt1JN6qVSvee+89Bg4ciEqlYvPmzdx3331V0DXrEPvtbho3cqbLIw/T2Pmvp+WOHT9F+7YPYm9vh729He7NXDnzy3mL48/+cp72bR+syi6Lu6hZM1e2xK7hq682MW/+4iL72rYtfBrzZhrN1tZyzHRz9lF502lDhw7k6pVk9nx3gORbbm4/0eNxfvjhZLH/6qt1asnaKaWOxOfPn09OTg5Tpkxh6tSp5OTkMG/evNIOqzVWfLmRdxZFFMlB7tl/mB9O/swL/r7msid7dufgkR/5/dJlc9mBIz9y4Y94+j3Zs0r7LO6exMSr1Hdy4pWXA4rMFnF3b8aokc+za9c+9u0/QkLCFUaOfB77W25u29vbExj4HCkp1zh16ly52p004Z98+OG8IlNQn+nXlx49Hifik8g7v7CaQEbiherXr09oaKj5s6IoxMfH4+joWKkdsxavBAxhcsh8/jU1lCd7diPhSjIrvtxA98cfxffp3uZ6Lwc8x6a4HYyeMI1Rw/zJzy/g8zXrad/2Qfy8e9+mBXGvmzBpBhvW/5fvv4vhP/9Zg6OjltfHvojBYGD8xOmYTCYmTAohat1yDuzfzOefr8PW1pYXXxxKu7atGfXShHKnKBeGR/DVl5+yKTqSjdFbuO++5kya+E+2bt1V4lOjtU4tublb6kh83bp1PPLIIzz00EM89NBDtG/fnpdeeqkq+mYVnurdg4Wz3yL1WhoLlywnbsceXhr2HIvfCSkySnJu2IDIj9+jbev7WfrZSlZFRdPnia588v4c7OzsqvEKxJ3atGkrgwa/RE52DmHvTGfypDEcPHSMJ3oO5OzZ3wCIiYnDp98w0q6nM29uMLPfDiI97QZ+A0awdu3Gcre5cWMswwPH0sRVx/vhb/P8kAG8v+gTnnt+dJG8e61WS17PplJuneBcjD59+hAZGcnixYuZPHkye/bs4YcffuD9998vd2P61N8r3FFRc9Vp9kR1d0HcgwwFd7a8R/aMIWWuW29+8StFWoNSR+KNGjWiefPmtG3bll9++YWAgADOnStf/k4IIaqaYjKVebNmpQbxOnXqcPDgQdq2bcuuXbtISUkhLy+vKvomhBAVV0tubJYaxGfOnMmuXbt44oknSE9Pp1+/fgQGBlZF34QQouJqSRAvMSeen59fZDpURevcSnLiojiSExfFudOceNYbA8pcV7to0x21VZ1KHIm/+eabREVFkZWVZbEvKyuL1atX88Ybb1Rq54QQoqIUk1LmzZqVOE/8ww8/ZO3atTz33HM4OTnh6uqKWq0mPj6e9PR0Ro4cyYcffliVfRVCiLKz8uBcViUGcRsbGwICAggICODs2bNcvHgRlUpFy5Ytza8hEkKIe5aVzzopq1Kf2ITClbgkcAshrEptH4kLIYRVkyAuhBDWSzHW8nRKYuLt38/XrJm8iFUIcQ+r7SPxwMBA85uZb1KpVKSkpKDX6zlzxvJN20IIca+w9qmDZVViEL/11UMA2dnZLFiwgL179zJ37txK75gQQtyRWhLES33sHuDAgQMMGFD49NOmTZvo3r17pXZKCCHumKkcmxW77Y3NnJwc3n33XfPoW4K3EMJaKAYrj85lVOJI/MCBA/j5+QHwv//9TwK4EMK61PaR+EsvvYRarWbv3r3s27fPXK4oCiqVih07dlRJB4UQoiJq/Y1NCdJCCKtm5SPssioxneLm5nbbTQgh7mWVuYphVlYWvr6+xMfHFylftWoVI0aMMH8+c+YM/v7+eHt7M2PGDPMLsRMTEwkICMDHx4exY8eSnZ0NQEZGBmPGjKFfv34EBASQkpJSal/KNDtFCCGsTiXlxE+cOMGwYcO4ePFikfLffvuN5cuXFykLCgpi1qxZbN26FUVRiIqKAmD27NkMHz6cuLg4PDw8iIiIAGDx4sV4enqyZcsWhgwZwvz580vtjwRxIUSNpBjKvmVkZBAfH2+xZWRkWJw3KiqK0NBQdDqduaygoIBZs2YxYcIEc1lCQgJ5eXl07twZAH9/f+Li4tDr9Rw5cgRvb+8i5QC7d+82Tyjx9fXlu+++Q6/X3/Y6Ze0UIUSNpJRjhB0ZGcnSpUstyseNG8f48eOLlBU3On7//fcZPHgw7u7u5rLk5GRcXFzMn11cXEhKSiItLQ2tVotarS5S/vdj1Go1Wq2W69ev06RJkxL7LkFcCFEzlSOIjxo1ikGDBlmUOzk5lXrsvn37uHLlCtOmTePQoUN/NW8yoVKpzJ9vzuy7+fVWf/986zE2NrdPmEgQF0LUSOUZiTs5OZUpYBdn8+bN/PrrrwwcOJCcnBxSU1OZNGkSQUFBRW5MpqamotPpcHZ2JjMzE6PRiK2tLSkpKebUjE6nIzU1FVdXVwwGA9nZ2TRo0OC27UtOXAhRIymmsm93IiwsjC1bthATE8O8efPw8PBg8eLFuLm5YW9vz7FjxwCIiYnBy8sLjUaDp6cnsbGxAERHR+Pl5QVAz549iY6OBiA2NhZPT080Gs1t25eRuBCiRlKMxacoqlJ4eDghISFkZWXRoUMHRo4cCUBoaCjBwcEsW7aMpk2bsmjRIgAmTpxIcHAw/fv3x9HRkfDw8FLbUCm3rjVbyfSpv1dVU8KK1Gn2RHV3QdyDDAUJd3T8Va9eZa7r+t3uO2qrOslIXAhRIymm6h+JVwUJ4kKIGulOc93WQoK4EKJGUhQZiQshhNWSkbgQQlgx0z0wO6UqSBAXQtRIcmNTCCGsmARxIYSwYlX3BEz1kiAuhKiRZCQuhBBWTKYYCiGEFTPK7BQhhLBeMhIXQggrJjlxIYSwYjI7RQghrJiMxIUQwooZTbXjxWUSxIUQNZKkU4QQwoqZZHaKEEJYL5liKIQQVkzSKUIIYcUknVIJ+v/f61XZnLASGfO9q7sLogaS2SlCCGHFakk2RYK4EKJmqi3plNrx7w0hRK2jKKoyb+WVlZWFr68v8fHxAHz55Zf4+vri5+fHtGnTKCgoAODMmTP4+/vj7e3NjBkzMBgMACQmJhIQEICPjw9jx44lOzsbgIyMDMaMGUO/fv0ICAggJSWl1L5IEBdC1EimcmzlceLECYYNG8bFixcBuHDhAv/5z39Yt24dmzZtwmQysWbNGgCCgoKYNWsWW7duRVEUoqKiAJg9ezbDhw8nLi4ODw8PIiIiAFi8eDGenp5s2bKFIUOGMH/+/FL7I0FcCFEjKajKvGVkZBAfH2+xZWRkWJw3KiqK0NBQdDodAHZ2doSGhqLValGpVLRp04bExEQSEhLIy8ujc+fOAPj7+xMXF4der+fIkSN4e3sXKQfYvXs3fn5+APj6+vLdd9+h1+tve52SExdC1EiGcqRJIiMjWbp0qUX5uHHjGD9+fJGyv4+O3dzccHNzA+D69eusXr2asLAwkpOTcXFxMddzcXEhKSmJtLQ0tFotarW6SDlQ5Bi1Wo1Wq+X69es0adKkxL5LEBdC1EgKZQ/io0aNYtCgQRblTk5OZT5HUlISo0ePZvDgwTz++OMcO3YMleqvPiiKgkqlMn+91d8/33qMjc3tEyYSxIUQNVJ5ct1OTk7lCth/d/78eUaPHs2IESN4+eWXAXB1dS1yYzI1NRWdToezszOZmZkYjUZsbW1JSUkxp2Z0Oh2pqam4urpiMBjIzs6mQYMGt21bcuJCiBqpPDnxO5GVlcUrr7zCxIkTzQEcCtMs9vb2HDt2DICYmBi8vLzQaDR4enoSGxsLQHR0NF5eXgD07NmT6OhoAGJjY/H09ESj0dy2fRmJCyFqpPLOOqmo9evXk5qayueff87nn38OQJ8+fZg4cSLh4eGEhISQlZVFhw4dGDlyJAChoaEEBwezbNkymjZtyqJFiwCYOHEiwcHB9O/fH0dHR8LDw0ttX6UoVbdMzNPNfaqqKWFFoic0q+4uiHtQ3aD/3tHx3zQZVua6/ZPW3lFb1UlG4kKIGqmWvJ1NgrgQomYy3WGu21pIEBdC1EiyAJYQQlixqrqxWd0kiAshaiRTCQ/Q1DQSxIUQNZKxujtQRSSICyFqJJmdIoQQVkxmpwghhBWT2SlCCGHFJJ0ihBBWTKYYCiGEFTPKSFwIIayXjMSFEMKKSRAXQggrVo5XbFo1CeJCiBpJRuJCCGHF5LF7IYSwYjJPXAghrJikU4QQwopJEP9TdnY2hw4d4tKlS6hUKlq2bEm3bt2wt7eviv4JIUSF1Pq1U3Jzc1m6dCnffvstbdu2pVmzZtja2vLjjz8SFhbGU089xeuvv069evWqsr9CCFEmtT4nHhQUxPPPP8+UKVOwsbEpss9kMrFr1y7efPNNli1bVumdFEKI8qr1s1M++ugjVCW83sjGxoa+ffvSp0+fSuuYEELcCVMtSaiUGMQ//vjj2x44bty4EoO8EEJUt8q8sZmVlcULL7zAJ598gru7O/v37ycsLIz8/Hz69evH5MmTAThz5gwzZswgOzsbT09PZs+ejVqtJjExkaCgIK5du8b9999PeHg49erVIyMjgzfffJPLly/j7OzM4sWLcXFxuW1fbG67VwghrJRSjq08Tpw4wbBhw7h48SIAeXl5TJ8+nYiICGJjYzl16hR79uwBCtPSs2bNYuvWrSiKQlRUFACzZ89m+PDhxMXF4eHhQUREBACLFy/G09OTLVu2MGTIEObPn19qf0ociY8bN67YckVRiI+PL9dFCyFEVSvPSDwjI4OMjAyLcicnJ5ycnIqURUVFERoaytSpUwE4efIkLVu2pHnz5gD4+fkRFxdH69atycvLo3PnzgD4+/uzZMkShgwZwpEjR8zZDn9/fwIDAwkKCmL37t2sXr0aAF9fX+bMmYNer0ej0ZTY91KnGH755ZcsWLCA3Nxcc5m7uzvffvttaYcKIUS1Kc/slMjISJYuXWpRPm7cOMaPH1+k7O+j4+Tk5CIpD51OR1JSkkW5i4sLSUlJpKWlodVqUavVRcr/fi61Wo1Wq+X69es0adKkxL6XGsT//e9/ExMTw+LFi5k8eTJ79uzhhx9+KO0wIYSoVsZyJEpGjRrFoEGDLMr/PgovjslkKnJ/UFEUVCpVieU3v96qpPuLiqJYzA78u1KDeKNGjWjevDlt27bll19+ISAggLVr15Z2mBBCVKvypFOKS5uUlaurKykpKebPKSkp6HQ6i/LU1FR0Oh3Ozs5kZmZiNBqxtbU114fCUXxqaiqurq4YDAays7Np0KDBbdsv9cZmnTp1OHjwIG3btmXXrl2kpKSQl5dXoYsVQoiqYkIp83YnOnXqxIULF7h06RJGo5HNmzfj5eWFm5sb9vb2HDt2DICYmBi8vLzQaDR4enoSGxsLQHR0NF5eXgD07NmT6OhoAGJjY/H09LxtPhzKEMRDQkLYuXMnTzzxBOnp6fj4+BAYGHgn1yyEEJWusman/J29vT3vvvsu48eP55lnnqFVq1b4+PgAEB4eTlhYGD4+PuTk5DBy5EgAQkNDiYqK4plnnuHo0aNMmjQJgIkTJ3L8+HH69+/PmjVrmDVrVqntqxRFqbIZ8U8396mqpoQViZ7QrLq7IO5BdYP+e0fHv3nfsDLXDb9ovSniUnPiffr0KTbpvmPHjkrp0L3uwY6teSX4Zdp7tsdoNPLTwZ9YPu8z4n//a9rloz0fZfiEYTzYsTWKSeHMD2f54r1Izv54tsi5OnfrxMgpI2nV/n5ysnL4bvP3fPFeJHk5eeVuU1Qfu6dHoWrYhPwvFxYptw8MwbZpK4v6hnNHKdgUYf6satISO6/nsGnWGhQTpsvnKNgdhZJ2tchxqvqN0fQaim3ztgAYfz9Jwa4vITezcL9TI+q8+t5t+5q3bgGmy+cqdJ3Wpjw3Nq1ZqUF85cqV5u8NBgPffvstBQUFldqpe5V7K3fei1pIfm4+qxYXzuV8bsxgFm0I5zXv17medJ2O/+jI/BVzufTLJb5YGImtrS1+I30J/2ohU557k3PHfwGgU9eHCVvzDr/+9Bv/efdzXJo2ZtArz9Lm4TZMee5Nbv4DqSxtiupj2/EJ1J16YvzjrMU+m0bNMPz6A8ZfjhYpV25cM3+vauiKwwtvgT4f/YFNAGg8vXEYPo28L0JRstMLKzrUw37oVLBVoz+8BWxs0Tzmg4OLO3kr54LJiJKbSf43yy07qbbDrm8ASk4GpuTLd+3a73WyFO2f3NzcinwePXo0/v7+vP7665XWqXvVoNHPUldblynPBXH+5/MAHN9/gqWblzB4tD+fzv+MsaGvkpKYwgS/SeTn5QPw7dfb+WzXp7wU9CLBAdMBGBPyT1ISUnhzSBAFeYV/KaYkpjB+/jg8ez7Kkd1Hy9ymqAYqFep/+KLpPrD43fUbo7JzwPjrjxhPHyzxNGrPp1DZOZC79l2U5D8AMP1xBocRs1B7PoV+z1dAYWBXOTYk7/NZKNevFNa78jsOz7+JrUd3jCe/A31BsW1peg8DG1sKNi+H/Jw7vXKrochIvNCRI0fM3yuKwq+//kp+fn6ldupe1bRFU9KvpZuDKcAvJ37hxvUb3NfuPrT1tbRq34qvl28wB3CA9NR0fjp4kke9HgVAY68h/foNvt+y1xzAAU4e/AmA+x+63xzES2tTVANbNQ6BM7HRNcdwah82LR+yqKJqVDj4uRlwS2JT3wUlJ9McwAFMVy+i5GRi4+L+V5MPdcF0+VyR85kuncZ07Qrqdl0Kg3gxVI3dUD/SF+OpfZgSfi3XZVo7GYn/acmSJebvVSoVDRs25N13363UTt2rEi4k8H89OlPfuT43rt8AwLGBFq2TluvJ18nJzOHlnqPJy7WcgunkXB+joXBxTH2+nhkjQizqPNC+MH+anPjX3NLS2hTVQK0BOwfyNy3DeO4IDmMWWlSxaVx4s9Z0LbGwQGMHess0pCktCZuW7aGOozm3jUM9cKiLklX45419XWwa6NCfO2p5fNIlbB94uMSuap7wB0MBBXs3lPMirV+tX8XwppkzZ9KmTZsiZcePH6+s/tzTopZ9xT+efJxpS4P595zlKCiMCfkner2e6P/GYDKZSLyYaHHc/e3up4Nne47tOVbseXVuOjp168SrM//JhbMX2Be3r8xtimqQn0feZ9NAKXmsZ9PYDSU/F7veL2DbrgsqOwdM6cnov9+A8exhcz3D4S3YPtAJe79XKdi1DhQFu15DwWhA/8N2AFSODQFQstIt2lGyb6Cyrwt2daAgt8g+lYs76tb/h/5IHGTfuAsXbl1qRwi/TRA/duwYJpOJkJAQ5s+fb77RZjAYePvtt9m6dWuVdfJekZKYwrqlX/Kvua/z728LX4ZhNBiZ+9q8IumOWznUdWDq4jcBWBcRZbHfsYGWVQdXAJCXk8fHM5ehz9ffUZuisilQysxcm8ZuqOzrgH1dCmI/A/u6aB59Enu/18i3scV4+kDhmTKvYzj0DZq+AdR5cU5hmclIQUyEOcWisnMoLNcXk8Y0FI7uVRp7lL8FcXXn3igmI4YfaudMMkMtCeMlBvH9+/dz+PBhkpOT+fDDD/86QK1m6NChVdK5e82oN0cSMHE4Jw6cJHZNLDY2tviO6M+MiOnMfXUeB7cfKlLf3sGeOf99mwc6PMDapev46c+c960UBea//g5qjYZnXx7IgrVhvPOvML6P3VuhNsW9wXBiD9jYYPhxp7nMePYQDi/Nxa7X8+SeOQiKgqb7IDTd/DD+cRbDyT2gskHduTd2A8ZSEPMxxvMnoAzr9it/zwCrNajbd8X423GUjGvFH1TD1fobmzdX7oqOjsbX1xe1Wo1er0ev11O3bt0q6+C9op5TPYa8+hznTvzCWy8EYzIV/tLs3rSbpZuXMGnBREZ0HYW+QG+uP/fzOXh06UDcuq18vuCLYs+bdSOLPf8rvCn1fez3LN/+Ca/OGsP3sXvL3aa4dxhO7C6mUI/x5wNoug9E1agZSuZ11F18MF65QH7Ue+bRvfHsYRxGzMTO+0Vy/x2EUlB4j0WlLubxa7Vd4deCovdhbJq3K5wdU0wevbaoLTc2S33s3s7Ozry615UrV+jXrx/bt2+v9I7da9zud8POwY7dMbvNwRQKUxs7N+7CWedM8wcKZxM0aFSf975cgEeXDnyzKpZFQR+UqY2CvAIObT+Mzk2HU0OncrUprIOSU7hmtcrOAZuGTVCpNRjPHiqanjEZMZw+iKpefVTOTc0jaVW9BhbnU2kboORlW9w0tW31MIpBj/H3E5V2Lfc6pRz/WbNSg/iyZcv4/PPPAWjRogUbNmzgo48+qvSO3Wtu5qmLWxbSxrawTGVjQ516dXhn1Xxae7Tm60838OG0JRb1mz/gzor9kfiN9LXYV0dbB5PJhL5AX+Y2xb1FpW2Aw0tzUXf1s9zn3BQA040UFKPhz8Ji/gxvlqlUkJ+LKT0FmyYtLarZ6FpgunrRotzWrXVheUHtXazOVI7NmpUaAfR6PY0bNzZ/btSoEVW43Mo949Ivl0i9mspTQ55CY//XP2s19hqeHNyX9GvpXDx3kXHz/kVrj9Zs+Gwj/55TzNNzQMLFROo51qV/YH/Umr8yWjo3HU/068HJgz+Rm51b5jbFvUXJSgf7Oqgf7gl/3pSEwlkmao/uGC+dgewMlNQETJlpqD26g+0tmU1bNeoO3Qrnj6cmAGD85Sg2LR9C5exqrmbTsj02jZpiuGW2S+EOW1SNmmFKvlSZl3nPMypKmTdrVuoUw0cffZQ33ngDPz8/VCoVsbGx5tcN1SYmk4mPZ0YQ8skMPvrfEuLWxWFra4v30Kdp3ro5Cye+R7P7mvHUc0+SdSOL86d/p++gPhbn2bFxJyajiYhZy3hryVTCv3qPHRt34tTAkYEvDkBRFCJmRZS5zZtzz8W9Rb99NfaDxuMwfDqGk9+BnQOaR/qCyUjB9lWFlRQF/Y7V2A14HYcRMzGc/B5sbFB79EDVyJWCbz4D05/PFhyOQ92hG/bPB2E4uhVsNWi69MN49aJ5pstNKidnVGoNSkbtfo6gtswTL3UVw4KCAlauXMmRI0dQq9V4enoyfPhw7Ozsyt1YTVjFsHO3TgRMCqBtp8K587+e+o21H63l6O5j9A98holhE257/K3/D7x8n2Do2Odp2bYlebn5HN97nM8XfkHChYQyt1kTWPsqhg5jFqLcSLVYAMu2dWfUj/tio2sOhgKMl8+h/249yvWiC1vZtGiHpusAbFzvB8CUfAn9gc2YLp4qUk/V0BW7Pi9g496m8BH7Cycp2P3VXw8J3Tyf6/04jJhJwbbIwlkyVupOVzEc1vLZMtddeyn6jtqqTmVaijY9PZ3c3FwURcFoNBIfH0/Xrl3L3VhNCOLi7rP2IC4qx50G8aHlCOJfWnEQL9Nj95GRkRgMBho2bEhSUhIeHh589dVXVdE/IYSokNqSTin1xmZ0dDR79uzhmWeeYcWKFSxbtoyGDRtWRd+EEKLCZIrhn3Q6HVqtlgcffJCzZ8/Sq1cvrly5/cpsQghR3WR2yp+0Wi3R0dF06NCBVatWodPp5EXJQoh7nqRT/jR//nyuX7/O448/jpubG7NmzTK/1FMIIe5VteVhnxJH4ikpKbi4uNCkSRNefvllAIKDg4utI4QQ9xprz3WXVYlBPDw8HFdXV5599lnuv//+IvvOnz/P+vXrSUlJITw8vNI7KYQQ5VVb0iklBvEFCxawe/duZs6cycWLF9HpdGg0Gq5cuUKLFi145ZVX6N27d1X2VQghyqy2LA9y2xubvXr1olevXty4cYM//vgDlUpF8+bNqV+/flX1TwghKsRYS0biZVoCr379+nTs2BEPDw8J4EIIq2BCKfNWHjExMfTv35/+/fuzYMECoPAlOn5+fjz99NN88MFfS0+fOXMGf39/vL29mTFjBgZD4cqViYmJBAQE4OPjw9ixY8nOzq7wdco6pkKIGklRlDJvZZWbm8v8+fNZuXIlMTExHD16lJ07dzJ9+nQiIiKIjY3l1KlT7NlTuGZNUFAQs2bNYuvWrSiKQlRU4SsaZ8+ezfDhw4mLi8PDw4OIiIgKX2eJQTwnJ6fCJxVCiOpWnpF4RkYG8fHxFltGRkaRcxqNRkwmE7m5uRgMBgwGA1qtlpYtW9K8eXPUajV+fn7ExcWRkJBAXl6eedVXf39/4uLi0Ov1HDlyBG9v7yLlFVViTnzgwIGEhYXh6elZ4ZMLIUR1Kc8Uw8jISJYuXWpRPm7cOPOrKqHw4ceJEyfSr18/6tSpw2OPPUZycnKRqdY6nY6kpCSLchcXF5KSkkhLS0Or1aJWq4uUV1SJQTw0NJRp06bx5JNPMnny5AotPSuEENWlPI/Tjxo1yvwayls5OTkV+Xz27Fm+/vprdu3ahaOjI2+++SYXL15EdcvLrBVFQaVSYTKZii2/+fVWf/9cHiWmU3r06MGmTZtQFIXnnnuOo0ePkpiYaN6EEOJeVp50ipOTE+7u7hbb34P43r176dq1K40aNcLOzg5/f38OHTpESkqKuU5KSgo6nQ5XV9ci5ampqeh0OpydncnMzMRoNBapX1G3vbFZp04dJk6cSKtWrRg7diwjRowgMDCQESNGVLhBIYSoCpUxO6Vdu3bs37+fnJwcFEVh586ddOrUiQsXLnDp0iWMRiObN2/Gy8sLNzc37O3tOXas8OUtMTExeHl5odFo8PT0JDY2FihcKdbLy6vC13nbeeK7du1i7ty59OjRg127dqHVaivckBBCVKXKeNinR48enD59Gn9/fzQaDR07dmT8+PF0796d8ePHk5+fT8+ePfHxKXwBTnh4OCEhIWRlZdGhQwdGjhwJFKarg4ODWbZsGU2bNmXRokUV7lOJb/aZMGECp0+fZu7cuRV6i09x5M0+ojjyZh9RnDt9s0+XZj3LXPdwovW+xq7EkbiLiwubNm2ibt26VdkfIYS4K2r9AlgzZ86syn4IIcRdZVSsfZHZsin1pRBCCGGNZAEsIYSwYrV+KVohhLBmtT4nLoQQ1swk6RQhhLBeMhIXQggrJrNThBDCikk6RQghrJikU4QQworJSFwIIayYjMSFEMKKGRVjdXehSkgQF0LUSPLYvRBCWDF57F4IIayYjMSFEMKKyewUIYSwYjI7RQghrJg8di+EEFZMcuJCCGHFJCcuhBBWTEbiQghhxWSeuBBCWLHaMhK3qe4OCCFEZTAqpjJv5bFz5078/f3p168f8+bNA2D//v34+fnx9NNP88EHH5jrnjlzBn9/f7y9vZkxYwYGgwGAxMREAgIC8PHxYezYsWRnZ1f4OiWICyFqJJOilHkrq8uXLxMaGkpERASbNm3i9OnT7Nmzh+nTpxMREUFsbCynTp1iz549AAQFBTFr1iy2bt2KoihERUUBMHv2bIYPH05cXBweHh5ERERU+DoliAshaiRFUcq8ZWRkEB8fb7FlZGQUOee3337LM888g6urKxqNhg8++IA6derQsmVLmjdvjlqtxs/Pj7i4OBISEsjLy6Nz584A+Pv7ExcXh16v58iRI3h7excpryjJiQshaqTyPLEZGRnJ0qVLLcrHjRvH+PHjzZ8vXbqERqPhtdde48qVK/Tq1YsHH3wQFxcXcx2dTkdSUhLJyclFyl1cXEhKSiItLQ2tVotarS5SXlESxIUQNVJ5bmyOGjWKQYMGWZQ7OTkV+Ww0Gjl69CgrV66kbt26jB07FgcHB1QqVZF2VSoVJpOp2PKbX2/198/lIUFcCFEjlSfX7eTkZBGwi9O4cWO6du2Ks7MzAE8++SRxcXHY2tqa66SkpKDT6XB1dSUlJcVcnpqaik6nw9nZmczMTIxGI7a2tub6FVWlQXzb5YrnfYQQojwMBQl3/Zy9e/fmrbfeIiMjg3r16vH999/j4+PD8uXLuXTpEu7u7mzevJnBgwfj5uaGvb09x44d49FHHyUmJgYvLy80Gg2enp7Exsbi5+dHdHQ0Xl5eFe6TSqktkymFEOIuWL9+PV988QV6vZ7u3bsTEhLCoUOHCAsLIz8/n549ezJt2jRUKhVnz54lJCSErKwsOnToQFhYGHZ2diQkJBAcHMy1a9do2rQpixYton79+hXqjwRxIYSwYjLFUAghrJgEcSGEsGISxIUQwopJEBdCCCsmQVwIIayYBHEhhLBiEsSFEMKKSRAvo/j4eNq2bcu+ffuKlPfp04f4+HiL+kajkXHjxpGbm3vX+9K2bVsAtm3bxqpVq+76+UXZzZkzhwkTJhQp27t3L3379iUrK8ui/tSpU+9osaOS3Pw5/Omnn1i4cOFdP7+4d0kQLweNRsPMmTOL/eX8u7Vr19KjRw/q1KlTaf15+umn2bZtG9euXau0NsTtTZkyhVOnTrFjxw4AcnJyePvtt3nnnXfQarVF6u7atYsmTZrQpEmTSutPx44duXr1KufOnau0NsS9RRbAKgedTke3bt1YsGABc+fOLbGeoiisXLmS9evXAxAcHIy9vT0//fQT2dnZjB07lmeffZaPPvqI48ePc+XKFQIDA+nevTtvv/026enpODg4MHPmTNq3b098fDxBQUHk5OTQqVOnIm09/fTTrF692mI0KKpGvXr1mDdvHtOnT6dr164sWbKEPn368Pjjj1vU/eyzz5gzZw4AH330EYmJiZw/f560tDSGDh3K6NGj2bBhAxs3biQ9PZ3evXszcuRIZs2axdWrV1GpVEyZMoVu3bqRnp5OUFAQV69e5YEHHiA/P9/cjp+fH//9739ZsGBBlf1/ENVIEWVy+fJlpXfv3kpmZqbSq1cvZe/evYqiKErv3r2Vy5cvF6l7+vRpZfDgwebPb731lvLSSy8pBQUFypUrV5SuXbsqycnJypIlS5TAwEBzvaFDhyo///yzoiiK8uuvvypPP/20oiiKMmbMGCUqKkpRFEXZuHGj0qZNG/MxZ86cUQYOHFgp1yzKbsaMGcqECRMUX19fJTc312J/Wlqa0q1bN/PnJUuWKL6+vkpWVpaSkZGhPPnkk8qpU6eUr7/+WnnqqacUvV6vKIqiTJo0Sdm+fbuiKIqSlJSk9O3bV8nMzFRmz56tLFq0SFEURTl8+LDSpk0b889hZmam8thjjykmk6myL1vcA2QkXk5arZa5c+cyc+ZMNm3aVGydixcv4urqWqTM398fjUaDq6srjzzyCMeOHQPg4YcfBiA7O5tTp04xbdo08zE5OTmkpaVx+PBh3n//fQAGDBhASEiIuY6bmxuXLl26q9coyi84OJhevXrx8ccf4+DgYLH/jz/+sFhu1NfXl3r16gGFOe2DBw/SsGFD2rdvb35hwP79+/n9999ZsmQJAAaDgcuXLxf5mXjsscdo3ry5+bxarRZFUUhLSzMvmSpqLgniFdCjRw9zWqU4KpXK/Et4063rDZtMJvP+m7/wJpMJOzs7YmJizPWuXr1KgwYNgL8WuFepVNjY/HUrQ61W39GC8uLu0Gq1ODk54ebmVuz+svxM3Px8618CJpOJyMhI889BcnIyjRo1Mr9coLhz3fx868+JqLnkT7mCgoOD2bt3L8nJyRb7WrZsSUJC0bWMt2zZgqIoJCQkcPLkSR599NEi+x0dHbnvvvvMQXzfvn0EBAQA0K1bN/Oof9u2bUXyn/Hx8bRs2fKuXpu4+5o3b86VK1eKlG3fvp2CggJu3LjBrl276NGjh8Vx//jHP1izZg0Av/32G35+fuTm5tK1a1fzz8rJkyf5448/zMfcvPF+M/CLmk2CeAXdTKvo9XqLfe3atSMtLY3MzExzWV5eHoMHD+bVV19lzpw5NGzY0OK49957j/Xr1+Pn58f777/PBx98gEqlMr8te8CAAezZs8f8T3CAQ4cO0bdv38q5SHHXNGjQgBYtWvDbb7+Zy+zt7Rk+fDhDhw7l1VdfpXXr1hbHhYSEcOLECfz8/Jg8eTILFy5Eq9UyYcIELl++TP/+/fn000+LpFOOHDlC7969q+S6RPWT9cQryYoVK7CxsSEwMJDg4GC6dOmCv7//XW9n2LBhLF26lEaNGt31c4u7a8eOHRw9epS33nqLjz76CKDIS3jvlpsv9735PIGo2WQkXkmGDRvGvn37KuVhn5vi4uLw9vaWAG4l+vbtS3JycqU87HPTyZMncXNzkwBei8hIXAghrJiMxIUQwopJEBdCCCsmQVwIIayYBHEhhLBiEsSFEMKKSRAXQggr9v/mjghNRxqBpgAAAABJRU5ErkJggg==",
      "text/plain": [
       "<Figure size 432x288 with 2 Axes>"
      ]
     },
     "metadata": {},
     "output_type": "display_data"
    }
   ],
   "source": [
    "y_train_pred = final_cl.predict(X_train)\n",
    "\n",
    "print('-'*25 + \"Confusion Matrix on Train Set\" + '-'*25)\n",
    "print(f\"Accuracy\\t: {final_cl.score(X_train, y_train):.5f}\")\n",
    "print()\n",
    "\n",
    "cmTrain = confusion_matrix(y_train, y_train_pred)\n",
    "tpTrain = cmTrain[1][1] \n",
    "fpTrain = cmTrain[0][1] \n",
    "tnTrain = cmTrain[0][0] \n",
    "fnTrain = cmTrain[1][0]\n",
    "\n",
    "print(f\"TPR Train\\t: {tpTrain/(tpTrain + fnTrain):.5f}\")\n",
    "print(f\"TNR Train\\t: {tnTrain/(tnTrain + fpTrain):.5f}\")\n",
    "print()\n",
    "\n",
    "print(f\"FPR Train\\t: {fpTrain/(tnTrain + fpTrain):.5f}\")\n",
    "print(f\"FNR Train\\t: {fnTrain/(tpTrain + fnTrain):.5f}\")\n",
    "\n",
    "sb.heatmap(confusion_matrix(y_train, y_train_pred), \n",
    "           annot = True, fmt=\".0f\", annot_kws={\"size\": 18}, \n",
    "           xticklabels=xlabels, yticklabels=ylabels)"
   ]
  },
  {
   "cell_type": "code",
   "execution_count": 65,
   "id": "5a6949ee",
   "metadata": {},
   "outputs": [
    {
     "name": "stdout",
     "output_type": "stream",
     "text": [
      "-------------------------Confusion Matrix on Test Set-------------------------\n",
      "Accuracy\t: 0.70914\n",
      "\n",
      "TPR Test\t: 0.63797\n",
      "TNR Test\t: 0.77767\n",
      "\n",
      "FPR Test\t: 0.22233\n",
      "FNR Test\t: 0.36203\n"
     ]
    },
    {
     "data": {
      "text/plain": [
       "<AxesSubplot:>"
      ]
     },
     "execution_count": 65,
     "metadata": {},
     "output_type": "execute_result"
    },
    {
     "data": {
      "image/png": "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",
      "text/plain": [
       "<Figure size 432x288 with 2 Axes>"
      ]
     },
     "metadata": {},
     "output_type": "display_data"
    }
   ],
   "source": [
    "y_test_pred = final_cl.predict(X_test)\n",
    "\n",
    "print('-'*25 + \"Confusion Matrix on Test Set\" + '-'*25)\n",
    "print(f\"Accuracy\\t: {final_cl.score(X_test, y_test):.5f}\")\n",
    "print()\n",
    "\n",
    "cmTest = confusion_matrix(y_test, y_test_pred)\n",
    "tpTest = cmTest[1][1] \n",
    "fpTest = cmTest[0][1] \n",
    "tnTest = cmTest[0][0] \n",
    "fnTest = cmTest[1][0]\n",
    "\n",
    "print(f\"TPR Test\\t: {tpTest/(tpTest + fnTest):.5f}\")\n",
    "print(f\"TNR Test\\t: {tnTest/(tnTest + fpTest):.5f}\")\n",
    "print()\n",
    "\n",
    "print(f\"FPR Test\\t: {fpTest/(tnTest + fpTest):.5f}\")\n",
    "print(f\"FNR Test\\t: {fnTest/(tpTest + fnTest):.5f}\")\n",
    "\n",
    "sb.heatmap(confusion_matrix(y_test, y_test_pred), \n",
    "           annot = True, fmt=\".0f\", annot_kws={\"size\": 18}, \n",
    "           xticklabels=xlabels, yticklabels=ylabels)"
   ]
  },
  {
   "cell_type": "code",
   "execution_count": 66,
   "id": "69b5ff97",
   "metadata": {},
   "outputs": [
    {
     "name": "stdout",
     "output_type": "stream",
     "text": [
      "Stored 'final_cl' (XGBClassifier)\n"
     ]
    }
   ],
   "source": [
    "%store final_cl"
   ]
  },
  {
   "cell_type": "markdown",
   "id": "28aefbf5",
   "metadata": {},
   "source": [
    "### Observations:\n",
    "\n",
    "\n",
    "Model 1: Binary Classification \n",
    "* Train: 70.717%\n",
    "* Test : 70.701%\n",
    "\n",
    "Model 2: Random Forest\n",
    "* Train: 71.204%\n",
    "* Test : 70.971%\n",
    "\n",
    "Model 3: Logistic Regression\n",
    "* Train: 70.474%\n",
    "* Test : 70.554%\n",
    "\n",
    "Model 4: XGBoost\n",
    "* Train: 73.043%\n",
    "* Test : 70.382%\n",
    "\n",
    "Model 5: Hyperparameter Tuning of XGBoost with GridSearchCV\n",
    "* Train: 71.239% \n",
    "* Test : 70.914%\n",
    "\n",
    "Comparing the results above, we see the test data of the 4 models performed similarly at about 70% classification accuracy.\n",
    "Comparing the train data, our 4th model performed the best at 73%.\n",
    "Although we used the XGBoost model and perform hyperparameter tuning the accuracy for the train model the accuracy for the test result improved by 0.6% while the train accuracy decreased to 71%"
   ]
  },
  {
   "cell_type": "code",
   "execution_count": null,
   "id": "1db36a8c",
   "metadata": {},
   "outputs": [],
   "source": []
  }
 ],
 "metadata": {
  "colab": {
   "collapsed_sections": [
    "17914207"
   ],
   "name": "Initial EDA.ipynb",
   "provenance": []
  },
  "kernelspec": {
   "display_name": "Python 3 (ipykernel)",
   "language": "python",
   "name": "python3"
  },
  "language_info": {
   "codemirror_mode": {
    "name": "ipython",
    "version": 3
   },
   "file_extension": ".py",
   "mimetype": "text/x-python",
   "name": "python",
   "nbconvert_exporter": "python",
   "pygments_lexer": "ipython3",
   "version": "3.9.7"
  }
 },
 "nbformat": 4,
 "nbformat_minor": 5
}
